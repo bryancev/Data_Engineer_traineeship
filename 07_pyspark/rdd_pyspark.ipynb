{
  "nbformat": 4,
  "nbformat_minor": 0,
  "metadata": {
    "colab": {
      "provenance": []
    },
    "kernelspec": {
      "name": "python3",
      "display_name": "Python 3"
    },
    "language_info": {
      "name": "python"
    }
  },
  "cells": [
    {
      "cell_type": "markdown",
      "source": [
        "# Задание №1: Анализ лог-данных производственных сенсоров\n",
        "\n",
        "**Описание данных**: Вам предоставлены сырые текстовые логи, поступающими от производственных сенсоров. Каждая строка RDD представляет собой запись лога, содержащую несколько полей, разделённых символом | . Данные могут быть неполными или содержать ошибки, требующие обработки."
      ],
      "metadata": {
        "id": "nO3kgRJ7mYJ2"
      }
    },
    {
      "cell_type": "code",
      "execution_count": null,
      "metadata": {
        "id": "jz-7g9sDl9xq"
      },
      "outputs": [],
      "source": [
        "from pyspark import SparkConf, SparkContext\n",
        "from datetime import datetime\n",
        "\n",
        "# Создаем объект SparkConf для настройки конфигурации Spark\n",
        "conf = (SparkConf()\n",
        "        .setAppName(\"sensor_analysis\")\n",
        "        .setMaster(\"local[*]\")\n",
        "        )\n",
        "\n",
        "# Создаем объект SparkContext с использованием настроек SparkConf\n",
        "# sc = SparkContext(\"local\", \"sensor_analysis\")\n",
        "sc = SparkContext(conf=conf)"
      ]
    },
    {
      "cell_type": "code",
      "source": [
        "# timestamp|sensor_id|temperature|pressure|status|error_code\n",
        "\n",
        "raw_data = \"\"\"\n",
        "2025-01-10 08:00:05|S101|25.3|10.1|OK|NULL\n",
        "2025-01-10 08:05:10|S102|26.1|NULL|WARNING|E01\n",
        "2025-01-10 08:10:00|S101|25.5|10.2|OK|NULL\n",
        "2025-01-10 08:15:30|S103|NULL|9.9|ERROR|E05\n",
        "2025-01-10 08:20:15|S102|25.8|10.0|OK|NULL\n",
        "2025-01-10 08:25:00|S101|25.4|10.1|OK|NULL\n",
        "2025-01-10 08:30:20|S104|27.0|10.3|OK|NULL\n",
        "2025-01-10 08:35:05|S101|25.6|NULL|OK|NULL\n",
        "2025-01-10 08:40:00|S103|24.9|9.8|WARNING|NULL\n",
        "2025-01-10 08:45:10|S102|26.0|10.1|OK|NULL\n",
        "2025-01-11 09:00:00|S104|27.2|10.4|ERROR|E03\n",
        "2025-01-11 09:05:30|S101|25.7|10.2|OK|NULL\n",
        "2025-01-11 09:10:00|S105|24.0|9.5|OK|NULL\n",
        "2025-01-11 09:15:10|S101|25.8|10.3|OK|NULL\n",
        "2025-01-11 09:20:20|S102|26.2|NULL|WARNING|E02\n",
        "2025-01-11 09:25:00|S103|25.0|9.7|OK|NULL\n",
        "2025-01-12 10:00:15|S104|NULL|10.5|ERROR|E04\n",
        "2025-01-12 10:05:00|S105|24.1|9.6|OK|NULL\n",
        "2025-01-12 10:10:05|S101|25.9|10.4|OK|NULL\n",
        "2025-01-12 10:15:00|S102|26.3|10.2|OK|NULL\n",
        "2025-01-12 10:20:10|S103|NULL|NULL|ERROR|E05\n",
        "2025-01-13 11:00:00|S104|27.3|10.6|OK|NULL\n",
        "2025-01-13 11:05:15|S105|24.2|9.7|WARNING|E01\n",
        "2025-01-13 11:10:00|S101|26.0|10.5|OK|NULL\n",
        "2025-01-13 11:15:20|S102|NULL|10.3|OK|NULL\n",
        "2025-01-13 11:20:00|S103|25.1|9.9|OK|NULL\n",
        "2025-01-14 08:30:10|S104|27.4|NULL|ERROR|E03\n",
        "2025-01-14 08:35:00|S105|24.3|9.8|OK|NULL\n",
        "2025-01-14 08:40:15|S101|26.1|10.6|OK|NULL\n",
        "2025-01-14 08:45:00|S102|26.4|10.4|OK|NULL\n",
        "2025-01-14 08:50:10|S103|25.2|10.0|WARNING|NULL\n",
        "2025-01-15 09:00:00|S104|27.5|10.7|OK|NULL\n",
        "2025-01-15 09:05:15|S105|NULL|9.9|ERROR|E02\n",
        "2025-01-15 09:10:00|S101|26.2|10.7|OK|NULL\n",
        "2025-01-15 09:15:20|S102|26.5|NULL|OK|NULL\n",
        "2025-01-15 09:20:00|S103|25.3|10.1|OK|NULL\n",
        "2025-01-16 10:00:10|S104|27.6|10.8|OK|NULL\n",
        "2025-01-16 10:05:00|S105|24.5|10.0|WARNING|E04\n",
        "2025-01-16 10:10:15|S101|26.3|10.8|OK|NULL\n",
        "2025-01-16 10:15:00|S102|26.6|10.5|OK|NULL\n",
        "\"\"\""
      ],
      "metadata": {
        "id": "4By04ti9mJ9O"
      },
      "execution_count": null,
      "outputs": []
    },
    {
      "cell_type": "markdown",
      "source": [
        "## 1.1\n",
        "\n",
        "*   Разделить текст на строки, используя разделитель **'\\n'**;\n",
        "*   Разделить каждую строку RDD на отдельные поля, используя символ **|**  как разделитель."
      ],
      "metadata": {
        "id": "KsSZWl1BrNjg"
      }
    },
    {
      "cell_type": "code",
      "source": [
        "# Создаем RDD из списка строк\n",
        "raw_rdd = sc.parallelize([line for line in raw_data.split('\\n') if line.strip()])\n",
        "\n",
        "# Разделяем каждую строку RDD на отдельные поля\n",
        "parsed_rdd = raw_rdd.map(lambda line: line.split('|'))\n",
        "parsed_rdd.collect()"
      ],
      "metadata": {
        "colab": {
          "base_uri": "https://localhost:8080/"
        },
        "id": "iAXeeU91yyiD",
        "outputId": "1d5d1478-81ae-4756-9379-8fc1344bd3b8"
      },
      "execution_count": null,
      "outputs": [
        {
          "output_type": "execute_result",
          "data": {
            "text/plain": [
              "[['2025-01-10 08:00:05', 'S101', '25.3', '10.1', 'OK', 'NULL'],\n",
              " ['2025-01-10 08:05:10', 'S102', '26.1', 'NULL', 'WARNING', 'E01'],\n",
              " ['2025-01-10 08:10:00', 'S101', '25.5', '10.2', 'OK', 'NULL'],\n",
              " ['2025-01-10 08:15:30', 'S103', 'NULL', '9.9', 'ERROR', 'E05'],\n",
              " ['2025-01-10 08:20:15', 'S102', '25.8', '10.0', 'OK', 'NULL'],\n",
              " ['2025-01-10 08:25:00', 'S101', '25.4', '10.1', 'OK', 'NULL'],\n",
              " ['2025-01-10 08:30:20', 'S104', '27.0', '10.3', 'OK', 'NULL'],\n",
              " ['2025-01-10 08:35:05', 'S101', '25.6', 'NULL', 'OK', 'NULL'],\n",
              " ['2025-01-10 08:40:00', 'S103', '24.9', '9.8', 'WARNING', 'NULL'],\n",
              " ['2025-01-10 08:45:10', 'S102', '26.0', '10.1', 'OK', 'NULL'],\n",
              " ['2025-01-11 09:00:00', 'S104', '27.2', '10.4', 'ERROR', 'E03'],\n",
              " ['2025-01-11 09:05:30', 'S101', '25.7', '10.2', 'OK', 'NULL'],\n",
              " ['2025-01-11 09:10:00', 'S105', '24.0', '9.5', 'OK', 'NULL'],\n",
              " ['2025-01-11 09:15:10', 'S101', '25.8', '10.3', 'OK', 'NULL'],\n",
              " ['2025-01-11 09:20:20', 'S102', '26.2', 'NULL', 'WARNING', 'E02'],\n",
              " ['2025-01-11 09:25:00', 'S103', '25.0', '9.7', 'OK', 'NULL'],\n",
              " ['2025-01-12 10:00:15', 'S104', 'NULL', '10.5', 'ERROR', 'E04'],\n",
              " ['2025-01-12 10:05:00', 'S105', '24.1', '9.6', 'OK', 'NULL'],\n",
              " ['2025-01-12 10:10:05', 'S101', '25.9', '10.4', 'OK', 'NULL'],\n",
              " ['2025-01-12 10:15:00', 'S102', '26.3', '10.2', 'OK', 'NULL'],\n",
              " ['2025-01-12 10:20:10', 'S103', 'NULL', 'NULL', 'ERROR', 'E05'],\n",
              " ['2025-01-13 11:00:00', 'S104', '27.3', '10.6', 'OK', 'NULL'],\n",
              " ['2025-01-13 11:05:15', 'S105', '24.2', '9.7', 'WARNING', 'E01'],\n",
              " ['2025-01-13 11:10:00', 'S101', '26.0', '10.5', 'OK', 'NULL'],\n",
              " ['2025-01-13 11:15:20', 'S102', 'NULL', '10.3', 'OK', 'NULL'],\n",
              " ['2025-01-13 11:20:00', 'S103', '25.1', '9.9', 'OK', 'NULL'],\n",
              " ['2025-01-14 08:30:10', 'S104', '27.4', 'NULL', 'ERROR', 'E03'],\n",
              " ['2025-01-14 08:35:00', 'S105', '24.3', '9.8', 'OK', 'NULL'],\n",
              " ['2025-01-14 08:40:15', 'S101', '26.1', '10.6', 'OK', 'NULL'],\n",
              " ['2025-01-14 08:45:00', 'S102', '26.4', '10.4', 'OK', 'NULL'],\n",
              " ['2025-01-14 08:50:10', 'S103', '25.2', '10.0', 'WARNING', 'NULL'],\n",
              " ['2025-01-15 09:00:00', 'S104', '27.5', '10.7', 'OK', 'NULL'],\n",
              " ['2025-01-15 09:05:15', 'S105', 'NULL', '9.9', 'ERROR', 'E02'],\n",
              " ['2025-01-15 09:10:00', 'S101', '26.2', '10.7', 'OK', 'NULL'],\n",
              " ['2025-01-15 09:15:20', 'S102', '26.5', 'NULL', 'OK', 'NULL'],\n",
              " ['2025-01-15 09:20:00', 'S103', '25.3', '10.1', 'OK', 'NULL'],\n",
              " ['2025-01-16 10:00:10', 'S104', '27.6', '10.8', 'OK', 'NULL'],\n",
              " ['2025-01-16 10:05:00', 'S105', '24.5', '10.0', 'WARNING', 'E04'],\n",
              " ['2025-01-16 10:10:15', 'S101', '26.3', '10.8', 'OK', 'NULL'],\n",
              " ['2025-01-16 10:15:00', 'S102', '26.6', '10.5', 'OK', 'NULL']]"
            ]
          },
          "metadata": {},
          "execution_count": 3
        }
      ]
    },
    {
      "cell_type": "markdown",
      "source": [
        "## 1.2\n",
        "\n",
        "*  Преобразовать поля (temperature, pressure) в числовой тип (float);\n",
        "*  Преобразовать NULL значения в None;"
      ],
      "metadata": {
        "id": "8dHPsTWMsmmJ"
      }
    },
    {
      "cell_type": "code",
      "source": [
        "transformed_rdd = parsed_rdd.map(\n",
        "    lambda p: (\n",
        "        datetime.strptime(p[0], \"%Y-%m-%d %H:%M:%S\"),  # Timestamp\n",
        "        p[1],                                          # Sensor ID\n",
        "        float(p[2]) if p[2] != \"NULL\" else None,       # Temperature\n",
        "        float(p[3]) if p[3] != \"NULL\" else None,       # Pressure\n",
        "        p[4],                                          # Status\n",
        "        p[5] if p[5] != \"NULL\" else None               # Error code\n",
        "    )\n",
        ")"
      ],
      "metadata": {
        "id": "LVBGT7bFtC4G"
      },
      "execution_count": null,
      "outputs": []
    },
    {
      "cell_type": "markdown",
      "source": [
        "## 1.3 Подсчет количества записей для каждого status"
      ],
      "metadata": {
        "id": "o-sf_o2YzL_r"
      }
    },
    {
      "cell_type": "code",
      "source": [
        "# Извлекаем статус и создаем пару (status, 1)\n",
        "\n",
        "# Статус находится по индексу 4\n",
        "status_counts_rdd = transformed_rdd.map(lambda r: (r[4], 1))\n",
        "status_counts_rdd.collect()"
      ],
      "metadata": {
        "colab": {
          "base_uri": "https://localhost:8080/"
        },
        "id": "2AlavF-DmKGd",
        "outputId": "7a8a2046-1657-4087-c53c-ab53512cac93"
      },
      "execution_count": null,
      "outputs": [
        {
          "output_type": "execute_result",
          "data": {
            "text/plain": [
              "[('OK', 1),\n",
              " ('WARNING', 1),\n",
              " ('OK', 1),\n",
              " ('ERROR', 1),\n",
              " ('OK', 1),\n",
              " ('OK', 1),\n",
              " ('OK', 1),\n",
              " ('OK', 1),\n",
              " ('WARNING', 1),\n",
              " ('OK', 1),\n",
              " ('ERROR', 1),\n",
              " ('OK', 1),\n",
              " ('OK', 1),\n",
              " ('OK', 1),\n",
              " ('WARNING', 1),\n",
              " ('OK', 1),\n",
              " ('ERROR', 1),\n",
              " ('OK', 1),\n",
              " ('OK', 1),\n",
              " ('OK', 1),\n",
              " ('ERROR', 1),\n",
              " ('OK', 1),\n",
              " ('WARNING', 1),\n",
              " ('OK', 1),\n",
              " ('OK', 1),\n",
              " ('OK', 1),\n",
              " ('ERROR', 1),\n",
              " ('OK', 1),\n",
              " ('OK', 1),\n",
              " ('OK', 1),\n",
              " ('WARNING', 1),\n",
              " ('OK', 1),\n",
              " ('ERROR', 1),\n",
              " ('OK', 1),\n",
              " ('OK', 1),\n",
              " ('OK', 1),\n",
              " ('OK', 1),\n",
              " ('WARNING', 1),\n",
              " ('OK', 1),\n",
              " ('OK', 1)]"
            ]
          },
          "metadata": {},
          "execution_count": 5
        }
      ]
    },
    {
      "cell_type": "code",
      "source": [
        "# Суммируем количество для каждого статуса\n",
        "total_status_counts = status_counts_rdd.reduceByKey(lambda a, b: a + b)\n",
        "\n",
        "for status, count in total_status_counts.collect():\n",
        "    print(f\"{status}: {count}\")"
      ],
      "metadata": {
        "colab": {
          "base_uri": "https://localhost:8080/"
        },
        "id": "pQHVjVaLmKI-",
        "outputId": "506bec4f-9bd7-439a-b154-25f0cc2121e4"
      },
      "execution_count": null,
      "outputs": [
        {
          "output_type": "stream",
          "name": "stdout",
          "text": [
            "WARNING: 6\n",
            "OK: 28\n",
            "ERROR: 6\n"
          ]
        }
      ]
    },
    {
      "cell_type": "markdown",
      "source": [
        "## 1.4 Среднее значение температуры:\n",
        "*   Исключите записи без температуры из расчета среднего;\n",
        "*   Округлите до двух знаков после запятой."
      ],
      "metadata": {
        "id": "aCGEwptt1s51"
      }
    },
    {
      "cell_type": "code",
      "source": [
        "# Расчет среднего значения температуры\n",
        "\n",
        "avg_temperature = (transformed_rdd\n",
        "                  .filter(lambda record: record[2] is not None)   # Отфильтровываем записи без температуры\n",
        "                  .map(lambda record: (record[2], 1))             # Создаем пары (температура, 1)\n",
        ")\n",
        "avg_temperature.collect()"
      ],
      "metadata": {
        "colab": {
          "base_uri": "https://localhost:8080/"
        },
        "id": "YvtRi3nnmKLe",
        "outputId": "23ad2224-d03d-4681-ea28-1d7d58982545"
      },
      "execution_count": null,
      "outputs": [
        {
          "output_type": "execute_result",
          "data": {
            "text/plain": [
              "[(25.3, 1),\n",
              " (26.1, 1),\n",
              " (25.5, 1),\n",
              " (25.8, 1),\n",
              " (25.4, 1),\n",
              " (27.0, 1),\n",
              " (25.6, 1),\n",
              " (24.9, 1),\n",
              " (26.0, 1),\n",
              " (27.2, 1),\n",
              " (25.7, 1),\n",
              " (24.0, 1),\n",
              " (25.8, 1),\n",
              " (26.2, 1),\n",
              " (25.0, 1),\n",
              " (24.1, 1),\n",
              " (25.9, 1),\n",
              " (26.3, 1),\n",
              " (27.3, 1),\n",
              " (24.2, 1),\n",
              " (26.0, 1),\n",
              " (25.1, 1),\n",
              " (27.4, 1),\n",
              " (24.3, 1),\n",
              " (26.1, 1),\n",
              " (26.4, 1),\n",
              " (25.2, 1),\n",
              " (27.5, 1),\n",
              " (26.2, 1),\n",
              " (26.5, 1),\n",
              " (25.3, 1),\n",
              " (27.6, 1),\n",
              " (24.5, 1),\n",
              " (26.3, 1),\n",
              " (26.6, 1)]"
            ]
          },
          "metadata": {},
          "execution_count": 7
        }
      ]
    },
    {
      "cell_type": "code",
      "source": [
        "# Суммируем все температуры и подсчитываем количество показаний\n",
        "sum_and_count = avg_temperature.reduce(lambda a, b: (a[0] + b[0], a[1] + b[1]))\n",
        "\n",
        "# Вычисляем среднее значение\n",
        "average_temp = sum_and_count[0] / sum_and_count[1]\n",
        "print(f\"Средняя температура: {average_temp:.2f}°C\")"
      ],
      "metadata": {
        "colab": {
          "base_uri": "https://localhost:8080/"
        },
        "id": "rpM3Z7vpmKOH",
        "outputId": "c4bf3f96-8ad1-4e12-a7cb-ed0d3a907e46"
      },
      "execution_count": null,
      "outputs": [
        {
          "output_type": "stream",
          "name": "stdout",
          "text": [
            "Средняя температура: 25.84°C\n"
          ]
        }
      ]
    },
    {
      "cell_type": "markdown",
      "source": [
        "## 1.5 Количество ошибок от сенсоров"
      ],
      "metadata": {
        "id": "PhNRdnA8B5DH"
      }
    },
    {
      "cell_type": "code",
      "source": [
        "# Подсчет активных сенсоров с ошибками\n",
        "active_sensors_with_errors = (\n",
        "    transformed_rdd\n",
        "    .filter(lambda record: record[4] == \"ERROR\")  # Фильтруем только записи с ошибками\n",
        "    .map(lambda record: (record[1], 1))           # Создаем пары (sensor_id, 1)\n",
        ")\n",
        "\n",
        "# Группируем по sensor_id и подсчитываем количество ошибок\n",
        "sensor_error_counts = (\n",
        "    active_sensors_with_errors\n",
        "    .reduceByKey(lambda a, b: a + b)  # Суммируем количество ошибок\n",
        "    .sortByKey())                     # Сортируем по имени датчика\n",
        "\n",
        "print(\"Количество ошибок по датчикам:\")\n",
        "if sensor_error_counts.isEmpty():\n",
        "    print(\"Нет датчиков с ошибками\")\n",
        "else:\n",
        "    for sensor, error_count in sensor_error_counts.collect():\n",
        "        print(f\"Датчик {sensor}: {error_count} ошибок\")"
      ],
      "metadata": {
        "colab": {
          "base_uri": "https://localhost:8080/"
        },
        "id": "vIqwidYH3gxF",
        "outputId": "b4ba15c5-60ec-4867-9892-de8f005c6089"
      },
      "execution_count": null,
      "outputs": [
        {
          "output_type": "stream",
          "name": "stdout",
          "text": [
            "Количество ошибок по датчикам:\n",
            "Датчик S103: 2 ошибок\n",
            "Датчик S104: 3 ошибок\n",
            "Датчик S105: 1 ошибок\n"
          ]
        }
      ]
    },
    {
      "cell_type": "markdown",
      "source": [
        "## 1.5 Количество ошибок для каждого кода"
      ],
      "metadata": {
        "id": "yawuljPjFVVB"
      }
    },
    {
      "cell_type": "code",
      "source": [
        "# Подсчет сенсоров с кодом ошибок\n",
        "sensors_with_error_code = (\n",
        "    transformed_rdd\n",
        "    .filter(lambda record: record[5] is not None)   # Фильтруем записи с ошибками\n",
        "    .map(lambda record: (record[5], 1))             # Создаем пары (error_code, 1)\n",
        ")\n",
        "\n",
        "# Группируем по error_code и подсчитываем количество ошибок\n",
        "error_code_counts = (\n",
        "    sensors_with_error_code\n",
        "    .reduceByKey(lambda a, b: a + b)  # Суммируем количество ошибок\n",
        "    .sortByKey())                     # Сортируем по имени датчика\n",
        "\n",
        "print(\"Количество ошибок по коду:\")\n",
        "if error_code_counts.isEmpty():\n",
        "    print(\"Нет датчиков с ошибками\")\n",
        "else:\n",
        "    for error, error_count in error_code_counts.collect():\n",
        "        print(f\"Код ошибки {error}: {error_count} ошибок\")"
      ],
      "metadata": {
        "colab": {
          "base_uri": "https://localhost:8080/"
        },
        "id": "At_hjMhY3gzF",
        "outputId": "ccc71201-cff6-483b-cc87-c4f63641755e"
      },
      "execution_count": null,
      "outputs": [
        {
          "output_type": "stream",
          "name": "stdout",
          "text": [
            "Количество ошибок по коду:\n",
            "Код ошибки E01: 2 ошибок\n",
            "Код ошибки E02: 2 ошибок\n",
            "Код ошибки E03: 2 ошибок\n",
            "Код ошибки E04: 2 ошибок\n",
            "Код ошибки E05: 2 ошибок\n"
          ]
        }
      ]
    },
    {
      "cell_type": "markdown",
      "source": [
        "## 1.6 Записи с высоким давлением и температурой\n",
        " Отфильтровать RDD, чтобы получить только те записи, где\n",
        "\n",
        "*   pressure выше **10.0**\n",
        "*   temperature выше **26.0**\n",
        "\n",
        "Для каждой отфильтрованной записи выведите кортеж (timestamp, sensor_id, temperature, pressure)"
      ],
      "metadata": {
        "id": "P-X7G-lkJ07r"
      }
    },
    {
      "cell_type": "code",
      "source": [
        "# Фильтрация показаний датчиков\n",
        "critical_rdd = (\n",
        "    transformed_rdd\n",
        "    .filter(lambda r: r[2] is not None and r[3] is not None)  # Отсеиваем записи с None\n",
        "    .filter(lambda r: r[2] > 26 and r[3] > 10)                # Температура >26 и давление >10\n",
        "    .sortBy(lambda r: r[0])                                   # Сортировка по дате\n",
        ")\n",
        "\n",
        "# Форматированный вывод\n",
        "print(\"\\n\" + \"=\"*65)\n",
        "print(\"КРИТИЧЕСКИЕ ПОКАЗАНИЯ ДАТЧИКОВ\".center(65))\n",
        "print(f\"{'Температура >26°C и давление >10':^65}\")\n",
        "print(\"=\"*65)\n",
        "print(\"{:<20} {:<6} {:<12} {:<10} {:<10}\".format(\"Время\", \"Датчик\", \"Температура\", \"Давление\", \"Статус\"))\n",
        "print(\"-\"*65)\n",
        "\n",
        "if critical_rdd.isEmpty():\n",
        "    print(\"Нет критических показаний\".center(65))\n",
        "else:\n",
        "    for record in critical_rdd.collect():\n",
        "        print(\"{:<20} {:<6} {:>8.1f}°C {:>8.1f} {:>10}\".format(\n",
        "            record[0].strftime(\"%Y-%m-%d %H:%M:%S\"),\n",
        "            record[1],\n",
        "            record[2],\n",
        "            record[3],\n",
        "            record[4]\n",
        "        ))"
      ],
      "metadata": {
        "colab": {
          "base_uri": "https://localhost:8080/"
        },
        "id": "tpbC24vq3g3_",
        "outputId": "ecb1a19a-d8a0-4334-df90-eb8dc784aff0"
      },
      "execution_count": null,
      "outputs": [
        {
          "output_type": "stream",
          "name": "stdout",
          "text": [
            "\n",
            "=================================================================\n",
            "                  КРИТИЧЕСКИЕ ПОКАЗАНИЯ ДАТЧИКОВ                 \n",
            "                Температура >26°C и давление >10                 \n",
            "=================================================================\n",
            "Время                Датчик Температура  Давление   Статус    \n",
            "-----------------------------------------------------------------\n",
            "2025-01-10 08:30:20  S104       27.0°C     10.3         OK\n",
            "2025-01-11 09:00:00  S104       27.2°C     10.4      ERROR\n",
            "2025-01-12 10:15:00  S102       26.3°C     10.2         OK\n",
            "2025-01-13 11:00:00  S104       27.3°C     10.6         OK\n",
            "2025-01-14 08:40:15  S101       26.1°C     10.6         OK\n",
            "2025-01-14 08:45:00  S102       26.4°C     10.4         OK\n",
            "2025-01-15 09:00:00  S104       27.5°C     10.7         OK\n",
            "2025-01-15 09:10:00  S101       26.2°C     10.7         OK\n",
            "2025-01-16 10:00:10  S104       27.6°C     10.8         OK\n",
            "2025-01-16 10:10:15  S101       26.3°C     10.8         OK\n",
            "2025-01-16 10:15:00  S102       26.6°C     10.5         OK\n"
          ]
        }
      ]
    },
    {
      "cell_type": "code",
      "source": [
        "# Остановка SparkContext\n",
        "sc.stop()"
      ],
      "metadata": {
        "id": "qrfNefDo3g6d"
      },
      "execution_count": null,
      "outputs": []
    },
    {
      "cell_type": "code",
      "source": [],
      "metadata": {
        "id": "5-m1OBrt3g9N"
      },
      "execution_count": null,
      "outputs": []
    },
    {
      "cell_type": "markdown",
      "source": [
        "# Задание №2: Анализ паролей"
      ],
      "metadata": {
        "id": "7k5pEirpisEs"
      }
    },
    {
      "cell_type": "code",
      "source": [
        "import requests\n",
        "\n",
        "# Получение \"прямой\" ссылки\n",
        "public_url = \"https://disk.yandex.ru/d/Vgm0jVCat6ZYiQ\"\n",
        "api_response = requests.get(f\"https://cloud-api.yandex.net/v1/disk/public/resources/download?public_key={public_url}\")\n",
        "api_response.raise_for_status()\n",
        "\n",
        "file_response = requests.get(api_response.json()['href'])\n",
        "file_response.raise_for_status()\n",
        "\n",
        "# Сохранение в файл\n",
        "with open(\"password.txt\", \"wb\") as f:\n",
        "    f.write(file_response.content)"
      ],
      "metadata": {
        "id": "MffgyZMXiqs8"
      },
      "execution_count": null,
      "outputs": []
    },
    {
      "cell_type": "markdown",
      "source": [
        "## 2.1 Загрузка и предварительная обработка\n",
        "\n",
        "\n",
        "*   загрузить файл в RDD;\n",
        "*   очистить от лишних пробелов;\n",
        "*   удалить пустые строки;"
      ],
      "metadata": {
        "id": "jIgOsD_Ot_o7"
      }
    },
    {
      "cell_type": "code",
      "source": [
        "from pyspark import SparkContext\n",
        "sc = SparkContext(\"local\", \"password_analysis\")\n",
        "\n",
        "password_rdd = (sc.textFile(\"password.txt\")\n",
        "                .map(lambda x: x.strip())          # удаление пробелов\n",
        "                .filter(lambda x: x)               # удаление пустых строк\n",
        ")"
      ],
      "metadata": {
        "id": "rHpdJSFltCgR"
      },
      "execution_count": null,
      "outputs": []
    },
    {
      "cell_type": "markdown",
      "source": [
        "## 2.2 Длина паролей:\n",
        "*   Рассчитать среднюю длину пароля во всем списке. Округлить до целого числа.\n",
        "*   Найдите минимальную и максимальную длину паролей.\n",
        "*   Найдите минимальную и максимальную длину паролей."
      ],
      "metadata": {
        "id": "qdkQA8eUche6"
      }
    },
    {
      "cell_type": "code",
      "source": [
        "length_stats = password_rdd.map(lambda x: len(x)).stats()\n",
        "length_stats"
      ],
      "metadata": {
        "colab": {
          "base_uri": "https://localhost:8080/"
        },
        "id": "Y9Mg0ADeeTWj",
        "outputId": "66afb023-ab49-4c34-a2fa-85c655500ac7"
      },
      "execution_count": null,
      "outputs": [
        {
          "output_type": "execute_result",
          "data": {
            "text/plain": [
              "(count: 1000000, mean: 9.363507000000327, stdev: 2.833534834963496, max: 15.0, min: 6.0)"
            ]
          },
          "metadata": {},
          "execution_count": 6
        }
      ]
    },
    {
      "cell_type": "code",
      "source": [
        "# Средняя длина пароля (округленная)\n",
        "avg_length = length_stats.mean()\n",
        "print(f\"Средняя длина пароля: {round(avg_length)} символов\")"
      ],
      "metadata": {
        "id": "B45oqZwptCi5",
        "colab": {
          "base_uri": "https://localhost:8080/"
        },
        "outputId": "a56d4438-97cb-4d44-c12d-b7c887588608"
      },
      "execution_count": null,
      "outputs": [
        {
          "output_type": "stream",
          "name": "stdout",
          "text": [
            "Средняя длина пароля: 9 символов\n"
          ]
        }
      ]
    },
    {
      "cell_type": "code",
      "source": [
        "# Минимальная и максимальная длина\n",
        "print(f\"Минимальная длина пароля: {length_stats.min()}\")\n",
        "print(f\"Максимальная длина пароля: {length_stats.max()}\")"
      ],
      "metadata": {
        "id": "jDZG3B0-tClh",
        "colab": {
          "base_uri": "https://localhost:8080/"
        },
        "outputId": "4eca754f-287f-4cb8-a135-d0fe667a2a82"
      },
      "execution_count": null,
      "outputs": [
        {
          "output_type": "stream",
          "name": "stdout",
          "text": [
            "Минимальная длина пароля: 6.0\n",
            "Максимальная длина пароля: 15.0\n"
          ]
        }
      ]
    },
    {
      "cell_type": "markdown",
      "source": [
        "## 2.3 Символьный состав:\n",
        "*   Количество паролей, содержащих только цифры\n",
        "*   Количество паролей, содержащих только буквы (как строчные, так и заглавные)"
      ],
      "metadata": {
        "id": "2YLqBz0JfsDc"
      }
    },
    {
      "cell_type": "code",
      "source": [
        "# Количество паролей, содержащих только цифры\n",
        "only_digit = password_rdd.filter(lambda x: x.isdigit())\n",
        "print(f\"Количество паролей, содержащих только цифры: {only_digit.count()}\")\n",
        "\n",
        "# Количество паролей, содержащих только буквы\n",
        "only_alpha = password_rdd.filter(lambda x: x.isalpha())\n",
        "print(f\"Количество паролей, содержащих только буквы: {only_alpha.count()}\")"
      ],
      "metadata": {
        "id": "_9aX18WstCnr",
        "colab": {
          "base_uri": "https://localhost:8080/"
        },
        "outputId": "04cfa946-eaa7-4e27-bda0-913640343518"
      },
      "execution_count": null,
      "outputs": [
        {
          "output_type": "stream",
          "name": "stdout",
          "text": [
            "Количество паролей, содержащих только цифры: 441347\n",
            "Количество паролей, содержащих только буквы: 115088\n"
          ]
        }
      ]
    },
    {
      "cell_type": "markdown",
      "source": [
        "## 2.5 Топ длин\n"
      ],
      "metadata": {
        "id": "Y1PbACjhgxOW"
      }
    },
    {
      "cell_type": "code",
      "source": [
        "len_password = password_rdd.map(lambda x: len(x)) # Получаем длину каждого пароля\n",
        "\n",
        "top_len = (len_password\n",
        "    .map(lambda x: (x, 1))                   # Создаем пары (длина, 1)\n",
        "    .reduceByKey(lambda a, b: a + b)         # Считаем количество для каждой длины\n",
        "    .top(5, key=lambda x: x[1])              # Берем топ-5 по количеству\n",
        ")\n",
        "\n",
        "print(\"Топ-5 самых распространенных длин паролей:\")\n",
        "for num, cnt in top_len:\n",
        "    print(f\"{num}: {cnt}\")"
      ],
      "metadata": {
        "colab": {
          "base_uri": "https://localhost:8080/"
        },
        "id": "HjqojMOegDye",
        "outputId": "49f043a0-a01f-4d79-b019-2806bac82d18"
      },
      "execution_count": null,
      "outputs": [
        {
          "output_type": "stream",
          "name": "stdout",
          "text": [
            "Топ-5 самых распространенных длин паролей:\n",
            "6: 215887\n",
            "8: 122106\n",
            "7: 115450\n",
            "10: 113429\n",
            "9: 110343\n"
          ]
        }
      ]
    },
    {
      "cell_type": "markdown",
      "source": [
        "## Топ префиксов/суффиксов\n",
        "*   топ-5 самых распространенных префикса длиной 3 символа\n",
        "*   топ-5 самых распространенных суффикса длиной 3 символа"
      ],
      "metadata": {
        "id": "M2_YB9VHk86Z"
      }
    },
    {
      "cell_type": "code",
      "source": [
        "# Топ-5 самых распространенных префикса\n",
        "list_perfix = password_rdd.map(lambda x: (x[0:3], 1))\n",
        "cnt_perfix = list_perfix.reduceByKey(lambda a, b: a + b)\n",
        "top_perfix = cnt_perfix.top(5, key = lambda x: x[1])\n",
        "\n",
        "print(\"Топ-5 самых распространенных префикса\")\n",
        "for perfix, cnt in top_perfix:\n",
        "    print(f\"{perfix}: {cnt}\")"
      ],
      "metadata": {
        "colab": {
          "base_uri": "https://localhost:8080/"
        },
        "id": "GaRZiVWZgD1g",
        "outputId": "7a6311ea-2b7b-471d-fb61-67a7af599fd4"
      },
      "execution_count": null,
      "outputs": [
        {
          "output_type": "stream",
          "name": "stdout",
          "text": [
            "Топ-5 самых распространенных префикса\n",
            "123: 17857\n",
            "qwe: 17054\n",
            "pas: 13290\n",
            "654: 9925\n",
            "edc: 9813\n"
          ]
        }
      ]
    },
    {
      "cell_type": "code",
      "source": [
        "# Топ-5 самых распространенных суффикса\n",
        "list_suffix = password_rdd.map(lambda x: (x[-3:], 1))\n",
        "cnt_suffix = list_suffix.reduceByKey(lambda a, b: a + b)\n",
        "top_suffix = cnt_suffix.top(5, key = lambda x: x[1])\n",
        "\n",
        "print(\"Топ-5 самых распространенных суффикса\")\n",
        "for suffix, cnt in top_suffix:\n",
        "    print(f\"{suffix}: {cnt}\")"
      ],
      "metadata": {
        "colab": {
          "base_uri": "https://localhost:8080/"
        },
        "id": "xCeEfFuCgD4v",
        "outputId": "bca9b186-3948-4473-fdd1-d41379730b71"
      },
      "execution_count": null,
      "outputs": [
        {
          "output_type": "stream",
          "name": "stdout",
          "text": [
            "Топ-5 самых распространенных суффикса\n",
            "123: 16135\n",
            "789: 15266\n",
            "020: 14636\n",
            "021: 14558\n",
            "022: 14552\n"
          ]
        }
      ]
    },
    {
      "cell_type": "code",
      "source": [
        "# Остановка SparkContext\n",
        "sc.stop()"
      ],
      "metadata": {
        "id": "wwKGGtdEgD7-"
      },
      "execution_count": null,
      "outputs": []
    },
    {
      "cell_type": "markdown",
      "source": [
        "# Задание №3: Анализ словаря русских слов"
      ],
      "metadata": {
        "id": "j4DvI_w2ZWGi"
      }
    },
    {
      "cell_type": "code",
      "source": [
        "import requests\n",
        "\n",
        "# Получение \"прямой\" ссылки\n",
        "public_url = \"https://disk.yandex.ru/d/sF4QUi3TBAXspw\"\n",
        "api_response = requests.get(f\"https://cloud-api.yandex.net/v1/disk/public/resources/download?public_key={public_url}\")\n",
        "api_response.raise_for_status()\n",
        "\n",
        "file_response = requests.get(api_response.json()['href'])\n",
        "file_response.raise_for_status()\n",
        "\n",
        "# Сохранение в файл\n",
        "with open(\"Rus_dict.txt\", \"wb\") as f:\n",
        "    f.write(file_response.content)"
      ],
      "metadata": {
        "id": "CuqhG03U3g_w"
      },
      "execution_count": null,
      "outputs": []
    },
    {
      "cell_type": "code",
      "source": [
        "from pyspark import SparkContext\n",
        "sc = SparkContext(\"local\", \"dict_analysis\")\n",
        "\n",
        "dict_rdd = (sc.textFile(\"Rus_dict.txt\")\n",
        "                .map(lambda x: x.strip().lower())   # удаление пробелов и приведение к нижнему регистру\n",
        "                .filter(lambda x: x)                # удаление пустых строк\n",
        ")"
      ],
      "metadata": {
        "id": "frXflPICZVI7"
      },
      "execution_count": null,
      "outputs": []
    },
    {
      "cell_type": "markdown",
      "source": [
        "## 3.1 Статистика по словам:\n",
        "\n",
        "*   Общее количество слов в словаре\n",
        "*   Топ-5 самых длинных слов\n",
        "*   Топ-5 самых коротких слов\n",
        "\n"
      ],
      "metadata": {
        "id": "x_6QhHhpa46k"
      }
    },
    {
      "cell_type": "code",
      "source": [
        "# Количество слов\n",
        "print(f\"Количество слов в словаре: {dict_rdd.count()}\")"
      ],
      "metadata": {
        "colab": {
          "base_uri": "https://localhost:8080/"
        },
        "id": "YQJFvgBhZVLV",
        "outputId": "8f2fa803-757a-44b9-ff88-2da9aa1e872e"
      },
      "execution_count": null,
      "outputs": [
        {
          "output_type": "stream",
          "name": "stdout",
          "text": [
            "Количество слов в словаре: 51301\n"
          ]
        }
      ]
    },
    {
      "cell_type": "code",
      "source": [
        "# Топ-5 самых длинных слов\n",
        "print(\"Топ-5 самых длинных слов:\")\n",
        "longest_words = (dict_rdd.map(lambda x: (len(x), x))  # Пары (длина, слово)\n",
        "                     .sortByKey(ascending=False)      # Сортировка по убыванию длины\n",
        "                     .take(5))                        # Получаем список\n",
        "\n",
        "for length, word in longest_words:\n",
        "    print(f\"{word} ({length} букв)\")"
      ],
      "metadata": {
        "colab": {
          "base_uri": "https://localhost:8080/"
        },
        "id": "SigY_rRGZVN0",
        "outputId": "bf455171-7796-44d5-a45a-70a949d9a03d"
      },
      "execution_count": null,
      "outputs": [
        {
          "output_type": "stream",
          "name": "stdout",
          "text": [
            "Топ-5 самых длинных слов:\n",
            "человеконенавистничество (24 букв)\n",
            "интернационализирование (23 букв)\n",
            "неусовершенствованность (23 букв)\n",
            "переосвидетельствование (23 букв)\n",
            "адмиралтейств-коллегия (22 букв)\n"
          ]
        }
      ]
    },
    {
      "cell_type": "code",
      "source": [
        "# Топ-5 самых коротких слов\n",
        "print(\"Топ-5 самых коротких слов:\")\n",
        "shortest_words = (dict_rdd\n",
        "                  .map(lambda x: (len(x), x))           # Пары (длина, слово)\n",
        "                  #.sortByKey()                         # Сортировка по возрастанию длины\n",
        "                  #.take(5)\n",
        "                  .top(5, key=lambda x: x[1])\n",
        ")\n",
        "\n",
        "for length, word in shortest_words:\n",
        "    print(f\"{word} ({length} букв)\")"
      ],
      "metadata": {
        "colab": {
          "base_uri": "https://localhost:8080/"
        },
        "id": "X3AEb6UJZVQC",
        "outputId": "21656203-2450-4f9d-b145-56521c75a868"
      },
      "execution_count": null,
      "outputs": [
        {
          "output_type": "stream",
          "name": "stdout",
          "text": [
            "Топ-5 самых коротких слов:\n",
            "ёршик (5 букв)\n",
            "ёрш (3 букв)\n",
            "ёрничество (10 букв)\n",
            "ёрник (5 букв)\n",
            "ёрзание (7 букв)\n"
          ]
        }
      ]
    },
    {
      "cell_type": "markdown",
      "source": [
        "## 3.2 Анализ по длине слов"
      ],
      "metadata": {
        "id": "-PJ08Xh1fmsL"
      }
    },
    {
      "cell_type": "code",
      "source": [
        "# Распространение по длине слов\n",
        "lengths_counts = (dict_rdd\n",
        "              .map(lambda word: (len(word), 1))       # Пары (длина, 1)\n",
        "              .reduceByKey(lambda a, b: a + b)        # Суммируем по длинам\n",
        "              .sortByKey()                            # Сортировка по длине слова\n",
        ")\n",
        "\n",
        "print(\"Распространение по длине слов:\")\n",
        "for length, cnt in lengths_counts.collect():\n",
        "    print(f\"Слов длиной {length} букв: {cnt}\")"
      ],
      "metadata": {
        "colab": {
          "base_uri": "https://localhost:8080/"
        },
        "id": "yDOUJsBVZVSy",
        "outputId": "554bca3c-46c9-4d41-d8a0-92ad49d382ec"
      },
      "execution_count": null,
      "outputs": [
        {
          "output_type": "stream",
          "name": "stdout",
          "text": [
            "Топ-5 самых распространенных длин слов:\n",
            "Слов длиной 2 букв: 54\n",
            "Слов длиной 3 букв: 472\n",
            "Слов длиной 4 букв: 1607\n",
            "Слов длиной 5 букв: 3483\n",
            "Слов длиной 6 букв: 4836\n",
            "Слов длиной 7 букв: 6335\n",
            "Слов длиной 8 букв: 6885\n",
            "Слов длиной 9 букв: 6612\n",
            "Слов длиной 10 букв: 5501\n",
            "Слов длиной 11 букв: 4591\n",
            "Слов длиной 12 букв: 3527\n",
            "Слов длиной 13 букв: 2774\n",
            "Слов длиной 14 букв: 1994\n",
            "Слов длиной 15 букв: 1123\n",
            "Слов длиной 16 букв: 692\n",
            "Слов длиной 17 букв: 364\n",
            "Слов длиной 18 букв: 227\n",
            "Слов длиной 19 букв: 117\n",
            "Слов длиной 20 букв: 60\n",
            "Слов длиной 21 букв: 29\n",
            "Слов длиной 22 букв: 14\n",
            "Слов длиной 23 букв: 3\n",
            "Слов длиной 24 букв: 1\n"
          ]
        }
      ]
    },
    {
      "cell_type": "code",
      "source": [
        "# Часто встречающаяся длина слова\n",
        "most_common_length = lengths_counts.top(1, key=lambda x: x[1])\n",
        "\n",
        "print(f\"Наиболее частая длина слов {most_common_length[0]} букв\")"
      ],
      "metadata": {
        "colab": {
          "base_uri": "https://localhost:8080/"
        },
        "id": "J6q_tEe5eADs",
        "outputId": "a73cf6f7-4170-4835-85e6-7ade9d6ddf41"
      },
      "execution_count": null,
      "outputs": [
        {
          "output_type": "stream",
          "name": "stdout",
          "text": [
            "Наиболее частая длина слов 8 букв\n"
          ]
        }
      ]
    },
    {
      "cell_type": "markdown",
      "source": [
        "## 3.2 Символьный анализ"
      ],
      "metadata": {
        "id": "NmwM_Hvo-kqO"
      }
    },
    {
      "cell_type": "code",
      "source": [
        "# Количество слов содержащих букву 'ё'\n",
        "\n",
        "words_with_letter = dict_rdd.filter(lambda word: 'ё' in word)\n",
        "letter_count = words_with_letter.count()\n",
        "print(f\"Слов с буквой 'ё': {letter_count}\")"
      ],
      "metadata": {
        "colab": {
          "base_uri": "https://localhost:8080/"
        },
        "id": "u8zQUjheeAGU",
        "outputId": "622efe41-b362-4ac6-87c9-47210cf62a09"
      },
      "execution_count": null,
      "outputs": [
        {
          "output_type": "stream",
          "name": "stdout",
          "text": [
            "Слов с буквой 'ё': 2111\n"
          ]
        }
      ]
    },
    {
      "cell_type": "code",
      "source": [
        "# Поиск палиндромов\n",
        "\n",
        "def is_palindrome(word):\n",
        "    return word == word[::-1]\n",
        "\n",
        "palindromes = dict_rdd.filter(is_palindrome)\n",
        "palindrome_list = palindromes.collect()  # Собираем все палиндромы\n",
        "\n",
        "print(\"Первые 10 элементов списка\")\n",
        "for word in palindrome_list[:10]:\n",
        "    print(word)"
      ],
      "metadata": {
        "colab": {
          "base_uri": "https://localhost:8080/"
        },
        "id": "Wkp4sJxNeAIb",
        "outputId": "38474cda-943e-4398-fd4e-0f7ba700452f"
      },
      "execution_count": null,
      "outputs": [
        {
          "output_type": "stream",
          "name": "stdout",
          "text": [
            "Первые 10 элементов списка\n",
            "ага\n",
            "боб\n",
            "дед\n",
            "довод\n",
            "доход\n",
            "заказ\n",
            "кабак\n",
            "казак\n",
            "киник\n",
            "кок\n"
          ]
        }
      ]
    },
    {
      "cell_type": "code",
      "source": [
        "sc.stop()"
      ],
      "metadata": {
        "id": "CLlzAZjPeALC"
      },
      "execution_count": null,
      "outputs": []
    },
    {
      "cell_type": "markdown",
      "source": [
        "# Задание №4: Анализ логов веб-сервера"
      ],
      "metadata": {
        "id": "jS88vBWGgKX5"
      }
    },
    {
      "cell_type": "code",
      "source": [
        "import requests\n",
        "import re\n",
        "\n",
        "# Получение \"прямой\" ссылки\n",
        "public_url = \"https://disk.yandex.ru/d/tbZFWvv80u8BPA\"\n",
        "api_response = requests.get(f\"https://cloud-api.yandex.net/v1/disk/public/resources/download?public_key={public_url}\")\n",
        "api_response.raise_for_status()\n",
        "\n",
        "file_response = requests.get(api_response.json()['href'])\n",
        "file_response.raise_for_status()\n",
        "\n",
        "# Сохранение в файл\n",
        "with open(\"logfiles.log\", \"wb\") as f:\n",
        "    f.write(file_response.content)"
      ],
      "metadata": {
        "id": "cMWHrNaQ_s6m"
      },
      "execution_count": null,
      "outputs": []
    },
    {
      "cell_type": "code",
      "source": [
        "from pyspark import SparkContext\n",
        "sc = SparkContext(\"local\", \"log_analysis\")\n",
        "\n",
        "logs_rdd = sc.textFile(\"logfiles.log\")"
      ],
      "metadata": {
        "id": "aGzaOUZi_s89"
      },
      "execution_count": null,
      "outputs": []
    },
    {
      "cell_type": "markdown",
      "source": [
        "## 4.1 Предварительная обработка\n",
        "Написать функцию **parse_log**, которая будет извлекать поля в кортеже:\n",
        "\n",
        "*   IP-адрес\n",
        "*   Запрос\n",
        "*   Статус-код ответа\n",
        "*   Размер ответа в байтах"
      ],
      "metadata": {
        "id": "5wajmpcghW0J"
      }
    },
    {
      "cell_type": "code",
      "source": [
        "def parse_log(log_line):\n",
        "    pattern = r'(\\S+) - - \\[(.*?)\\] \"(.*?)\" (\\d{3}) (\\d+)'\n",
        "    match = re.match(pattern, log_line)\n",
        "    if match:\n",
        "        ip = match.group(1)\n",
        "        request = match.group(3)\n",
        "        status_code = int(match.group(4))\n",
        "        response_size = int(match.group(5))\n",
        "        return (ip, request, status_code, response_size)\n",
        "    return None"
      ],
      "metadata": {
        "id": "cb783MKV_s_c"
      },
      "execution_count": null,
      "outputs": []
    },
    {
      "cell_type": "code",
      "source": [
        "# Применение функции для парсинга\n",
        "\n",
        "parsed_logs_rdd = (logs_rdd.map(parse_log)\n",
        "                        .filter(lambda x: x is not None)\n",
        ")"
      ],
      "metadata": {
        "id": "VIt79fzA_tCE"
      },
      "execution_count": null,
      "outputs": []
    },
    {
      "cell_type": "markdown",
      "source": [
        "## 4.2 Общая статистика по логам\n",
        "\n",
        "*   Общее количество запросов\n",
        "*   Средний размер ответа сервера (в байтах) по всем запросам\n",
        "*   Количество уникальных IP-адресов\n",
        "\n"
      ],
      "metadata": {
        "id": "0eNmthaxkQHQ"
      }
    },
    {
      "cell_type": "code",
      "source": [
        "# Общее количество запросов\n",
        "print(f\"Общее количество запросов: {parsed_logs_rdd.count()}\")"
      ],
      "metadata": {
        "colab": {
          "base_uri": "https://localhost:8080/"
        },
        "id": "aVIIzOIXkPHp",
        "outputId": "a46a284f-360e-48ac-9acf-566dc47bab0f"
      },
      "execution_count": null,
      "outputs": [
        {
          "output_type": "stream",
          "name": "stdout",
          "text": [
            "Общее количество запросов: 10000\n"
          ]
        }
      ]
    },
    {
      "cell_type": "code",
      "source": [
        "# Расчет среднего размера ответа\n",
        "avg_size = parsed_logs_rdd.map(lambda x: x[3]).mean()\n",
        "\n",
        "print(f\"Средний размер ответа сервера: {round(avg_size)} байт\")"
      ],
      "metadata": {
        "colab": {
          "base_uri": "https://localhost:8080/"
        },
        "id": "9PjeBEL6kPKJ",
        "outputId": "a391a62e-3f7d-474d-c554-15388dc71683"
      },
      "execution_count": null,
      "outputs": [
        {
          "output_type": "stream",
          "name": "stdout",
          "text": [
            "Средний размер ответа сервера: 4999 байт\n"
          ]
        }
      ]
    },
    {
      "cell_type": "code",
      "source": [
        "# Количество уникальных IP-адресов\n",
        "unique_ips = parsed_logs_rdd.map(lambda x: x[0]).distinct().count()\n",
        "\n",
        "print(f\"Количество уникальных IP-адресов: {unique_ips}\")"
      ],
      "metadata": {
        "colab": {
          "base_uri": "https://localhost:8080/"
        },
        "id": "hyPKxvZzkPMo",
        "outputId": "c1b3f823-fb05-461d-8184-685b8a748f68"
      },
      "execution_count": null,
      "outputs": [
        {
          "output_type": "stream",
          "name": "stdout",
          "text": [
            "Количество уникальных IP-адресов: 10000\n"
          ]
        }
      ]
    },
    {
      "cell_type": "markdown",
      "source": [
        "## 4.3 Анализ HTTP-статусов"
      ],
      "metadata": {
        "id": "ShDob4BYpBuy"
      }
    },
    {
      "cell_type": "code",
      "source": [
        "# Количество запросов по статус-кодам\n",
        "\n",
        "status_codes = (parsed_logs_rdd\n",
        "                  .map(lambda x: (x[2], 1))\n",
        "                  .reduceByKey(lambda a, b: a + b)\n",
        "                  .sortByKey()\n",
        ")\n",
        "\n",
        "print(\"Распределение по HTTP-кодам:\")\n",
        "for code, cnt in status_codes.collect():\n",
        "    print(f\"{code}: {cnt} запросов\")"
      ],
      "metadata": {
        "colab": {
          "base_uri": "https://localhost:8080/"
        },
        "id": "wf46T_CrkPPQ",
        "outputId": "52e7d5dd-7e8d-49c8-cb02-f0039b11bd87"
      },
      "execution_count": null,
      "outputs": [
        {
          "output_type": "stream",
          "name": "stdout",
          "text": [
            "Распределение по HTTP-кодам:\n",
            "200: 3850 запросов\n",
            "301: 780 запросов\n",
            "302: 773 запросов\n",
            "400: 734 запросов\n",
            "401: 781 запросов\n",
            "403: 735 запросов\n",
            "404: 820 запросов\n",
            "500: 797 запросов\n",
            "502: 730 запросов\n"
          ]
        }
      ]
    },
    {
      "cell_type": "code",
      "source": [
        "# Доля успешных запросов (статус-код 200)\n",
        "\n",
        "success_count = parsed_logs_rdd.filter(lambda x: x[2] == 200).count()\n",
        "total_count = parsed_logs_rdd.count()\n",
        "\n",
        "# Расчёт доли успешных запросов\n",
        "success_rate = (success_count / total_count) * 100 if total_count > 0 else 0\n",
        "\n",
        "print(f\"Успешных запросов: {success_count}/{total_count} ({success_rate:.1f}%)\")"
      ],
      "metadata": {
        "colab": {
          "base_uri": "https://localhost:8080/"
        },
        "id": "xHq-jqVEkPTi",
        "outputId": "e006df33-9309-4b63-da75-29143481d4c1"
      },
      "execution_count": null,
      "outputs": [
        {
          "output_type": "stream",
          "name": "stdout",
          "text": [
            "Успешных запросов: 3850/10000 (38.5%)\n"
          ]
        }
      ]
    },
    {
      "cell_type": "markdown",
      "source": [
        "## 4.4 Анализ эндпоинтов и запросов"
      ],
      "metadata": {
        "id": "YOIMIthHL15t"
      }
    },
    {
      "cell_type": "code",
      "source": [
        "# Топ-5\n",
        "endpoint_counts = (parsed_logs_rdd\n",
        "                     .map(lambda x: x[1].split()[1] if len(x[1].split()) > 1 else None)  # Безопасное извлечение\n",
        "                     .filter(lambda x: x is not None)         # Игнорируем некорректные записи\n",
        "                     .map(lambda endpoint: (endpoint, 1))\n",
        "                     .reduceByKey(lambda a, b: a + b)\n",
        "                     #.sortByKey()\n",
        "                     #.take(5)\n",
        "                     .top(5, key=lambda x: x[1])              # Берем топ-5 по количеству\n",
        ")\n",
        "\n",
        "print(\"\\nТоп-5 самых популярных эндпоинтов:\")\n",
        "for i, (endpoint, count) in enumerate(endpoint_counts, 1):\n",
        "    print(f\"{i}. {endpoint}: {count} запросов\")"
      ],
      "metadata": {
        "colab": {
          "base_uri": "https://localhost:8080/"
        },
        "id": "E5U7Erd2kPWQ",
        "outputId": "07bac70a-d450-4c68-a743-52bc1af88377"
      },
      "execution_count": null,
      "outputs": [
        {
          "output_type": "stream",
          "name": "stdout",
          "text": [
            "\n",
            "Топ-5 самых популярных эндпоинтов:\n",
            "1. /search?q=spark: 952 запросов\n",
            "2. /docs/api: 949 запросов\n",
            "3. /admin/dashboard: 935 запросов\n",
            "4. /auth/register: 929 запросов\n",
            "5. /: 913 запросов\n"
          ]
        }
      ]
    },
    {
      "cell_type": "code",
      "source": [
        "# Количество запросов по типам (GET, POST, PUT и т.д.)\n",
        "\n",
        "endpoint_counts = (parsed_logs_rdd\n",
        "                     .map(lambda x: x[1].split()[0] if len(x[1].split()) > 1 else None)  # Безопасное извлечение\n",
        "                     .filter(lambda x: x is not None)  # Игнорируем некорректные записи\n",
        "                     .map(lambda endpoint: (endpoint, 1))\n",
        "                     .reduceByKey(lambda a, b: a + b)\n",
        "                     .sortByKey()\n",
        ")\n",
        "\n",
        "print(\"Распределение по HTTP-кодам:\")\n",
        "for code, cnt in endpoint_counts.collect():\n",
        "    print(f\"{code}: {cnt} запросов\")"
      ],
      "metadata": {
        "colab": {
          "base_uri": "https://localhost:8080/"
        },
        "id": "Z8XVskc4kPZC",
        "outputId": "a95f673c-1d04-4ae1-ca10-98fae7f52e93"
      },
      "execution_count": null,
      "outputs": [
        {
          "output_type": "stream",
          "name": "stdout",
          "text": [
            "Распределение по HTTP-кодам:\n",
            "DELETE: 1711 запросов\n",
            "GET: 1677 запросов\n",
            "HEAD: 1669 запросов\n",
            "OPTIONS: 1662 запросов\n",
            "POST: 1641 запросов\n",
            "PUT: 1640 запросов\n"
          ]
        }
      ]
    },
    {
      "cell_type": "code",
      "source": [
        "sc.stop()"
      ],
      "metadata": {
        "id": "Ak7-scjQ_tEc"
      },
      "execution_count": null,
      "outputs": []
    },
    {
      "cell_type": "code",
      "source": [],
      "metadata": {
        "id": "nle_hLl2T5hP"
      },
      "execution_count": null,
      "outputs": []
    },
    {
      "cell_type": "code",
      "source": [],
      "metadata": {
        "id": "oILZljwiT5kB"
      },
      "execution_count": null,
      "outputs": []
    },
    {
      "cell_type": "code",
      "source": [],
      "metadata": {
        "id": "TbMSzw7sT5nP"
      },
      "execution_count": null,
      "outputs": []
    }
  ]
}