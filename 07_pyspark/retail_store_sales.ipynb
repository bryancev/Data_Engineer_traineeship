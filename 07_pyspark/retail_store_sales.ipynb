{
  "cells": [
    {
      "cell_type": "markdown",
      "metadata": {
        "colab_type": "text",
        "id": "view-in-github"
      },
      "source": [
        "<a href=\"https://colab.research.google.com/github/bryancev/Data_Engineer_traineeship/blob/main/Retail_store_sales_PySpark.ipynb\" target=\"_parent\"><img src=\"https://colab.research.google.com/assets/colab-badge.svg\" alt=\"Open In Colab\"/></a>"
      ]
    },
    {
      "cell_type": "code",
      "execution_count": 3,
      "metadata": {
        "id": "XAGorUIZq60Y"
      },
      "outputs": [],
      "source": [
        "import requests\n",
        "\n",
        "# Получение \"прямой\" ссылки\n",
        "public_url = \"https://disk.yandex.ru/d/5yhVs9f0xe4w-Q\"\n",
        "api_response = requests.get(f\"https://cloud-api.yandex.net/v1/disk/public/resources/download?public_key={public_url}\")\n",
        "api_response.raise_for_status()\n",
        "\n",
        "file_response = requests.get(api_response.json()['href'])\n",
        "file_response.raise_for_status()\n",
        "\n",
        "# Сохранение в файл\n",
        "with open(\"retail_store_sales.csv\", \"wb\") as f:\n",
        "    f.write(file_response.content)"
      ]
    },
    {
      "cell_type": "markdown",
      "metadata": {
        "id": "KDGfmxPwsrKA"
      },
      "source": [
        "# 1. Загрузка и предварительная обработка данных"
      ]
    },
    {
      "cell_type": "markdown",
      "metadata": {
        "id": "yHKb52zmwrRo"
      },
      "source": [
        "## 1.1. Загрузка и вывод схемы:\n",
        "Загрузите файл retail_store_sales.csv.  Выведите первые 5 строк загруженного DataFrame и его схему (df.printSchema())."
      ]
    },
    {
      "cell_type": "code",
      "execution_count": null,
      "metadata": {
        "colab": {
          "base_uri": "https://localhost:8080/"
        },
        "id": "177Rdwikq7aF",
        "outputId": "7bf2f640-7047-4698-e4ba-ace501ad962f"
      },
      "outputs": [],
      "source": [
        "from pyspark.sql import SparkSession\n",
        "from pyspark.sql import functions as F\n",
        "from pyspark.sql.types import *\n",
        "\n",
        "# Создаем SparkSession\n",
        "spark = SparkSession.builder \\\n",
        "         .appName(\"retail_store_sales_analysis\") \\\n",
        "         .getOrCreate()\n",
        "\n",
        "df = spark.read \\\n",
        "    .option(\"header\", True) \\\n",
        "    .option(\"sep\", \",\") \\\n",
        "    .csv(\"retail_store_sales.csv\")\n",
        "\n",
        "df.show(5, truncate=False)"
      ]
    },
    {
      "cell_type": "code",
      "execution_count": null,
      "metadata": {
        "colab": {
          "base_uri": "https://localhost:8080/"
        },
        "id": "ksJciufSMjmk",
        "outputId": "9d49cdf8-f094-48f5-d333-498471a8dafb"
      },
      "outputs": [
        {
          "name": "stdout",
          "output_type": "stream",
          "text": [
            "Количество строк в исходном DataFrame: 12575\n",
            "Количество уникальных Transaction ID: 12575\n"
          ]
        }
      ],
      "source": [
        "print(f\"Количество строк в исходном DataFrame: {df.count()}\")\n",
        "print(f\"\"\"Количество уникальных Transaction ID: {df.select(\"Transaction ID\").distinct().count()}\"\"\")"
      ]
    },
    {
      "cell_type": "markdown",
      "metadata": {
        "id": "SaxkrgbWwyRQ"
      },
      "source": [
        "## 1.2. Очистка названий столбцов:\n",
        "Преобразуйте названия всех столбцов к единому регистру - **snake_case**.  Выведите обновленную схему DataFrame  или названия столбцов, чтобы убедиться в изменении названий."
      ]
    },
    {
      "cell_type": "code",
      "execution_count": null,
      "metadata": {
        "colab": {
          "base_uri": "https://localhost:8080/"
        },
        "id": "-nk0rVFtq7cf",
        "outputId": "30d421c2-a061-434b-ce67-6d0c9d0e6deb"
      },
      "outputs": [
        {
          "name": "stdout",
          "output_type": "stream",
          "text": [
            "Первые 5 записей:\n",
            "+--------------+-----------+-------------+------------+--------------+--------+-----------+--------------+--------+----------------+----------------+\n",
            "|transaction_id|customer_id|category     |item        |price_per_unit|quantity|total_spent|payment_method|location|transaction_date|discount_applied|\n",
            "+--------------+-----------+-------------+------------+--------------+--------+-----------+--------------+--------+----------------+----------------+\n",
            "|TXN_6867343   |CUST_09    |Patisserie   |Item_10_PAT |18.5          |10.0    |185.0      |Digital Wallet|Online  |2024-04-08      |True            |\n",
            "|TXN_3731986   |CUST_22    |Milk Products|Item_17_MILK|29.0          |9.0     |261.0      |Digital Wallet|Online  |2023-07-23      |True            |\n",
            "|TXN_9303719   |CUST_02    |Butchers     |Item_12_BUT |21.5          |2.0     |43.0       |Credit Card   |Online  |2022-10-05      |False           |\n",
            "|TXN_9458126   |CUST_06    |Beverages    |Item_16_BEV |27.5          |9.0     |247.5      |Credit Card   |Online  |2022-05-07      |NULL            |\n",
            "|TXN_4575373   |CUST_05    |Food         |Item_6_FOOD |12.5          |7.0     |87.5       |Digital Wallet|Online  |2022-10-02      |False           |\n",
            "+--------------+-----------+-------------+------------+--------------+--------+-----------+--------------+--------+----------------+----------------+\n",
            "only showing top 5 rows\n",
            "\n"
          ]
        }
      ],
      "source": [
        "new_column_names = [col.replace(\" \", \"_\").lower() for col in df.columns]\n",
        "\n",
        "# Переименовывание столблов\n",
        "df = df.toDF(*new_column_names)\n",
        "\n",
        "print(\"Первые 5 записей:\")\n",
        "df.show(5, truncate=False)"
      ]
    },
    {
      "cell_type": "markdown",
      "metadata": {
        "id": "KNpUofF20XBZ"
      },
      "source": [
        "## 1.3. Преобразование типов данных:\n",
        "Проанализируйте к каким типам данных относятся данные в столбцах и приведите столбец к соответствующему типу. Убедитесь, что некорректные или отсутствующие значения преобразуются в null в соответствующих типах данных."
      ]
    },
    {
      "cell_type": "code",
      "execution_count": null,
      "metadata": {
        "colab": {
          "base_uri": "https://localhost:8080/"
        },
        "id": "NyJEttWSq7ex",
        "outputId": "c48bd05c-b2af-482e-b897-6305c272a066"
      },
      "outputs": [
        {
          "name": "stdout",
          "output_type": "stream",
          "text": [
            "Схема данных до преобразования:\n",
            "root\n",
            " |-- transaction_id: string (nullable = true)\n",
            " |-- customer_id: string (nullable = true)\n",
            " |-- category: string (nullable = true)\n",
            " |-- item: string (nullable = true)\n",
            " |-- price_per_unit: string (nullable = true)\n",
            " |-- quantity: string (nullable = true)\n",
            " |-- total_spent: string (nullable = true)\n",
            " |-- payment_method: string (nullable = true)\n",
            " |-- location: string (nullable = true)\n",
            " |-- transaction_date: string (nullable = true)\n",
            " |-- discount_applied: string (nullable = true)\n",
            "\n"
          ]
        }
      ],
      "source": [
        "print(\"Схема данных до преобразования:\")\n",
        "df.printSchema()"
      ]
    },
    {
      "cell_type": "code",
      "execution_count": null,
      "metadata": {
        "id": "ICBGjhaOq7km"
      },
      "outputs": [],
      "source": [
        "# Преобразования с улучшенной обработкой NULL\n",
        "\n",
        "def safe_cast(column, target_type):\n",
        "    \"\"\"Безопасное приведение типов с обработкой NULL и сохранением имени столбца\"\"\"\n",
        "    return F.when(\n",
        "        F.lower(F.trim(F.col(column))).isin(\"\", \"null\", \"na\", \"none\", \"nan\"),\n",
        "        F.lit(None)\n",
        "    ).otherwise(\n",
        "        F.col(column).cast(target_type)\n",
        "    ).alias(column)"
      ]
    },
    {
      "cell_type": "code",
      "execution_count": null,
      "metadata": {
        "id": "34mvrwye7vaa"
      },
      "outputs": [],
      "source": [
        "# Применение преобразования:\n",
        "\n",
        "df = df.select([\n",
        "        # Строковые колонки\n",
        "        safe_cast(\"transaction_id\", \"string\"),\n",
        "        safe_cast(\"customer_id\", \"string\"),\n",
        "        safe_cast(\"category\", \"string\"),\n",
        "        safe_cast(\"item\", \"string\"),\n",
        "        safe_cast(\"payment_method\", \"string\"),\n",
        "        safe_cast(\"location\", \"string\"),\n",
        "\n",
        "        # Числовые колонки\n",
        "        safe_cast(\"price_per_unit\", \"double\"),\n",
        "        safe_cast(\"quantity\", \"integer\"),\n",
        "        safe_cast(\"total_spent\", \"double\"),\n",
        "\n",
        "        # Обработка даты\n",
        "        F.to_date(\n",
        "            F.when(\n",
        "                F.lower(F.trim(F.col(\"transaction_date\"))).isin(\"\", \"null\", \"na\", \"none\"),\n",
        "                F.lit(None)\n",
        "            ).otherwise(F.col(\"transaction_date\")),\n",
        "            \"yyyy-MM-dd\"\n",
        "        ).alias(\"transaction_date\"),\n",
        "\n",
        "        # Обработка булевых значений (исправлено на discount_applied)\n",
        "        F.when(\n",
        "            F.lower(F.trim(F.col(\"discount_applied\"))).isin(\"true\", \"yes\", \"1\", \"t\", \"y\"),\n",
        "            True\n",
        "        ).when(\n",
        "            F.lower(F.trim(F.col(\"discount_applied\"))).isin(\"false\", \"no\", \"0\", \"f\", \"n\"),\n",
        "            False\n",
        "        ).otherwise(None).alias(\"discount_applied\")\n",
        "])"
      ]
    },
    {
      "cell_type": "code",
      "execution_count": null,
      "metadata": {
        "colab": {
          "base_uri": "https://localhost:8080/"
        },
        "id": "1wYbIaBnCO9E",
        "outputId": "1f99df25-0ad1-4bab-c653-882de4689d96"
      },
      "outputs": [
        {
          "name": "stdout",
          "output_type": "stream",
          "text": [
            "Количество null значений:\n",
            "+--------------+-----------+--------+----+--------------+--------+--------------+--------+-----------+----------------+----------------+\n",
            "|transaction_id|customer_id|category|item|payment_method|location|price_per_unit|quantity|total_spent|transaction_date|discount_applied|\n",
            "+--------------+-----------+--------+----+--------------+--------+--------------+--------+-----------+----------------+----------------+\n",
            "|             0|          0|       0|1213|             0|       0|           609|     604|        604|               0|            4199|\n",
            "+--------------+-----------+--------+----+--------------+--------+--------------+--------+-----------+----------------+----------------+\n",
            "\n"
          ]
        }
      ],
      "source": [
        "print(\"Количество null значений:\")\n",
        "df.select([F.sum(F.isnull(c).cast(\"int\")).alias(c) for c in df.columns]).show()"
      ]
    },
    {
      "cell_type": "code",
      "execution_count": null,
      "metadata": {
        "id": "B2H_RMhWCO_d"
      },
      "outputs": [],
      "source": [
        "# Задание безопасной схемы - с учетом наличия/отсутствия null значений после преобразования\n",
        "\n",
        "safe_schema = StructType([\n",
        "    StructField(\"transaction_id\", StringType(), False),\n",
        "    StructField(\"customer_id\", StringType(), False),\n",
        "    StructField(\"category\", StringType(), False),\n",
        "    StructField(\"item\", StringType(), True),\n",
        "    StructField(\"payment_method\", StringType(), False),\n",
        "    StructField(\"location\", StringType(), False),\n",
        "    StructField(\"price_per_unit\", DoubleType(), True),\n",
        "    StructField(\"quantity\", IntegerType(), True),\n",
        "    StructField(\"total_spent\", DoubleType(), True),\n",
        "    StructField(\"transaction_date\", DateType(), False),\n",
        "    StructField(\"discount_applied\", BooleanType(), True)\n",
        "])\n",
        "\n",
        "# Заменяем схему у существующего DataFrame\n",
        "df = spark.createDataFrame(df.rdd, safe_schema)"
      ]
    },
    {
      "cell_type": "code",
      "execution_count": null,
      "metadata": {
        "colab": {
          "base_uri": "https://localhost:8080/"
        },
        "id": "UwoLLdlTC3sr",
        "outputId": "c18d3ef2-4489-4c5f-bd54-0e8b8fe7216c"
      },
      "outputs": [
        {
          "name": "stdout",
          "output_type": "stream",
          "text": [
            "Схема данных после преобразования:\n",
            "root\n",
            " |-- transaction_id: string (nullable = false)\n",
            " |-- customer_id: string (nullable = false)\n",
            " |-- category: string (nullable = false)\n",
            " |-- item: string (nullable = true)\n",
            " |-- payment_method: string (nullable = false)\n",
            " |-- location: string (nullable = false)\n",
            " |-- price_per_unit: double (nullable = true)\n",
            " |-- quantity: integer (nullable = true)\n",
            " |-- total_spent: double (nullable = true)\n",
            " |-- transaction_date: date (nullable = false)\n",
            " |-- discount_applied: boolean (nullable = true)\n",
            "\n"
          ]
        }
      ],
      "source": [
        "print(\"Схема данных после преобразования:\")\n",
        "df.printSchema()"
      ]
    },
    {
      "cell_type": "code",
      "execution_count": null,
      "metadata": {
        "colab": {
          "base_uri": "https://localhost:8080/"
        },
        "id": "SRgW4FqgCO6y",
        "outputId": "4318fafc-1c51-4a65-a781-ac1f4c31ac39"
      },
      "outputs": [
        {
          "name": "stdout",
          "output_type": "stream",
          "text": [
            "Пример данных:\n",
            "+--------------+-----------+-----------------------------+------------+--------------+--------+--------------+--------+-----------+----------------+----------------+\n",
            "|transaction_id|customer_id|category                     |item        |payment_method|location|price_per_unit|quantity|total_spent|transaction_date|discount_applied|\n",
            "+--------------+-----------+-----------------------------+------------+--------------+--------+--------------+--------+-----------+----------------+----------------+\n",
            "|TXN_6867343   |CUST_09    |Patisserie                   |Item_10_PAT |Digital Wallet|Online  |18.5          |10      |185.0      |2024-04-08      |true            |\n",
            "|TXN_3731986   |CUST_22    |Milk Products                |Item_17_MILK|Digital Wallet|Online  |29.0          |9       |261.0      |2023-07-23      |true            |\n",
            "|TXN_9303719   |CUST_02    |Butchers                     |Item_12_BUT |Credit Card   |Online  |21.5          |2       |43.0       |2022-10-05      |false           |\n",
            "|TXN_9458126   |CUST_06    |Beverages                    |Item_16_BEV |Credit Card   |Online  |27.5          |9       |247.5      |2022-05-07      |NULL            |\n",
            "|TXN_4575373   |CUST_05    |Food                         |Item_6_FOOD |Digital Wallet|Online  |12.5          |7       |87.5       |2022-10-02      |false           |\n",
            "|TXN_7482416   |CUST_09    |Patisserie                   |NULL        |Credit Card   |Online  |NULL          |10      |200.0      |2023-11-30      |NULL            |\n",
            "|TXN_3652209   |CUST_07    |Food                         |Item_1_FOOD |Credit Card   |In-store|5.0           |8       |40.0       |2023-06-10      |true            |\n",
            "|TXN_1372952   |CUST_21    |Furniture                    |NULL        |Digital Wallet|In-store|33.5          |NULL    |NULL       |2024-04-02      |true            |\n",
            "|TXN_9728486   |CUST_23    |Furniture                    |Item_16_FUR |Credit Card   |In-store|27.5          |1       |27.5       |2023-04-26      |false           |\n",
            "|TXN_2722661   |CUST_25    |Butchers                     |Item_22_BUT |Cash          |Online  |36.5          |3       |109.5      |2024-03-14      |false           |\n",
            "|TXN_8776416   |CUST_22    |Butchers                     |Item_3_BUT  |Cash          |In-store|8.0           |9       |72.0       |2024-12-14      |true            |\n",
            "|TXN_5422631   |CUST_09    |Milk Products                |NULL        |Digital Wallet|In-store|NULL          |8       |52.0       |2025-01-12      |true            |\n",
            "|TXN_5874772   |CUST_23    |Food                         |Item_2_FOOD |Cash          |Online  |6.5           |7       |45.5       |2023-09-09      |true            |\n",
            "|TXN_4413070   |CUST_14    |Patisserie                   |Item_24_PAT |Digital Wallet|In-store|39.5          |6       |237.0      |2022-05-20      |false           |\n",
            "|TXN_2490363   |CUST_09    |Milk Products                |Item_16_MILK|Digital Wallet|Online  |27.5          |2       |55.0       |2022-05-22      |NULL            |\n",
            "|TXN_1809665   |CUST_14    |Beverages                    |NULL        |Credit Card   |In-store|24.5          |NULL    |NULL       |2022-05-11      |NULL            |\n",
            "|TXN_7563311   |CUST_23    |Patisserie                   |Item_17_PAT |Cash          |Online  |29.0          |8       |232.0      |2024-11-16      |true            |\n",
            "|TXN_9634894   |CUST_15    |Milk Products                |NULL        |Digital Wallet|Online  |NULL          |10      |275.0      |2022-04-17      |NULL            |\n",
            "|TXN_4396807   |CUST_17    |Electric household essentials|Item_13_EHE |Digital Wallet|In-store|23.0          |1       |23.0       |2022-02-07      |false           |\n",
            "|TXN_4206593   |CUST_01    |Furniture                    |NULL        |Digital Wallet|Online  |35.0          |NULL    |NULL       |2025-01-13      |false           |\n",
            "+--------------+-----------+-----------------------------+------------+--------------+--------+--------------+--------+-----------+----------------+----------------+\n",
            "only showing top 20 rows\n",
            "\n"
          ]
        }
      ],
      "source": [
        "print(\"Пример данных:\")\n",
        "df.show(20, truncate=False)"
      ]
    },
    {
      "cell_type": "markdown",
      "metadata": {
        "id": "MyHdtJJwpsDM"
      },
      "source": [
        "# 2. Очистка и валидация данных"
      ]
    },
    {
      "cell_type": "markdown",
      "metadata": {
        "id": "_YZCsZgFpvGc"
      },
      "source": [
        "2.1. Восстановление отсутствующих **item**:\n",
        "\n",
        "*   Так как данные статические для каждого товара, то  составьте справочник товаров в отдельный DataFrame с **Category**, **Item** и **Rrice Rer Unit**.\n",
        "*   Для транзакций, где отсутствует название товара , но имеется категория и цена , попытайтесь определить название товара, путём объединения (join) с загруженным справочником товаров. Выведите 20 строк, демонстрирующих восстановленные значения.\n"
      ]
    },
    {
      "cell_type": "code",
      "execution_count": null,
      "metadata": {
        "colab": {
          "base_uri": "https://localhost:8080/"
        },
        "id": "-T1LbPcSprJt",
        "outputId": "7ffc6c29-2137-4f2f-cf8c-add29864e5e9"
      },
      "outputs": [
        {
          "name": "stdout",
          "output_type": "stream",
          "text": [
            "Справочник товаров (первые 5 записей):\n",
            "+----------------------------------+------------+----------------------+\n",
            "|category_catalog                  |item_catalog|price_per_unit_catalog|\n",
            "+----------------------------------+------------+----------------------+\n",
            "|Beverages                         |Item_16_BEV |27.5                  |\n",
            "|Beverages                         |Item_7_BEV  |14.0                  |\n",
            "|Electric household essentials     |Item_23_EHE |38.0                  |\n",
            "|Milk Products                     |Item_16_MILK|27.5                  |\n",
            "|Computers and electric accessories|Item_1_CEA  |5.0                   |\n",
            "+----------------------------------+------------+----------------------+\n",
            "only showing top 5 rows\n",
            "\n"
          ]
        }
      ],
      "source": [
        "# 1. Справочник товаров из имеющихся данных\n",
        "catalog = (\n",
        "    df.filter(\n",
        "        F.col(\"item\").isNotNull() &\n",
        "        F.col(\"category\").isNotNull() &\n",
        "        F.col(\"price_per_unit\").isNotNull()\n",
        "    )\n",
        "    .select(\n",
        "        F.col(\"category\").alias(\"category_catalog\"),\n",
        "        F.col(\"item\").alias(\"item_catalog\"),\n",
        "        F.col(\"price_per_unit\").alias(\"price_per_unit_catalog\")\n",
        "    )\n",
        "    .distinct()\n",
        ")\n",
        "\n",
        "print(\"Справочник товаров (первые 5 записей):\")\n",
        "catalog.show(5, truncate=False)"
      ]
    },
    {
      "cell_type": "code",
      "execution_count": null,
      "metadata": {
        "colab": {
          "base_uri": "https://localhost:8080/"
        },
        "id": "Onb-QVMaprMU",
        "outputId": "026b145c-72ff-4ea3-a9c3-4e18cf99c52f"
      },
      "outputs": [
        {
          "name": "stdout",
          "output_type": "stream",
          "text": [
            "+----------------+------------+-----------+\n",
            "|category_catalog|item_catalog|price_count|\n",
            "+----------------+------------+-----------+\n",
            "+----------------+------------+-----------+\n",
            "\n"
          ]
        }
      ],
      "source": [
        "# Поиск товаров с несколькими ценами\n",
        "\n",
        "(catalog\n",
        "    .groupBy(\"category_catalog\", \"item_catalog\")\n",
        "    .agg(F.count(\"price_per_unit_catalog\").alias(\"price_count\"))\n",
        "    .filter(F.col(\"price_count\") > 1)\n",
        "    .orderBy(F.col(\"price_count\").desc())\n",
        "    .show(5, truncate=False)\n",
        ")"
      ]
    },
    {
      "cell_type": "code",
      "execution_count": null,
      "metadata": {
        "id": "BS5QAIWnprS8"
      },
      "outputs": [],
      "source": [
        "# 2. Заполнение пропусков в item\n",
        "\n",
        "df_filled = (\n",
        "    df.join(\n",
        "        catalog,\n",
        "        (F.col(\"category\") == F.col(\"category_catalog\")) &\n",
        "        (F.col(\"price_per_unit\") == F.col(\"price_per_unit_catalog\")),\n",
        "        \"left\"\n",
        "    )\n",
        "    .withColumn(\n",
        "        \"item\",\n",
        "        F.coalesce(\n",
        "            F.col(\"item\"),\n",
        "            F.col(\"item_catalog\")  # если item пуст – берём из справочника\n",
        "        )\n",
        "    )\n",
        "    .drop(\"category_catalog\", \"item_catalog\", \"price_per_unit_catalog\")  # удаление столбцов справочника\n",
        ")"
      ]
    },
    {
      "cell_type": "code",
      "execution_count": null,
      "metadata": {
        "colab": {
          "base_uri": "https://localhost:8080/"
        },
        "id": "AiIyZtke3s5X",
        "outputId": "5d82b004-9792-47f5-a066-53f0bbbf4b76"
      },
      "outputs": [
        {
          "name": "stdout",
          "output_type": "stream",
          "text": [
            "Анализ восстановления данных:\n",
            "Исходное количество пропусков в item: 1213\n",
            "Количество пропусков в item после заполнения: 609\n"
          ]
        }
      ],
      "source": [
        "# 3. Анализ результатов\n",
        "\n",
        "print(\"Анализ восстановления данных:\")\n",
        "print(f\"Исходное количество пропусков в item: {df.filter(F.col('item').isNull()).count()}\")\n",
        "print(f\"Количество пропусков в item после заполнения: {df_filled.filter(F.col('item').isNull()).count()}\")"
      ]
    },
    {
      "cell_type": "code",
      "execution_count": null,
      "metadata": {
        "colab": {
          "base_uri": "https://localhost:8080/"
        },
        "id": "MvRUGNhCprVb",
        "outputId": "68e7ab28-7457-46c4-e62d-6e578f6184fc"
      },
      "outputs": [
        {
          "name": "stdout",
          "output_type": "stream",
          "text": [
            "После восстановления данных (первые 20 записей):\n",
            "+--------------+-----------+-----------------------------+------------+--------------+--------+--------------+--------+-----------+----------------+----------------+\n",
            "|transaction_id|customer_id|category                     |item        |payment_method|location|price_per_unit|quantity|total_spent|transaction_date|discount_applied|\n",
            "+--------------+-----------+-----------------------------+------------+--------------+--------+--------------+--------+-----------+----------------+----------------+\n",
            "|TXN_4575373   |CUST_05    |Food                         |Item_6_FOOD |Digital Wallet|Online  |12.5          |7       |87.5       |2022-10-02      |false           |\n",
            "|TXN_4396807   |CUST_17    |Electric household essentials|Item_13_EHE |Digital Wallet|In-store|23.0          |1       |23.0       |2022-02-07      |false           |\n",
            "|TXN_4206593   |CUST_01    |Furniture                    |Item_21_FUR |Digital Wallet|Online  |35.0          |NULL    |NULL       |2025-01-13      |false           |\n",
            "|TXN_6867343   |CUST_09    |Patisserie                   |Item_10_PAT |Digital Wallet|Online  |18.5          |10      |185.0      |2024-04-08      |true            |\n",
            "|TXN_3731986   |CUST_22    |Milk Products                |Item_17_MILK|Digital Wallet|Online  |29.0          |9       |261.0      |2023-07-23      |true            |\n",
            "|TXN_5874772   |CUST_23    |Food                         |Item_2_FOOD |Cash          |Online  |6.5           |7       |45.5       |2023-09-09      |true            |\n",
            "|TXN_7563311   |CUST_23    |Patisserie                   |Item_17_PAT |Cash          |Online  |29.0          |8       |232.0      |2024-11-16      |true            |\n",
            "|TXN_8776416   |CUST_22    |Butchers                     |Item_3_BUT  |Cash          |In-store|8.0           |9       |72.0       |2024-12-14      |true            |\n",
            "|TXN_7482416   |CUST_09    |Patisserie                   |NULL        |Credit Card   |Online  |NULL          |10      |200.0      |2023-11-30      |NULL            |\n",
            "|TXN_4413070   |CUST_14    |Patisserie                   |Item_24_PAT |Digital Wallet|In-store|39.5          |6       |237.0      |2022-05-20      |false           |\n",
            "|TXN_9303719   |CUST_02    |Butchers                     |Item_12_BUT |Credit Card   |Online  |21.5          |2       |43.0       |2022-10-05      |false           |\n",
            "|TXN_1372952   |CUST_21    |Furniture                    |Item_20_FUR |Digital Wallet|In-store|33.5          |NULL    |NULL       |2024-04-02      |true            |\n",
            "|TXN_5422631   |CUST_09    |Milk Products                |NULL        |Digital Wallet|In-store|NULL          |8       |52.0       |2025-01-12      |true            |\n",
            "|TXN_9634894   |CUST_15    |Milk Products                |NULL        |Digital Wallet|Online  |NULL          |10      |275.0      |2022-04-17      |NULL            |\n",
            "|TXN_2722661   |CUST_25    |Butchers                     |Item_22_BUT |Cash          |Online  |36.5          |3       |109.5      |2024-03-14      |false           |\n",
            "|TXN_1809665   |CUST_14    |Beverages                    |Item_14_BEV |Credit Card   |In-store|24.5          |NULL    |NULL       |2022-05-11      |NULL            |\n",
            "|TXN_3652209   |CUST_07    |Food                         |Item_1_FOOD |Credit Card   |In-store|5.0           |8       |40.0       |2023-06-10      |true            |\n",
            "|TXN_2490363   |CUST_09    |Milk Products                |Item_16_MILK|Digital Wallet|Online  |27.5          |2       |55.0       |2022-05-22      |NULL            |\n",
            "|TXN_9728486   |CUST_23    |Furniture                    |Item_16_FUR |Credit Card   |In-store|27.5          |1       |27.5       |2023-04-26      |false           |\n",
            "|TXN_9939063   |CUST_14    |Beverages                    |Item_7_BEV  |Digital Wallet|In-store|14.0          |9       |126.0      |2024-01-14      |NULL            |\n",
            "+--------------+-----------+-----------------------------+------------+--------------+--------+--------------+--------+-----------+----------------+----------------+\n",
            "only showing top 20 rows\n",
            "\n"
          ]
        }
      ],
      "source": [
        "print(\"После восстановления данных (первые 20 записей):\")\n",
        "df_filled.show(20, truncate=False)"
      ]
    },
    {
      "cell_type": "markdown",
      "metadata": {
        "id": "5waQQmVX5Dno"
      },
      "source": [
        "## 2.2. Восстановление Total Spent:\n",
        "Найдите все транзакции, с пропусками в общей сумме и обновите ее, пересчитав её как **quantity * price_per_unit**  для всех записей."
      ]
    },
    {
      "cell_type": "code",
      "execution_count": null,
      "metadata": {
        "colab": {
          "base_uri": "https://localhost:8080/"
        },
        "id": "HnxX-qfE7XXY",
        "outputId": "1e42db69-7c11-469a-ec98-d9ba85f999c5"
      },
      "outputs": [
        {
          "name": "stdout",
          "output_type": "stream",
          "text": [
            "Исходное количество пропусков в total_spent: 604\n"
          ]
        }
      ],
      "source": [
        "print(f\"Исходное количество пропусков в total_spent: {df_filled.filter(F.col('total_spent').isNull()).count()}\")"
      ]
    },
    {
      "cell_type": "code",
      "execution_count": null,
      "metadata": {
        "id": "j7SZ13fOBoLa"
      },
      "outputs": [],
      "source": [
        "# Заполнение пропусков в total_spent\n",
        "\n",
        "df_filled = (\n",
        "    df_filled.join(\n",
        "        catalog,\n",
        "        (F.col(\"category\") == F.col(\"category_catalog\")) &\n",
        "        (F.col(\"item\") == F.col(\"item_catalog\")),\n",
        "        \"left\"\n",
        "    )\n",
        "    .withColumn(\n",
        "        \"total_spent\",\n",
        "        F.coalesce(\n",
        "            F.col(\"total_spent\"),\n",
        "            F.round(F.col(\"quantity\") * F.col(\"price_per_unit_catalog\"), 1)   # Иначе вычисляем по цене из справочник\n",
        "        )\n",
        "    )\n",
        "    .drop(\"category_catalog\", \"item_catalog\", \"price_per_unit_catalog\")       # удаление столбцов справочника\n",
        ")"
      ]
    },
    {
      "cell_type": "code",
      "execution_count": null,
      "metadata": {
        "colab": {
          "base_uri": "https://localhost:8080/"
        },
        "id": "GqpdJ43-5da4",
        "outputId": "2cdac7ff-d2f0-4f08-bbba-0f346187bd3b"
      },
      "outputs": [
        {
          "name": "stdout",
          "output_type": "stream",
          "text": [
            "Количество пропусков в total_spent после заполнения: 604\n"
          ]
        }
      ],
      "source": [
        "print(f\"Количество пропусков в total_spent после заполнения: {df_filled.filter(F.col('total_spent').isNull()).count()}\")"
      ]
    },
    {
      "cell_type": "markdown",
      "metadata": {
        "id": "0IefCdw_uneQ"
      },
      "source": [
        "**Восстановить total_spent не удалось**"
      ]
    },
    {
      "cell_type": "markdown",
      "metadata": {
        "id": "hmyp6KolFGUb"
      },
      "source": [
        "## 2.3. Заполнение отсутствующих Quantity:\n",
        "\n",
        "*   Для транзакций, где отсутствуют значения о количестве проданного товара , но имеются сумма транзакции и цена за товар , вычислите количество проданного товара и заполните пропущенные значения. Результат приведите к целому числу.\n",
        "\n"
      ]
    },
    {
      "cell_type": "code",
      "execution_count": null,
      "metadata": {
        "colab": {
          "base_uri": "https://localhost:8080/"
        },
        "id": "YFdAMgIZ5ddv",
        "outputId": "f8a1e586-3d8a-4b46-8325-d75b2563ee6f"
      },
      "outputs": [
        {
          "name": "stdout",
          "output_type": "stream",
          "text": [
            "Исходное количество пропусков в quantity: 604\n"
          ]
        }
      ],
      "source": [
        "print(f\"Исходное количество пропусков в quantity: {df_filled.filter(F.col('quantity').isNull()).count()}\")"
      ]
    },
    {
      "cell_type": "code",
      "execution_count": null,
      "metadata": {
        "id": "6LLwiP055dhB"
      },
      "outputs": [],
      "source": [
        "# Сначала создаем DataFrame с вычисленными значениями quantity\n",
        "\n",
        "df_calc_quantity = (\n",
        "    df_filled.filter(\n",
        "        F.col(\"quantity\").isNull() &\n",
        "        F.col(\"total_spent\").isNotNull() &\n",
        "        F.col(\"price_per_unit\").isNotNull() &\n",
        "        (F.col(\"price_per_unit\") != 0)\n",
        "    )\n",
        "    .withColumn(\n",
        "        \"calc_quantity\",\n",
        "        F.round(F.col(\"total_spent\") / F.col(\"price_per_unit\"), 0).cast(\"integer\")\n",
        "    )\n",
        ")\n",
        "\n",
        "# Объединяем с исходным DataFrame и заполняем пропуски\n",
        "df_filled = (\n",
        "    df_filled\n",
        "    .join(\n",
        "        df_calc_quantity.select(\"transaction_id\", \"calc_quantity\"),\n",
        "        on=\"transaction_id\",\n",
        "        how=\"left\"\n",
        "    )\n",
        "    .withColumn(\n",
        "        \"quantity\",\n",
        "        F.coalesce(F.col(\"quantity\"), F.col(\"calc_quantity\"))\n",
        "    )\n",
        "    .drop(\"calc_quantity\")  # удаление временного столбеца\n",
        ")"
      ]
    },
    {
      "cell_type": "code",
      "execution_count": null,
      "metadata": {
        "colab": {
          "base_uri": "https://localhost:8080/"
        },
        "id": "MyWN1G5FGpLi",
        "outputId": "bd1d1542-d40f-4415-bf22-4578774ee522"
      },
      "outputs": [
        {
          "name": "stdout",
          "output_type": "stream",
          "text": [
            "Количество пропусков в quantity после заполнения: 604\n"
          ]
        }
      ],
      "source": [
        "print(f\"Количество пропусков в quantity после заполнения: {df_filled.filter(F.col('quantity').isNull()).count()}\")"
      ]
    },
    {
      "cell_type": "markdown",
      "metadata": {
        "id": "b1l5_uiiZLbf"
      },
      "source": [
        "**Восстановить quantity не удалось**"
      ]
    },
    {
      "cell_type": "markdown",
      "metadata": {
        "id": "PY___7Y4RVwl"
      },
      "source": [
        "## 2.3. Заполнение отсутствующих Price Rer Unit:\n",
        "\n",
        "*   Аналогично, если  отсутствует цена за единицу товара , но общая сумма и количество имеются, вычислите цену за единицу и заполните пропущенные значения. Округлите до двух знаков после запятой. Выведите 20 строк, демонстрирующих заполненные значения."
      ]
    },
    {
      "cell_type": "code",
      "execution_count": null,
      "metadata": {
        "colab": {
          "base_uri": "https://localhost:8080/"
        },
        "id": "YY7e-G0XGpNy",
        "outputId": "e82f8510-b424-447d-878f-d93ce962baa7"
      },
      "outputs": [
        {
          "name": "stdout",
          "output_type": "stream",
          "text": [
            "Исходное количество пропусков в price_per_unit: 609\n"
          ]
        }
      ],
      "source": [
        "print(f\"Исходное количество пропусков в price_per_unit: {df_filled.filter(F.col('price_per_unit').isNull()).count()}\")"
      ]
    },
    {
      "cell_type": "code",
      "execution_count": null,
      "metadata": {
        "id": "3JiEiG7UGpQN"
      },
      "outputs": [],
      "source": [
        "# Сначала создаем DataFrame с вычисленными значениями quantity\n",
        "\n",
        "df_calc_price = (\n",
        "    df_filled.filter(\n",
        "        F.col(\"price_per_unit\").isNull() &\n",
        "        F.col(\"total_spent\").isNotNull() &\n",
        "        F.col(\"quantity\").isNotNull()    &\n",
        "        (F.col(\"quantity\") != 0)\n",
        "    )\n",
        "    .withColumn(\n",
        "        \"calc_price\",\n",
        "        F.round(F.col(\"total_spent\") / F.col(\"quantity\"), 2)\n",
        "    )\n",
        ")\n",
        "\n",
        "# Объединяем с исходным DataFrame и заполняем пропуски\n",
        "df_filled = (\n",
        "    df_filled\n",
        "    .join(\n",
        "        df_calc_price.select(\"transaction_id\", \"calc_price\"),\n",
        "        on=\"transaction_id\",\n",
        "        how=\"left\"\n",
        "    )\n",
        "    .withColumn(\n",
        "        \"price_per_unit\",\n",
        "        F.coalesce(F.col(\"price_per_unit\"), F.col(\"calc_price\"))\n",
        "    )\n",
        "    .drop(\"calc_price\")  # удаление временного столбеца\n",
        ")"
      ]
    },
    {
      "cell_type": "code",
      "execution_count": null,
      "metadata": {
        "colab": {
          "base_uri": "https://localhost:8080/"
        },
        "id": "3InSqMV7GpSb",
        "outputId": "f7cc917e-3cae-43f0-a690-e28d0cd58043"
      },
      "outputs": [
        {
          "name": "stdout",
          "output_type": "stream",
          "text": [
            "Количество пропусков в price_per_unit после заполнения: 0\n"
          ]
        }
      ],
      "source": [
        "print(f\"Количество пропусков в price_per_unit после заполнения: {df_filled.filter(F.col('price_per_unit').isNull()).count()}\")"
      ]
    },
    {
      "cell_type": "markdown",
      "metadata": {
        "id": "nmhs49rpZij_"
      },
      "source": [
        "## 2.4. Удалите оставшийся строки с пропусками\n",
        "\n",
        "в Category, Quantity ,Total Spent и Price Rer Unit"
      ]
    },
    {
      "cell_type": "code",
      "execution_count": null,
      "metadata": {
        "id": "fG0vke-xZhvf"
      },
      "outputs": [],
      "source": [
        "# Список столбцов - по заданию\n",
        "columns_to_drop = [\"category\", \"quantity\", \"total_spent\", \"price_per_unit\"] # \"item\",\n",
        "\n",
        "# Удаляем строки, где есть NULL в указанных столбцах\n",
        "df_filled = df_filled.dropna(subset=columns_to_drop)"
      ]
    },
    {
      "cell_type": "code",
      "execution_count": null,
      "metadata": {
        "colab": {
          "base_uri": "https://localhost:8080/"
        },
        "id": "l2B8uV9eZhyA",
        "outputId": "fff8a262-c5ce-4d11-f329-85369d896a3c"
      },
      "outputs": [
        {
          "name": "stdout",
          "output_type": "stream",
          "text": [
            "Количество null значений после восстановления:\n",
            "+--------------+-----------+--------+----+--------------+--------+--------------+--------+-----------+----------------+----------------+\n",
            "|transaction_id|customer_id|category|item|payment_method|location|price_per_unit|quantity|total_spent|transaction_date|discount_applied|\n",
            "+--------------+-----------+--------+----+--------------+--------+--------------+--------+-----------+----------------+----------------+\n",
            "|             0|          0|       0| 609|             0|       0|             0|       0|          0|               0|            3988|\n",
            "+--------------+-----------+--------+----+--------------+--------+--------------+--------+-----------+----------------+----------------+\n",
            "\n"
          ]
        }
      ],
      "source": [
        "print(\"Количество null значений после восстановления:\")\n",
        "df_filled.select([F.sum(F.isnull(c).cast(\"int\")).alias(c) for c in df_filled.columns]).show()"
      ]
    },
    {
      "cell_type": "code",
      "execution_count": null,
      "metadata": {
        "colab": {
          "base_uri": "https://localhost:8080/"
        },
        "id": "dN2I8rA3Zh0X",
        "outputId": "0317dee8-7c11-4f71-d562-f1dff94a5a00"
      },
      "outputs": [
        {
          "name": "stdout",
          "output_type": "stream",
          "text": [
            "Количество строк в исходном DataFrame: 12575\n",
            "Количество строк после восстановления: 11971\n",
            "Количество удаленных строк: 604\n",
            "Процент удаленных строк: 4.80%\n"
          ]
        }
      ],
      "source": [
        "# Вывод результатов\n",
        "\n",
        "initial_count = df.count()\n",
        "filled_count = df_filled.count()\n",
        "pct_change = ((initial_count - filled_count) / initial_count) * 100\n",
        "\n",
        "print(f\"Количество строк в исходном DataFrame: {initial_count}\")\n",
        "print(f\"Количество строк после восстановления: {filled_count}\")\n",
        "\n",
        "print(f\"Количество удаленных строк: {initial_count - filled_count}\")\n",
        "print(f\"Процент удаленных строк: {pct_change:.2f}%\")"
      ]
    },
    {
      "cell_type": "markdown",
      "metadata": {
        "id": "lt-FBjzmmAB9"
      },
      "source": [
        "# 3. Разведочный анализ данных"
      ]
    },
    {
      "cell_type": "code",
      "execution_count": null,
      "metadata": {
        "colab": {
          "base_uri": "https://localhost:8080/"
        },
        "id": "ybnMQYq3qHeX",
        "outputId": "115e8547-b994-45b6-a239-56212e139e08"
      },
      "outputs": [
        {
          "name": "stdout",
          "output_type": "stream",
          "text": [
            "Первые 5 записей:\n",
            "+--------------+-----------+----------------------------------+-----------+--------------+--------+--------------+--------+-----------+----------------+----------------+\n",
            "|transaction_id|customer_id|category                          |item       |payment_method|location|price_per_unit|quantity|total_spent|transaction_date|discount_applied|\n",
            "+--------------+-----------+----------------------------------+-----------+--------------+--------+--------------+--------+-----------+----------------+----------------+\n",
            "|TXN_9049596   |CUST_11    |Furniture                         |Item_2_FUR |Credit Card   |Online  |6.5           |4       |26.0       |2023-07-26      |false           |\n",
            "|TXN_3593095   |CUST_03    |Computers and electric accessories|Item_19_CEA|Digital Wallet|Online  |32.0          |3       |96.0       |2024-05-31      |NULL            |\n",
            "|TXN_1018578   |CUST_10    |Computers and electric accessories|Item_10_CEA|Cash          |Online  |18.5          |3       |55.5       |2023-01-17      |true            |\n",
            "|TXN_9605479   |CUST_02    |Electric household essentials     |Item_22_EHE|Credit Card   |In-store|36.5          |10      |365.0      |2024-01-13      |NULL            |\n",
            "|TXN_4897743   |CUST_01    |Food                              |NULL       |Credit Card   |In-store|21.5          |9       |193.5      |2024-03-18      |NULL            |\n",
            "+--------------+-----------+----------------------------------+-----------+--------------+--------+--------------+--------+-----------+----------------+----------------+\n",
            "only showing top 5 rows\n",
            "\n"
          ]
        }
      ],
      "source": [
        "print(\"Первые 5 записей:\")\n",
        "df_filled.show(5, truncate=False)"
      ]
    },
    {
      "cell_type": "markdown",
      "metadata": {
        "id": "jIFC5l8Xo6tm"
      },
      "source": [
        "## 3.1 Рассчитайте общее количество проданных единиц товара  для каждой категории. Определите **Топ-5 категорий** по общему количеству проданных единиц."
      ]
    },
    {
      "cell_type": "code",
      "execution_count": null,
      "metadata": {
        "colab": {
          "base_uri": "https://localhost:8080/"
        },
        "id": "oOQqmpNDZh25",
        "outputId": "f97a75b6-ebd6-4e9f-9068-1ea192bfc0a5"
      },
      "outputs": [
        {
          "name": "stdout",
          "output_type": "stream",
          "text": [
            "+-----------------------------+--------------+\n",
            "|category                     |total_quantity|\n",
            "+-----------------------------+--------------+\n",
            "|Furniture                    |8462          |\n",
            "|Food                         |8387          |\n",
            "|Beverages                    |8358          |\n",
            "|Milk Products                |8339          |\n",
            "|Electric household essentials|8309          |\n",
            "+-----------------------------+--------------+\n",
            "only showing top 5 rows\n",
            "\n"
          ]
        }
      ],
      "source": [
        "# количество проданных единиц для каждой категории\n",
        "\n",
        "(df_filled.groupBy(F.col(\"category\"))\n",
        "    .agg(F.sum(\"quantity\").alias(\"total_quantity\"))\n",
        "    .orderBy(F.col(\"total_quantity\").desc())\n",
        "    .show(5, truncate=False)\n",
        ")"
      ]
    },
    {
      "cell_type": "markdown",
      "metadata": {
        "id": "g3cJZvr1G6bK"
      },
      "source": [
        "## 3.2. Анализ среднего чека:\n",
        "\n",
        "*   Рассчитайте среднее значение **Total Spent** для каждого метода оплаты. Округлите до двух знаков после запятой.\n",
        "\n",
        "*   Рассчитайте среднее значение **Total Spent** для каждой места где прошла оплата. Округлите до двух знаков после запятой."
      ]
    },
    {
      "cell_type": "code",
      "execution_count": null,
      "metadata": {
        "colab": {
          "base_uri": "https://localhost:8080/"
        },
        "id": "oukfpB0gZh5J",
        "outputId": "9fa3c7d9-cad0-46d6-804d-9fbabed826a7"
      },
      "outputs": [
        {
          "name": "stdout",
          "output_type": "stream",
          "text": [
            "+--------------+---------------+\n",
            "|payment_method|avg_total_spent|\n",
            "+--------------+---------------+\n",
            "|Cash          |131.05         |\n",
            "|Credit Card   |129.13         |\n",
            "|Digital Wallet|128.72         |\n",
            "+--------------+---------------+\n",
            "\n"
          ]
        }
      ],
      "source": [
        "# Среднее значение total_spent для каждого метода оплаты\n",
        "\n",
        "(\n",
        "    df_filled.groupBy(\"payment_method\")\n",
        "    .agg(\n",
        "        F.round(F.avg(\"total_spent\"), 2).alias(\"avg_total_spent\")\n",
        "        )\n",
        "    .orderBy(F.desc(\"avg_total_spent\"))\n",
        "    .show(truncate=False)\n",
        ")"
      ]
    },
    {
      "cell_type": "code",
      "execution_count": null,
      "metadata": {
        "colab": {
          "base_uri": "https://localhost:8080/"
        },
        "id": "4wJxlLaFJgeq",
        "outputId": "ffba648b-860d-4970-9600-5df5d9f103b9"
      },
      "outputs": [
        {
          "name": "stdout",
          "output_type": "stream",
          "text": [
            "+--------+---------------+\n",
            "|location|avg_total_spent|\n",
            "+--------+---------------+\n",
            "|Online  |130.42         |\n",
            "|In-store|128.86         |\n",
            "+--------+---------------+\n",
            "\n"
          ]
        }
      ],
      "source": [
        "# Среднее значение total_spent для каждого места где прошла оплата\n",
        "\n",
        "(\n",
        "    df_filled.groupBy(\"location\")\n",
        "    .agg(\n",
        "        F.round(F.avg(\"total_spent\"), 2).alias(\"avg_total_spent\")\n",
        "        )\n",
        "    .orderBy(F.desc(\"avg_total_spent\"))\n",
        "    .show(truncate=False)\n",
        ")"
      ]
    },
    {
      "cell_type": "markdown",
      "metadata": {
        "id": "HJZe_0GTJ9Vq"
      },
      "source": [
        "# 4. Генерация признаков"
      ]
    },
    {
      "cell_type": "markdown",
      "metadata": {
        "id": "LLJ7nqRuKEO6"
      },
      "source": [
        "## 4.1. Временные признаки\n",
        "Добавьте два новых столбца на основе Transaction Date:\n",
        "\n",
        "*   **day_of_week**: День недели\n",
        "*   **transaction_month**: Месяц транзакции"
      ]
    },
    {
      "cell_type": "code",
      "execution_count": null,
      "metadata": {
        "colab": {
          "base_uri": "https://localhost:8080/"
        },
        "id": "f4b8lfa9Jghc",
        "outputId": "bd4214e4-117c-42ae-fb9d-15cd9f6021c6"
      },
      "outputs": [
        {
          "name": "stdout",
          "output_type": "stream",
          "text": [
            "+----------------+-----------+-----------------+\n",
            "|transaction_date|day_of_week|transaction_month|\n",
            "+----------------+-----------+-----------------+\n",
            "|2023-07-26      |4          |7                |\n",
            "|2024-05-31      |6          |5                |\n",
            "|2023-01-17      |3          |1                |\n",
            "|2024-01-13      |7          |1                |\n",
            "|2024-03-18      |2          |3                |\n",
            "+----------------+-----------+-----------------+\n",
            "only showing top 5 rows\n",
            "\n"
          ]
        }
      ],
      "source": [
        "# Добавляем временные признаки\n",
        "\n",
        "df_filled = df_filled.withColumns({\n",
        "    \"day_of_week\": F.dayofweek(\"transaction_date\"),\n",
        "    \"transaction_month\": F.month(\"transaction_date\")\n",
        "})\n",
        "\n",
        "# выборка только некоторых колонок\n",
        "df_filled.select(\"transaction_date\", \"day_of_week\", \"transaction_month\").show(5, truncate=False)"
      ]
    },
    {
      "cell_type": "markdown",
      "metadata": {
        "id": "3BMoJOBTMgps"
      },
      "source": [
        "## 4.2. Продажи по дням недели\n",
        "Рассчитайте среднюю сумму продаж (Total Spent) для каждого дня недели. Выведите результаты, отсортированные по дням недели"
      ]
    },
    {
      "cell_type": "code",
      "execution_count": null,
      "metadata": {
        "colab": {
          "base_uri": "https://localhost:8080/"
        },
        "id": "tBTxAJopJgj0",
        "outputId": "6f0a570e-83e1-4a50-d541-b45c5b68dd23"
      },
      "outputs": [
        {
          "name": "stdout",
          "output_type": "stream",
          "text": [
            "+-----------+------------------+\n",
            "|day_of_week|avg_total_spent   |\n",
            "+-----------+------------------+\n",
            "|1          |130.17914746543778|\n",
            "|2          |125.56894519740719|\n",
            "|3          |129.51061320754718|\n",
            "|4          |126.81589713617767|\n",
            "|5          |129.275486152033  |\n",
            "|6          |134.6362058993638 |\n",
            "|7          |131.49032258064517|\n",
            "+-----------+------------------+\n",
            "\n"
          ]
        }
      ],
      "source": [
        "# Cредняя сумма продаж для каждого дня недели\n",
        "\n",
        "(\n",
        "    df_filled.groupBy(\"day_of_week\")\n",
        "    .agg(F.avg(\"total_spent\").alias(\"avg_total_spent\"))\n",
        "    .orderBy(\"day_of_week\")\n",
        "    .show(truncate=False)\n",
        ")"
      ]
    },
    {
      "cell_type": "markdown",
      "metadata": {
        "id": "es8EfG2MRDyk"
      },
      "source": [
        "## 4.3.Продажи по месяцам\n",
        "Рассчитайте среднюю сумму продаж (Total Spent)  для каждого месяца. Выведите результаты, отсортированные по месяцам"
      ]
    },
    {
      "cell_type": "code",
      "execution_count": null,
      "metadata": {
        "colab": {
          "base_uri": "https://localhost:8080/"
        },
        "id": "XEsLPquIQ_HJ",
        "outputId": "9ee397c4-3cea-470b-f6ad-66b4ee6d7a75"
      },
      "outputs": [
        {
          "name": "stdout",
          "output_type": "stream",
          "text": [
            "+-----------------+------------------+\n",
            "|transaction_month|avg_total_spent   |\n",
            "+-----------------+------------------+\n",
            "|1                |134.68803088803088|\n",
            "|2                |130.66048034934497|\n",
            "|3                |126.83108808290156|\n",
            "|4                |131.8137460650577 |\n",
            "|5                |127.39723926380368|\n",
            "|6                |130.94954591321897|\n",
            "|7                |126.57266602502406|\n",
            "|8                |124.28175403225806|\n",
            "|9                |131.4471544715447 |\n",
            "|10               |127.8517130620985 |\n",
            "|11               |128.78578947368422|\n",
            "|12               |133.15041067761808|\n",
            "+-----------------+------------------+\n",
            "\n"
          ]
        }
      ],
      "source": [
        "# Cредняя сумма продаж для каждого месяца\n",
        "\n",
        "(\n",
        "    df_filled.groupBy(\"transaction_month\")\n",
        "    .agg(F.avg(\"total_spent\").alias(\"avg_total_spent\"))\n",
        "    .orderBy(\"transaction_month\")\n",
        "    .show(truncate=False)\n",
        ")"
      ]
    },
    {
      "cell_type": "markdown",
      "metadata": {
        "id": "KNzJSxUZRkys"
      },
      "source": [
        "## 4.4. Признаки клиента\n",
        "\n",
        "Рассчитайте customer_lifetime_value (CLV) для каждого клиента как общую сумму (Total Spent), потраченную этим клиентом за все транзакции. Выведите Топ-10 клиентов по их CLV (customer_id и их CLV)."
      ]
    },
    {
      "cell_type": "code",
      "execution_count": null,
      "metadata": {
        "colab": {
          "base_uri": "https://localhost:8080/"
        },
        "id": "SktTvesPQ_Jp",
        "outputId": "da8679ad-3b27-4e80-a9a1-8e7c6fe54736"
      },
      "outputs": [
        {
          "name": "stdout",
          "output_type": "stream",
          "text": [
            "+-----------+-------+\n",
            "|customer_id|clv    |\n",
            "+-----------+-------+\n",
            "|CUST_24    |68452.0|\n",
            "|CUST_08    |67351.5|\n",
            "|CUST_05    |66974.5|\n",
            "|CUST_16    |65570.5|\n",
            "|CUST_13    |65037.0|\n",
            "|CUST_23    |64507.0|\n",
            "|CUST_10    |63155.5|\n",
            "|CUST_15    |63117.5|\n",
            "|CUST_21    |62933.0|\n",
            "|CUST_02    |62046.5|\n",
            "+-----------+-------+\n",
            "only showing top 10 rows\n",
            "\n"
          ]
        }
      ],
      "source": [
        "# CLV для каждого клиента\n",
        "\n",
        "(\n",
        "    df_filled.groupBy(F.col(\"customer_id\"))\n",
        "    .agg(F.sum(\"total_spent\").alias(\"clv\"))\n",
        "    .orderBy(F.desc(\"clv\"))\n",
        "    .show(10, truncate=False)\n",
        ")"
      ]
    },
    {
      "cell_type": "code",
      "execution_count": null,
      "metadata": {
        "id": "_OtmzE7Fq7nY"
      },
      "outputs": [],
      "source": []
    }
  ],
  "metadata": {
    "colab": {
      "authorship_tag": "ABX9TyN5JtnzVHL+qAaLohHozYFo",
      "include_colab_link": true,
      "provenance": []
    },
    "kernelspec": {
      "display_name": "Python 3",
      "name": "python3"
    },
    "language_info": {
      "codemirror_mode": {
        "name": "ipython",
        "version": 3
      },
      "file_extension": ".py",
      "mimetype": "text/x-python",
      "name": "python",
      "nbconvert_exporter": "python",
      "pygments_lexer": "ipython3",
      "version": "3.11.0"
    }
  },
  "nbformat": 4,
  "nbformat_minor": 0
}
