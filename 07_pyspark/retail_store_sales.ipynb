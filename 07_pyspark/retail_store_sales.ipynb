{
  "nbformat": 4,
  "nbformat_minor": 0,
  "metadata": {
    "colab": {
      "provenance": []
    },
    "kernelspec": {
      "name": "python3",
      "display_name": "Python 3"
    },
    "language_info": {
      "name": "python"
    }
  },
  "cells": [
    {
      "cell_type": "code",
      "execution_count": 1,
      "metadata": {
        "id": "XAGorUIZq60Y"
      },
      "outputs": [],
      "source": [
        "import requests\n",
        "\n",
        "# Получение \"прямой\" ссылки\n",
        "public_url = \"https://disk.yandex.ru/d/5yhVs9f0xe4w-Q\"\n",
        "api_response = requests.get(f\"https://cloud-api.yandex.net/v1/disk/public/resources/download?public_key={public_url}\")\n",
        "api_response.raise_for_status()\n",
        "\n",
        "file_response = requests.get(api_response.json()['href'])\n",
        "file_response.raise_for_status()\n",
        "\n",
        "# Сохранение в файл\n",
        "with open(\"retail_store_sales.csv\", \"wb\") as f:\n",
        "    f.write(file_response.content)"
      ]
    },
    {
      "cell_type": "markdown",
      "source": [
        "# 1. Загрузка и предварительная обработка данных"
      ],
      "metadata": {
        "id": "KDGfmxPwsrKA"
      }
    },
    {
      "cell_type": "markdown",
      "source": [
        "## 1.1. Загрузка и вывод схемы:\n",
        "Загрузите файл retail_store_sales.csv.  Выведите первые 5 строк загруженного DataFrame и его схему (df.printSchema())."
      ],
      "metadata": {
        "id": "yHKb52zmwrRo"
      }
    },
    {
      "cell_type": "code",
      "source": [
        "from pyspark.sql import SparkSession\n",
        "from pyspark.sql import functions as F\n",
        "from pyspark.sql.types import *\n",
        "\n",
        "# Создаем SparkSession\n",
        "spark = SparkSession.builder \\\n",
        "         .appName(\"retail_store_sales_analysis\") \\\n",
        "         .getOrCreate()\n",
        "\n",
        "df = spark.read \\\n",
        "    .option(\"header\", True) \\\n",
        "    .option(\"sep\", \",\") \\\n",
        "    .csv(\"retail_store_sales.csv\")\n",
        "\n",
        "df.show(5, truncate=False)"
      ],
      "metadata": {
        "colab": {
          "base_uri": "https://localhost:8080/"
        },
        "id": "177Rdwikq7aF",
        "outputId": "6b914b1c-04b3-47ea-f67a-54338258683b"
      },
      "execution_count": 2,
      "outputs": [
        {
          "output_type": "stream",
          "name": "stdout",
          "text": [
            "+--------------+-----------+-------------+------------+--------------+--------+-----------+--------------+--------+----------------+----------------+\n",
            "|Transaction ID|Customer ID|Category     |Item        |Price Per Unit|Quantity|Total Spent|Payment Method|Location|Transaction Date|Discount Applied|\n",
            "+--------------+-----------+-------------+------------+--------------+--------+-----------+--------------+--------+----------------+----------------+\n",
            "|TXN_6867343   |CUST_09    |Patisserie   |Item_10_PAT |18.5          |10.0    |185.0      |Digital Wallet|Online  |2024-04-08      |True            |\n",
            "|TXN_3731986   |CUST_22    |Milk Products|Item_17_MILK|29.0          |9.0     |261.0      |Digital Wallet|Online  |2023-07-23      |True            |\n",
            "|TXN_9303719   |CUST_02    |Butchers     |Item_12_BUT |21.5          |2.0     |43.0       |Credit Card   |Online  |2022-10-05      |False           |\n",
            "|TXN_9458126   |CUST_06    |Beverages    |Item_16_BEV |27.5          |9.0     |247.5      |Credit Card   |Online  |2022-05-07      |NULL            |\n",
            "|TXN_4575373   |CUST_05    |Food         |Item_6_FOOD |12.5          |7.0     |87.5       |Digital Wallet|Online  |2022-10-02      |False           |\n",
            "+--------------+-----------+-------------+------------+--------------+--------+-----------+--------------+--------+----------------+----------------+\n",
            "only showing top 5 rows\n",
            "\n"
          ]
        }
      ]
    },
    {
      "cell_type": "code",
      "source": [
        "print(f\"Количество строк в исходном DataFrame: {df.count()}\")\n",
        "print(f\"\"\"Количество уникальных Transaction ID: {df.select(\"Transaction ID\").distinct().count()}\"\"\")"
      ],
      "metadata": {
        "colab": {
          "base_uri": "https://localhost:8080/"
        },
        "id": "ksJciufSMjmk",
        "outputId": "7dd260d3-5235-4b18-cfe4-9063262f3cb5"
      },
      "execution_count": 3,
      "outputs": [
        {
          "output_type": "stream",
          "name": "stdout",
          "text": [
            "Количество строк в исходном DataFrame: 12575\n",
            "Количество уникальных Transaction ID: 12575\n"
          ]
        }
      ]
    },
    {
      "cell_type": "markdown",
      "source": [
        "## 1.2. Очистка названий столбцов:\n",
        "Преобразуйте названия всех столбцов к единому регистру - **snake_case**.  Выведите обновленную схему DataFrame  или названия столбцов, чтобы убедиться в изменении названий."
      ],
      "metadata": {
        "id": "SaxkrgbWwyRQ"
      }
    },
    {
      "cell_type": "code",
      "source": [
        "new_column_names = [col.replace(\" \", \"_\").lower() for col in df.columns]\n",
        "\n",
        "# Переименовывание столблов\n",
        "df = df.toDF(*new_column_names)\n",
        "\n",
        "print(\"Первые 5 записей:\")\n",
        "df.show(5, truncate=False)"
      ],
      "metadata": {
        "colab": {
          "base_uri": "https://localhost:8080/"
        },
        "id": "-nk0rVFtq7cf",
        "outputId": "112a170a-30ed-41ea-b6bd-3fc76565ceea"
      },
      "execution_count": 4,
      "outputs": [
        {
          "output_type": "stream",
          "name": "stdout",
          "text": [
            "Первые 5 записей:\n",
            "+--------------+-----------+-------------+------------+--------------+--------+-----------+--------------+--------+----------------+----------------+\n",
            "|transaction_id|customer_id|category     |item        |price_per_unit|quantity|total_spent|payment_method|location|transaction_date|discount_applied|\n",
            "+--------------+-----------+-------------+------------+--------------+--------+-----------+--------------+--------+----------------+----------------+\n",
            "|TXN_6867343   |CUST_09    |Patisserie   |Item_10_PAT |18.5          |10.0    |185.0      |Digital Wallet|Online  |2024-04-08      |True            |\n",
            "|TXN_3731986   |CUST_22    |Milk Products|Item_17_MILK|29.0          |9.0     |261.0      |Digital Wallet|Online  |2023-07-23      |True            |\n",
            "|TXN_9303719   |CUST_02    |Butchers     |Item_12_BUT |21.5          |2.0     |43.0       |Credit Card   |Online  |2022-10-05      |False           |\n",
            "|TXN_9458126   |CUST_06    |Beverages    |Item_16_BEV |27.5          |9.0     |247.5      |Credit Card   |Online  |2022-05-07      |NULL            |\n",
            "|TXN_4575373   |CUST_05    |Food         |Item_6_FOOD |12.5          |7.0     |87.5       |Digital Wallet|Online  |2022-10-02      |False           |\n",
            "+--------------+-----------+-------------+------------+--------------+--------+-----------+--------------+--------+----------------+----------------+\n",
            "only showing top 5 rows\n",
            "\n"
          ]
        }
      ]
    },
    {
      "cell_type": "markdown",
      "source": [
        "## 1.3. Преобразование типов данных:\n",
        "Проанализируйте к каким типам данных относятся данные в столбцах и приведите столбец к соответствующему типу. Убедитесь, что некорректные или отсутствующие значения преобразуются в null в соответствующих типах данных."
      ],
      "metadata": {
        "id": "KNpUofF20XBZ"
      }
    },
    {
      "cell_type": "code",
      "source": [
        "print(\"Схема данных до преобразования:\")\n",
        "df.printSchema()"
      ],
      "metadata": {
        "colab": {
          "base_uri": "https://localhost:8080/"
        },
        "id": "NyJEttWSq7ex",
        "outputId": "3d594f32-e6ab-43d0-f36d-6cde1512681f"
      },
      "execution_count": 5,
      "outputs": [
        {
          "output_type": "stream",
          "name": "stdout",
          "text": [
            "Схема данных до преобразования:\n",
            "root\n",
            " |-- transaction_id: string (nullable = true)\n",
            " |-- customer_id: string (nullable = true)\n",
            " |-- category: string (nullable = true)\n",
            " |-- item: string (nullable = true)\n",
            " |-- price_per_unit: string (nullable = true)\n",
            " |-- quantity: string (nullable = true)\n",
            " |-- total_spent: string (nullable = true)\n",
            " |-- payment_method: string (nullable = true)\n",
            " |-- location: string (nullable = true)\n",
            " |-- transaction_date: string (nullable = true)\n",
            " |-- discount_applied: string (nullable = true)\n",
            "\n"
          ]
        }
      ]
    },
    {
      "cell_type": "code",
      "source": [
        "# Преобразования с улучшенной обработкой NULL\n",
        "\n",
        "def safe_cast(column, target_type):\n",
        "    \"\"\"Безопасное приведение типов с обработкой NULL и сохранением имени столбца\"\"\"\n",
        "    return F.when(\n",
        "        F.lower(F.trim(F.col(column))).isin(\"\", \"null\", \"na\", \"none\", \"nan\"),\n",
        "        F.lit(None)\n",
        "    ).otherwise(\n",
        "        F.col(column).cast(target_type)\n",
        "    ).alias(column)"
      ],
      "metadata": {
        "id": "ICBGjhaOq7km"
      },
      "execution_count": 6,
      "outputs": []
    },
    {
      "cell_type": "code",
      "source": [
        "# Применение преобразования:\n",
        "\n",
        "df = df.select([\n",
        "        # Строковые колонки\n",
        "        safe_cast(\"transaction_id\", \"string\"),\n",
        "        safe_cast(\"customer_id\", \"string\"),\n",
        "        safe_cast(\"category\", \"string\"),\n",
        "        safe_cast(\"item\", \"string\"),\n",
        "        safe_cast(\"payment_method\", \"string\"),\n",
        "        safe_cast(\"location\", \"string\"),\n",
        "\n",
        "        # Числовые колонки\n",
        "        safe_cast(\"price_per_unit\", \"double\"),\n",
        "        safe_cast(\"quantity\", \"integer\"),\n",
        "        safe_cast(\"total_spent\", \"double\"),\n",
        "\n",
        "        # Обработка даты\n",
        "        F.to_date(\n",
        "            F.when(\n",
        "                F.lower(F.trim(F.col(\"transaction_date\"))).isin(\"\", \"null\", \"na\", \"none\"),\n",
        "                F.lit(None)\n",
        "            ).otherwise(F.col(\"transaction_date\")),\n",
        "            \"yyyy-MM-dd\"\n",
        "        ).alias(\"transaction_date\"),\n",
        "\n",
        "        # Обработка булевых значений (исправлено на discount_applied)\n",
        "        F.when(\n",
        "            F.lower(F.trim(F.col(\"discount_applied\"))).isin(\"true\", \"yes\", \"1\", \"t\", \"y\"),\n",
        "            True\n",
        "        ).when(\n",
        "            F.lower(F.trim(F.col(\"discount_applied\"))).isin(\"false\", \"no\", \"0\", \"f\", \"n\"),\n",
        "            False\n",
        "        ).otherwise(None).alias(\"discount_applied\")\n",
        "])"
      ],
      "metadata": {
        "id": "34mvrwye7vaa"
      },
      "execution_count": 7,
      "outputs": []
    },
    {
      "cell_type": "code",
      "source": [
        "print(\"Количество null значений:\")\n",
        "df.select([F.sum(F.isnull(c).cast(\"int\")).alias(c) for c in df.columns]).show()"
      ],
      "metadata": {
        "colab": {
          "base_uri": "https://localhost:8080/"
        },
        "id": "1wYbIaBnCO9E",
        "outputId": "f8aa377c-5a92-4f09-8134-ddd51f61d234"
      },
      "execution_count": 8,
      "outputs": [
        {
          "output_type": "stream",
          "name": "stdout",
          "text": [
            "Количество null значений:\n",
            "+--------------+-----------+--------+----+--------------+--------+--------------+--------+-----------+----------------+----------------+\n",
            "|transaction_id|customer_id|category|item|payment_method|location|price_per_unit|quantity|total_spent|transaction_date|discount_applied|\n",
            "+--------------+-----------+--------+----+--------------+--------+--------------+--------+-----------+----------------+----------------+\n",
            "|             0|          0|       0|1213|             0|       0|           609|     604|        604|               0|            4199|\n",
            "+--------------+-----------+--------+----+--------------+--------+--------------+--------+-----------+----------------+----------------+\n",
            "\n"
          ]
        }
      ]
    },
    {
      "cell_type": "code",
      "source": [
        "# Задание безопасной схемы - с учетом наличия/отсутствия null значений после преобразования\n",
        "\n",
        "safe_schema = StructType([\n",
        "    StructField(\"transaction_id\", StringType(), False),\n",
        "    StructField(\"customer_id\", StringType(), False),\n",
        "    StructField(\"category\", StringType(), False),\n",
        "    StructField(\"item\", StringType(), True),\n",
        "    StructField(\"payment_method\", StringType(), False),\n",
        "    StructField(\"location\", StringType(), False),\n",
        "    StructField(\"price_per_unit\", DoubleType(), True),\n",
        "    StructField(\"quantity\", IntegerType(), True),\n",
        "    StructField(\"total_spent\", DoubleType(), True),\n",
        "    StructField(\"transaction_date\", DateType(), False),\n",
        "    StructField(\"discount_applied\", BooleanType(), True)\n",
        "])\n",
        "\n",
        "# Заменяем схему у существующего DataFrame\n",
        "df = spark.createDataFrame(df.rdd, safe_schema)"
      ],
      "metadata": {
        "id": "B2H_RMhWCO_d"
      },
      "execution_count": 9,
      "outputs": []
    },
    {
      "cell_type": "code",
      "source": [
        "print(\"Схема данных после преобразования:\")\n",
        "df.printSchema()"
      ],
      "metadata": {
        "colab": {
          "base_uri": "https://localhost:8080/"
        },
        "id": "UwoLLdlTC3sr",
        "outputId": "cecb5002-549b-4bcf-cd76-5310edd3dbe7"
      },
      "execution_count": 10,
      "outputs": [
        {
          "output_type": "stream",
          "name": "stdout",
          "text": [
            "Схема данных после преобразования:\n",
            "root\n",
            " |-- transaction_id: string (nullable = false)\n",
            " |-- customer_id: string (nullable = false)\n",
            " |-- category: string (nullable = false)\n",
            " |-- item: string (nullable = true)\n",
            " |-- payment_method: string (nullable = false)\n",
            " |-- location: string (nullable = false)\n",
            " |-- price_per_unit: double (nullable = true)\n",
            " |-- quantity: integer (nullable = true)\n",
            " |-- total_spent: double (nullable = true)\n",
            " |-- transaction_date: date (nullable = false)\n",
            " |-- discount_applied: boolean (nullable = true)\n",
            "\n"
          ]
        }
      ]
    },
    {
      "cell_type": "code",
      "source": [
        "print(\"Пример данных:\")\n",
        "df.show(20, truncate=False)"
      ],
      "metadata": {
        "colab": {
          "base_uri": "https://localhost:8080/"
        },
        "id": "SRgW4FqgCO6y",
        "outputId": "b430ad3e-a430-48b8-ef23-bdb262a20293"
      },
      "execution_count": 11,
      "outputs": [
        {
          "output_type": "stream",
          "name": "stdout",
          "text": [
            "Пример данных:\n",
            "+--------------+-----------+-----------------------------+------------+--------------+--------+--------------+--------+-----------+----------------+----------------+\n",
            "|transaction_id|customer_id|category                     |item        |payment_method|location|price_per_unit|quantity|total_spent|transaction_date|discount_applied|\n",
            "+--------------+-----------+-----------------------------+------------+--------------+--------+--------------+--------+-----------+----------------+----------------+\n",
            "|TXN_6867343   |CUST_09    |Patisserie                   |Item_10_PAT |Digital Wallet|Online  |18.5          |10      |185.0      |2024-04-08      |true            |\n",
            "|TXN_3731986   |CUST_22    |Milk Products                |Item_17_MILK|Digital Wallet|Online  |29.0          |9       |261.0      |2023-07-23      |true            |\n",
            "|TXN_9303719   |CUST_02    |Butchers                     |Item_12_BUT |Credit Card   |Online  |21.5          |2       |43.0       |2022-10-05      |false           |\n",
            "|TXN_9458126   |CUST_06    |Beverages                    |Item_16_BEV |Credit Card   |Online  |27.5          |9       |247.5      |2022-05-07      |NULL            |\n",
            "|TXN_4575373   |CUST_05    |Food                         |Item_6_FOOD |Digital Wallet|Online  |12.5          |7       |87.5       |2022-10-02      |false           |\n",
            "|TXN_7482416   |CUST_09    |Patisserie                   |NULL        |Credit Card   |Online  |NULL          |10      |200.0      |2023-11-30      |NULL            |\n",
            "|TXN_3652209   |CUST_07    |Food                         |Item_1_FOOD |Credit Card   |In-store|5.0           |8       |40.0       |2023-06-10      |true            |\n",
            "|TXN_1372952   |CUST_21    |Furniture                    |NULL        |Digital Wallet|In-store|33.5          |NULL    |NULL       |2024-04-02      |true            |\n",
            "|TXN_9728486   |CUST_23    |Furniture                    |Item_16_FUR |Credit Card   |In-store|27.5          |1       |27.5       |2023-04-26      |false           |\n",
            "|TXN_2722661   |CUST_25    |Butchers                     |Item_22_BUT |Cash          |Online  |36.5          |3       |109.5      |2024-03-14      |false           |\n",
            "|TXN_8776416   |CUST_22    |Butchers                     |Item_3_BUT  |Cash          |In-store|8.0           |9       |72.0       |2024-12-14      |true            |\n",
            "|TXN_5422631   |CUST_09    |Milk Products                |NULL        |Digital Wallet|In-store|NULL          |8       |52.0       |2025-01-12      |true            |\n",
            "|TXN_5874772   |CUST_23    |Food                         |Item_2_FOOD |Cash          |Online  |6.5           |7       |45.5       |2023-09-09      |true            |\n",
            "|TXN_4413070   |CUST_14    |Patisserie                   |Item_24_PAT |Digital Wallet|In-store|39.5          |6       |237.0      |2022-05-20      |false           |\n",
            "|TXN_2490363   |CUST_09    |Milk Products                |Item_16_MILK|Digital Wallet|Online  |27.5          |2       |55.0       |2022-05-22      |NULL            |\n",
            "|TXN_1809665   |CUST_14    |Beverages                    |NULL        |Credit Card   |In-store|24.5          |NULL    |NULL       |2022-05-11      |NULL            |\n",
            "|TXN_7563311   |CUST_23    |Patisserie                   |Item_17_PAT |Cash          |Online  |29.0          |8       |232.0      |2024-11-16      |true            |\n",
            "|TXN_9634894   |CUST_15    |Milk Products                |NULL        |Digital Wallet|Online  |NULL          |10      |275.0      |2022-04-17      |NULL            |\n",
            "|TXN_4396807   |CUST_17    |Electric household essentials|Item_13_EHE |Digital Wallet|In-store|23.0          |1       |23.0       |2022-02-07      |false           |\n",
            "|TXN_4206593   |CUST_01    |Furniture                    |NULL        |Digital Wallet|Online  |35.0          |NULL    |NULL       |2025-01-13      |false           |\n",
            "+--------------+-----------+-----------------------------+------------+--------------+--------+--------------+--------+-----------+----------------+----------------+\n",
            "only showing top 20 rows\n",
            "\n"
          ]
        }
      ]
    },
    {
      "cell_type": "markdown",
      "source": [
        "# 2. Очистка и валидация данных"
      ],
      "metadata": {
        "id": "MyHdtJJwpsDM"
      }
    },
    {
      "cell_type": "markdown",
      "source": [
        "2.1. Восстановление отсутствующих **item**:\n",
        "\n",
        "*   Так как данные статические для каждого товара, то  составьте справочник товаров в отдельный DataFrame с **Category**, **Item** и **Rrice Rer Unit**.\n",
        "*   Для транзакций, где отсутствует название товара , но имеется категория и цена , попытайтесь определить название товара, путём объединения (join) с загруженным справочником товаров. Выведите 20 строк, демонстрирующих восстановленные значения.\n"
      ],
      "metadata": {
        "id": "_YZCsZgFpvGc"
      }
    },
    {
      "cell_type": "code",
      "source": [
        "# 1. Справочник товаров из имеющихся данных\n",
        "catalog = (\n",
        "    df.filter(\n",
        "        F.col(\"item\").isNotNull() &\n",
        "        F.col(\"category\").isNotNull() &\n",
        "        F.col(\"price_per_unit\").isNotNull()\n",
        "    )\n",
        "    .select(\n",
        "        F.col(\"category\").alias(\"category_catalog\"),\n",
        "        F.col(\"item\").alias(\"item_catalog\"),\n",
        "        F.col(\"price_per_unit\").alias(\"price_per_unit_catalog\")\n",
        "    )\n",
        "    .distinct()\n",
        ")\n",
        "\n",
        "print(\"Справочник товаров (первые 5 записей):\")\n",
        "catalog.show(5, truncate=False)"
      ],
      "metadata": {
        "colab": {
          "base_uri": "https://localhost:8080/"
        },
        "id": "-T1LbPcSprJt",
        "outputId": "1e380764-24cb-41c9-ce7a-4cfba6f7274a"
      },
      "execution_count": 12,
      "outputs": [
        {
          "output_type": "stream",
          "name": "stdout",
          "text": [
            "Справочник товаров (первые 5 записей):\n",
            "+----------------------------------+------------+----------------------+\n",
            "|category_catalog                  |item_catalog|price_per_unit_catalog|\n",
            "+----------------------------------+------------+----------------------+\n",
            "|Beverages                         |Item_16_BEV |27.5                  |\n",
            "|Beverages                         |Item_7_BEV  |14.0                  |\n",
            "|Electric household essentials     |Item_23_EHE |38.0                  |\n",
            "|Milk Products                     |Item_16_MILK|27.5                  |\n",
            "|Computers and electric accessories|Item_1_CEA  |5.0                   |\n",
            "+----------------------------------+------------+----------------------+\n",
            "only showing top 5 rows\n",
            "\n"
          ]
        }
      ]
    },
    {
      "cell_type": "code",
      "source": [
        "# Поиск товаров с несколькими ценами\n",
        "\n",
        "(catalog\n",
        "    .groupBy(\"category_catalog\", \"item_catalog\")\n",
        "    .agg(F.count(\"price_per_unit_catalog\").alias(\"price_count\"))\n",
        "    .filter(F.col(\"price_count\") > 1)\n",
        "    .orderBy(F.col(\"price_count\").desc())\n",
        "    .show(5, truncate=False)\n",
        ")"
      ],
      "metadata": {
        "colab": {
          "base_uri": "https://localhost:8080/"
        },
        "id": "Onb-QVMaprMU",
        "outputId": "d12a36dd-7f6b-47a0-85f7-12b1dd016b7c"
      },
      "execution_count": 13,
      "outputs": [
        {
          "output_type": "stream",
          "name": "stdout",
          "text": [
            "+----------------+------------+-----------+\n",
            "|category_catalog|item_catalog|price_count|\n",
            "+----------------+------------+-----------+\n",
            "+----------------+------------+-----------+\n",
            "\n"
          ]
        }
      ]
    },
    {
      "cell_type": "code",
      "source": [
        "# 2. Заполнение пропусков в item\n",
        "\n",
        "df_filled = (\n",
        "    df.join(\n",
        "        catalog,\n",
        "        (F.col(\"category\") == F.col(\"category_catalog\")) &\n",
        "        (F.col(\"price_per_unit\") == F.col(\"price_per_unit_catalog\")),\n",
        "        \"left\"\n",
        "    )\n",
        "    .withColumn(\n",
        "        \"item\",\n",
        "        F.coalesce(\n",
        "            F.col(\"item\"),\n",
        "            F.col(\"item_catalog\")  # если item пуст – берём из справочника\n",
        "        )\n",
        "    )\n",
        "    .drop(\"category_catalog\", \"item_catalog\", \"price_per_unit_catalog\")  # удаление столбцов справочника\n",
        ")"
      ],
      "metadata": {
        "id": "BS5QAIWnprS8"
      },
      "execution_count": 14,
      "outputs": []
    },
    {
      "cell_type": "code",
      "source": [
        "# 3. Анализ результатов\n",
        "\n",
        "print(\"Анализ восстановления данных:\")\n",
        "print(f\"Исходное количество пропусков в item: {df.filter(F.col('item').isNull()).count()}\")\n",
        "print(f\"Количество пропусков в item после заполнения: {df_filled.filter(F.col('item').isNull()).count()}\")"
      ],
      "metadata": {
        "colab": {
          "base_uri": "https://localhost:8080/"
        },
        "id": "AiIyZtke3s5X",
        "outputId": "d2f24a0b-f5cb-4efe-b572-99554a1cecae"
      },
      "execution_count": 15,
      "outputs": [
        {
          "output_type": "stream",
          "name": "stdout",
          "text": [
            "Анализ восстановления данных:\n",
            "Исходное количество пропусков в item: 1213\n",
            "Количество пропусков в item после заполнения: 609\n"
          ]
        }
      ]
    },
    {
      "cell_type": "code",
      "source": [
        "print(\"После восстановления данных (первые 20 записей):\")\n",
        "df_filled.show(20, truncate=False)"
      ],
      "metadata": {
        "colab": {
          "base_uri": "https://localhost:8080/"
        },
        "id": "MvRUGNhCprVb",
        "outputId": "36e3b4f1-c683-4234-845f-4281c505a744"
      },
      "execution_count": 16,
      "outputs": [
        {
          "output_type": "stream",
          "name": "stdout",
          "text": [
            "После восстановления данных (первые 20 записей):\n",
            "+--------------+-----------+-----------------------------+------------+--------------+--------+--------------+--------+-----------+----------------+----------------+\n",
            "|transaction_id|customer_id|category                     |item        |payment_method|location|price_per_unit|quantity|total_spent|transaction_date|discount_applied|\n",
            "+--------------+-----------+-----------------------------+------------+--------------+--------+--------------+--------+-----------+----------------+----------------+\n",
            "|TXN_4575373   |CUST_05    |Food                         |Item_6_FOOD |Digital Wallet|Online  |12.5          |7       |87.5       |2022-10-02      |false           |\n",
            "|TXN_4396807   |CUST_17    |Electric household essentials|Item_13_EHE |Digital Wallet|In-store|23.0          |1       |23.0       |2022-02-07      |false           |\n",
            "|TXN_4206593   |CUST_01    |Furniture                    |Item_21_FUR |Digital Wallet|Online  |35.0          |NULL    |NULL       |2025-01-13      |false           |\n",
            "|TXN_6867343   |CUST_09    |Patisserie                   |Item_10_PAT |Digital Wallet|Online  |18.5          |10      |185.0      |2024-04-08      |true            |\n",
            "|TXN_3731986   |CUST_22    |Milk Products                |Item_17_MILK|Digital Wallet|Online  |29.0          |9       |261.0      |2023-07-23      |true            |\n",
            "|TXN_5874772   |CUST_23    |Food                         |Item_2_FOOD |Cash          |Online  |6.5           |7       |45.5       |2023-09-09      |true            |\n",
            "|TXN_7563311   |CUST_23    |Patisserie                   |Item_17_PAT |Cash          |Online  |29.0          |8       |232.0      |2024-11-16      |true            |\n",
            "|TXN_8776416   |CUST_22    |Butchers                     |Item_3_BUT  |Cash          |In-store|8.0           |9       |72.0       |2024-12-14      |true            |\n",
            "|TXN_7482416   |CUST_09    |Patisserie                   |NULL        |Credit Card   |Online  |NULL          |10      |200.0      |2023-11-30      |NULL            |\n",
            "|TXN_4413070   |CUST_14    |Patisserie                   |Item_24_PAT |Digital Wallet|In-store|39.5          |6       |237.0      |2022-05-20      |false           |\n",
            "|TXN_9303719   |CUST_02    |Butchers                     |Item_12_BUT |Credit Card   |Online  |21.5          |2       |43.0       |2022-10-05      |false           |\n",
            "|TXN_1372952   |CUST_21    |Furniture                    |Item_20_FUR |Digital Wallet|In-store|33.5          |NULL    |NULL       |2024-04-02      |true            |\n",
            "|TXN_5422631   |CUST_09    |Milk Products                |NULL        |Digital Wallet|In-store|NULL          |8       |52.0       |2025-01-12      |true            |\n",
            "|TXN_9634894   |CUST_15    |Milk Products                |NULL        |Digital Wallet|Online  |NULL          |10      |275.0      |2022-04-17      |NULL            |\n",
            "|TXN_2722661   |CUST_25    |Butchers                     |Item_22_BUT |Cash          |Online  |36.5          |3       |109.5      |2024-03-14      |false           |\n",
            "|TXN_1809665   |CUST_14    |Beverages                    |Item_14_BEV |Credit Card   |In-store|24.5          |NULL    |NULL       |2022-05-11      |NULL            |\n",
            "|TXN_3652209   |CUST_07    |Food                         |Item_1_FOOD |Credit Card   |In-store|5.0           |8       |40.0       |2023-06-10      |true            |\n",
            "|TXN_2490363   |CUST_09    |Milk Products                |Item_16_MILK|Digital Wallet|Online  |27.5          |2       |55.0       |2022-05-22      |NULL            |\n",
            "|TXN_9728486   |CUST_23    |Furniture                    |Item_16_FUR |Credit Card   |In-store|27.5          |1       |27.5       |2023-04-26      |false           |\n",
            "|TXN_9939063   |CUST_14    |Beverages                    |Item_7_BEV  |Digital Wallet|In-store|14.0          |9       |126.0      |2024-01-14      |NULL            |\n",
            "+--------------+-----------+-----------------------------+------------+--------------+--------+--------------+--------+-----------+----------------+----------------+\n",
            "only showing top 20 rows\n",
            "\n"
          ]
        }
      ]
    },
    {
      "cell_type": "markdown",
      "source": [
        "## 2.2. Восстановление Total Spent:\n",
        "Найдите все транзакции, с пропусками в общей сумме и обновите ее, пересчитав её как **quantity * price_per_unit**  для всех записей."
      ],
      "metadata": {
        "id": "5waQQmVX5Dno"
      }
    },
    {
      "cell_type": "code",
      "source": [
        "print(f\"Исходное количество пропусков в total_spent: {df_filled.filter(F.col('total_spent').isNull()).count()}\")"
      ],
      "metadata": {
        "colab": {
          "base_uri": "https://localhost:8080/"
        },
        "id": "HnxX-qfE7XXY",
        "outputId": "dbfcaa91-1da3-4ff9-e011-fe5c2a4ded15"
      },
      "execution_count": 17,
      "outputs": [
        {
          "output_type": "stream",
          "name": "stdout",
          "text": [
            "Исходное количество пропусков в total_spent: 604\n"
          ]
        }
      ]
    },
    {
      "cell_type": "code",
      "source": [
        "# Заполнение пропусков в total_spent\n",
        "\n",
        "df_filled = (\n",
        "    df_filled.join(\n",
        "        catalog,\n",
        "        (F.col(\"category\") == F.col(\"category_catalog\")) &\n",
        "        (F.col(\"item\") == F.col(\"item_catalog\")),\n",
        "        \"left\"\n",
        "    )\n",
        "    .withColumn(\n",
        "        \"total_spent\",\n",
        "        F.coalesce(\n",
        "            F.col(\"total_spent\"),\n",
        "            F.round(F.col(\"quantity\") * F.col(\"price_per_unit_catalog\"), 1)   # Иначе вычисляем по цене из справочник\n",
        "        )\n",
        "    )\n",
        "    .drop(\"category_catalog\", \"item_catalog\", \"price_per_unit_catalog\")       # удаление столбцов справочника\n",
        ")"
      ],
      "metadata": {
        "id": "j7SZ13fOBoLa"
      },
      "execution_count": 18,
      "outputs": []
    },
    {
      "cell_type": "code",
      "source": [
        "print(f\"Количество пропусков в total_spent после заполнения: {df_filled.filter(F.col('total_spent').isNull()).count()}\")"
      ],
      "metadata": {
        "colab": {
          "base_uri": "https://localhost:8080/"
        },
        "id": "GqpdJ43-5da4",
        "outputId": "6543dc71-a508-4e35-e6ba-0c8348ae75be"
      },
      "execution_count": 19,
      "outputs": [
        {
          "output_type": "stream",
          "name": "stdout",
          "text": [
            "Количество пропусков в total_spent после заполнения: 604\n"
          ]
        }
      ]
    },
    {
      "cell_type": "markdown",
      "source": [
        "**Восстановить total_spent не удалось**"
      ],
      "metadata": {
        "id": "0IefCdw_uneQ"
      }
    },
    {
      "cell_type": "markdown",
      "source": [
        "## 2.3. Заполнение отсутствующих Quantity:\n",
        "\n",
        "*   Для транзакций, где отсутствуют значения о количестве проданного товара , но имеются сумма транзакции и цена за товар , вычислите количество проданного товара и заполните пропущенные значения. Результат приведите к целому числу.\n",
        "\n"
      ],
      "metadata": {
        "id": "hmyp6KolFGUb"
      }
    },
    {
      "cell_type": "code",
      "source": [
        "print(f\"Исходное количество пропусков в quantity: {df_filled.filter(F.col('quantity').isNull()).count()}\")"
      ],
      "metadata": {
        "colab": {
          "base_uri": "https://localhost:8080/"
        },
        "id": "YFdAMgIZ5ddv",
        "outputId": "b8c35243-5abc-4efd-86d4-e235f4cb9f3c"
      },
      "execution_count": 20,
      "outputs": [
        {
          "output_type": "stream",
          "name": "stdout",
          "text": [
            "Исходное количество пропусков в quantity: 604\n"
          ]
        }
      ]
    },
    {
      "cell_type": "code",
      "source": [
        "# Сначала создаем DataFrame с вычисленными значениями quantity\n",
        "\n",
        "df_calc_quantity = (\n",
        "    df_filled.filter(\n",
        "        F.col(\"quantity\").isNull() &\n",
        "        F.col(\"total_spent\").isNotNull() &\n",
        "        F.col(\"price_per_unit\").isNotNull() &\n",
        "        (F.col(\"price_per_unit\") != 0)\n",
        "    )\n",
        "    .withColumn(\n",
        "        \"calc_quantity\",\n",
        "        F.round(F.col(\"total_spent\") / F.col(\"price_per_unit\"), 0).cast(\"integer\")\n",
        "    )\n",
        ")\n",
        "\n",
        "# Объединяем с исходным DataFrame и заполняем пропуски\n",
        "df_filled = (\n",
        "    df_filled\n",
        "    .join(\n",
        "        df_calc_quantity.select(\"transaction_id\", \"calc_quantity\"),\n",
        "        on=\"transaction_id\",\n",
        "        how=\"left\"\n",
        "    )\n",
        "    .withColumn(\n",
        "        \"quantity\",\n",
        "        F.coalesce(F.col(\"quantity\"), F.col(\"calc_quantity\"))\n",
        "    )\n",
        "    .drop(\"calc_quantity\")  # удаление временного столбеца\n",
        ")"
      ],
      "metadata": {
        "id": "6LLwiP055dhB"
      },
      "execution_count": 21,
      "outputs": []
    },
    {
      "cell_type": "code",
      "source": [
        "print(f\"Количество пропусков в quantity после заполнения: {df_filled.filter(F.col('quantity').isNull()).count()}\")"
      ],
      "metadata": {
        "colab": {
          "base_uri": "https://localhost:8080/"
        },
        "id": "MyWN1G5FGpLi",
        "outputId": "5ecce166-6443-493a-edb8-00230b3d482c"
      },
      "execution_count": 22,
      "outputs": [
        {
          "output_type": "stream",
          "name": "stdout",
          "text": [
            "Количество пропусков в quantity после заполнения: 604\n"
          ]
        }
      ]
    },
    {
      "cell_type": "markdown",
      "source": [
        "**Восстановить quantity не удалось**"
      ],
      "metadata": {
        "id": "b1l5_uiiZLbf"
      }
    },
    {
      "cell_type": "markdown",
      "source": [
        "## 2.3. Заполнение отсутствующих Price Rer Unit:\n",
        "\n",
        "*   Аналогично, если  отсутствует цена за единицу товара , но общая сумма и количество имеются, вычислите цену за единицу и заполните пропущенные значения. Округлите до двух знаков после запятой. Выведите 20 строк, демонстрирующих заполненные значения."
      ],
      "metadata": {
        "id": "PY___7Y4RVwl"
      }
    },
    {
      "cell_type": "code",
      "source": [
        "print(f\"Исходное количество пропусков в price_per_unit: {df_filled.filter(F.col('price_per_unit').isNull()).count()}\")"
      ],
      "metadata": {
        "colab": {
          "base_uri": "https://localhost:8080/"
        },
        "id": "YY7e-G0XGpNy",
        "outputId": "03d3f760-ec26-4826-8794-f912ad5b2cda"
      },
      "execution_count": 23,
      "outputs": [
        {
          "output_type": "stream",
          "name": "stdout",
          "text": [
            "Исходное количество пропусков в price_per_unit: 609\n"
          ]
        }
      ]
    },
    {
      "cell_type": "code",
      "source": [
        "# Сначала создаем DataFrame с вычисленными значениями quantity\n",
        "\n",
        "df_calc_price = (\n",
        "    df_filled.filter(\n",
        "        F.col(\"price_per_unit\").isNull() &\n",
        "        F.col(\"total_spent\").isNotNull() &\n",
        "        F.col(\"quantity\").isNotNull()    &\n",
        "        (F.col(\"quantity\") != 0)\n",
        "    )\n",
        "    .withColumn(\n",
        "        \"calc_price\",\n",
        "        F.round(F.col(\"total_spent\") / F.col(\"quantity\"), 2)\n",
        "    )\n",
        ")\n",
        "\n",
        "# Объединяем с исходным DataFrame и заполняем пропуски\n",
        "df_filled = (\n",
        "    df_filled\n",
        "    .join(\n",
        "        df_calc_price.select(\"transaction_id\", \"calc_price\"),\n",
        "        on=\"transaction_id\",\n",
        "        how=\"left\"\n",
        "    )\n",
        "    .withColumn(\n",
        "        \"price_per_unit\",\n",
        "        F.coalesce(F.col(\"price_per_unit\"), F.col(\"calc_price\"))\n",
        "    )\n",
        "    .drop(\"calc_price\")  # удаление временного столбеца\n",
        ")"
      ],
      "metadata": {
        "id": "3JiEiG7UGpQN"
      },
      "execution_count": 24,
      "outputs": []
    },
    {
      "cell_type": "code",
      "source": [
        "print(f\"Количество пропусков в price_per_unit после заполнения: {df_filled.filter(F.col('price_per_unit').isNull()).count()}\")"
      ],
      "metadata": {
        "colab": {
          "base_uri": "https://localhost:8080/"
        },
        "id": "3InSqMV7GpSb",
        "outputId": "31722e72-24e0-48f4-9a64-ac16a5186c97"
      },
      "execution_count": 25,
      "outputs": [
        {
          "output_type": "stream",
          "name": "stdout",
          "text": [
            "Количество пропусков в price_per_unit после заполнения: 0\n"
          ]
        }
      ]
    },
    {
      "cell_type": "markdown",
      "source": [
        "## 2.4. Удалите оставшийся строки с пропусками\n",
        "\n",
        "в Category, Quantity ,Total Spent и Price Rer Unit"
      ],
      "metadata": {
        "id": "nmhs49rpZij_"
      }
    },
    {
      "cell_type": "code",
      "source": [
        "# Список столбцов - по заданию + item\"!!!!!\n",
        "columns_to_drop = [\"category\", \"quantity\", \"total_spent\", \"price_per_unit\", \"item\"]\n",
        "\n",
        "# Удаляем строки, где есть NULL в указанных столбцах\n",
        "df_filled = df_filled.dropna(subset=columns_to_drop)"
      ],
      "metadata": {
        "id": "fG0vke-xZhvf"
      },
      "execution_count": 26,
      "outputs": []
    },
    {
      "cell_type": "code",
      "source": [
        "print(\"Количество null значений после восстановления:\")\n",
        "df_filled.select([F.sum(F.isnull(c).cast(\"int\")).alias(c) for c in df_filled.columns]).show()"
      ],
      "metadata": {
        "colab": {
          "base_uri": "https://localhost:8080/"
        },
        "id": "l2B8uV9eZhyA",
        "outputId": "9789c140-f001-4a94-9f89-276bbeea631d"
      },
      "execution_count": 27,
      "outputs": [
        {
          "output_type": "stream",
          "name": "stdout",
          "text": [
            "Количество null значений после восстановления:\n",
            "+--------------+-----------+--------+----+--------------+--------+--------------+--------+-----------+----------------+----------------+\n",
            "|transaction_id|customer_id|category|item|payment_method|location|price_per_unit|quantity|total_spent|transaction_date|discount_applied|\n",
            "+--------------+-----------+--------+----+--------------+--------+--------------+--------+-----------+----------------+----------------+\n",
            "|             0|          0|       0|   0|             0|       0|             0|       0|          0|               0|            3783|\n",
            "+--------------+-----------+--------+----+--------------+--------+--------------+--------+-----------+----------------+----------------+\n",
            "\n"
          ]
        }
      ]
    },
    {
      "cell_type": "code",
      "source": [
        "# Вывод результатов\n",
        "\n",
        "initial_count = df.count()\n",
        "filled_count = df_filled.count()\n",
        "pct_change = ((initial_count - filled_count) / initial_count) * 100\n",
        "\n",
        "print(f\"Количество строк в исходном DataFrame: {initial_count}\")\n",
        "print(f\"Количество строк после восстановления: {filled_count}\")\n",
        "\n",
        "print(f\"Количество удаленных строк: {initial_count - filled_count}\")\n",
        "print(f\"Процент удаленных строк: {pct_change:.2f}%\")"
      ],
      "metadata": {
        "colab": {
          "base_uri": "https://localhost:8080/"
        },
        "id": "dN2I8rA3Zh0X",
        "outputId": "0aa2ac69-9563-4413-de8a-4beae7158c1b"
      },
      "execution_count": 28,
      "outputs": [
        {
          "output_type": "stream",
          "name": "stdout",
          "text": [
            "Количество строк в исходном DataFrame: 12575\n",
            "Количество строк после восстановления: 11362\n",
            "Количество удаленных строк: 1213\n",
            "Процент удаленных строк: 9.65%\n"
          ]
        }
      ]
    },
    {
      "cell_type": "markdown",
      "source": [
        "# 3. Разведочный анализ данных"
      ],
      "metadata": {
        "id": "lt-FBjzmmAB9"
      }
    },
    {
      "cell_type": "code",
      "source": [
        "print(\"Первые 5 записей:\")\n",
        "df_filled.show(5, truncate=False)"
      ],
      "metadata": {
        "colab": {
          "base_uri": "https://localhost:8080/"
        },
        "id": "ybnMQYq3qHeX",
        "outputId": "e0d67292-bcab-4b41-a794-8f21c85b5392"
      },
      "execution_count": 29,
      "outputs": [
        {
          "output_type": "stream",
          "name": "stdout",
          "text": [
            "Первые 5 записей:\n",
            "+--------------+-----------+----------------------------------+-----------+--------------+--------+--------------+--------+-----------+----------------+----------------+\n",
            "|transaction_id|customer_id|category                          |item       |payment_method|location|price_per_unit|quantity|total_spent|transaction_date|discount_applied|\n",
            "+--------------+-----------+----------------------------------+-----------+--------------+--------+--------------+--------+-----------+----------------+----------------+\n",
            "|TXN_9049596   |CUST_11    |Furniture                         |Item_2_FUR |Credit Card   |Online  |6.5           |4       |26.0       |2023-07-26      |false           |\n",
            "|TXN_3593095   |CUST_03    |Computers and electric accessories|Item_19_CEA|Digital Wallet|Online  |32.0          |3       |96.0       |2024-05-31      |NULL            |\n",
            "|TXN_1018578   |CUST_10    |Computers and electric accessories|Item_10_CEA|Cash          |Online  |18.5          |3       |55.5       |2023-01-17      |true            |\n",
            "|TXN_9605479   |CUST_02    |Electric household essentials     |Item_22_EHE|Credit Card   |In-store|36.5          |10      |365.0      |2024-01-13      |NULL            |\n",
            "|TXN_4417030   |CUST_24    |Furniture                         |Item_5_FUR |Credit Card   |In-store|11.0          |9       |99.0       |2024-08-29      |false           |\n",
            "+--------------+-----------+----------------------------------+-----------+--------------+--------+--------------+--------+-----------+----------------+----------------+\n",
            "only showing top 5 rows\n",
            "\n"
          ]
        }
      ]
    },
    {
      "cell_type": "markdown",
      "source": [
        "## 3.1 Рассчитайте общее количество проданных единиц товара  для каждой категории. Определите **Топ-5 категорий** по общему количеству проданных единиц."
      ],
      "metadata": {
        "id": "jIFC5l8Xo6tm"
      }
    },
    {
      "cell_type": "code",
      "source": [
        "# количество проданных единиц для каждой категории\n",
        "\n",
        "(df_filled.groupBy(F.col(\"category\"))\n",
        "    .agg(F.sum(\"quantity\").alias(\"total_quantity\"))\n",
        "    .orderBy(F.col(\"total_quantity\").desc())\n",
        "    .show(5, truncate=False)\n",
        ")"
      ],
      "metadata": {
        "colab": {
          "base_uri": "https://localhost:8080/"
        },
        "id": "oOQqmpNDZh25",
        "outputId": "e14bb828-ce53-4c34-ab84-5bd81c97b286"
      },
      "execution_count": 30,
      "outputs": [
        {
          "output_type": "stream",
          "name": "stdout",
          "text": [
            "+-----------------------------+--------------+\n",
            "|category                     |total_quantity|\n",
            "+-----------------------------+--------------+\n",
            "|Furniture                    |8083          |\n",
            "|Beverages                    |7974          |\n",
            "|Food                         |7925          |\n",
            "|Electric household essentials|7897          |\n",
            "|Milk Products                |7889          |\n",
            "+-----------------------------+--------------+\n",
            "only showing top 5 rows\n",
            "\n"
          ]
        }
      ]
    },
    {
      "cell_type": "markdown",
      "source": [
        "## 3.2. Анализ среднего чека:\n",
        "\n",
        "*   Рассчитайте среднее значение **Total Spent** для каждого метода оплаты. Округлите до двух знаков после запятой.\n",
        "\n",
        "*   Рассчитайте среднее значение **Total Spent** для каждой места где прошла оплата. Округлите до двух знаков после запятой."
      ],
      "metadata": {
        "id": "g3cJZvr1G6bK"
      }
    },
    {
      "cell_type": "code",
      "source": [
        "# Среднее значение total_spent для каждого метода оплаты\n",
        "\n",
        "(\n",
        "    df_filled.groupBy(\"payment_method\")\n",
        "    .agg(\n",
        "        F.round(F.avg(\"total_spent\"), 2).alias(\"avg_total_spent\")\n",
        "        )\n",
        "    .orderBy(F.desc(\"avg_total_spent\"))\n",
        "    .show(truncate=False)\n",
        ")"
      ],
      "metadata": {
        "colab": {
          "base_uri": "https://localhost:8080/"
        },
        "id": "oukfpB0gZh5J",
        "outputId": "9d8a9d77-00fe-42ad-a1af-243f9d81c305"
      },
      "execution_count": 31,
      "outputs": [
        {
          "output_type": "stream",
          "name": "stdout",
          "text": [
            "+--------------+---------------+\n",
            "|payment_method|avg_total_spent|\n",
            "+--------------+---------------+\n",
            "|Cash          |131.14         |\n",
            "|Credit Card   |129.03         |\n",
            "|Digital Wallet|128.68         |\n",
            "+--------------+---------------+\n",
            "\n"
          ]
        }
      ]
    },
    {
      "cell_type": "code",
      "source": [
        "# Среднее значение total_spent для каждого места где прошла оплата\n",
        "\n",
        "(\n",
        "    df_filled.groupBy(\"location\")\n",
        "    .agg(\n",
        "        F.round(F.avg(\"total_spent\"), 2).alias(\"avg_total_spent\")\n",
        "        )\n",
        "    .orderBy(F.desc(\"avg_total_spent\"))\n",
        "    .show(truncate=False)\n",
        ")"
      ],
      "metadata": {
        "colab": {
          "base_uri": "https://localhost:8080/"
        },
        "id": "4wJxlLaFJgeq",
        "outputId": "7bd3c216-8b4d-4342-847b-a217313d3e38"
      },
      "execution_count": 32,
      "outputs": [
        {
          "output_type": "stream",
          "name": "stdout",
          "text": [
            "+--------+---------------+\n",
            "|location|avg_total_spent|\n",
            "+--------+---------------+\n",
            "|Online  |130.45         |\n",
            "|In-store|128.82         |\n",
            "+--------+---------------+\n",
            "\n"
          ]
        }
      ]
    },
    {
      "cell_type": "markdown",
      "source": [
        "# 4. Генерация признаков"
      ],
      "metadata": {
        "id": "HJZe_0GTJ9Vq"
      }
    },
    {
      "cell_type": "markdown",
      "source": [
        "## 4.1. Временные признаки\n",
        "Добавьте два новых столбца на основе Transaction Date:\n",
        "\n",
        "*   **day_of_week**: День недели\n",
        "*   **transaction_month**: Месяц транзакции"
      ],
      "metadata": {
        "id": "LLJ7nqRuKEO6"
      }
    },
    {
      "cell_type": "code",
      "source": [
        "# Добавляем временные признаки\n",
        "\n",
        "df_filled = df_filled.withColumns({\n",
        "    \"day_of_week\": F.dayofweek(\"transaction_date\"),\n",
        "    \"transaction_month\": F.month(\"transaction_date\")\n",
        "})\n",
        "\n",
        "# выборка только некоторых колонок\n",
        "df_filled.select(\"transaction_date\", \"day_of_week\", \"transaction_month\").show(5, truncate=False)"
      ],
      "metadata": {
        "colab": {
          "base_uri": "https://localhost:8080/"
        },
        "id": "f4b8lfa9Jghc",
        "outputId": "0e5d4651-df33-4e0e-c834-1e7945ab5417"
      },
      "execution_count": 33,
      "outputs": [
        {
          "output_type": "stream",
          "name": "stdout",
          "text": [
            "+----------------+-----------+-----------------+\n",
            "|transaction_date|day_of_week|transaction_month|\n",
            "+----------------+-----------+-----------------+\n",
            "|2023-07-26      |4          |7                |\n",
            "|2024-05-31      |6          |5                |\n",
            "|2023-01-17      |3          |1                |\n",
            "|2024-01-13      |7          |1                |\n",
            "|2024-08-29      |5          |8                |\n",
            "+----------------+-----------+-----------------+\n",
            "only showing top 5 rows\n",
            "\n"
          ]
        }
      ]
    },
    {
      "cell_type": "markdown",
      "source": [
        "## 4.2. Продажи по дням недели\n",
        "Рассчитайте среднюю сумму продаж (Total Spent) для каждого дня недели. Выведите результаты, отсортированные по дням недели"
      ],
      "metadata": {
        "id": "3BMoJOBTMgps"
      }
    },
    {
      "cell_type": "code",
      "source": [
        "# Cредняя сумма продаж для каждого дня недели\n",
        "\n",
        "(\n",
        "    df_filled.groupBy(\"day_of_week\")\n",
        "    .agg(F.avg(\"total_spent\").alias(\"avg_total_spent\"))\n",
        "    .orderBy(\"day_of_week\")\n",
        "    .show(truncate=False)\n",
        ")"
      ],
      "metadata": {
        "colab": {
          "base_uri": "https://localhost:8080/"
        },
        "id": "tBTxAJopJgj0",
        "outputId": "e7a0e8ad-d8b5-40b5-c43a-1f63c9671f90"
      },
      "execution_count": 34,
      "outputs": [
        {
          "output_type": "stream",
          "name": "stdout",
          "text": [
            "+-----------+------------------+\n",
            "|day_of_week|avg_total_spent   |\n",
            "+-----------+------------------+\n",
            "|1          |130.3134510042605 |\n",
            "|2          |126.08145363408521|\n",
            "|3          |129.02869619463505|\n",
            "|4          |126.62033067973056|\n",
            "|5          |129.6309894212819 |\n",
            "|6          |134.51823708206686|\n",
            "|7          |131.17064220183485|\n",
            "+-----------+------------------+\n",
            "\n"
          ]
        }
      ]
    },
    {
      "cell_type": "markdown",
      "source": [
        "## 4.3.Продажи по месяцам\n",
        "Рассчитайте среднюю сумму продаж (Total Spent)  для каждого месяца. Выведите результаты, отсортированные по месяцам"
      ],
      "metadata": {
        "id": "es8EfG2MRDyk"
      }
    },
    {
      "cell_type": "code",
      "source": [
        "# Cредняя сумма продаж для каждого месяца\n",
        "\n",
        "(\n",
        "    df_filled.groupBy(\"transaction_month\")\n",
        "    .agg(F.avg(\"total_spent\").alias(\"avg_total_spent\"))\n",
        "    .orderBy(\"transaction_month\")\n",
        "    .show(truncate=False)\n",
        ")"
      ],
      "metadata": {
        "colab": {
          "base_uri": "https://localhost:8080/"
        },
        "id": "XEsLPquIQ_HJ",
        "outputId": "ab14d586-9828-4b11-e120-b37d69a45fff"
      },
      "execution_count": 35,
      "outputs": [
        {
          "output_type": "stream",
          "name": "stdout",
          "text": [
            "+-----------------+------------------+\n",
            "|transaction_month|avg_total_spent   |\n",
            "+-----------------+------------------+\n",
            "|1                |135.1926530612245 |\n",
            "|2                |129.7631880733945 |\n",
            "|3                |126.93729372937294|\n",
            "|4                |132.00166481687015|\n",
            "|5                |127.4728144989339 |\n",
            "|6                |131.323093220339  |\n",
            "|7                |127.64733059548254|\n",
            "|8                |122.76838235294117|\n",
            "|9                |130.6153846153846 |\n",
            "|10               |128.05379388448472|\n",
            "|11               |130.04082774049218|\n",
            "|12               |132.32119914346896|\n",
            "+-----------------+------------------+\n",
            "\n"
          ]
        }
      ]
    },
    {
      "cell_type": "markdown",
      "source": [
        "## 4.4. Признаки клиента\n",
        "\n",
        "Рассчитайте customer_lifetime_value (CLV) для каждого клиента как общую сумму (Total Spent), потраченную этим клиентом за все транзакции. Выведите Топ-10 клиентов по их CLV (customer_id и их CLV)."
      ],
      "metadata": {
        "id": "KNzJSxUZRkys"
      }
    },
    {
      "cell_type": "code",
      "source": [
        "# CLV для каждого клиента\n",
        "\n",
        "(\n",
        "    df_filled.groupBy(F.col(\"customer_id\"))\n",
        "    .agg(F.sum(\"total_spent\").alias(\"clv\"))\n",
        "    .orderBy(F.desc(\"clv\"))\n",
        "    .show(10, truncate=False)\n",
        ")"
      ],
      "metadata": {
        "colab": {
          "base_uri": "https://localhost:8080/"
        },
        "id": "SktTvesPQ_Jp",
        "outputId": "871006e1-949b-4c2e-e4b5-08e835ad0b8e"
      },
      "execution_count": 36,
      "outputs": [
        {
          "output_type": "stream",
          "name": "stdout",
          "text": [
            "+-----------+-------+\n",
            "|customer_id|clv    |\n",
            "+-----------+-------+\n",
            "|CUST_24    |64608.0|\n",
            "|CUST_05    |63855.5|\n",
            "|CUST_16    |63185.5|\n",
            "|CUST_13    |63015.5|\n",
            "|CUST_08    |62850.5|\n",
            "|CUST_15    |60749.5|\n",
            "|CUST_10    |60367.5|\n",
            "|CUST_23    |59738.5|\n",
            "|CUST_21    |59639.0|\n",
            "|CUST_02    |59512.5|\n",
            "+-----------+-------+\n",
            "only showing top 10 rows\n",
            "\n"
          ]
        }
      ]
    },
    {
      "cell_type": "code",
      "source": [
        "# Останавливаем SparkSession\n",
        "spark.stop()"
      ],
      "metadata": {
        "id": "_OtmzE7Fq7nY"
      },
      "execution_count": 37,
      "outputs": []
    }
  ]
}