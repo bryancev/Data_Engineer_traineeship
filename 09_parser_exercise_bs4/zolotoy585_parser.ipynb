{
  "cells": [
    {
      "cell_type": "markdown",
      "metadata": {
        "id": "Qr2o6xQH2ipf"
      },
      "source": [
        "# Парсер\n",
        "На вход парсеру подается ссылка на категорию из каталога с изделиями, которые планируется спарсить\n",
        "https://www.585zolotoy.ru/catalog/\n",
        "\n",
        "Спарсенные данные сохраняются в csv файл папки data."
      ]
    },
    {
      "cell_type": "code",
      "execution_count": 2,
      "metadata": {
        "colab": {
          "base_uri": "https://localhost:8080/"
        },
        "id": "xv94FMzf2xrO",
        "outputId": "5c1c09d6-315c-4fd6-a493-965e7d64a945"
      },
      "outputs": [
        {
          "name": "stdout",
          "output_type": "stream",
          "text": [
            "Сканирование страницы 1 категории 'rings_for_children'...\n",
            "Парсинг товара: https://www.585zolotoy.ru/catalog/products/1418515\n",
            "Парсинг товара: https://www.585zolotoy.ru/catalog/products/9001215\n",
            "Парсинг товара: https://www.585zolotoy.ru/catalog/products/7863441\n",
            "Парсинг товара: https://www.585zolotoy.ru/catalog/products/7863614\n",
            "Парсинг товара: https://www.585zolotoy.ru/catalog/products/7863592\n",
            "Парсинг товара: https://www.585zolotoy.ru/catalog/products/7863682\n",
            "Парсинг товара: https://www.585zolotoy.ru/catalog/products/1138520\n",
            "Парсинг товара: https://www.585zolotoy.ru/catalog/products/7863429\n",
            "Парсинг товара: https://www.585zolotoy.ru/catalog/products/7863761\n",
            "Парсинг товара: https://www.585zolotoy.ru/catalog/products/7863447\n",
            "Парсинг товара: https://www.585zolotoy.ru/catalog/products/2245486\n",
            "Сохранено 11 товаров в data/rings_for_children_20250829.csv\n"
          ]
        }
      ],
      "source": [
        "import requests\n",
        "from bs4 import BeautifulSoup\n",
        "from fake_useragent import UserAgent\n",
        "import time\n",
        "import csv\n",
        "from datetime import datetime\n",
        "import os\n",
        "from urllib.parse import urljoin\n",
        "\n",
        "ua = UserAgent()\n",
        "\n",
        "\n",
        "def request_with_retries(url, params=None, timeout=10, retries=3):\n",
        "    \"\"\"\n",
        "    Возвращает response при успехе или None при неудаче.\n",
        "    \"\"\"\n",
        "    headers = {\n",
        "        \"User-Agent\": ua.random,\n",
        "        \"accept\": \"*/*\",\n",
        "        \"accept-language\": \"ru,en;q=0.9\",\n",
        "        \"x-qa-client-type\": \"WEB\",\n",
        "    }\n",
        "\n",
        "    for attempt in range(1, retries + 1):\n",
        "        try:\n",
        "            response = requests.get(url, headers=headers, params=params, timeout=timeout)\n",
        "            if response.ok:\n",
        "                return response\n",
        "            print(f\"[{attempt}/{retries}] Ошибка статуса {response.status_code} для {url}\")\n",
        "        except requests.RequestException as e:\n",
        "            print(f\"[{attempt}/{retries}] Ошибка запроса к {url}: {e}\")\n",
        "        time.sleep(5)  # пауза перед следующей попыткой\n",
        "\n",
        "    print(f\"Не удалось получить ответ от {url} после {retries} попыток\")\n",
        "    return None\n",
        "\n",
        "\n",
        "def get_html(url, retries=3):\n",
        "    \"\"\"\n",
        "    Получаем HTML страницы с повторными попытками.\n",
        "    Возвращаем текст страницы или None при неудаче.\n",
        "    \"\"\"\n",
        "    response = request_with_retries(url, retries=retries)\n",
        "    return response.text if response else None\n",
        "\n",
        "def get_breadcrumbs(soup):\n",
        "    \"\"\"\n",
        "    Получаем 'хлебные крошки' для извлечения категории и подкатегории\n",
        "    \"\"\"\n",
        "    breadcrumbs = []\n",
        "    breadcrumbs_container = soup.find('ul', class_='breadcrumbs')\n",
        "\n",
        "    if breadcrumbs_container:\n",
        "        for item in breadcrumbs_container.find_all('li', class_='flex items-center'):\n",
        "            link = item.find('a', class_='text-caption-1-medium text-text-secondary')\n",
        "            if link and link.text:\n",
        "                breadcrumbs.append(link.text.strip())\n",
        "\n",
        "    # Определяем категорию и подкатегорию на основе структуры хлебных крошек\n",
        "    category = breadcrumbs[1] if len(breadcrumbs) > 1 else None\n",
        "    subcategory = breadcrumbs[2] if len(breadcrumbs) > 2 else None\n",
        "\n",
        "    return category, subcategory\n",
        "\n",
        "def parse_product_page(article, retries=3):\n",
        "    \"\"\"\n",
        "    Парсим страницу конкретного товара по артикулу.\n",
        "    Возвращаем словарь с полями или None, если не удалось загрузить страницу.\n",
        "    \"\"\"\n",
        "    base_url = \"https://www.585zolotoy.ru/catalog/products/\"\n",
        "    product_url = urljoin(base_url, article)\n",
        "\n",
        "    html = get_html(product_url, retries=retries)\n",
        "    if not html:\n",
        "        # Не удалось загрузить страницу товара\n",
        "        return None\n",
        "\n",
        "    soup = BeautifulSoup(html, \"html.parser\")\n",
        "\n",
        "    # Название категорий и подкатегорий получаем из \"хлебных крошек\"\n",
        "    category, subcategory = get_breadcrumbs(soup)\n",
        "\n",
        "    # Название товара\n",
        "    name_tag = soup.find(\"h1\", class_=\"ui-h1 text-title-2-medium\")\n",
        "    name = name_tag.get_text(strip=True) if name_tag else None\n",
        "\n",
        "    # Текущая цена\n",
        "    price_tag = soup.find(\"strong\", class_=\"product-price__simple-current\")\n",
        "    price = price_tag.get_text(strip=True) if price_tag else None\n",
        "\n",
        "    # Старая цена (если есть)\n",
        "    old_price_tag = soup.find(\"span\", class_=\"product-price__simple-old\")\n",
        "    old_price = old_price_tag.get_text(strip=True) if old_price_tag else None\n",
        "\n",
        "    # Скидка (если есть)\n",
        "    discount_tag = soup.find(\"span\", class_=\"product-price__simple-discount\")\n",
        "    discount = discount_tag.get_text(strip=True) if discount_tag else None\n",
        "\n",
        "    # Рейтинг — считаем активные звезды\n",
        "    rating_tag = soup.select_one(\"div.active-stars\")\n",
        "    rating = len(rating_tag.find_all(\"div\", class_=\"icon-svg-box active\")) if rating_tag else None\n",
        "\n",
        "    # Отзывы — пытаемся взять первое слово и проверить\n",
        "    reviews_tag = soup.find(\"div\", class_=\"text-caption-1-medium text-text-brand\")\n",
        "    reviews = None\n",
        "    if reviews_tag:\n",
        "        text = reviews_tag.get_text(strip=True)\n",
        "        reviews = text.split()[0] if text else \"\"\n",
        "\n",
        "    return {\n",
        "        \"category\": category,\n",
        "        \"subcategory\": subcategory,\n",
        "        \"name\": name,\n",
        "        \"sku\": article,\n",
        "        \"price\": price,\n",
        "        \"old_price\": old_price,\n",
        "        \"discount\": discount,\n",
        "        \"rating\": rating,\n",
        "        \"reviews\": reviews,\n",
        "        \"parsed_date\": datetime.now().strftime(\"%Y-%m-%d\"),\n",
        "        \"product_url\": product_url,\n",
        "    }\n",
        "\n",
        "\n",
        "def fetch_articles(category, page=1, retries=3):\n",
        "    \"\"\"\n",
        "    Получаем артикулы товаров через API.\n",
        "    Явный цикл собирает articles (читаемость > comprehension).\n",
        "    Возвращаем (articles, next_page) или ([], None) при ошибке.\n",
        "    \"\"\"\n",
        "    url = \"https://www.585zolotoy.ru/api/v3/products/\"\n",
        "\n",
        "    params = {\n",
        "        'category': category,\n",
        "        'append': '1',\n",
        "        'page': str(page)\n",
        "    }\n",
        "\n",
        "    response = request_with_retries(url, params=params, retries=retries)\n",
        "    if not response:\n",
        "        # Нет ответа от API — возвращаем пустой результат\n",
        "        return [], None\n",
        "\n",
        "    try:\n",
        "        data = response.json()\n",
        "    except ValueError:\n",
        "        # Некорректный JSON\n",
        "        print(\"Ошибка: не удалось разобрать JSON от API.\")\n",
        "        return [], None\n",
        "\n",
        "    # Получаем список результатов; если ключа нет — используем пустой список\n",
        "    results = data.get(\"results\", [])\n",
        "\n",
        "    # Цикл для формирования списка артикулов\n",
        "    articles = []\n",
        "    for item in results:\n",
        "        article = item.get(\"article\")\n",
        "        if article:\n",
        "            articles.append(article)\n",
        "\n",
        "    # Параметры следующей страницы (если есть)\n",
        "    next_page = data.get(\"pagination\", {}).get(\"next_page_params\")\n",
        "    return articles, next_page\n",
        "\n",
        "\n",
        "def save_to_csv(products, filename=\"products.csv\"):\n",
        "    \"\"\"\n",
        "    Сохраняем список товаров в CSV (utf-8-sig).\n",
        "    Если список пуст — ничего не сохраняем.\n",
        "    \"\"\"\n",
        "    if not products:\n",
        "        print(\"Нет данных для сохранения\")\n",
        "        return\n",
        "\n",
        "    # Создание отдельной папки для хранения спарсенных данных\n",
        "    data_folder = \"data\"\n",
        "    if not os.path.exists(data_folder):\n",
        "        os.makedirs(data_folder)\n",
        "\n",
        "    # Путь к папке\n",
        "    filepath = os.path.join(data_folder, filename)\n",
        "\n",
        "    # Определяем порядок полей по первому элементу\n",
        "    fieldnames = list(products[0].keys())\n",
        "    with open(filepath, mode='w', newline='', encoding='utf-8-sig') as file:\n",
        "        writer = csv.DictWriter(file, fieldnames=fieldnames)\n",
        "        writer.writeheader()\n",
        "        writer.writerows(products)\n",
        "    print(f\"Сохранено {len(products)} товаров в {filepath}\")\n",
        "\n",
        "\n",
        "def scrape_category(category, filename, sleep_time=1, retries=3):\n",
        "    \"\"\"\n",
        "    Собираем все товары категории и сохраняем в CSV.\n",
        "    Параметр retries пробрасывается в сетевые функции.\n",
        "    \"\"\"\n",
        "    page = 1\n",
        "    products = []\n",
        "\n",
        "    while True:\n",
        "        print(f\"Сканирование страницы {page} категории '{category}'...\")\n",
        "        articles, next_page = fetch_articles(category, page=page, retries=retries)\n",
        "        if not articles:\n",
        "            print(\"Артикулы не найдены или произошла ошибка — прекращаем.\")\n",
        "            break\n",
        "\n",
        "        for article in articles:\n",
        "            product = parse_product_page(article, retries=retries)\n",
        "            if product:\n",
        "                # Печатаем текущий URL парсинга\n",
        "                print(f\"Парсинг товара: {product['product_url']}\")\n",
        "                products.append(product)\n",
        "            else:\n",
        "                print(f\"Пропущен артикул {article} (ошибка загрузки/парсинга).\")\n",
        "            time.sleep(sleep_time)\n",
        "\n",
        "        if not next_page:\n",
        "            # Если API не вернул данные о следующей странице, завершаем.\n",
        "            break\n",
        "        page += 1\n",
        "\n",
        "    save_to_csv(products, filename)\n",
        "\n",
        "\n",
        "if __name__ == \"__main__\":\n",
        "\n",
        "    # категория, где около 10 тыс. позиций  - длительность парсинга более 8 часов\n",
        "    # catalog_url = \"https://www.585zolotoy.ru/catalog/rings/\"\n",
        "\n",
        "    # для примера, категория гда мало позиций - длительность парсинга менее минуты\n",
        "    catalog_url = \"https://www.585zolotoy.ru/catalog/rings_for_children/\"\n",
        "\n",
        "    category = catalog_url.strip(\"/\").split(\"/\")[-1]\n",
        "    filename = f\"{category}_{datetime.now().strftime('%Y%m%d')}.csv\"\n",
        "\n",
        "    # Запуск парсера\n",
        "    scrape_category(category, filename, sleep_time=1, retries=3)"
      ]
    },
    {
      "cell_type": "markdown",
      "metadata": {
        "id": "aeKtttCv6cT1"
      },
      "source": [
        "# Загрузка данных в PySpark"
      ]
    },
    {
      "cell_type": "code",
      "execution_count": 3,
      "metadata": {
        "colab": {
          "base_uri": "https://localhost:8080/"
        },
        "id": "JT5PDMy60str",
        "outputId": "ac7470f4-d386-40fe-e22f-c575d4ee430a"
      },
      "outputs": [
        {
          "name": "stdout",
          "output_type": "stream",
          "text": [
            "+--------------------------+-------------------------+---------------------------------------------------+-------+--------+---------+--------+------+-------+-----------+--------------------------------------------------+\n",
            "|category                  |subcategory              |name                                               |sku    |price   |old_price|discount|rating|reviews|parsed_date|product_url                                       |\n",
            "+--------------------------+-------------------------+---------------------------------------------------+-------+--------+---------+--------+------+-------+-----------+--------------------------------------------------+\n",
            "|Кольца                    |Женские кольца           |Золотое кольцо с сапфиром выращенным и бриллиантами|1978724|12 790 ₽|25 580 ₽ |−50%    |5     |42     |2025-08-28 |https://www.585zolotoy.ru/catalog/products/1978724|\n",
            "|Кольца                    |Мужские кольца           |Золотое обручальное кольцо                         |9001102|12 347 ₽|44 900 ₽ |−73%    |5     |46     |2025-08-28 |https://www.585zolotoy.ru/catalog/products/9001102|\n",
            "|Кольца                    |Широкие кольца           |Золотое кольцо с бриллиантами                      |1553012|41 495 ₽|165 980 ₽|−75%    |5     |31     |2025-08-28 |https://www.585zolotoy.ru/catalog/products/1553012|\n",
            "|Тренды ювелирных украшений|Ювелирная база           |Золотое кольцо с премиум цирконием                 |9002261|13 990 ₽|27 980 ₽ |−50%    |5     |21     |2025-08-28 |https://www.585zolotoy.ru/catalog/products/9002261|\n",
            "|Тренды ювелирных украшений|Ювелирная база           |Золотое кольцо с бриллиантом                       |1847403|9 990 ₽ |NULL     |NULL    |5     |235    |2025-08-28 |https://www.585zolotoy.ru/catalog/products/1847403|\n",
            "|Кольца                    |Кольца из красного золота|Золотое кольцо с бриллиантами                      |1504126|22 990 ₽|45 980 ₽ |−50%    |5     |48     |2025-08-28 |https://www.585zolotoy.ru/catalog/products/1504126|\n",
            "|Тренды ювелирных украшений|Ювелирная база           |Золотое кольцо с фианитом                          |1665384|9 990 ₽ |19 980 ₽ |−50%    |5     |4      |2025-08-28 |https://www.585zolotoy.ru/catalog/products/1665384|\n",
            "|Тренды ювелирных украшений|Ювелирная база           |Золотое кольцо с бриллиантами                      |1224216|34 990 ₽|69 980 ₽ |−50%    |5     |85     |2025-08-28 |https://www.585zolotoy.ru/catalog/products/1224216|\n",
            "|Кольца                    |Кольца из красного золота|Золотое обручальное кольцо с бриллиантами          |9001208|20 619 ₽|74 980 ₽ |−73%    |5     |36     |2025-08-28 |https://www.585zolotoy.ru/catalog/products/9001208|\n",
            "|Кольца                    |Кольца из красного золота|Золотое кольцо                                     |1977945|25 839 ₽|93 950 ₽ |−72%    |5     |26     |2025-08-28 |https://www.585zolotoy.ru/catalog/products/1977945|\n",
            "|Тренды ювелирных украшений|Ювелирная база           |Золотое кольцо с фианитом                          |1554622|9 990 ₽ |19 980 ₽ |−50%    |5     |185    |2025-08-28 |https://www.585zolotoy.ru/catalog/products/1554622|\n",
            "|Кольца                    |Кольца из красного золота|Золотое кольцо с бриллиантами                      |1975092|32 990 ₽|65 980 ₽ |−50%    |5     |136    |2025-08-28 |https://www.585zolotoy.ru/catalog/products/1975092|\n",
            "|Кольца                    |Кольца из красного золота|Золотое кольцо с фианитами                         |1482588|7 930 ₽ |15 850 ₽ |−50%    |5     |9      |2025-08-28 |https://www.585zolotoy.ru/catalog/products/1482588|\n",
            "|Кольца                    |Мужские кольца           |Золотое обручальное кольцо                         |9001103|17 022 ₽|61 900 ₽ |−73%    |5     |53     |2025-08-28 |https://www.585zolotoy.ru/catalog/products/9001103|\n",
            "|Кольца                    |Кольца из красного золота|Золотое кольцо с фианитами                         |2008566|20 403 ₽|90 670 ₽ |−77%    |5     |275    |2025-08-28 |https://www.585zolotoy.ru/catalog/products/2008566|\n",
            "|Тренды ювелирных украшений|Ювелирная база           |Золотое кольцо с бриллиантами                      |1591989|30 990 ₽|61 980 ₽ |−50%    |5     |64     |2025-08-28 |https://www.585zolotoy.ru/catalog/products/1591989|\n",
            "|Кольца                    |Кольца из красного золота|Золотое кольцо с фианитами                         |1075020|8 390 ₽ |16 780 ₽ |−50%    |5     |3      |2025-08-28 |https://www.585zolotoy.ru/catalog/products/1075020|\n",
            "|Тренды ювелирных украшений|Ювелирная база           |Золотое кольцо с бриллиантами                      |1730487|16 990 ₽|NULL     |NULL    |5     |55     |2025-08-28 |https://www.585zolotoy.ru/catalog/products/1730487|\n",
            "|Кольца                    |Кольца из красного золота|Золотое кольцо                                     |2239925|30 240 ₽|60 480 ₽ |−50%    |5     |8      |2025-08-28 |https://www.585zolotoy.ru/catalog/products/2239925|\n",
            "|Кольца                    |Кольца из красного золота|Золотое кольцо с бриллиантами                      |1317409|23 490 ₽|46 980 ₽ |−50%    |5     |75     |2025-08-28 |https://www.585zolotoy.ru/catalog/products/1317409|\n",
            "+--------------------------+-------------------------+---------------------------------------------------+-------+--------+---------+--------+------+-------+-----------+--------------------------------------------------+\n",
            "only showing top 20 rows\n",
            "\n"
          ]
        }
      ],
      "source": [
        "from pyspark.sql import SparkSession\n",
        "from pyspark.sql import functions as F\n",
        "from pyspark.sql.types import *\n",
        "\n",
        "spark = SparkSession.builder \\\n",
        "    .appName(\"zolotoy585_analysis\") \\\n",
        "    .config(\"spark.driver.memory\", \"2g\") \\\n",
        "    .config(\"spark.executor.memory\", \"2g\") \\\n",
        "    .config(\"spark.sql.adaptive.enabled\", \"true\") \\\n",
        "    .getOrCreate()\n",
        "\n",
        "# Чтение всех CSV из папки 'data'\n",
        "df = spark.read \\\n",
        "    .option(\"header\", True) \\\n",
        "    .option(\"sep\", \",\") \\\n",
        "    .csv(\"data/*.csv\")\n",
        "\n",
        "df.show(20, truncate=False)"
      ]
    },
    {
      "cell_type": "code",
      "execution_count": 4,
      "metadata": {
        "colab": {
          "base_uri": "https://localhost:8080/"
        },
        "id": "_uFYE3AM0sy8",
        "outputId": "8963da31-33af-4299-c6e7-d7fa5c57bb94"
      },
      "outputs": [
        {
          "name": "stdout",
          "output_type": "stream",
          "text": [
            "Количество строк в исходном DataFrame: 9945\n"
          ]
        }
      ],
      "source": [
        "print(f\"Количество строк в исходном DataFrame: {df.count()}\")"
      ]
    },
    {
      "cell_type": "code",
      "execution_count": 5,
      "metadata": {
        "colab": {
          "base_uri": "https://localhost:8080/"
        },
        "id": "9XnPBJ8TI7z9",
        "outputId": "2846e7c3-3fbf-4830-b4b8-9b98030eae33"
      },
      "outputs": [
        {
          "data": {
            "text/plain": [
              "['Кольца']"
            ]
          },
          "execution_count": 5,
          "metadata": {},
          "output_type": "execute_result"
        }
      ],
      "source": [
        "# мой список парсинных категорий\n",
        "\n",
        "parsed_category = [\"Кольца\"]\n",
        "parsed_category"
      ]
    },
    {
      "cell_type": "markdown",
      "metadata": {
        "id": "9sqb95txDDqJ"
      },
      "source": [
        "# Разведочный анализ данных\n"
      ]
    },
    {
      "cell_type": "markdown",
      "metadata": {
        "id": "qIyW_Gp1NaqO"
      },
      "source": [
        "## Анализ и восстановление поля category"
      ]
    },
    {
      "cell_type": "code",
      "execution_count": 6,
      "metadata": {
        "colab": {
          "base_uri": "https://localhost:8080/"
        },
        "id": "xSRlAVUADQ5K",
        "outputId": "52b6dad0-4014-4174-9234-f87719bd7aa5"
      },
      "outputs": [
        {
          "name": "stdout",
          "output_type": "stream",
          "text": [
            "+--------------------------+\n",
            "|category                  |\n",
            "+--------------------------+\n",
            "|Кольца                    |\n",
            "|Подвески                  |\n",
            "|Серьги                    |\n",
            "|Религия                   |\n",
            "|Тренды ювелирных украшений|\n",
            "|Свадьба                   |\n",
            "|NULL                      |\n",
            "+--------------------------+\n",
            "\n"
          ]
        }
      ],
      "source": [
        "# Уникальные значения category\n",
        "\n",
        "df.select(\"category\").distinct().show(truncate=False)"
      ]
    },
    {
      "cell_type": "code",
      "execution_count": 7,
      "metadata": {
        "colab": {
          "base_uri": "https://localhost:8080/"
        },
        "id": "Y4kTST7eDQ8L",
        "outputId": "fec3d439-d6ec-4f79-ac8c-977229573345"
      },
      "outputs": [
        {
          "name": "stdout",
          "output_type": "stream",
          "text": [
            "+--------------------------+----------------------+------------------------------------------------------+-------+--------+---------+--------+------+-------+-----------+--------------------------------------------------+\n",
            "|category                  |subcategory           |name                                                  |sku    |price   |old_price|discount|rating|reviews|parsed_date|product_url                                       |\n",
            "+--------------------------+----------------------+------------------------------------------------------+-------+--------+---------+--------+------+-------+-----------+--------------------------------------------------+\n",
            "|Тренды ювелирных украшений|Ювелирная база        |Золотое кольцо с премиум цирконием                    |9002261|13 990 ₽|27 980 ₽ |−50%    |5     |21     |2025-08-28 |https://www.585zolotoy.ru/catalog/products/9002261|\n",
            "|Тренды ювелирных украшений|Ювелирная база        |Золотое кольцо с бриллиантом                          |1847403|9 990 ₽ |NULL     |NULL    |5     |235    |2025-08-28 |https://www.585zolotoy.ru/catalog/products/1847403|\n",
            "|Тренды ювелирных украшений|Ювелирная база        |Золотое кольцо с фианитом                             |1665384|9 990 ₽ |19 980 ₽ |−50%    |5     |4      |2025-08-28 |https://www.585zolotoy.ru/catalog/products/1665384|\n",
            "|Тренды ювелирных украшений|Ювелирная база        |Золотое кольцо с бриллиантами                         |1224216|34 990 ₽|69 980 ₽ |−50%    |5     |85     |2025-08-28 |https://www.585zolotoy.ru/catalog/products/1224216|\n",
            "|Тренды ювелирных украшений|Ювелирная база        |Золотое кольцо с фианитом                             |1554622|9 990 ₽ |19 980 ₽ |−50%    |5     |185    |2025-08-28 |https://www.585zolotoy.ru/catalog/products/1554622|\n",
            "|Тренды ювелирных украшений|Ювелирная база        |Золотое кольцо с бриллиантами                         |1591989|30 990 ₽|61 980 ₽ |−50%    |5     |64     |2025-08-28 |https://www.585zolotoy.ru/catalog/products/1591989|\n",
            "|Тренды ювелирных украшений|Ювелирная база        |Золотое кольцо с бриллиантами                         |1730487|16 990 ₽|NULL     |NULL    |5     |55     |2025-08-28 |https://www.585zolotoy.ru/catalog/products/1730487|\n",
            "|Тренды ювелирных украшений|С крупной вставкой    |Золотое кольцо с изумрудами выращенными и бриллиантами|1213080|31 990 ₽|63 980 ₽ |−50%    |5     |18     |2025-08-28 |https://www.585zolotoy.ru/catalog/products/1213080|\n",
            "|Тренды ювелирных украшений|Ювелирная база        |Золотое кольцо с бриллиантами                         |1177690|33 544 ₽|121 980 ₽|−73%    |5     |39     |2025-08-28 |https://www.585zolotoy.ru/catalog/products/1177690|\n",
            "|Тренды ювелирных украшений|Ювелирная база        |Золотое кольцо с бриллиантами                         |1531020|17 990 ₽|35 980 ₽ |−50%    |5     |109    |2025-08-28 |https://www.585zolotoy.ru/catalog/products/1531020|\n",
            "|Тренды ювелирных украшений|Ювелирная база        |Золотое кольцо с фианитами                            |1397238|16 490 ₽|32 980 ₽ |−50%    |5     |217    |2025-08-28 |https://www.585zolotoy.ru/catalog/products/1397238|\n",
            "|Свадьба                   |NULL                  |Золотое обручальное кольцо                            |7209694|42 927 ₽|156 090 ₽|−72%    |5     |50     |2025-08-28 |https://www.585zolotoy.ru/catalog/products/7209694|\n",
            "|Тренды ювелирных украшений|Ювелирная база        |Золотое кольцо с бриллиантом                          |1966457|10 990 ₽|21 980 ₽ |−50%    |5     |130    |2025-08-28 |https://www.585zolotoy.ru/catalog/products/1966457|\n",
            "|Тренды ювелирных украшений|Многослойные украшения|Золотое кольцо                                        |4896633|17 485 ₽|69 930 ₽ |−75%    |5     |88     |2025-08-28 |https://www.585zolotoy.ru/catalog/products/4896633|\n",
            "|Тренды ювелирных украшений|Стильное серебро      |Серебряное кольцо с фианитами                         |1654288|590 ₽   |NULL     |NULL    |5     |132    |2025-08-28 |https://www.585zolotoy.ru/catalog/products/1654288|\n",
            "|Тренды ювелирных украшений|Многослойные украшения|Золотое кольцо                                        |2012693|14 450 ₽|57 790 ₽ |−75%    |5     |71     |2025-08-28 |https://www.585zolotoy.ru/catalog/products/2012693|\n",
            "|Религия                   |Православные изделия  |Золотое кольцо «Спаси и сохрани»                      |1194017|10 990 ₽|21 980 ₽ |−50%    |5     |122    |2025-08-28 |https://www.585zolotoy.ru/catalog/products/1194017|\n",
            "|Тренды ювелирных украшений|Ювелирная база        |Золотое кольцо с фианитом                             |1369406|8 490 ₽ |16 980 ₽ |−50%    |5     |203    |2025-08-28 |https://www.585zolotoy.ru/catalog/products/1369406|\n",
            "|Тренды ювелирных украшений|Многослойные украшения|Золотое кольцо                                        |1649400|29 282 ₽|106 470 ₽|−72%    |5     |39     |2025-08-28 |https://www.585zolotoy.ru/catalog/products/1649400|\n",
            "|Свадьба                   |NULL                  |Золотое обручальное кольцо                            |2792739|31 400 ₽|62 790 ₽ |−50%    |5     |40     |2025-08-28 |https://www.585zolotoy.ru/catalog/products/2792739|\n",
            "+--------------------------+----------------------+------------------------------------------------------+-------+--------+---------+--------+------+-------+-----------+--------------------------------------------------+\n",
            "only showing top 20 rows\n",
            "\n"
          ]
        }
      ],
      "source": [
        "# отбор невалидных категорий, т.е тех, которые не в списке или с NULL значением\n",
        "\n",
        "df.filter((F.col(\"category\").isNull()) | (~F.col(\"category\").isin(parsed_category))).show(truncate=False)"
      ]
    },
    {
      "cell_type": "code",
      "execution_count": 8,
      "metadata": {
        "colab": {
          "base_uri": "https://localhost:8080/"
        },
        "id": "PjOfrK1hLxXQ",
        "outputId": "98a67e2f-7c12-4181-e3d3-646fe33cbec1"
      },
      "outputs": [
        {
          "name": "stdout",
          "output_type": "stream",
          "text": [
            "+--------+----------------+------------------------------------------------+-------+--------+---------+--------+------+-------+-----------+--------------------------------------------------+\n",
            "|category|subcategory     |name                                            |sku    |price   |old_price|discount|rating|reviews|parsed_date|product_url                                       |\n",
            "+--------+----------------+------------------------------------------------+-------+--------+---------+--------+------+-------+-----------+--------------------------------------------------+\n",
            "|Подвески|Золотые подвески|Золотая подвеска с цитрином и фианитами         |9002563|17 095 ₽|75 980 ₽ |−78%    |5     |1      |2025-08-28 |https://www.585zolotoy.ru/catalog/products/9002563|\n",
            "|Серьги  |Серьги с камнями|Серебряные серьги с имитацией кварца и фианитами|1961954|2 026 ₽ |11 580 ₽ |−83%    |5     |1      |2025-08-29 |https://www.585zolotoy.ru/catalog/products/1961954|\n",
            "+--------+----------------+------------------------------------------------+-------+--------+---------+--------+------+-------+-----------+--------------------------------------------------+\n",
            "\n"
          ]
        }
      ],
      "source": [
        "# попытка восстановить категория и подкатегорию из ключевых слов в названии:\n",
        "# category = \"Кольца\" если name = \"%кольцо%\" или name = \"%печатка%\"\n",
        "\n",
        "df = df.withColumn(\"category\",\n",
        "    F.when(F.lower(F.col(\"name\")).like(\"%кольцо%\"), \"Кольца\")\n",
        "     .when(F.lower(F.col(\"name\")).like(\"%печатка%\"), \"Кольца\")\n",
        "     .otherwise(F.col(\"category\"))\n",
        ")\n",
        "\n",
        "df.filter((F.col(\"category\").isNull()) | (~F.col(\"category\").isin(parsed_category))).show(20, truncate=False)"
      ]
    },
    {
      "cell_type": "markdown",
      "metadata": {
        "id": "kD-sAMFENuNw"
      },
      "source": [
        "## Анализ поля subcategory"
      ]
    },
    {
      "cell_type": "code",
      "execution_count": 9,
      "metadata": {
        "colab": {
          "base_uri": "https://localhost:8080/"
        },
        "id": "N3YUmvJ-Iejp",
        "outputId": "6b25c55a-b995-41e8-f1bc-e772857112ca"
      },
      "outputs": [
        {
          "name": "stdout",
          "output_type": "stream",
          "text": [
            "+--------+-----------+-----------------------------+-------+--------+---------+--------+------+-------+-----------+--------------------------------------------------+\n",
            "|category|subcategory|name                         |sku    |price   |old_price|discount|rating|reviews|parsed_date|product_url                                       |\n",
            "+--------+-----------+-----------------------------+-------+--------+---------+--------+------+-------+-----------+--------------------------------------------------+\n",
            "|Кольца  |NULL       |Золотое обручальное кольцо   |7209694|42 927 ₽|156 090 ₽|−72%    |5     |50     |2025-08-28 |https://www.585zolotoy.ru/catalog/products/7209694|\n",
            "|Кольца  |NULL       |Золотое обручальное кольцо   |2792739|31 400 ₽|62 790 ₽ |−50%    |5     |40     |2025-08-28 |https://www.585zolotoy.ru/catalog/products/2792739|\n",
            "|Кольца  |NULL       |Золотое обручальное кольцо   |4025313|29 452 ₽|107 100 ₽|−73%    |5     |58     |2025-08-28 |https://www.585zolotoy.ru/catalog/products/4025313|\n",
            "|Кольца  |NULL       |Золотое обручальное кольцо   |5868236|24 890 ₽|99 550 ₽ |−75%    |5     |21     |2025-08-28 |https://www.585zolotoy.ru/catalog/products/5868236|\n",
            "|Кольца  |NULL       |Золотое обручальное кольцо   |2792735|24 745 ₽|141 400 ₽|−82%    |5     |8      |2025-08-28 |https://www.585zolotoy.ru/catalog/products/2792735|\n",
            "|Кольца  |NULL       |Золотое обручальное кольцо   |2785640|29 710 ₽|59 420 ₽ |−50%    |5     |22     |2025-08-28 |https://www.585zolotoy.ru/catalog/products/2785640|\n",
            "|Кольца  |NULL       |Серебряное кольцо с фианитами|1884222|1 851 ₽ |10 580 ₽ |−83%    |5     |6      |2025-08-28 |https://www.585zolotoy.ru/catalog/products/1884222|\n",
            "|Кольца  |NULL       |Золотое обручальное кольцо   |1074477|35 250 ₽|141 000 ₽|−75%    |5     |8      |2025-08-28 |https://www.585zolotoy.ru/catalog/products/1074477|\n",
            "|Кольца  |NULL       |Золотое обручальное кольцо   |2792731|19 760 ₽|79 040 ₽ |−75%    |5     |10     |2025-08-28 |https://www.585zolotoy.ru/catalog/products/2792731|\n",
            "|Кольца  |NULL       |Золотое обручальное кольцо   |2792737|30 175 ₽|120 690 ₽|−75%    |5     |7      |2025-08-28 |https://www.585zolotoy.ru/catalog/products/2792737|\n",
            "|Кольца  |NULL       |Золотое кольцо               |9002048|31 995 ₽|127 980 ₽|−75%    |5     |Без    |2025-08-28 |https://www.585zolotoy.ru/catalog/products/9002048|\n",
            "|Кольца  |NULL       |Золотое кольцо с фианитами   |1115407|7 210 ₽ |28 830 ₽ |−75%    |5     |22     |2025-08-28 |https://www.585zolotoy.ru/catalog/products/1115407|\n",
            "|Кольца  |NULL       |Золотое обручальное кольцо   |2246425|21 680 ₽|43 360 ₽ |−50%    |5     |6      |2025-08-29 |https://www.585zolotoy.ru/catalog/products/2246425|\n",
            "|Кольца  |NULL       |Серебряное кольцо            |1865763|1 919 ₽ |6 980 ₽  |−73%    |5     |1      |2025-08-29 |https://www.585zolotoy.ru/catalog/products/1865763|\n",
            "|Кольца  |NULL       |Золотое обручальное кольцо   |5636429|45 570 ₽|182 280 ₽|−75%    |5     |10     |2025-08-29 |https://www.585zolotoy.ru/catalog/products/5636429|\n",
            "|Кольца  |NULL       |Золотое обручальное кольцо   |1169233|24 770 ₽|49 530 ₽ |−50%    |5     |4      |2025-08-29 |https://www.585zolotoy.ru/catalog/products/1169233|\n",
            "|Кольца  |NULL       |Золотое обручальное кольцо   |1763316|19 750 ₽|39 500 ₽ |−50%    |5     |10     |2025-08-29 |https://www.585zolotoy.ru/catalog/products/1763316|\n",
            "|Кольца  |NULL       |Серебряное кольцо с фианитами|1551512|2 026 ₽ |11 580 ₽ |−83%    |5     |Без    |2025-08-29 |https://www.585zolotoy.ru/catalog/products/1551512|\n",
            "|Кольца  |NULL       |Золотое кольцо с фианитами   |1375773|6 594 ₽ |23 980 ₽ |−73%    |5     |4      |2025-08-29 |https://www.585zolotoy.ru/catalog/products/1375773|\n",
            "|Кольца  |NULL       |Золотое обручальное кольцо   |1678358|19 090 ₽|38 170 ₽ |−50%    |5     |10     |2025-08-29 |https://www.585zolotoy.ru/catalog/products/1678358|\n",
            "+--------+-----------+-----------------------------+-------+--------+---------+--------+------+-------+-----------+--------------------------------------------------+\n",
            "only showing top 20 rows\n",
            "\n"
          ]
        }
      ],
      "source": [
        "# отбор невалидных подкатегорий, с NULL значениями\n",
        "\n",
        "df.filter((F.col(\"subcategory\").isNull())).show(truncate=False)"
      ]
    },
    {
      "cell_type": "markdown",
      "metadata": {
        "id": "Tzs6S8KcPUxQ"
      },
      "source": [
        "Однозначно, по ключевому слову в имени, восстановить поддкатегорию не удасться"
      ]
    },
    {
      "cell_type": "markdown",
      "metadata": {
        "id": "nvM1KiRjRKME"
      },
      "source": [
        "## Анализ поля sku"
      ]
    },
    {
      "cell_type": "code",
      "execution_count": 10,
      "metadata": {
        "colab": {
          "base_uri": "https://localhost:8080/"
        },
        "id": "RkxIK5ucIeml",
        "outputId": "86c21e6f-e268-4e5f-e36c-dd90bf2269ef"
      },
      "outputs": [
        {
          "name": "stdout",
          "output_type": "stream",
          "text": [
            "+--------+-----------+----+---+-----+---------+--------+------+-------+-----------+-----------+\n",
            "|category|subcategory|name|sku|price|old_price|discount|rating|reviews|parsed_date|product_url|\n",
            "+--------+-----------+----+---+-----+---------+--------+------+-------+-----------+-----------+\n",
            "+--------+-----------+----+---+-----+---------+--------+------+-------+-----------+-----------+\n",
            "\n"
          ]
        }
      ],
      "source": [
        "# Попытка преобразовать sku в число, если не получается - оставляем строку\n",
        "\n",
        "df.filter(F.col(\"sku\").cast(\"int\").isNull()).show()"
      ]
    },
    {
      "cell_type": "markdown",
      "metadata": {
        "id": "9aeGrqejRkfs"
      },
      "source": [
        "## Анализ поля price и old_price"
      ]
    },
    {
      "cell_type": "code",
      "execution_count": 11,
      "metadata": {
        "colab": {
          "base_uri": "https://localhost:8080/"
        },
        "id": "7RXUFPCcLxaT",
        "outputId": "52675987-d0a4-45db-c7ee-38ca33464a51"
      },
      "outputs": [
        {
          "name": "stdout",
          "output_type": "stream",
          "text": [
            "+-----------+\n",
            "|last_symbol|\n",
            "+-----------+\n",
            "|          ₽|\n",
            "|       NULL|\n",
            "+-----------+\n",
            "\n"
          ]
        }
      ],
      "source": [
        "# Последний символ каждой строки price и находим уникальные\n",
        "\n",
        "(\n",
        "    df.select(\n",
        "    F.substring(F.col(\"price\"), -1, 1).alias(\"last_symbol\"))\n",
        "    .distinct().show()\n",
        ")"
      ]
    },
    {
      "cell_type": "code",
      "execution_count": 13,
      "metadata": {
        "colab": {
          "base_uri": "https://localhost:8080/"
        },
        "id": "BN0RAGHuTJHJ",
        "outputId": "cef81398-3f60-49d5-c6b0-f5440665f99d"
      },
      "outputs": [
        {
          "name": "stdout",
          "output_type": "stream",
          "text": [
            "Все строки содержащие отрицательные значения цен\n",
            "+--------+-----------+----+---+-----+---------+--------+------+-------+-----------+-----------+\n",
            "|category|subcategory|name|sku|price|old_price|discount|rating|reviews|parsed_date|product_url|\n",
            "+--------+-----------+----+---+-----+---------+--------+------+-------+-----------+-----------+\n",
            "+--------+-----------+----+---+-----+---------+--------+------+-------+-----------+-----------+\n",
            "\n"
          ]
        }
      ],
      "source": [
        "print(\"Все строки содержащие отрицательные значения цен\")\n",
        "\n",
        "df.filter(\n",
        "    (F.col('price') < 0) |\n",
        "    (F.col('old_price') < 0)\n",
        ").show(truncate=False)"
      ]
    },
    {
      "cell_type": "markdown",
      "metadata": {
        "id": "o3QJtL6k_ZpX"
      },
      "source": [
        "Есть товары без цены (недоступные для заказа), без указания скидки, без указания старой цены"
      ]
    },
    {
      "cell_type": "markdown",
      "metadata": {
        "id": "asdQYG8t-gM3"
      },
      "source": [
        "<!-- Есть товары с ценой NULL (недоступные для заказа), без указания старой цены без скидки -->"
      ]
    },
    {
      "cell_type": "markdown",
      "metadata": {
        "id": "kJxcr_2OC1no"
      },
      "source": [
        "# 3. Преобразование и очистка данных"
      ]
    },
    {
      "cell_type": "code",
      "execution_count": 14,
      "metadata": {
        "id": "H3T2-JFg8Z8M"
      },
      "outputs": [],
      "source": [
        "# очистка и преобразование цены\n",
        "# Удаляем все не-цифровые символы\n",
        "df = df.withColumn(\"price\",\n",
        "                  F.regexp_replace(F.col(\"price\"), r'[^\\d]', '').cast('int')) \\\n",
        "       .withColumn(\"old_price\",\n",
        "                  F.regexp_replace(F.col(\"old_price\"), r'[^\\d]', '').cast('int'))"
      ]
    },
    {
      "cell_type": "code",
      "execution_count": 15,
      "metadata": {
        "id": "NfWqwPE78Z_B"
      },
      "outputs": [],
      "source": [
        "# очистка и преобразование скидки\n",
        "\n",
        "def clean_discount(column):\n",
        "    return F.when(column.isNotNull(),\n",
        "                 F.abs(  # значение по модулю\n",
        "                     F.replace(\n",
        "                         F.replace(column, F.lit(\"−\"), F.lit(\"-\")),\n",
        "                         F.lit(\"%\"), F.lit(\"\")\n",
        "                     ).cast(\"int\")\n",
        "                 )\n",
        "         ).otherwise(F.lit(None))\n",
        "\n",
        "df = df.withColumn(\"discount\", clean_discount(F.col(\"discount\")))"
      ]
    },
    {
      "cell_type": "code",
      "execution_count": 16,
      "metadata": {
        "id": "gZDC0a7a8aBs"
      },
      "outputs": [],
      "source": [
        "# очистка и преобразование просмотров\n",
        "\n",
        "def clean_reviews(column):\n",
        "    return F.when(column.isNotNull(),\n",
        "                 F.replace(column, F.lit(\"Без\"), F.lit(\"0\")).cast(\"int\")\n",
        "         ).otherwise(F.lit(None))\n",
        "\n",
        "df = df.withColumn(\"reviews\", clean_reviews(F.col(\"reviews\")))"
      ]
    },
    {
      "cell_type": "code",
      "execution_count": 17,
      "metadata": {
        "colab": {
          "base_uri": "https://localhost:8080/"
        },
        "id": "2Vq1OOYolqz5",
        "outputId": "28fc5b2e-dd32-44c5-d93e-bd9cafd6ebe6"
      },
      "outputs": [
        {
          "name": "stdout",
          "output_type": "stream",
          "text": [
            "+--------+--------------+---------------------------------------------------+-------+-----+---------+--------+------+-------+-----------+--------------------------------------------------+\n",
            "|category|subcategory   |name                                               |sku    |price|old_price|discount|rating|reviews|parsed_date|product_url                                       |\n",
            "+--------+--------------+---------------------------------------------------+-------+-----+---------+--------+------+-------+-----------+--------------------------------------------------+\n",
            "|Кольца  |Женские кольца|Золотое кольцо с сапфиром выращенным и бриллиантами|1978724|12790|25580    |50      |5     |42     |2025-08-28 |https://www.585zolotoy.ru/catalog/products/1978724|\n",
            "|Кольца  |Мужские кольца|Золотое обручальное кольцо                         |9001102|12347|44900    |73      |5     |46     |2025-08-28 |https://www.585zolotoy.ru/catalog/products/9001102|\n",
            "|Кольца  |Широкие кольца|Золотое кольцо с бриллиантами                      |1553012|41495|165980   |75      |5     |31     |2025-08-28 |https://www.585zolotoy.ru/catalog/products/1553012|\n",
            "|Кольца  |Ювелирная база|Золотое кольцо с премиум цирконием                 |9002261|13990|27980    |50      |5     |21     |2025-08-28 |https://www.585zolotoy.ru/catalog/products/9002261|\n",
            "|Кольца  |Ювелирная база|Золотое кольцо с бриллиантом                       |1847403|9990 |NULL     |NULL    |5     |235    |2025-08-28 |https://www.585zolotoy.ru/catalog/products/1847403|\n",
            "+--------+--------------+---------------------------------------------------+-------+-----+---------+--------+------+-------+-----------+--------------------------------------------------+\n",
            "only showing top 5 rows\n",
            "\n"
          ]
        }
      ],
      "source": [
        "df.show(5, truncate=False)"
      ]
    },
    {
      "cell_type": "code",
      "execution_count": null,
      "metadata": {
        "colab": {
          "base_uri": "https://localhost:8080/"
        },
        "id": "Zj16E3peMQCt",
        "outputId": "cbc2318d-9f5e-4a74-cb33-a34b62f75e05"
      },
      "outputs": [
        {
          "name": "stdout",
          "output_type": "stream",
          "text": [
            "Количество null значений после восстановления:\n",
            "+--------+-----------+----+---+-----+---------+--------+------+-------+-----------+-----------+\n",
            "|category|subcategory|name|sku|price|old_price|discount|rating|reviews|parsed_date|product_url|\n",
            "+--------+-----------+----+---+-----+---------+--------+------+-------+-----------+-----------+\n",
            "|       0|         35|   0|  0| 2039|     2047|    2047|     0|      0|          0|          0|\n",
            "+--------+-----------+----+---+-----+---------+--------+------+-------+-----------+-----------+\n",
            "\n"
          ]
        }
      ],
      "source": [
        "print(\"Количество null значений после восстановления:\")\n",
        "\n",
        "df.select([F.sum(F.isnull(c).cast(\"int\")).alias(c) for c in df.columns]).show()"
      ]
    },
    {
      "cell_type": "code",
      "execution_count": null,
      "metadata": {
        "colab": {
          "base_uri": "https://localhost:8080/"
        },
        "id": "_rNwhQL6Q6tC",
        "outputId": "7adfce34-b4ad-4082-c499-6b0a023aa31b"
      },
      "outputs": [
        {
          "name": "stdout",
          "output_type": "stream",
          "text": [
            "Все строки содержащие NULL значения\n",
            "+--------+-------------------------+-----------------------------------------------------+-------+-----+---------+--------+------+-------+-----------+--------------------------------------------------+\n",
            "|category|subcategory              |name                                                 |sku    |price|old_price|discount|rating|reviews|parsed_date|product_url                                       |\n",
            "+--------+-------------------------+-----------------------------------------------------+-------+-----+---------+--------+------+-------+-----------+--------------------------------------------------+\n",
            "|Кольца  |Ювелирная база           |Золотое кольцо с бриллиантом                         |1847403|9990 |NULL     |NULL    |5     |235    |2025-08-28 |https://www.585zolotoy.ru/catalog/products/1847403|\n",
            "|Кольца  |Ювелирная база           |Золотое кольцо с бриллиантами                        |1730487|16990|NULL     |NULL    |5     |55     |2025-08-28 |https://www.585zolotoy.ru/catalog/products/1730487|\n",
            "|Кольца  |Женские кольца           |Серебряное кольцо с фианитами                        |9002043|1390 |NULL     |NULL    |5     |33     |2025-08-28 |https://www.585zolotoy.ru/catalog/products/9002043|\n",
            "|Кольца  |NULL                     |Золотое обручальное кольцо                           |7209694|42927|156090   |72      |5     |50     |2025-08-28 |https://www.585zolotoy.ru/catalog/products/7209694|\n",
            "|Кольца  |Кольца из красного золота|Золотое кольцо с сапфирами выращенными и бриллиантами|8348790|12990|NULL     |NULL    |5     |163    |2025-08-28 |https://www.585zolotoy.ru/catalog/products/8348790|\n",
            "|Кольца  |Стильное серебро         |Серебряное кольцо с фианитами                        |1654288|590  |NULL     |NULL    |5     |132    |2025-08-28 |https://www.585zolotoy.ru/catalog/products/1654288|\n",
            "|Кольца  |NULL                     |Золотое обручальное кольцо                           |2792739|31400|62790    |50      |5     |40     |2025-08-28 |https://www.585zolotoy.ru/catalog/products/2792739|\n",
            "|Кольца  |Ювелирная база           |Золотое кольцо с фианитом                            |9002224|5990 |NULL     |NULL    |5     |32     |2025-08-28 |https://www.585zolotoy.ru/catalog/products/9002224|\n",
            "|Кольца  |NULL                     |Золотое обручальное кольцо                           |4025313|29452|107100   |73      |5     |58     |2025-08-28 |https://www.585zolotoy.ru/catalog/products/4025313|\n",
            "|Кольца  |Мужские кольца           |Серебряное кольцо с эмалью                           |9001533|3490 |NULL     |NULL    |5     |11     |2025-08-28 |https://www.585zolotoy.ru/catalog/products/9001533|\n",
            "|Кольца  |NULL                     |Золотое обручальное кольцо                           |5868236|24890|99550    |75      |5     |21     |2025-08-28 |https://www.585zolotoy.ru/catalog/products/5868236|\n",
            "|Кольца  |NULL                     |Золотое обручальное кольцо                           |2792735|24745|141400   |82      |5     |8      |2025-08-28 |https://www.585zolotoy.ru/catalog/products/2792735|\n",
            "|Кольца  |Мужские кольца           |Золотая печатка                                      |9002199|9990 |NULL     |NULL    |5     |34     |2025-08-28 |https://www.585zolotoy.ru/catalog/products/9002199|\n",
            "|Кольца  |NULL                     |Золотое обручальное кольцо                           |2785640|29710|59420    |50      |5     |22     |2025-08-28 |https://www.585zolotoy.ru/catalog/products/2785640|\n",
            "|Кольца  |Мужские кольца           |Серебряное обручальное кольцо                        |8303194|NULL |NULL     |NULL    |5     |73     |2025-08-28 |https://www.585zolotoy.ru/catalog/products/8303194|\n",
            "|Кольца  |Кольца из красного золота|Золотое кольцо с бриллиантом                         |1513987|NULL |NULL     |NULL    |5     |4      |2025-08-28 |https://www.585zolotoy.ru/catalog/products/1513987|\n",
            "|Кольца  |Ювелирная база           |Золотое кольцо с бриллиантом                         |1061531|NULL |NULL     |NULL    |5     |0      |2025-08-28 |https://www.585zolotoy.ru/catalog/products/1061531|\n",
            "|Кольца  |NULL                     |Серебряное кольцо с фианитами                        |1884222|1851 |10580    |83      |5     |6      |2025-08-28 |https://www.585zolotoy.ru/catalog/products/1884222|\n",
            "|Кольца  |NULL                     |Золотое обручальное кольцо                           |1074477|35250|141000   |75      |5     |8      |2025-08-28 |https://www.585zolotoy.ru/catalog/products/1074477|\n",
            "|Кольца  |Женские кольца           |Серебряное кольцо с фианитами                        |1803936|NULL |NULL     |NULL    |5     |12     |2025-08-28 |https://www.585zolotoy.ru/catalog/products/1803936|\n",
            "+--------+-------------------------+-----------------------------------------------------+-------+-----+---------+--------+------+-------+-----------+--------------------------------------------------+\n",
            "only showing top 20 rows\n",
            "\n"
          ]
        }
      ],
      "source": [
        "print(\"Пример строк, содержащие NULL значения\")\n",
        "\n",
        "df.filter(\n",
        "    F.col('subcategory').isNull() |\n",
        "    F.col('price').isNull() |\n",
        "    F.col('old_price').isNull() |\n",
        "    F.col('discount').isNull()\n",
        ").show(truncate=False)"
      ]
    },
    {
      "cell_type": "markdown",
      "metadata": {
        "id": "jNsT4si0_0hP"
      },
      "source": [
        "Вроде норм, можно грузить в базу"
      ]
    },
    {
      "cell_type": "markdown",
      "metadata": {
        "id": "zh8nHi0aDU0I"
      },
      "source": [
        "# Настройка подключения к БД"
      ]
    },
    {
      "cell_type": "code",
      "execution_count": null,
      "metadata": {
        "id": "eRH9UOb0nP-i"
      },
      "outputs": [],
      "source": [
        "import pandas as pd\n",
        "import psycopg2\n",
        "from psycopg2.extras import RealDictCursor\n",
        "pd.set_option('display.max_columns', None)\n",
        "\n",
        "# Параметры подключения к БД\n",
        "\n",
        "conn_info = {\n",
        "    'dbname': 'my_db',\n",
        "    'user': 'my_user',\n",
        "    'password': 'my_pass',\n",
        "    'host': 'my_host',\n",
        "    'port': 6432,\n",
        "    'options': '-c client_encoding=utf8', # Принудительная установка кодировки\n",
        "    'client_encoding': 'utf8',\n",
        "\n",
        "    # Добавляем параметры для устойчивого подключения\n",
        "    'connect_timeout': 10,\n",
        "    'keepalives': 1,\n",
        "    'keepalives_idle': 30,\n",
        "    'keepalives_interval': 10,\n",
        "    'keepalives_count': 3,\n",
        "}"
      ]
    },
    {
      "cell_type": "markdown",
      "metadata": {
        "id": "J7KwmDTXDoOn"
      },
      "source": [
        "Моя обёртка для работы с PostgreSQL через psycopg2"
      ]
    },
    {
      "cell_type": "code",
      "execution_count": 21,
      "metadata": {
        "id": "LDepvlFIlq3f"
      },
      "outputs": [],
      "source": [
        "class Postgres:\n",
        "    # Простая обёртка для работы с PostgreSQL через psycopg2\n",
        "    def __init__(self, config):\n",
        "        \"\"\"\n",
        "        Инициализация подключения к базе.\n",
        "        :param config: словарь с параметрами подключения\n",
        "        \"\"\"\n",
        "        try:\n",
        "            self._conn = psycopg2.connect(**config)\n",
        "            self._conn.set_client_encoding('UTF8')  # кодировка UTF-8\n",
        "        except Exception as e:\n",
        "            print(\"Ошибка подключения:\", e)\n",
        "            raise\n",
        "\n",
        "    def execute(self, query, params=None):\n",
        "        \"\"\"\n",
        "        Выполнить запрос без возврата данных (INSERT/UPDATE/DELETE).\n",
        "        :param query: SQL-запрос\n",
        "        :param params: кортеж или список параметров\n",
        "        \"\"\"\n",
        "        with self._conn.cursor() as cur:\n",
        "            cur.execute(query, params)\n",
        "        self._conn.commit()  # зафиксировать изменения\n",
        "\n",
        "    def fetchall(self, query, params=None):\n",
        "        \"\"\"\n",
        "        Выполнить SELECT и вернуть все строки.\n",
        "        :param query: SQL-запрос\n",
        "        :param params: кортеж или список параметров\n",
        "        :return: список словарей (RealDictCursor)\n",
        "        \"\"\"\n",
        "        with self._conn.cursor(cursor_factory=RealDictCursor) as cur:\n",
        "            cur.execute(query, params)\n",
        "            return cur.fetchall()\n",
        "\n",
        "    def close(self):\n",
        "        \"\"\"\n",
        "        Закрыть подключение к базе.\n",
        "        \"\"\"\n",
        "        self._conn.close()"
      ]
    },
    {
      "cell_type": "markdown",
      "metadata": {
        "id": "BKGkpHprJTCg"
      },
      "source": [
        "Обертка в функции команд по взаимадействия с БД"
      ]
    },
    {
      "cell_type": "code",
      "execution_count": 22,
      "metadata": {
        "id": "5i0EZVt4lq6O"
      },
      "outputs": [],
      "source": [
        "# функция выборки данных\n",
        "\n",
        "def SELECT(sql, config, params=None):\n",
        "    \"\"\"\n",
        "    Выполнить SELECT-запрос и вернуть результат в виде DataFrame.\n",
        "    :param sql: SQL-запрос\n",
        "    :param config: словарь с параметрами подключения\n",
        "    :param params: кортеж или список параметров (по умолчанию None)\n",
        "    :return: pandas.DataFrame с данными\n",
        "    \"\"\"\n",
        "    conn = Postgres(config)\n",
        "    try:\n",
        "        rows = conn.fetchall(sql, params)\n",
        "        df = pd.DataFrame(rows)\n",
        "    finally:\n",
        "        conn.close()\n",
        "    return df"
      ]
    },
    {
      "cell_type": "code",
      "execution_count": 23,
      "metadata": {
        "id": "DwrYZNMwJiAH"
      },
      "outputs": [],
      "source": [
        "# функция выполнения команд\n",
        "\n",
        "def EXECUTE(sql, config, params=None, autocommit=False):\n",
        "    \"\"\"\n",
        "    Выполняет SQL-запросы с поддержкой многострочных команд (например, процедур).\n",
        "\n",
        "    :param sql: SQL-запрос или набор запросов\n",
        "    :param config: Конфигурация подключения к БД\n",
        "    :param params: Параметры для запроса (опционально)\n",
        "    :param autocommit: Если True, выполняет команды вне транзакции (для DDL-команд)\n",
        "    \"\"\"\n",
        "    conn = Postgres(config)\n",
        "    conn._conn.autocommit = autocommit\n",
        "\n",
        "    try:\n",
        "        if '$$' in sql:\n",
        "            conn.execute(sql, params)\n",
        "            print(\"Успешно выполнена процедура/функция.\")\n",
        "        else:\n",
        "            statements = [stmt.strip() for stmt in sql.split(';') if stmt.strip()]\n",
        "            for idx, statement in enumerate(statements, start=1):\n",
        "                conn.execute(statement, params)\n",
        "                print(f\"Успешно выполнена команда {idx}: {statement[:60]}...\")\n",
        "    except Exception as e:\n",
        "        print(f\"Ошибка выполнения SQL: {e}\")\n",
        "        raise\n",
        "    finally:\n",
        "        conn.close()"
      ]
    },
    {
      "cell_type": "markdown",
      "metadata": {
        "id": "sX9U3nYjKQJA"
      },
      "source": [
        "# Сохранение данных в БД"
      ]
    },
    {
      "cell_type": "code",
      "execution_count": 25,
      "metadata": {
        "colab": {
          "base_uri": "https://localhost:8080/"
        },
        "id": "xp5T0sFWJiFO",
        "outputId": "1e052559-a5b2-4e2e-c006-3ea3dc6391d9"
      },
      "outputs": [
        {
          "name": "stdout",
          "output_type": "stream",
          "text": [
            "Успешно выполнена команда 1: DROP TABLE IF EXISTS public.zolotoy...\n",
            "Успешно выполнена команда 2: CREATE TABLE public.zolotoy(\n",
            "    sku INTEGER NOT NULL PRIMAR...\n",
            "Успешно выполнена команда 3: -- Ограничения для целостности данных\n",
            "ALTER TABLE public.zol...\n",
            "Успешно выполнена команда 4: ALTER TABLE public.zolotoy ADD CONSTRAINT chk_old_price CHEC...\n",
            "Успешно выполнена команда 5: ALTER TABLE public.zolotoy ADD CONSTRAINT chk_discount CHECK...\n",
            "Успешно выполнена команда 6: ALTER TABLE public.zolotoy ADD CONSTRAINT chk_rating CHECK (...\n"
          ]
        }
      ],
      "source": [
        "# Создание таблицы в схеме\n",
        "\n",
        "create_table = \"\"\"\n",
        "DROP TABLE IF EXISTS public.zolotoy;\n",
        "CREATE TABLE public.zolotoy(\n",
        "    sku INTEGER NOT NULL PRIMARY KEY,\n",
        "    category VARCHAR(255),\n",
        "    subcategory VARCHAR(255),\n",
        "    name VARCHAR(500) NOT NULL,\n",
        "    price INTEGER,\n",
        "    old_price INTEGER,\n",
        "    discount INTEGER,\n",
        "    rating INTEGER,\n",
        "    reviews INTEGER NOT NULL,\n",
        "    parsed_date DATE NOT NULL,\n",
        "    product_url TEXT NOT NULL,\n",
        "    upload_at TIMESTAMP DEFAULT CURRENT_TIMESTAMP\n",
        ");\n",
        "\n",
        "-- Ограничения для целостности данных\n",
        "ALTER TABLE public.zolotoy ADD CONSTRAINT chk_price CHECK (price >= 0 OR price IS NULL);\n",
        "ALTER TABLE public.zolotoy ADD CONSTRAINT chk_old_price CHECK (old_price >= 0 OR old_price IS NULL);\n",
        "ALTER TABLE public.zolotoy ADD CONSTRAINT chk_discount CHECK (discount BETWEEN 0 AND 100 OR discount IS NULL);\n",
        "ALTER TABLE public.zolotoy ADD CONSTRAINT chk_rating CHECK (rating BETWEEN 0 AND 5 OR rating IS NULL);\n",
        "\"\"\"\n",
        "# выполнение запросов\n",
        "EXECUTE(create_table, conn_info)"
      ]
    },
    {
      "cell_type": "code",
      "execution_count": null,
      "metadata": {
        "id": "b8CQZWl1JiHv"
      },
      "outputs": [],
      "source": [
        "def upload_to_postgres_batch(df_pandas, conn_info, batch_size=100):\n",
        "    \"\"\"Пакетная загрузка данных в PostgreSQL\"\"\"\n",
        "    import psycopg2\n",
        "    from psycopg2.extras import execute_batch\n",
        "    import pandas as pd\n",
        "\n",
        "    # SQL запрос для вставки\n",
        "    insert_sql = \"\"\"\n",
        "        INSERT INTO public.zolotoy (\n",
        "            sku, category, subcategory, name, price, old_price,\n",
        "            discount, rating, reviews, parsed_date, product_url\n",
        "        )\n",
        "        VALUES (%s, %s, %s, %s, %s, %s, %s, %s, %s, %s, %s)\n",
        "        ON CONFLICT (sku) DO UPDATE SET\n",
        "            category = EXCLUDED.category,\n",
        "            subcategory = EXCLUDED.subcategory,\n",
        "            name = EXCLUDED.name,\n",
        "            price = EXCLUDED.price,\n",
        "            old_price = EXCLUDED.old_price,\n",
        "            discount = EXCLUDED.discount,\n",
        "            rating = EXCLUDED.rating,\n",
        "            reviews = EXCLUDED.reviews,\n",
        "            parsed_date = EXCLUDED.parsed_date,\n",
        "            product_url = EXCLUDED.product_url\n",
        "    \"\"\"\n",
        "\n",
        "    # Подготавливаем данные\n",
        "    records = []\n",
        "    for _, row in df_pandas.iterrows():\n",
        "        record = (\n",
        "            row['sku'],\n",
        "            row['category'],\n",
        "            row['subcategory'] if pd.notna(row['subcategory']) else None,\n",
        "            row['name'],\n",
        "            row['price'] if pd.notna(row['price']) else None,\n",
        "            row['old_price'] if pd.notna(row['old_price']) else None,\n",
        "            row['discount'] if pd.notna(row['discount']) else None,\n",
        "            row['rating'] if pd.notna(row['rating']) else None,\n",
        "            row['reviews'],\n",
        "            row['parsed_date'],\n",
        "            row['product_url']\n",
        "        )\n",
        "        records.append(record)\n",
        "\n",
        "    # Загружаем данные\n",
        "    try:\n",
        "        conn = psycopg2.connect(**conn_info)\n",
        "        cur = conn.cursor()\n",
        "\n",
        "        # Выполняем пакетную вставку\n",
        "        execute_batch(cur, insert_sql, records, page_size=batch_size)\n",
        "        conn.commit()\n",
        "\n",
        "        print(f\"Успешно загружено {len(records)} записей\")\n",
        "\n",
        "    except Exception as e:\n",
        "        print(f\"Ошибка загрузки: {e}\")\n",
        "        if 'conn' in locals() and conn:\n",
        "            conn.rollback()\n",
        "        raise\n",
        "\n",
        "    finally:\n",
        "        if 'cur' in locals() and cur:\n",
        "            cur.close()\n",
        "        if 'conn' in locals() and conn:\n",
        "            conn.close()"
      ]
    },
    {
      "cell_type": "markdown",
      "metadata": {
        "id": "jgfOLsaH0lrj"
      },
      "source": [
        "## Запись в БД"
      ]
    },
    {
      "cell_type": "code",
      "execution_count": 27,
      "metadata": {
        "id": "K-WI7_h9SqcL"
      },
      "outputs": [],
      "source": [
        "# Преобразуем Spark DataFrame в pandas DataFrame\n",
        "\n",
        "df_pandas = df.toPandas()"
      ]
    },
    {
      "cell_type": "code",
      "execution_count": null,
      "metadata": {
        "id": "8pVNCTEDo2Wb"
      },
      "outputs": [],
      "source": [
        "# Загружаем данные\n",
        "\n",
        "upload_to_postgres_batch(df_pandas, conn_info, batch_size=100)"
      ]
    },
    {
      "cell_type": "code",
      "execution_count": 30,
      "metadata": {
        "colab": {
          "base_uri": "https://localhost:8080/",
          "height": 417
        },
        "id": "feE3Xh5PKyle",
        "outputId": "96bc8235-69ba-4b5e-c04a-76dce76b5bb5"
      },
      "outputs": [
        {
          "data": {
            "application/vnd.google.colaboratory.intrinsic+json": {
              "summary": "{\n  \"name\": \"SELECT(get_data, conn_info)\",\n  \"rows\": 5,\n  \"fields\": [\n    {\n      \"column\": \"sku\",\n      \"properties\": {\n        \"dtype\": \"number\",\n        \"std\": 265095,\n        \"min\": 1317391,\n        \"max\": 2004442,\n        \"num_unique_values\": 5,\n        \"samples\": [\n          1317391,\n          1847456,\n          2004442\n        ],\n        \"semantic_type\": \"\",\n        \"description\": \"\"\n      }\n    },\n    {\n      \"column\": \"category\",\n      \"properties\": {\n        \"dtype\": \"category\",\n        \"num_unique_values\": 1,\n        \"samples\": [\n          \"\\u041a\\u043e\\u043b\\u044c\\u0446\\u0430\"\n        ],\n        \"semantic_type\": \"\",\n        \"description\": \"\"\n      }\n    },\n    {\n      \"column\": \"subcategory\",\n      \"properties\": {\n        \"dtype\": \"category\",\n        \"num_unique_values\": 2,\n        \"samples\": [\n          \"\\u041c\\u0443\\u0436\\u0441\\u043a\\u0438\\u0435 \\u043a\\u043e\\u043b\\u044c\\u0446\\u0430\"\n        ],\n        \"semantic_type\": \"\",\n        \"description\": \"\"\n      }\n    },\n    {\n      \"column\": \"name\",\n      \"properties\": {\n        \"dtype\": \"string\",\n        \"num_unique_values\": 4,\n        \"samples\": [\n          \"\\u0417\\u043e\\u043b\\u043e\\u0442\\u043e\\u0435 \\u043a\\u043e\\u043b\\u044c\\u0446\\u043e \\u0441 \\u0440\\u0443\\u0431\\u0438\\u043d\\u043e\\u043c \\u0438 \\u0431\\u0440\\u0438\\u043b\\u043b\\u0438\\u0430\\u043d\\u0442\\u0430\\u043c\\u0438\"\n        ],\n        \"semantic_type\": \"\",\n        \"description\": \"\"\n      }\n    },\n    {\n      \"column\": \"price\",\n      \"properties\": {\n        \"dtype\": \"number\",\n        \"std\": 17321,\n        \"min\": 7700,\n        \"max\": 51495,\n        \"num_unique_values\": 5,\n        \"samples\": [\n          51495\n        ],\n        \"semantic_type\": \"\",\n        \"description\": \"\"\n      }\n    },\n    {\n      \"column\": \"old_price\",\n      \"properties\": {\n        \"dtype\": \"number\",\n        \"std\": 69544,\n        \"min\": 30790,\n        \"max\": 205980,\n        \"num_unique_values\": 5,\n        \"samples\": [\n          205980\n        ],\n        \"semantic_type\": \"\",\n        \"description\": \"\"\n      }\n    },\n    {\n      \"column\": \"discount\",\n      \"properties\": {\n        \"dtype\": \"number\",\n        \"std\": 1,\n        \"min\": 73,\n        \"max\": 75,\n        \"num_unique_values\": 2,\n        \"samples\": [\n          75\n        ],\n        \"semantic_type\": \"\",\n        \"description\": \"\"\n      }\n    },\n    {\n      \"column\": \"rating\",\n      \"properties\": {\n        \"dtype\": \"number\",\n        \"std\": 0,\n        \"min\": 5,\n        \"max\": 5,\n        \"num_unique_values\": 1,\n        \"samples\": [\n          5\n        ],\n        \"semantic_type\": \"\",\n        \"description\": \"\"\n      }\n    },\n    {\n      \"column\": \"reviews\",\n      \"properties\": {\n        \"dtype\": \"number\",\n        \"std\": 16.62828914831589,\n        \"min\": 1.0,\n        \"max\": 34.0,\n        \"num_unique_values\": 4,\n        \"samples\": [\n          34.0\n        ],\n        \"semantic_type\": \"\",\n        \"description\": \"\"\n      }\n    },\n    {\n      \"column\": \"parsed_date\",\n      \"properties\": {\n        \"dtype\": \"date\",\n        \"min\": \"2025-08-28\",\n        \"max\": \"2025-08-28\",\n        \"num_unique_values\": 1,\n        \"samples\": [\n          \"2025-08-28\"\n        ],\n        \"semantic_type\": \"\",\n        \"description\": \"\"\n      }\n    },\n    {\n      \"column\": \"product_url\",\n      \"properties\": {\n        \"dtype\": \"string\",\n        \"num_unique_values\": 5,\n        \"samples\": [\n          \"https://www.585zolotoy.ru/catalog/products/1317391\"\n        ],\n        \"semantic_type\": \"\",\n        \"description\": \"\"\n      }\n    },\n    {\n      \"column\": \"upload_at\",\n      \"properties\": {\n        \"dtype\": \"date\",\n        \"min\": \"2025-08-29 16:09:20.444593\",\n        \"max\": \"2025-08-29 16:09:20.444593\",\n        \"num_unique_values\": 1,\n        \"samples\": [\n          \"2025-08-29 16:09:20.444593\"\n        ],\n        \"semantic_type\": \"\",\n        \"description\": \"\"\n      }\n    }\n  ]\n}",
              "type": "dataframe"
            },
            "text/html": [
              "\n",
              "  <div id=\"df-30afe7e0-8f7b-4604-9b09-211c79fd92d2\" class=\"colab-df-container\">\n",
              "    <div>\n",
              "<style scoped>\n",
              "    .dataframe tbody tr th:only-of-type {\n",
              "        vertical-align: middle;\n",
              "    }\n",
              "\n",
              "    .dataframe tbody tr th {\n",
              "        vertical-align: top;\n",
              "    }\n",
              "\n",
              "    .dataframe thead th {\n",
              "        text-align: right;\n",
              "    }\n",
              "</style>\n",
              "<table border=\"1\" class=\"dataframe\">\n",
              "  <thead>\n",
              "    <tr style=\"text-align: right;\">\n",
              "      <th></th>\n",
              "      <th>sku</th>\n",
              "      <th>category</th>\n",
              "      <th>subcategory</th>\n",
              "      <th>name</th>\n",
              "      <th>price</th>\n",
              "      <th>old_price</th>\n",
              "      <th>discount</th>\n",
              "      <th>rating</th>\n",
              "      <th>reviews</th>\n",
              "      <th>parsed_date</th>\n",
              "      <th>product_url</th>\n",
              "      <th>upload_at</th>\n",
              "    </tr>\n",
              "  </thead>\n",
              "  <tbody>\n",
              "    <tr>\n",
              "      <th>0</th>\n",
              "      <td>1593061</td>\n",
              "      <td>Кольца</td>\n",
              "      <td>Кольца из красного золота</td>\n",
              "      <td>Золотое кольцо с бриллиантами</td>\n",
              "      <td>35194</td>\n",
              "      <td>127980</td>\n",
              "      <td>73</td>\n",
              "      <td>5</td>\n",
              "      <td>1.0</td>\n",
              "      <td>2025-08-28</td>\n",
              "      <td>https://www.585zolotoy.ru/catalog/products/159...</td>\n",
              "      <td>2025-08-29 16:09:20.444593</td>\n",
              "    </tr>\n",
              "    <tr>\n",
              "      <th>1</th>\n",
              "      <td>1317391</td>\n",
              "      <td>Кольца</td>\n",
              "      <td>Кольца из красного золота</td>\n",
              "      <td>Золотое кольцо с рубином и бриллиантами</td>\n",
              "      <td>51495</td>\n",
              "      <td>205980</td>\n",
              "      <td>75</td>\n",
              "      <td>5</td>\n",
              "      <td>1.0</td>\n",
              "      <td>2025-08-28</td>\n",
              "      <td>https://www.585zolotoy.ru/catalog/products/131...</td>\n",
              "      <td>2025-08-29 16:09:20.444593</td>\n",
              "    </tr>\n",
              "    <tr>\n",
              "      <th>2</th>\n",
              "      <td>2004442</td>\n",
              "      <td>Кольца</td>\n",
              "      <td>Мужские кольца</td>\n",
              "      <td>Золотое обручальное кольцо</td>\n",
              "      <td>37548</td>\n",
              "      <td>136540</td>\n",
              "      <td>73</td>\n",
              "      <td>5</td>\n",
              "      <td>34.0</td>\n",
              "      <td>2025-08-28</td>\n",
              "      <td>https://www.585zolotoy.ru/catalog/products/200...</td>\n",
              "      <td>2025-08-29 16:09:20.444593</td>\n",
              "    </tr>\n",
              "    <tr>\n",
              "      <th>3</th>\n",
              "      <td>1583329</td>\n",
              "      <td>Кольца</td>\n",
              "      <td>Кольца из красного золота</td>\n",
              "      <td>Золотое кольцо с фианитами</td>\n",
              "      <td>7700</td>\n",
              "      <td>30790</td>\n",
              "      <td>75</td>\n",
              "      <td>5</td>\n",
              "      <td>32.0</td>\n",
              "      <td>2025-08-28</td>\n",
              "      <td>https://www.585zolotoy.ru/catalog/products/158...</td>\n",
              "      <td>2025-08-29 16:09:20.444593</td>\n",
              "    </tr>\n",
              "    <tr>\n",
              "      <th>4</th>\n",
              "      <td>1847456</td>\n",
              "      <td>Кольца</td>\n",
              "      <td>Кольца из красного золота</td>\n",
              "      <td>Золотое кольцо с бриллиантами</td>\n",
              "      <td>48495</td>\n",
              "      <td>193980</td>\n",
              "      <td>75</td>\n",
              "      <td>5</td>\n",
              "      <td>7.0</td>\n",
              "      <td>2025-08-28</td>\n",
              "      <td>https://www.585zolotoy.ru/catalog/products/184...</td>\n",
              "      <td>2025-08-29 16:09:20.444593</td>\n",
              "    </tr>\n",
              "  </tbody>\n",
              "</table>\n",
              "</div>\n",
              "    <div class=\"colab-df-buttons\">\n",
              "\n",
              "  <div class=\"colab-df-container\">\n",
              "    <button class=\"colab-df-convert\" onclick=\"convertToInteractive('df-30afe7e0-8f7b-4604-9b09-211c79fd92d2')\"\n",
              "            title=\"Convert this dataframe to an interactive table.\"\n",
              "            style=\"display:none;\">\n",
              "\n",
              "  <svg xmlns=\"http://www.w3.org/2000/svg\" height=\"24px\" viewBox=\"0 -960 960 960\">\n",
              "    <path d=\"M120-120v-720h720v720H120Zm60-500h600v-160H180v160Zm220 220h160v-160H400v160Zm0 220h160v-160H400v160ZM180-400h160v-160H180v160Zm440 0h160v-160H620v160ZM180-180h160v-160H180v160Zm440 0h160v-160H620v160Z\"/>\n",
              "  </svg>\n",
              "    </button>\n",
              "\n",
              "  <style>\n",
              "    .colab-df-container {\n",
              "      display:flex;\n",
              "      gap: 12px;\n",
              "    }\n",
              "\n",
              "    .colab-df-convert {\n",
              "      background-color: #E8F0FE;\n",
              "      border: none;\n",
              "      border-radius: 50%;\n",
              "      cursor: pointer;\n",
              "      display: none;\n",
              "      fill: #1967D2;\n",
              "      height: 32px;\n",
              "      padding: 0 0 0 0;\n",
              "      width: 32px;\n",
              "    }\n",
              "\n",
              "    .colab-df-convert:hover {\n",
              "      background-color: #E2EBFA;\n",
              "      box-shadow: 0px 1px 2px rgba(60, 64, 67, 0.3), 0px 1px 3px 1px rgba(60, 64, 67, 0.15);\n",
              "      fill: #174EA6;\n",
              "    }\n",
              "\n",
              "    .colab-df-buttons div {\n",
              "      margin-bottom: 4px;\n",
              "    }\n",
              "\n",
              "    [theme=dark] .colab-df-convert {\n",
              "      background-color: #3B4455;\n",
              "      fill: #D2E3FC;\n",
              "    }\n",
              "\n",
              "    [theme=dark] .colab-df-convert:hover {\n",
              "      background-color: #434B5C;\n",
              "      box-shadow: 0px 1px 3px 1px rgba(0, 0, 0, 0.15);\n",
              "      filter: drop-shadow(0px 1px 2px rgba(0, 0, 0, 0.3));\n",
              "      fill: #FFFFFF;\n",
              "    }\n",
              "  </style>\n",
              "\n",
              "    <script>\n",
              "      const buttonEl =\n",
              "        document.querySelector('#df-30afe7e0-8f7b-4604-9b09-211c79fd92d2 button.colab-df-convert');\n",
              "      buttonEl.style.display =\n",
              "        google.colab.kernel.accessAllowed ? 'block' : 'none';\n",
              "\n",
              "      async function convertToInteractive(key) {\n",
              "        const element = document.querySelector('#df-30afe7e0-8f7b-4604-9b09-211c79fd92d2');\n",
              "        const dataTable =\n",
              "          await google.colab.kernel.invokeFunction('convertToInteractive',\n",
              "                                                    [key], {});\n",
              "        if (!dataTable) return;\n",
              "\n",
              "        const docLinkHtml = 'Like what you see? Visit the ' +\n",
              "          '<a target=\"_blank\" href=https://colab.research.google.com/notebooks/data_table.ipynb>data table notebook</a>'\n",
              "          + ' to learn more about interactive tables.';\n",
              "        element.innerHTML = '';\n",
              "        dataTable['output_type'] = 'display_data';\n",
              "        await google.colab.output.renderOutput(dataTable, element);\n",
              "        const docLink = document.createElement('div');\n",
              "        docLink.innerHTML = docLinkHtml;\n",
              "        element.appendChild(docLink);\n",
              "      }\n",
              "    </script>\n",
              "  </div>\n",
              "\n",
              "\n",
              "    <div id=\"df-63be0e03-a65f-4f7d-8a57-a3d327526155\">\n",
              "      <button class=\"colab-df-quickchart\" onclick=\"quickchart('df-63be0e03-a65f-4f7d-8a57-a3d327526155')\"\n",
              "                title=\"Suggest charts\"\n",
              "                style=\"display:none;\">\n",
              "\n",
              "<svg xmlns=\"http://www.w3.org/2000/svg\" height=\"24px\"viewBox=\"0 0 24 24\"\n",
              "     width=\"24px\">\n",
              "    <g>\n",
              "        <path d=\"M19 3H5c-1.1 0-2 .9-2 2v14c0 1.1.9 2 2 2h14c1.1 0 2-.9 2-2V5c0-1.1-.9-2-2-2zM9 17H7v-7h2v7zm4 0h-2V7h2v10zm4 0h-2v-4h2v4z\"/>\n",
              "    </g>\n",
              "</svg>\n",
              "      </button>\n",
              "\n",
              "<style>\n",
              "  .colab-df-quickchart {\n",
              "      --bg-color: #E8F0FE;\n",
              "      --fill-color: #1967D2;\n",
              "      --hover-bg-color: #E2EBFA;\n",
              "      --hover-fill-color: #174EA6;\n",
              "      --disabled-fill-color: #AAA;\n",
              "      --disabled-bg-color: #DDD;\n",
              "  }\n",
              "\n",
              "  [theme=dark] .colab-df-quickchart {\n",
              "      --bg-color: #3B4455;\n",
              "      --fill-color: #D2E3FC;\n",
              "      --hover-bg-color: #434B5C;\n",
              "      --hover-fill-color: #FFFFFF;\n",
              "      --disabled-bg-color: #3B4455;\n",
              "      --disabled-fill-color: #666;\n",
              "  }\n",
              "\n",
              "  .colab-df-quickchart {\n",
              "    background-color: var(--bg-color);\n",
              "    border: none;\n",
              "    border-radius: 50%;\n",
              "    cursor: pointer;\n",
              "    display: none;\n",
              "    fill: var(--fill-color);\n",
              "    height: 32px;\n",
              "    padding: 0;\n",
              "    width: 32px;\n",
              "  }\n",
              "\n",
              "  .colab-df-quickchart:hover {\n",
              "    background-color: var(--hover-bg-color);\n",
              "    box-shadow: 0 1px 2px rgba(60, 64, 67, 0.3), 0 1px 3px 1px rgba(60, 64, 67, 0.15);\n",
              "    fill: var(--button-hover-fill-color);\n",
              "  }\n",
              "\n",
              "  .colab-df-quickchart-complete:disabled,\n",
              "  .colab-df-quickchart-complete:disabled:hover {\n",
              "    background-color: var(--disabled-bg-color);\n",
              "    fill: var(--disabled-fill-color);\n",
              "    box-shadow: none;\n",
              "  }\n",
              "\n",
              "  .colab-df-spinner {\n",
              "    border: 2px solid var(--fill-color);\n",
              "    border-color: transparent;\n",
              "    border-bottom-color: var(--fill-color);\n",
              "    animation:\n",
              "      spin 1s steps(1) infinite;\n",
              "  }\n",
              "\n",
              "  @keyframes spin {\n",
              "    0% {\n",
              "      border-color: transparent;\n",
              "      border-bottom-color: var(--fill-color);\n",
              "      border-left-color: var(--fill-color);\n",
              "    }\n",
              "    20% {\n",
              "      border-color: transparent;\n",
              "      border-left-color: var(--fill-color);\n",
              "      border-top-color: var(--fill-color);\n",
              "    }\n",
              "    30% {\n",
              "      border-color: transparent;\n",
              "      border-left-color: var(--fill-color);\n",
              "      border-top-color: var(--fill-color);\n",
              "      border-right-color: var(--fill-color);\n",
              "    }\n",
              "    40% {\n",
              "      border-color: transparent;\n",
              "      border-right-color: var(--fill-color);\n",
              "      border-top-color: var(--fill-color);\n",
              "    }\n",
              "    60% {\n",
              "      border-color: transparent;\n",
              "      border-right-color: var(--fill-color);\n",
              "    }\n",
              "    80% {\n",
              "      border-color: transparent;\n",
              "      border-right-color: var(--fill-color);\n",
              "      border-bottom-color: var(--fill-color);\n",
              "    }\n",
              "    90% {\n",
              "      border-color: transparent;\n",
              "      border-bottom-color: var(--fill-color);\n",
              "    }\n",
              "  }\n",
              "</style>\n",
              "\n",
              "      <script>\n",
              "        async function quickchart(key) {\n",
              "          const quickchartButtonEl =\n",
              "            document.querySelector('#' + key + ' button');\n",
              "          quickchartButtonEl.disabled = true;  // To prevent multiple clicks.\n",
              "          quickchartButtonEl.classList.add('colab-df-spinner');\n",
              "          try {\n",
              "            const charts = await google.colab.kernel.invokeFunction(\n",
              "                'suggestCharts', [key], {});\n",
              "          } catch (error) {\n",
              "            console.error('Error during call to suggestCharts:', error);\n",
              "          }\n",
              "          quickchartButtonEl.classList.remove('colab-df-spinner');\n",
              "          quickchartButtonEl.classList.add('colab-df-quickchart-complete');\n",
              "        }\n",
              "        (() => {\n",
              "          let quickchartButtonEl =\n",
              "            document.querySelector('#df-63be0e03-a65f-4f7d-8a57-a3d327526155 button');\n",
              "          quickchartButtonEl.style.display =\n",
              "            google.colab.kernel.accessAllowed ? 'block' : 'none';\n",
              "        })();\n",
              "      </script>\n",
              "    </div>\n",
              "    </div>\n",
              "  </div>\n"
            ],
            "text/plain": [
              "       sku category                subcategory  \\\n",
              "0  1593061   Кольца  Кольца из красного золота   \n",
              "1  1317391   Кольца  Кольца из красного золота   \n",
              "2  2004442   Кольца             Мужские кольца   \n",
              "3  1583329   Кольца  Кольца из красного золота   \n",
              "4  1847456   Кольца  Кольца из красного золота   \n",
              "\n",
              "                                      name  price  old_price  discount  \\\n",
              "0            Золотое кольцо с бриллиантами  35194     127980        73   \n",
              "1  Золотое кольцо с рубином и бриллиантами  51495     205980        75   \n",
              "2               Золотое обручальное кольцо  37548     136540        73   \n",
              "3               Золотое кольцо с фианитами   7700      30790        75   \n",
              "4            Золотое кольцо с бриллиантами  48495     193980        75   \n",
              "\n",
              "   rating  reviews parsed_date  \\\n",
              "0       5      1.0  2025-08-28   \n",
              "1       5      1.0  2025-08-28   \n",
              "2       5     34.0  2025-08-28   \n",
              "3       5     32.0  2025-08-28   \n",
              "4       5      7.0  2025-08-28   \n",
              "\n",
              "                                         product_url  \\\n",
              "0  https://www.585zolotoy.ru/catalog/products/159...   \n",
              "1  https://www.585zolotoy.ru/catalog/products/131...   \n",
              "2  https://www.585zolotoy.ru/catalog/products/200...   \n",
              "3  https://www.585zolotoy.ru/catalog/products/158...   \n",
              "4  https://www.585zolotoy.ru/catalog/products/184...   \n",
              "\n",
              "                   upload_at  \n",
              "0 2025-08-29 16:09:20.444593  \n",
              "1 2025-08-29 16:09:20.444593  \n",
              "2 2025-08-29 16:09:20.444593  \n",
              "3 2025-08-29 16:09:20.444593  \n",
              "4 2025-08-29 16:09:20.444593  "
            ]
          },
          "execution_count": 30,
          "metadata": {},
          "output_type": "execute_result"
        }
      ],
      "source": [
        "# Просмотр данных из БД\n",
        "\n",
        "get_data = \"\"\"\n",
        "    SELECT *\n",
        "    FROM public.zolotoy\n",
        "    LIMIT 5;\n",
        "\"\"\"\n",
        "# выполнение запроса\n",
        "SELECT(get_data, conn_info)"
      ]
    },
    {
      "cell_type": "code",
      "execution_count": 31,
      "metadata": {
        "colab": {
          "base_uri": "https://localhost:8080/",
          "height": 81
        },
        "id": "mSCVFrbsKynu",
        "outputId": "ebf269a2-9c84-441b-98d0-a23378e241ad"
      },
      "outputs": [
        {
          "data": {
            "application/vnd.google.colaboratory.intrinsic+json": {
              "summary": "{\n  \"name\": \"SELECT(get_count_data, conn_info)\",\n  \"rows\": 1,\n  \"fields\": [\n    {\n      \"column\": \"count\",\n      \"properties\": {\n        \"dtype\": \"number\",\n        \"std\": null,\n        \"min\": 9945,\n        \"max\": 9945,\n        \"num_unique_values\": 1,\n        \"samples\": [\n          9945\n        ],\n        \"semantic_type\": \"\",\n        \"description\": \"\"\n      }\n    }\n  ]\n}",
              "type": "dataframe"
            },
            "text/html": [
              "\n",
              "  <div id=\"df-0d122342-f17c-4432-ad37-86466b54afa3\" class=\"colab-df-container\">\n",
              "    <div>\n",
              "<style scoped>\n",
              "    .dataframe tbody tr th:only-of-type {\n",
              "        vertical-align: middle;\n",
              "    }\n",
              "\n",
              "    .dataframe tbody tr th {\n",
              "        vertical-align: top;\n",
              "    }\n",
              "\n",
              "    .dataframe thead th {\n",
              "        text-align: right;\n",
              "    }\n",
              "</style>\n",
              "<table border=\"1\" class=\"dataframe\">\n",
              "  <thead>\n",
              "    <tr style=\"text-align: right;\">\n",
              "      <th></th>\n",
              "      <th>count</th>\n",
              "    </tr>\n",
              "  </thead>\n",
              "  <tbody>\n",
              "    <tr>\n",
              "      <th>0</th>\n",
              "      <td>9945</td>\n",
              "    </tr>\n",
              "  </tbody>\n",
              "</table>\n",
              "</div>\n",
              "    <div class=\"colab-df-buttons\">\n",
              "\n",
              "  <div class=\"colab-df-container\">\n",
              "    <button class=\"colab-df-convert\" onclick=\"convertToInteractive('df-0d122342-f17c-4432-ad37-86466b54afa3')\"\n",
              "            title=\"Convert this dataframe to an interactive table.\"\n",
              "            style=\"display:none;\">\n",
              "\n",
              "  <svg xmlns=\"http://www.w3.org/2000/svg\" height=\"24px\" viewBox=\"0 -960 960 960\">\n",
              "    <path d=\"M120-120v-720h720v720H120Zm60-500h600v-160H180v160Zm220 220h160v-160H400v160Zm0 220h160v-160H400v160ZM180-400h160v-160H180v160Zm440 0h160v-160H620v160ZM180-180h160v-160H180v160Zm440 0h160v-160H620v160Z\"/>\n",
              "  </svg>\n",
              "    </button>\n",
              "\n",
              "  <style>\n",
              "    .colab-df-container {\n",
              "      display:flex;\n",
              "      gap: 12px;\n",
              "    }\n",
              "\n",
              "    .colab-df-convert {\n",
              "      background-color: #E8F0FE;\n",
              "      border: none;\n",
              "      border-radius: 50%;\n",
              "      cursor: pointer;\n",
              "      display: none;\n",
              "      fill: #1967D2;\n",
              "      height: 32px;\n",
              "      padding: 0 0 0 0;\n",
              "      width: 32px;\n",
              "    }\n",
              "\n",
              "    .colab-df-convert:hover {\n",
              "      background-color: #E2EBFA;\n",
              "      box-shadow: 0px 1px 2px rgba(60, 64, 67, 0.3), 0px 1px 3px 1px rgba(60, 64, 67, 0.15);\n",
              "      fill: #174EA6;\n",
              "    }\n",
              "\n",
              "    .colab-df-buttons div {\n",
              "      margin-bottom: 4px;\n",
              "    }\n",
              "\n",
              "    [theme=dark] .colab-df-convert {\n",
              "      background-color: #3B4455;\n",
              "      fill: #D2E3FC;\n",
              "    }\n",
              "\n",
              "    [theme=dark] .colab-df-convert:hover {\n",
              "      background-color: #434B5C;\n",
              "      box-shadow: 0px 1px 3px 1px rgba(0, 0, 0, 0.15);\n",
              "      filter: drop-shadow(0px 1px 2px rgba(0, 0, 0, 0.3));\n",
              "      fill: #FFFFFF;\n",
              "    }\n",
              "  </style>\n",
              "\n",
              "    <script>\n",
              "      const buttonEl =\n",
              "        document.querySelector('#df-0d122342-f17c-4432-ad37-86466b54afa3 button.colab-df-convert');\n",
              "      buttonEl.style.display =\n",
              "        google.colab.kernel.accessAllowed ? 'block' : 'none';\n",
              "\n",
              "      async function convertToInteractive(key) {\n",
              "        const element = document.querySelector('#df-0d122342-f17c-4432-ad37-86466b54afa3');\n",
              "        const dataTable =\n",
              "          await google.colab.kernel.invokeFunction('convertToInteractive',\n",
              "                                                    [key], {});\n",
              "        if (!dataTable) return;\n",
              "\n",
              "        const docLinkHtml = 'Like what you see? Visit the ' +\n",
              "          '<a target=\"_blank\" href=https://colab.research.google.com/notebooks/data_table.ipynb>data table notebook</a>'\n",
              "          + ' to learn more about interactive tables.';\n",
              "        element.innerHTML = '';\n",
              "        dataTable['output_type'] = 'display_data';\n",
              "        await google.colab.output.renderOutput(dataTable, element);\n",
              "        const docLink = document.createElement('div');\n",
              "        docLink.innerHTML = docLinkHtml;\n",
              "        element.appendChild(docLink);\n",
              "      }\n",
              "    </script>\n",
              "  </div>\n",
              "\n",
              "    </div>\n",
              "  </div>\n"
            ],
            "text/plain": [
              "   count\n",
              "0   9945"
            ]
          },
          "execution_count": 31,
          "metadata": {},
          "output_type": "execute_result"
        }
      ],
      "source": [
        "# Количество записей в БД\n",
        "\n",
        "get_count_data = \"\"\"\n",
        "    SELECT COUNT(*)\n",
        "    FROM public.zolotoy;\n",
        "\"\"\"\n",
        "\n",
        "SELECT(get_count_data, conn_info)"
      ]
    },
    {
      "cell_type": "code",
      "execution_count": 32,
      "metadata": {
        "colab": {
          "base_uri": "https://localhost:8080/"
        },
        "id": "1H7xOm0W0s10",
        "outputId": "ecf62582-2840-4408-c731-f43fc49cf293"
      },
      "outputs": [
        {
          "name": "stdout",
          "output_type": "stream",
          "text": [
            "Количество строк в исходном DataFrame: 9945\n"
          ]
        }
      ],
      "source": [
        "print(f\"Количество строк в исходном DataFrame: {df.count()}\")"
      ]
    }
  ],
  "metadata": {
    "colab": {
      "provenance": []
    },
    "kernelspec": {
      "display_name": "Python 3",
      "name": "python3"
    },
    "language_info": {
      "name": "python"
    }
  },
  "nbformat": 4,
  "nbformat_minor": 0
}
