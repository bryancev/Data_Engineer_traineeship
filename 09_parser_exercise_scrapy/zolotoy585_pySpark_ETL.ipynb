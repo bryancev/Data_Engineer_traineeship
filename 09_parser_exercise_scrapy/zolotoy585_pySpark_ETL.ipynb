{
  "cells": [
    {
      "cell_type": "code",
      "execution_count": 1,
      "metadata": {
        "colab": {
          "base_uri": "https://localhost:8080/"
        },
        "id": "Z11h7FV3Qp07",
        "outputId": "0cbb31c5-b240-43f0-ddff-7f5dd0c4449a"
      },
      "outputs": [
        {
          "name": "stdout",
          "output_type": "stream",
          "text": [
            "--2025-09-01 12:01:22--  https://jdbc.postgresql.org/download/postgresql-42.7.3.jar\n",
            "Resolving jdbc.postgresql.org (jdbc.postgresql.org)... 72.32.157.228, 2001:4800:3e1:1::228\n",
            "Connecting to jdbc.postgresql.org (jdbc.postgresql.org)|72.32.157.228|:443... connected.\n",
            "HTTP request sent, awaiting response... 200 OK\n",
            "Length: 1089312 (1.0M) [application/java-archive]\n",
            "Saving to: ‘postgresql-42.7.3.jar’\n",
            "\n",
            "postgresql-42.7.3.j 100%[===================>]   1.04M  6.78MB/s    in 0.2s    \n",
            "\n",
            "2025-09-01 12:01:22 (6.78 MB/s) - ‘postgresql-42.7.3.jar’ saved [1089312/1089312]\n",
            "\n"
          ]
        }
      ],
      "source": [
        "!wget https://jdbc.postgresql.org/download/postgresql-42.7.3.jar"
      ]
    },
    {
      "cell_type": "markdown",
      "metadata": {
        "id": "aeKtttCv6cT1"
      },
      "source": [
        "# Загрузка спарсенных данных в PySpark"
      ]
    },
    {
      "cell_type": "code",
      "execution_count": null,
      "metadata": {
        "colab": {
          "base_uri": "https://localhost:8080/"
        },
        "id": "S1bvqcwWQz1x",
        "outputId": "550b8f2c-1d07-4d19-f00b-6271c19e9419"
      },
      "outputs": [
        {
          "name": "stdout",
          "output_type": "stream",
          "text": [
            "JDBC URL: jdbc:postgresql://postgres.lab.karpov.courses:6432/startml\n"
          ]
        }
      ],
      "source": [
        "# creds\n",
        "POSTGRES_CONFIG = {\n",
        "    'host': 'my_host',\n",
        "    'port': 1234,\n",
        "    'user': 'my_user',\n",
        "    'password': 'password',\n",
        "    'database': 'database'\n",
        "}\n",
        "\n",
        "jdbc_url = f\"jdbc:postgresql://{POSTGRES_CONFIG['host']}:{POSTGRES_CONFIG['port']}/{POSTGRES_CONFIG['database']}\"\n",
        "print(f\"JDBC URL: {jdbc_url}\")"
      ]
    },
    {
      "cell_type": "code",
      "execution_count": 3,
      "metadata": {
        "id": "nn44C7InSBuh"
      },
      "outputs": [],
      "source": [
        "# Создание Spark сессии\n",
        "from pyspark.sql import SparkSession\n",
        "from pyspark.sql import functions as F\n",
        "from pyspark.sql.types import *\n",
        "\n",
        "spark = SparkSession.builder \\\n",
        "    .appName(\"PostgresConnection\") \\\n",
        "    .config(\"spark.jars\", \"/content/postgresql-42.7.3.jar\") \\\n",
        "    .getOrCreate()"
      ]
    },
    {
      "cell_type": "code",
      "execution_count": 4,
      "metadata": {
        "colab": {
          "base_uri": "https://localhost:8080/"
        },
        "id": "JT5PDMy60str",
        "outputId": "67f4028b-1383-4ccb-84bc-0e7b6a872c4f"
      },
      "outputs": [
        {
          "name": "stdout",
          "output_type": "stream",
          "text": [
            "+-------+--------------------------+-------------------------+---------------------------------------------------+--------+---------+--------+------+-------+---------------------------------------------------+-----------+\n",
            "|sku    |category                  |subcategory              |name                                               |price   |old_price|discount|rating|reviews|product_url                                        |parsed_date|\n",
            "+-------+--------------------------+-------------------------+---------------------------------------------------+--------+---------+--------+------+-------+---------------------------------------------------+-----------+\n",
            "|1978724|Кольца                    |Женские кольца           |Золотое кольцо с сапфиром выращенным и бриллиантами|12 790 ₽|25 580 ₽ |−50%    |235   |44     |https://www.585zolotoy.ru/catalog/products/1978724/|2025-08-31 |\n",
            "|9001102|Кольца                    |Мужские кольца           |Золотое обручальное кольцо                         |12 083 ₽|43 930 ₽ |−72%    |255   |48     |https://www.585zolotoy.ru/catalog/products/9001102/|2025-08-31 |\n",
            "|1553012|Кольца                    |Широкие кольца           |Золотое кольцо с бриллиантами                      |41 495 ₽|165 980 ₽|−75%    |170   |31     |https://www.585zolotoy.ru/catalog/products/1553012/|2025-08-31 |\n",
            "|9002261|Тренды ювелирных украшений|Ювелирная база           |Золотое кольцо с премиум цирконием                 |13 990 ₽|27 980 ₽ |−50%    |125   |22     |https://www.585zolotoy.ru/catalog/products/9002261/|2025-08-31 |\n",
            "|1847403|Тренды ювелирных украшений|Ювелирная база           |Золотое кольцо с бриллиантом                       |9 990 ₽ |NULL     |NULL    |265   |237    |https://www.585zolotoy.ru/catalog/products/1847403/|2025-08-31 |\n",
            "|1504126|Кольца                    |Кольца из красного золота|Золотое кольцо с бриллиантами                      |22 990 ₽|45 980 ₽ |−50%    |255   |48     |https://www.585zolotoy.ru/catalog/products/1504126/|2025-08-31 |\n",
            "|1665384|Тренды ювелирных украшений|Ювелирная база           |Золотое кольцо с фианитом                          |9 990 ₽ |19 980 ₽ |−50%    |35    |4      |https://www.585zolotoy.ru/catalog/products/1665384/|2025-08-31 |\n",
            "|9000056|Кольца                    |Кольца из красного золота|Золотое обручальное кольцо с бриллиантами          |21 995 ₽|87 980 ₽ |−75%    |250   |47     |https://www.585zolotoy.ru/catalog/products/9000056/|2025-08-31 |\n",
            "|9001208|Кольца                    |Кольца из красного золота|Золотое обручальное кольцо с бриллиантами          |20 619 ₽|74 980 ₽ |−73%    |200   |37     |https://www.585zolotoy.ru/catalog/products/9001208/|2025-08-31 |\n",
            "|1977945|Кольца                    |Кольца из красного золота|Золотое кольцо                                     |24 101 ₽|87 630 ₽ |−72%    |155   |28     |https://www.585zolotoy.ru/catalog/products/1977945/|2025-08-31 |\n",
            "|1224216|Тренды ювелирных украшений|Ювелирная база           |Золотое кольцо с бриллиантами                      |34 990 ₽|69 980 ₽ |−50%    |265   |85     |https://www.585zolotoy.ru/catalog/products/1224216/|2025-08-31 |\n",
            "|1554622|Тренды ювелирных украшений|Ювелирная база           |Золотое кольцо с фианитом                          |9 990 ₽ |19 980 ₽ |−50%    |265   |188    |https://www.585zolotoy.ru/catalog/products/1554622/|2025-08-31 |\n",
            "|1482588|Кольца                    |Кольца из красного золота|Золотое кольцо с фианитами                         |7 920 ₽ |15 840 ₽ |−50%    |60    |9      |https://www.585zolotoy.ru/catalog/products/1482588/|2025-08-31 |\n",
            "|1975092|Кольца                    |Кольца из красного золота|Золотое кольцо с бриллиантами                      |32 990 ₽|65 980 ₽ |−50%    |265   |136    |https://www.585zolotoy.ru/catalog/products/1975092/|2025-08-31 |\n",
            "|9001103|Кольца                    |Мужские кольца           |Золотое обручальное кольцо                         |17 061 ₽|62 040 ₽ |−72%    |265   |54     |https://www.585zolotoy.ru/catalog/products/9001103/|2025-08-31 |\n",
            "|2008566|Кольца                    |Кольца из красного золота|Золотое кольцо с фианитами                         |20 398 ₽|90 650 ₽ |−77%    |265   |276    |https://www.585zolotoy.ru/catalog/products/2008566/|2025-08-31 |\n",
            "|1591989|Тренды ювелирных украшений|Ювелирная база           |Золотое кольцо с бриллиантами                      |30 990 ₽|61 980 ₽ |−50%    |265   |64     |https://www.585zolotoy.ru/catalog/products/1591989/|2025-08-31 |\n",
            "|1075020|Кольца                    |Кольца из красного золота|Золотое кольцо с фианитами                         |8 390 ₽ |16 770 ₽ |−50%    |30    |3      |https://www.585zolotoy.ru/catalog/products/1075020/|2025-08-31 |\n",
            "|1730487|Тренды ювелирных украшений|Ювелирная база           |Золотое кольцо с бриллиантами                      |16 990 ₽|NULL     |NULL    |265   |57     |https://www.585zolotoy.ru/catalog/products/1730487/|2025-08-31 |\n",
            "|2239925|Кольца                    |Кольца из красного золота|Золотое кольцо                                     |30 290 ₽|60 580 ₽ |−50%    |55    |8      |https://www.585zolotoy.ru/catalog/products/2239925/|2025-08-31 |\n",
            "+-------+--------------------------+-------------------------+---------------------------------------------------+--------+---------+--------+------+-------+---------------------------------------------------+-----------+\n",
            "only showing top 20 rows\n",
            "\n"
          ]
        }
      ],
      "source": [
        "# чтение сырых данных из таблицы \"public.zolotoy_raw_products\", куда производился парсинг\n",
        "\n",
        "df = spark.read.format(\"jdbc\") \\\n",
        "    .option(\"url\", jdbc_url) \\\n",
        "    .option(\"dbtable\", \"public.zolotoy_raw_products\") \\\n",
        "    .option(\"user\", POSTGRES_CONFIG['user']) \\\n",
        "    .option(\"password\", POSTGRES_CONFIG['password']) \\\n",
        "    .option(\"driver\", \"org.postgresql.Driver\") \\\n",
        "    .load()\n",
        "\n",
        "df.show(20, truncate=False)"
      ]
    },
    {
      "cell_type": "code",
      "execution_count": 5,
      "metadata": {
        "colab": {
          "base_uri": "https://localhost:8080/"
        },
        "id": "_uFYE3AM0sy8",
        "outputId": "c95238cd-6565-409e-9505-bcad915a081a"
      },
      "outputs": [
        {
          "name": "stdout",
          "output_type": "stream",
          "text": [
            "Количество строк в исходной таблице public.zolotoy_raw_products: 9931\n"
          ]
        }
      ],
      "source": [
        "print(f\"Количество строк в исходной таблице public.zolotoy_raw_products: {df.count()}\")"
      ]
    },
    {
      "cell_type": "code",
      "execution_count": 6,
      "metadata": {
        "colab": {
          "base_uri": "https://localhost:8080/"
        },
        "id": "9XnPBJ8TI7z9",
        "outputId": "e9a8b8af-d592-446b-d8d8-35347e61eecb"
      },
      "outputs": [
        {
          "data": {
            "text/plain": [
              "['Кольца']"
            ]
          },
          "execution_count": 6,
          "metadata": {},
          "output_type": "execute_result"
        }
      ],
      "source": [
        "# мой список парсинных категорий\n",
        "\n",
        "parsed_category = [\"Кольца\"]\n",
        "parsed_category"
      ]
    },
    {
      "cell_type": "markdown",
      "metadata": {
        "id": "9sqb95txDDqJ"
      },
      "source": [
        "# Разведочный анализ данных\n"
      ]
    },
    {
      "cell_type": "markdown",
      "metadata": {
        "id": "qIyW_Gp1NaqO"
      },
      "source": [
        "## Анализ и восстановление поля category"
      ]
    },
    {
      "cell_type": "code",
      "execution_count": 7,
      "metadata": {
        "colab": {
          "base_uri": "https://localhost:8080/"
        },
        "id": "xSRlAVUADQ5K",
        "outputId": "59830c12-d031-40d9-e496-f7a9c6f8eaf3"
      },
      "outputs": [
        {
          "name": "stdout",
          "output_type": "stream",
          "text": [
            "+--------------------------+\n",
            "|category                  |\n",
            "+--------------------------+\n",
            "|Кольца                    |\n",
            "|Подвески                  |\n",
            "|Религия                   |\n",
            "|Тренды ювелирных украшений|\n",
            "|NULL                      |\n",
            "+--------------------------+\n",
            "\n"
          ]
        }
      ],
      "source": [
        "# Уникальные значения category\n",
        "\n",
        "df.select(\"category\").distinct().show(truncate=False)"
      ]
    },
    {
      "cell_type": "code",
      "execution_count": 8,
      "metadata": {
        "colab": {
          "base_uri": "https://localhost:8080/"
        },
        "id": "Y4kTST7eDQ8L",
        "outputId": "8fa9cab5-2604-49ff-bfae-abf9224b338d"
      },
      "outputs": [
        {
          "name": "stdout",
          "output_type": "stream",
          "text": [
            "+-------+--------------------------+----------------------+------------------------------------------------------+--------+---------+--------+------+-------+---------------------------------------------------+-----------+\n",
            "|sku    |category                  |subcategory           |name                                                  |price   |old_price|discount|rating|reviews|product_url                                        |parsed_date|\n",
            "+-------+--------------------------+----------------------+------------------------------------------------------+--------+---------+--------+------+-------+---------------------------------------------------+-----------+\n",
            "|9002261|Тренды ювелирных украшений|Ювелирная база        |Золотое кольцо с премиум цирконием                    |13 990 ₽|27 980 ₽ |−50%    |125   |22     |https://www.585zolotoy.ru/catalog/products/9002261/|2025-08-31 |\n",
            "|1847403|Тренды ювелирных украшений|Ювелирная база        |Золотое кольцо с бриллиантом                          |9 990 ₽ |NULL     |NULL    |265   |237    |https://www.585zolotoy.ru/catalog/products/1847403/|2025-08-31 |\n",
            "|1665384|Тренды ювелирных украшений|Ювелирная база        |Золотое кольцо с фианитом                             |9 990 ₽ |19 980 ₽ |−50%    |35    |4      |https://www.585zolotoy.ru/catalog/products/1665384/|2025-08-31 |\n",
            "|1224216|Тренды ювелирных украшений|Ювелирная база        |Золотое кольцо с бриллиантами                         |34 990 ₽|69 980 ₽ |−50%    |265   |85     |https://www.585zolotoy.ru/catalog/products/1224216/|2025-08-31 |\n",
            "|1554622|Тренды ювелирных украшений|Ювелирная база        |Золотое кольцо с фианитом                             |9 990 ₽ |19 980 ₽ |−50%    |265   |188    |https://www.585zolotoy.ru/catalog/products/1554622/|2025-08-31 |\n",
            "|1591989|Тренды ювелирных украшений|Ювелирная база        |Золотое кольцо с бриллиантами                         |30 990 ₽|61 980 ₽ |−50%    |265   |64     |https://www.585zolotoy.ru/catalog/products/1591989/|2025-08-31 |\n",
            "|1730487|Тренды ювелирных украшений|Ювелирная база        |Золотое кольцо с бриллиантами                         |16 990 ₽|NULL     |NULL    |265   |57     |https://www.585zolotoy.ru/catalog/products/1730487/|2025-08-31 |\n",
            "|1213080|Тренды ювелирных украшений|С крупной вставкой    |Золотое кольцо с изумрудами выращенными и бриллиантами|31 990 ₽|63 980 ₽ |−50%    |105   |18     |https://www.585zolotoy.ru/catalog/products/1213080/|2025-08-31 |\n",
            "|1177690|Тренды ювелирных украшений|Ювелирная база        |Золотое кольцо с бриллиантами                         |33 544 ₽|121 980 ₽|−73%    |210   |39     |https://www.585zolotoy.ru/catalog/products/1177690/|2025-08-31 |\n",
            "|1531020|Тренды ювелирных украшений|Ювелирная база        |Золотое кольцо с бриллиантами                         |17 990 ₽|35 980 ₽ |−50%    |265   |111    |https://www.585zolotoy.ru/catalog/products/1531020/|2025-08-31 |\n",
            "|1397238|Тренды ювелирных украшений|Ювелирная база        |Золотое кольцо с фианитами                            |16 490 ₽|32 980 ₽ |−50%    |265   |217    |https://www.585zolotoy.ru/catalog/products/1397238/|2025-08-31 |\n",
            "|7209694|NULL                      |NULL                  |Золотое обручальное кольцо                            |42 834 ₽|155 760 ₽|−72%    |265   |52     |https://www.585zolotoy.ru/catalog/products/7209694/|2025-08-31 |\n",
            "|1966457|Тренды ювелирных украшений|Ювелирная база        |Золотое кольцо с бриллиантом                          |10 990 ₽|21 980 ₽ |−50%    |265   |131    |https://www.585zolotoy.ru/catalog/products/1966457/|2025-08-31 |\n",
            "|4896633|Тренды ювелирных украшений|Многослойные украшения|Золотое кольцо                                        |17 490 ₽|69 950 ₽ |−75%    |265   |88     |https://www.585zolotoy.ru/catalog/products/4896633/|2025-08-31 |\n",
            "|1654288|Тренды ювелирных украшений|Стильное серебро      |Серебряное кольцо с фианитами                         |590 ₽   |NULL     |NULL    |265   |133    |https://www.585zolotoy.ru/catalog/products/1654288/|2025-08-31 |\n",
            "|2012693|Тренды ювелирных украшений|Многослойные украшения|Золотое кольцо                                        |14 455 ₽|57 820 ₽ |−75%    |265   |71     |https://www.585zolotoy.ru/catalog/products/2012693/|2025-08-31 |\n",
            "|1194017|Религия                   |Православные изделия  |Золотое кольцо «Спаси и сохрани»                      |10 990 ₽|21 980 ₽ |−50%    |265   |122    |https://www.585zolotoy.ru/catalog/products/1194017/|2025-08-31 |\n",
            "|1369406|Тренды ювелирных украшений|Ювелирная база        |Золотое кольцо с фианитом                             |8 490 ₽ |16 980 ₽ |−50%    |265   |204    |https://www.585zolotoy.ru/catalog/products/1369406/|2025-08-31 |\n",
            "|1649400|Тренды ювелирных украшений|Многослойные украшения|Золотое кольцо                                        |29 282 ₽|106 480 ₽|−72%    |215   |40     |https://www.585zolotoy.ru/catalog/products/1649400/|2025-08-31 |\n",
            "|2792739|NULL                      |NULL                  |Золотое обручальное кольцо                            |31 240 ₽|62 470 ₽ |−50%    |215   |40     |https://www.585zolotoy.ru/catalog/products/2792739/|2025-08-31 |\n",
            "+-------+--------------------------+----------------------+------------------------------------------------------+--------+---------+--------+------+-------+---------------------------------------------------+-----------+\n",
            "only showing top 20 rows\n",
            "\n"
          ]
        }
      ],
      "source": [
        "# отбор невалидных категорий, т.е тех, которые не в списке или с NULL значением\n",
        "\n",
        "df.filter((F.col(\"category\").isNull()) | (~F.col(\"category\").isin(parsed_category))).show(truncate=False)"
      ]
    },
    {
      "cell_type": "code",
      "execution_count": 9,
      "metadata": {
        "colab": {
          "base_uri": "https://localhost:8080/"
        },
        "id": "PjOfrK1hLxXQ",
        "outputId": "e1a29184-84f6-4c63-8bd7-31c05f5b9c91"
      },
      "outputs": [
        {
          "name": "stdout",
          "output_type": "stream",
          "text": [
            "+-------+--------+----------------+---------------------------------------+--------+---------+--------+------+-------+---------------------------------------------------+-----------+\n",
            "|sku    |category|subcategory     |name                                   |price   |old_price|discount|rating|reviews|product_url                                        |parsed_date|\n",
            "+-------+--------+----------------+---------------------------------------+--------+---------+--------+------+-------+---------------------------------------------------+-----------+\n",
            "|9002563|Подвески|Золотые подвески|Золотая подвеска с цитрином и фианитами|17 095 ₽|75 980 ₽ |−78%    |20    |1      |https://www.585zolotoy.ru/catalog/products/9002563/|2025-08-31 |\n",
            "+-------+--------+----------------+---------------------------------------+--------+---------+--------+------+-------+---------------------------------------------------+-----------+\n",
            "\n"
          ]
        }
      ],
      "source": [
        "# попытка восстановить категорию и подкатегорию из ключевых слов в названии:\n",
        "# category = \"Кольца\" если name = \"%кольцо%\" или name = \"%печатка%\"\n",
        "\n",
        "df = df.withColumn(\"category\",\n",
        "    F.when(F.lower(F.col(\"name\")).like(\"%кольцо%\"), \"Кольца\")\n",
        "     .when(F.lower(F.col(\"name\")).like(\"%печатка%\"), \"Кольца\")\n",
        "     .otherwise(F.col(\"category\"))\n",
        ")\n",
        "\n",
        "df.filter((F.col(\"category\").isNull()) | (~F.col(\"category\").isin(parsed_category))).show(20, truncate=False)"
      ]
    },
    {
      "cell_type": "markdown",
      "metadata": {
        "id": "kD-sAMFENuNw"
      },
      "source": [
        "## Анализ поля subcategory"
      ]
    },
    {
      "cell_type": "code",
      "execution_count": 10,
      "metadata": {
        "colab": {
          "base_uri": "https://localhost:8080/"
        },
        "id": "N3YUmvJ-Iejp",
        "outputId": "1187f643-c811-4015-9c90-ca6dc5c643c3"
      },
      "outputs": [
        {
          "name": "stdout",
          "output_type": "stream",
          "text": [
            "+-------+--------+-----------+-----------------------------+--------+---------+--------+------+-------+---------------------------------------------------+-----------+\n",
            "|sku    |category|subcategory|name                         |price   |old_price|discount|rating|reviews|product_url                                        |parsed_date|\n",
            "+-------+--------+-----------+-----------------------------+--------+---------+--------+------+-------+---------------------------------------------------+-----------+\n",
            "|7209694|Кольца  |NULL       |Золотое обручальное кольцо   |42 834 ₽|155 760 ₽|−72%    |265   |52     |https://www.585zolotoy.ru/catalog/products/7209694/|2025-08-31 |\n",
            "|2792739|Кольца  |NULL       |Золотое обручальное кольцо   |31 240 ₽|62 470 ₽ |−50%    |215   |40     |https://www.585zolotoy.ru/catalog/products/2792739/|2025-08-31 |\n",
            "|4025313|Кольца  |NULL       |Золотое обручальное кольцо   |29 381 ₽|106 830 ₽|−72%    |265   |58     |https://www.585zolotoy.ru/catalog/products/4025313/|2025-08-31 |\n",
            "|5868236|Кольца  |NULL       |Золотое обручальное кольцо   |24 890 ₽|99 550 ₽ |−75%    |120   |21     |https://www.585zolotoy.ru/catalog/products/5868236/|2025-08-31 |\n",
            "|2792735|Кольца  |NULL       |Золотое обручальное кольцо   |24 549 ₽|140 280 ₽|−82%    |55    |8      |https://www.585zolotoy.ru/catalog/products/2792735/|2025-08-31 |\n",
            "|2785640|Кольца  |NULL       |Золотое обручальное кольцо   |29 710 ₽|59 420 ₽ |−50%    |125   |22     |https://www.585zolotoy.ru/catalog/products/2785640/|2025-08-31 |\n",
            "|1884222|Кольца  |NULL       |Серебряное кольцо с фианитами|1 851 ₽ |10 580 ₽ |−83%    |45    |6      |https://www.585zolotoy.ru/catalog/products/1884222/|2025-08-31 |\n",
            "|1074477|Кольца  |NULL       |Золотое обручальное кольцо   |35 250 ₽|141 000 ₽|−75%    |55    |8      |https://www.585zolotoy.ru/catalog/products/1074477/|2025-08-31 |\n",
            "|2792731|Кольца  |NULL       |Золотое обручальное кольцо   |19 760 ₽|79 040 ₽ |−75%    |65    |10     |https://www.585zolotoy.ru/catalog/products/2792731/|2025-08-31 |\n",
            "|2792737|Кольца  |NULL       |Золотое обручальное кольцо   |30 175 ₽|120 690 ₽|−75%    |50    |7      |https://www.585zolotoy.ru/catalog/products/2792737/|2025-08-31 |\n",
            "|9002048|Кольца  |NULL       |Золотое кольцо               |31 995 ₽|127 980 ₽|−75%    |15    |Без    |https://www.585zolotoy.ru/catalog/products/9002048/|2025-08-31 |\n",
            "|1115407|Кольца  |NULL       |Золотое кольцо с фианитами   |7 210 ₽ |28 830 ₽ |−75%    |125   |22     |https://www.585zolotoy.ru/catalog/products/1115407/|2025-08-31 |\n",
            "|2246425|Кольца  |NULL       |Золотое обручальное кольцо   |21 680 ₽|43 360 ₽ |−50%    |45    |6      |https://www.585zolotoy.ru/catalog/products/2246425/|2025-08-31 |\n",
            "|1865763|Кольца  |NULL       |Серебряное кольцо            |1 919 ₽ |6 980 ₽  |−73%    |20    |1      |https://www.585zolotoy.ru/catalog/products/1865763/|2025-08-31 |\n",
            "|5636429|Кольца  |NULL       |Золотое обручальное кольцо   |45 570 ₽|182 280 ₽|−75%    |65    |10     |https://www.585zolotoy.ru/catalog/products/5636429/|2025-08-31 |\n",
            "|1169233|Кольца  |NULL       |Золотое обручальное кольцо   |24 780 ₽|49 560 ₽ |−50%    |35    |4      |https://www.585zolotoy.ru/catalog/products/1169233/|2025-08-31 |\n",
            "|1763316|Кольца  |NULL       |Золотое обручальное кольцо   |19 750 ₽|39 500 ₽ |−50%    |65    |10     |https://www.585zolotoy.ru/catalog/products/1763316/|2025-09-01 |\n",
            "|1551512|Кольца  |NULL       |Серебряное кольцо с фианитами|2 026 ₽ |11 580 ₽ |−83%    |20    |1      |https://www.585zolotoy.ru/catalog/products/1551512/|2025-09-01 |\n",
            "|1375773|Кольца  |NULL       |Золотое кольцо с фианитами   |6 594 ₽ |23 980 ₽ |−73%    |35    |4      |https://www.585zolotoy.ru/catalog/products/1375773/|2025-09-01 |\n",
            "|1678358|Кольца  |NULL       |Золотое обручальное кольцо   |19 090 ₽|38 170 ₽ |−50%    |65    |10     |https://www.585zolotoy.ru/catalog/products/1678358/|2025-09-01 |\n",
            "+-------+--------+-----------+-----------------------------+--------+---------+--------+------+-------+---------------------------------------------------+-----------+\n",
            "only showing top 20 rows\n",
            "\n"
          ]
        }
      ],
      "source": [
        "# отбор невалидных подкатегорий, с NULL значениями\n",
        "\n",
        "df.filter((F.col(\"subcategory\").isNull())).show(truncate=False)"
      ]
    },
    {
      "cell_type": "markdown",
      "metadata": {
        "id": "Tzs6S8KcPUxQ"
      },
      "source": [
        "Однозначно, по ключевому слову в имени, восстановить поддкатегорию не удасться"
      ]
    },
    {
      "cell_type": "markdown",
      "metadata": {
        "id": "9aeGrqejRkfs"
      },
      "source": [
        "## Анализ поля price и old_price"
      ]
    },
    {
      "cell_type": "code",
      "execution_count": 11,
      "metadata": {
        "colab": {
          "base_uri": "https://localhost:8080/"
        },
        "id": "7RXUFPCcLxaT",
        "outputId": "8e329e53-28a3-4df6-a03c-985e285574a7"
      },
      "outputs": [
        {
          "name": "stdout",
          "output_type": "stream",
          "text": [
            "+-----------+\n",
            "|last_symbol|\n",
            "+-----------+\n",
            "|          ₽|\n",
            "|       NULL|\n",
            "+-----------+\n",
            "\n"
          ]
        }
      ],
      "source": [
        "# Последний символ каждой строки price и находим уникальные\n",
        "\n",
        "(\n",
        "    df.select(\n",
        "    F.substring(F.col(\"price\"), -1, 1).alias(\"last_symbol\"))\n",
        "    .distinct().show()\n",
        ")"
      ]
    },
    {
      "cell_type": "code",
      "execution_count": 12,
      "metadata": {
        "colab": {
          "base_uri": "https://localhost:8080/"
        },
        "id": "BN0RAGHuTJHJ",
        "outputId": "65e475f7-02de-43d6-f0dc-0bed70052a48"
      },
      "outputs": [
        {
          "name": "stdout",
          "output_type": "stream",
          "text": [
            "Все строки содержащие отрицательные значения цен\n",
            "+---+--------+-----------+----+-----+---------+--------+------+-------+-----------+-----------+\n",
            "|sku|category|subcategory|name|price|old_price|discount|rating|reviews|product_url|parsed_date|\n",
            "+---+--------+-----------+----+-----+---------+--------+------+-------+-----------+-----------+\n",
            "+---+--------+-----------+----+-----+---------+--------+------+-------+-----------+-----------+\n",
            "\n"
          ]
        }
      ],
      "source": [
        "print(\"Все строки содержащие отрицательные значения цен\")\n",
        "\n",
        "df.filter(\n",
        "    (F.col('price') < 0) |\n",
        "    (F.col('old_price') < 0)\n",
        ").show(truncate=False)"
      ]
    },
    {
      "cell_type": "markdown",
      "metadata": {
        "id": "o3QJtL6k_ZpX"
      },
      "source": [
        "Есть товары без цены (недоступные для заказа), без указания скидки, без указания старой цены"
      ]
    },
    {
      "cell_type": "markdown",
      "metadata": {
        "id": "asdQYG8t-gM3"
      },
      "source": [
        "<!-- Есть товары с ценой NULL (недоступные для заказа), без указания старой цены без скидки -->"
      ]
    },
    {
      "cell_type": "markdown",
      "metadata": {
        "id": "kJxcr_2OC1no"
      },
      "source": [
        "# 3. Преобразование и очистка данных"
      ]
    },
    {
      "cell_type": "code",
      "execution_count": 13,
      "metadata": {
        "id": "rUPwFmuTcx-s"
      },
      "outputs": [],
      "source": [
        "# удаление | в конце\n",
        "\n",
        "df = df.withColumn(\n",
        "    \"product_url\",\n",
        "    F.regexp_replace(F.col(\"product_url\"), \"%7C$\", \"\")\n",
        ")"
      ]
    },
    {
      "cell_type": "code",
      "execution_count": 14,
      "metadata": {
        "id": "H3T2-JFg8Z8M"
      },
      "outputs": [],
      "source": [
        "# очистка и преобразование цены\n",
        "# Удаляем все не-цифровые символы\n",
        "df = df.withColumn(\"price\",\n",
        "                  F.regexp_replace(F.col(\"price\"), r'[^\\d]', '').cast('int')) \\\n",
        "       .withColumn(\"old_price\",\n",
        "                  F.regexp_replace(F.col(\"old_price\"), r'[^\\d]', '').cast('int'))"
      ]
    },
    {
      "cell_type": "code",
      "execution_count": 15,
      "metadata": {
        "id": "NfWqwPE78Z_B"
      },
      "outputs": [],
      "source": [
        "# очистка и преобразование скидки\n",
        "\n",
        "def clean_discount(column):\n",
        "    return F.when(column.isNotNull(),\n",
        "                 F.abs(  # значение по модулю\n",
        "                     F.replace(\n",
        "                         F.replace(column, F.lit(\"−\"), F.lit(\"-\")),\n",
        "                         F.lit(\"%\"), F.lit(\"\")\n",
        "                     ).cast(\"int\")\n",
        "                 )\n",
        "         ).otherwise(F.lit(None))\n",
        "\n",
        "df = df.withColumn(\"discount\", clean_discount(F.col(\"discount\")))"
      ]
    },
    {
      "cell_type": "code",
      "execution_count": 16,
      "metadata": {
        "id": "gZDC0a7a8aBs"
      },
      "outputs": [],
      "source": [
        "# очистка и преобразование просмотров\n",
        "\n",
        "def clean_reviews(column):\n",
        "    return F.when(column.isNotNull(),\n",
        "                 F.replace(column, F.lit(\"Без\"), F.lit(\"0\")).cast(\"int\")\n",
        "         ).otherwise(F.lit(None))\n",
        "\n",
        "df = df.withColumn(\"reviews\", clean_reviews(F.col(\"reviews\")))"
      ]
    },
    {
      "cell_type": "code",
      "execution_count": 17,
      "metadata": {
        "colab": {
          "base_uri": "https://localhost:8080/"
        },
        "id": "2Vq1OOYolqz5",
        "outputId": "2c9714a0-6f48-46ed-f057-0e4cc8122d1a"
      },
      "outputs": [
        {
          "name": "stdout",
          "output_type": "stream",
          "text": [
            "+-----+---------+--------+-------+\n",
            "|price|old_price|discount|reviews|\n",
            "+-----+---------+--------+-------+\n",
            "|12790|25580    |50      |44     |\n",
            "|12083|43930    |72      |48     |\n",
            "|41495|165980   |75      |31     |\n",
            "|13990|27980    |50      |22     |\n",
            "|9990 |NULL     |NULL    |237    |\n",
            "+-----+---------+--------+-------+\n",
            "only showing top 5 rows\n",
            "\n"
          ]
        }
      ],
      "source": [
        "# просмотр\n",
        "\n",
        "df.select('price', 'old_price', 'discount', 'reviews').show(5, truncate=False)"
      ]
    },
    {
      "cell_type": "code",
      "execution_count": 18,
      "metadata": {
        "colab": {
          "base_uri": "https://localhost:8080/"
        },
        "id": "Zj16E3peMQCt",
        "outputId": "d6bbb108-4d44-4bb6-e318-53e0c428354d"
      },
      "outputs": [
        {
          "name": "stdout",
          "output_type": "stream",
          "text": [
            "Количество null значений после восстановления:\n",
            "+---+--------+-----------+----+-----+---------+--------+------+-------+-----------+-----------+\n",
            "|sku|category|subcategory|name|price|old_price|discount|rating|reviews|product_url|parsed_date|\n",
            "+---+--------+-----------+----+-----+---------+--------+------+-------+-----------+-----------+\n",
            "|  0|       0|         36|   0| 2051|     2059|    2059|     0|      0|          0|          0|\n",
            "+---+--------+-----------+----+-----+---------+--------+------+-------+-----------+-----------+\n",
            "\n"
          ]
        }
      ],
      "source": [
        "print(\"Количество null значений после восстановления:\")\n",
        "\n",
        "df.select([F.sum(F.isnull(c).cast(\"int\")).alias(c) for c in df.columns]).show()"
      ]
    },
    {
      "cell_type": "markdown",
      "metadata": {
        "id": "jNsT4si0_0hP"
      },
      "source": [
        "Вроде норм, можно грузить в  базу"
      ]
    },
    {
      "cell_type": "markdown",
      "metadata": {
        "id": "zh8nHi0aDU0I"
      },
      "source": [
        "# Запись очищенных данных в БД"
      ]
    },
    {
      "cell_type": "code",
      "execution_count": 19,
      "metadata": {
        "id": "BKiU8cKAnK1j"
      },
      "outputs": [],
      "source": [
        "import psycopg2\n",
        "\n",
        "# Создание таблицы для хранения очищенных данных\n",
        "create_table_query = \"\"\"\n",
        "DROP TABLE IF EXISTS public.zolotoy_clean_products;\n",
        "CREATE TABLE IF NOT EXISTS public.zolotoy_clean_products (\n",
        "    sku INTEGER UNIQUE PRIMARY KEY,\n",
        "    category TEXT NOT NULL,\n",
        "    subcategory TEXT,\n",
        "    name TEXT NOT NULL,\n",
        "    price INT,\n",
        "    old_price INT,\n",
        "    discount INT,\n",
        "    rating INT NOT NULL,\n",
        "    reviews INT NOT NULL,\n",
        "    parsed_date DATE,\n",
        "    product_url TEXT NOT NULL,\n",
        "    inserted_date TIMESTAMP\n",
        ");\n",
        "\"\"\"\n",
        "\n",
        "connection = psycopg2.connect(\n",
        "    host=POSTGRES_CONFIG['host'],\n",
        "    port=POSTGRES_CONFIG['port'],\n",
        "    database=POSTGRES_CONFIG['database'],\n",
        "    user=POSTGRES_CONFIG['user'],\n",
        "    password=POSTGRES_CONFIG['password']\n",
        ")\n",
        "\n",
        "cursor = connection.cursor()\n",
        "cursor.execute(create_table_query)\n",
        "connection.commit()\n",
        "cursor.close()\n",
        "connection.close()"
      ]
    },
    {
      "cell_type": "code",
      "execution_count": 20,
      "metadata": {
        "id": "NV5OK1Sem4rf"
      },
      "outputs": [],
      "source": [
        "# Преобразование типов данных\n",
        "\n",
        "df_clean = df.withColumn(\"sku\", F.col(\"sku\").cast(\"int\")) \\\n",
        "             .withColumn(\"price\", F.col(\"price\").cast(\"int\")) \\\n",
        "             .withColumn(\"old_price\", F.col(\"old_price\").cast(\"int\")) \\\n",
        "             .withColumn(\"discount\", F.col(\"discount\").cast(\"int\")) \\\n",
        "             .withColumn(\"rating\", F.col(\"rating\").cast(\"int\")) \\\n",
        "             .withColumn(\"reviews\", F.col(\"reviews\").cast(\"int\")) \\\n",
        "             .withColumn(\"product_url\", F.col(\"product_url\").cast(\"string\")) \\\n",
        "             .withColumn(\"parsed_date\", F.col(\"parsed_date\").cast(\"date\")) \\\n",
        "             .withColumn(\"inserted_date\", F.date_format(F.current_timestamp(), \"yyyy-MM-dd HH:mm:ss\"))\n"
      ]
    },
    {
      "cell_type": "code",
      "execution_count": 21,
      "metadata": {
        "colab": {
          "base_uri": "https://localhost:8080/"
        },
        "id": "q_YL4g1jy7cZ",
        "outputId": "4c4c698e-1e3b-440a-a007-25f3eb34c160"
      },
      "outputs": [
        {
          "name": "stdout",
          "output_type": "stream",
          "text": [
            "Данные успешно загружены в zolotoy_clean_products\n"
          ]
        }
      ],
      "source": [
        "# Запись в PostgreSQL\n",
        "\n",
        "df_clean.write.format(\"jdbc\") \\\n",
        "    .option(\"url\", jdbc_url) \\\n",
        "    .option(\"dbtable\", \"public.zolotoy_clean_products\") \\\n",
        "    .option(\"user\", POSTGRES_CONFIG['user']) \\\n",
        "    .option(\"password\", POSTGRES_CONFIG['password']) \\\n",
        "    .option(\"driver\", \"org.postgresql.Driver\") \\\n",
        "    .mode(\"overwrite\") \\\n",
        "    .save()\n",
        "\n",
        "print(\"Данные успешно загружены в zolotoy_clean_products\")"
      ]
    },
    {
      "cell_type": "code",
      "execution_count": 22,
      "metadata": {
        "colab": {
          "base_uri": "https://localhost:8080/"
        },
        "id": "1H7xOm0W0s10",
        "outputId": "925c8fbd-ac9c-4e27-844b-49824265cec0"
      },
      "outputs": [
        {
          "name": "stdout",
          "output_type": "stream",
          "text": [
            "+-------+--------+-------------------------+---------------------------------------------------+-----+---------+--------+------+-------+---------------------------------------------------+-----------+-------------------+\n",
            "|sku    |category|subcategory              |name                                               |price|old_price|discount|rating|reviews|product_url                                        |parsed_date|inserted_date      |\n",
            "+-------+--------+-------------------------+---------------------------------------------------+-----+---------+--------+------+-------+---------------------------------------------------+-----------+-------------------+\n",
            "|1978724|Кольца  |Женские кольца           |Золотое кольцо с сапфиром выращенным и бриллиантами|12790|25580    |50      |235   |44     |https://www.585zolotoy.ru/catalog/products/1978724/|2025-08-31 |2025-09-01 12:02:12|\n",
            "|9001102|Кольца  |Мужские кольца           |Золотое обручальное кольцо                         |12083|43930    |72      |255   |48     |https://www.585zolotoy.ru/catalog/products/9001102/|2025-08-31 |2025-09-01 12:02:12|\n",
            "|1553012|Кольца  |Широкие кольца           |Золотое кольцо с бриллиантами                      |41495|165980   |75      |170   |31     |https://www.585zolotoy.ru/catalog/products/1553012/|2025-08-31 |2025-09-01 12:02:12|\n",
            "|9002261|Кольца  |Ювелирная база           |Золотое кольцо с премиум цирконием                 |13990|27980    |50      |125   |22     |https://www.585zolotoy.ru/catalog/products/9002261/|2025-08-31 |2025-09-01 12:02:12|\n",
            "|1847403|Кольца  |Ювелирная база           |Золотое кольцо с бриллиантом                       |9990 |NULL     |NULL    |265   |237    |https://www.585zolotoy.ru/catalog/products/1847403/|2025-08-31 |2025-09-01 12:02:12|\n",
            "|1504126|Кольца  |Кольца из красного золота|Золотое кольцо с бриллиантами                      |22990|45980    |50      |255   |48     |https://www.585zolotoy.ru/catalog/products/1504126/|2025-08-31 |2025-09-01 12:02:12|\n",
            "|1665384|Кольца  |Ювелирная база           |Золотое кольцо с фианитом                          |9990 |19980    |50      |35    |4      |https://www.585zolotoy.ru/catalog/products/1665384/|2025-08-31 |2025-09-01 12:02:12|\n",
            "|9000056|Кольца  |Кольца из красного золота|Золотое обручальное кольцо с бриллиантами          |21995|87980    |75      |250   |47     |https://www.585zolotoy.ru/catalog/products/9000056/|2025-08-31 |2025-09-01 12:02:12|\n",
            "|9001208|Кольца  |Кольца из красного золота|Золотое обручальное кольцо с бриллиантами          |20619|74980    |73      |200   |37     |https://www.585zolotoy.ru/catalog/products/9001208/|2025-08-31 |2025-09-01 12:02:12|\n",
            "|1977945|Кольца  |Кольца из красного золота|Золотое кольцо                                     |24101|87630    |72      |155   |28     |https://www.585zolotoy.ru/catalog/products/1977945/|2025-08-31 |2025-09-01 12:02:12|\n",
            "|1224216|Кольца  |Ювелирная база           |Золотое кольцо с бриллиантами                      |34990|69980    |50      |265   |85     |https://www.585zolotoy.ru/catalog/products/1224216/|2025-08-31 |2025-09-01 12:02:12|\n",
            "|1554622|Кольца  |Ювелирная база           |Золотое кольцо с фианитом                          |9990 |19980    |50      |265   |188    |https://www.585zolotoy.ru/catalog/products/1554622/|2025-08-31 |2025-09-01 12:02:12|\n",
            "|1482588|Кольца  |Кольца из красного золота|Золотое кольцо с фианитами                         |7920 |15840    |50      |60    |9      |https://www.585zolotoy.ru/catalog/products/1482588/|2025-08-31 |2025-09-01 12:02:12|\n",
            "|1975092|Кольца  |Кольца из красного золота|Золотое кольцо с бриллиантами                      |32990|65980    |50      |265   |136    |https://www.585zolotoy.ru/catalog/products/1975092/|2025-08-31 |2025-09-01 12:02:12|\n",
            "|9001103|Кольца  |Мужские кольца           |Золотое обручальное кольцо                         |17061|62040    |72      |265   |54     |https://www.585zolotoy.ru/catalog/products/9001103/|2025-08-31 |2025-09-01 12:02:12|\n",
            "|2008566|Кольца  |Кольца из красного золота|Золотое кольцо с фианитами                         |20398|90650    |77      |265   |276    |https://www.585zolotoy.ru/catalog/products/2008566/|2025-08-31 |2025-09-01 12:02:12|\n",
            "|1591989|Кольца  |Ювелирная база           |Золотое кольцо с бриллиантами                      |30990|61980    |50      |265   |64     |https://www.585zolotoy.ru/catalog/products/1591989/|2025-08-31 |2025-09-01 12:02:12|\n",
            "|1075020|Кольца  |Кольца из красного золота|Золотое кольцо с фианитами                         |8390 |16770    |50      |30    |3      |https://www.585zolotoy.ru/catalog/products/1075020/|2025-08-31 |2025-09-01 12:02:12|\n",
            "|1730487|Кольца  |Ювелирная база           |Золотое кольцо с бриллиантами                      |16990|NULL     |NULL    |265   |57     |https://www.585zolotoy.ru/catalog/products/1730487/|2025-08-31 |2025-09-01 12:02:12|\n",
            "|2239925|Кольца  |Кольца из красного золота|Золотое кольцо                                     |30290|60580    |50      |55    |8      |https://www.585zolotoy.ru/catalog/products/2239925/|2025-08-31 |2025-09-01 12:02:12|\n",
            "+-------+--------+-------------------------+---------------------------------------------------+-----+---------+--------+------+-------+---------------------------------------------------+-----------+-------------------+\n",
            "only showing top 20 rows\n",
            "\n"
          ]
        }
      ],
      "source": [
        "# чтение очищенных данных из таблицы \"public.zolotoy_clean_products\",\n",
        "\n",
        "df_clean = spark.read.format(\"jdbc\") \\\n",
        "        .option(\"url\", jdbc_url) \\\n",
        "        .option(\"dbtable\", \"public.zolotoy_clean_products\") \\\n",
        "        .option(\"user\", POSTGRES_CONFIG['user']) \\\n",
        "        .option(\"password\", POSTGRES_CONFIG['password']) \\\n",
        "        .option(\"driver\", \"org.postgresql.Driver\") \\\n",
        "        .load()\n",
        "\n",
        "df_clean.show(20, truncate=False)"
      ]
    },
    {
      "cell_type": "code",
      "execution_count": 23,
      "metadata": {
        "colab": {
          "base_uri": "https://localhost:8080/"
        },
        "id": "NqzFWsR8u5xc",
        "outputId": "3f124bb3-b591-468c-dd86-6590de05ab21"
      },
      "outputs": [
        {
          "name": "stdout",
          "output_type": "stream",
          "text": [
            "Количество строк в очищенной таблице public.zolotoy_clean_products: 9931\n"
          ]
        }
      ],
      "source": [
        "print(f\"Количество строк в очищенной таблице public.zolotoy_clean_products: {df_clean.count()}\")"
      ]
    },
    {
      "cell_type": "markdown",
      "metadata": {
        "id": "UyGCDAq_hrhH"
      },
      "source": [
        "**В БД product_url и parsed_date отбражаются корректно**"
      ]
    },
    {
      "cell_type": "code",
      "execution_count": 24,
      "metadata": {
        "id": "naJfN9j1vEum"
      },
      "outputs": [],
      "source": [
        "# Останавливаем SparkSession\n",
        "spark.stop()"
      ]
    }
  ],
  "metadata": {
    "colab": {
      "provenance": [],
      "toc_visible": true
    },
    "kernelspec": {
      "display_name": "Python 3",
      "name": "python3"
    },
    "language_info": {
      "name": "python"
    }
  },
  "nbformat": 4,
  "nbformat_minor": 0
}
