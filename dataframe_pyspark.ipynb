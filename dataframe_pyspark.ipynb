{
  "nbformat": 4,
  "nbformat_minor": 0,
  "metadata": {
    "colab": {
      "provenance": [],
      "collapsed_sections": [
        "3n7SErNUoxxQ",
        "rfHYc2hwqR5C"
      ],
      "authorship_tag": "ABX9TyP86bufzPQ2hPpzY0YPAJTl",
      "include_colab_link": true
    },
    "kernelspec": {
      "name": "python3",
      "display_name": "Python 3"
    },
    "language_info": {
      "name": "python"
    }
  },
  "cells": [
    {
      "cell_type": "markdown",
      "metadata": {
        "id": "view-in-github",
        "colab_type": "text"
      },
      "source": [
        "<a href=\"https://colab.research.google.com/github/bryancev/Data_Engineer_traineeship/blob/main/dataframe_pyspark.ipynb\" target=\"_parent\"><img src=\"https://colab.research.google.com/assets/colab-badge.svg\" alt=\"Open In Colab\"/></a>"
      ]
    },
    {
      "cell_type": "markdown",
      "source": [
        "# Задание №1: Анализ активности онлайн-пользователей"
      ],
      "metadata": {
        "id": "v7liRI_JiCYj"
      }
    },
    {
      "cell_type": "markdown",
      "source": [
        "## 1.1 Создание и проверка структуры DataFrame"
      ],
      "metadata": {
        "id": "H77iQe_liMUs"
      }
    },
    {
      "cell_type": "code",
      "source": [
        "from pyspark.sql import SparkSession\n",
        "from pyspark.sql import functions as F\n",
        "from pyspark.sql.types import *\n",
        "from datetime import date\n",
        "\n",
        "# Инициализация SparkSession\n",
        "spark = SparkSession.builder \\\n",
        "        .appName(\"user_activity_project\") \\\n",
        "        .getOrCreate()\n",
        "\n",
        "schema = StructType((\n",
        "    StructField(\"user_id\", IntegerType(), True),\n",
        "    StructField(\"activity_date\", DateType(), True),\n",
        "    StructField(\"sessions_by_device\", MapType(StringType(), IntegerType()), True),\n",
        "    StructField(\"visited_pages\", ArrayType(StringType()), True),\n",
        "    StructField(\"usability_rating\", DoubleType(), True)\n",
        "))\n",
        "\n",
        "data = [\n",
        "    (101, date(2025, 1, 1), {\"mobile\": 3, \"desktop\": 1}, [\"/home\", \"/products\", \"/cart\"], 4.5),\n",
        "    (102, date(2025, 1, 1), {\"desktop\": 2}, [\"/home\", \"/about\"], 3.0),\n",
        "    (101, date(2025, 1, 2), {\"mobile\": 2}, [\"/products\", \"/checkout\"], None),\n",
        "    (103, date(2025, 1, 2), {\"tablet\": 1, \"mobile\": 1}, [\"/blog\", \"/contact\"], 5.0),\n",
        "    (104, date(2025, 1, 3), {\"desktop\": 4}, [\"/dashboard\"], 3.5),\n",
        "    (101, date(2025, 1, 3), {\"mobile\": 1, \"desktop\": 1}, [\"/home\", \"/products\"], 4.0),\n",
        "    (105, date(2025, 1, 4), {\"mobile\": 5}, [\"/faq\"], None),\n",
        "    (102, date(2025, 1, 4), {\"desktop\": 1, \"mobile\": 1}, [\"/settings\"], 3.8),\n",
        "    (103, date(2025, 1, 5), {\"tablet\": 2}, [\"/products\"], 4.2),\n",
        "    (106, date(2025, 1, 5), {\"desktop\": 3, \"mobile\": 2}, [\"/login\", \"/profile\", \"/home\"], 4.7),\n",
        "    (101, date(2025, 1, 6), {\"mobile\": 1}, [\"/cart\", \"/checkout\"], 4.0),\n",
        "    (104, date(2025, 1, 6), {\"desktop\": 2, \"tablet\": 1}, [\"/contact\"], None),\n",
        "    (105, date(2025, 1, 7), {\"mobile\": 3, \"desktop\": 1}, [\"/pricing\"], 4.1),\n",
        "    (106, date(2025, 1, 7), {\"desktop\": 1}, [\"/home\", \"/about\"], 3.9),\n",
        "    (107, date(2025, 1, 8), {\"mobile\": 4, \"tablet\": 2}, [\"/products\", \"/blog\"], 4.9)\n",
        "]\n",
        "\n",
        "df_user_activity = spark.createDataFrame(data, schema=schema)\n",
        "\n",
        "# Схема DataFrame\n",
        "df_user_activity.printSchema()"
      ],
      "metadata": {
        "colab": {
          "base_uri": "https://localhost:8080/"
        },
        "id": "56W98tJ8hpBd",
        "outputId": "3efe7eb1-9a22-4246-b0e8-6c36bc90c062"
      },
      "execution_count": null,
      "outputs": [
        {
          "output_type": "stream",
          "name": "stdout",
          "text": [
            "root\n",
            " |-- user_id: integer (nullable = true)\n",
            " |-- activity_date: date (nullable = true)\n",
            " |-- sessions_by_device: map (nullable = true)\n",
            " |    |-- key: string\n",
            " |    |-- value: integer (valueContainsNull = true)\n",
            " |-- visited_pages: array (nullable = true)\n",
            " |    |-- element: string (containsNull = true)\n",
            " |-- usability_rating: double (nullable = true)\n",
            "\n"
          ]
        }
      ]
    },
    {
      "cell_type": "markdown",
      "source": [
        "## 1.2 Расчет построчных показателей"
      ],
      "metadata": {
        "id": "Lbb5H-Ymkakd"
      }
    },
    {
      "cell_type": "code",
      "source": [
        "# Сумма количества сессий по всем устройствам (mobile, desktop, tablet)\n",
        "\n",
        "df_user_activity = df_user_activity.withColumn(\n",
        "                                \"total_sessions_count\",\n",
        "                                F.coalesce(F.col(\"sessions_by_device\")[\"mobile\"], F.lit(0)) +\n",
        "                                F.coalesce(F.col(\"sessions_by_device\")[\"desktop\"], F.lit(0)) +\n",
        "                                F.coalesce(F.col(\"sessions_by_device\")[\"tablet\"], F.lit(0))\n",
        "                            )\n",
        "df_user_activity.show(5, truncate=False)"
      ],
      "metadata": {
        "colab": {
          "base_uri": "https://localhost:8080/"
        },
        "id": "gpnH0TsChpEL",
        "outputId": "66041df0-1aef-43a5-ee7f-3ccc8bb07b8c"
      },
      "execution_count": null,
      "outputs": [
        {
          "output_type": "stream",
          "name": "stdout",
          "text": [
            "+-------+-------------+---------------------------+-------------------------+----------------+--------------------+\n",
            "|user_id|activity_date|sessions_by_device         |visited_pages            |usability_rating|total_sessions_count|\n",
            "+-------+-------------+---------------------------+-------------------------+----------------+--------------------+\n",
            "|101    |2025-01-01   |{mobile -> 3, desktop -> 1}|[/home, /products, /cart]|4.5             |4                   |\n",
            "|102    |2025-01-01   |{desktop -> 2}             |[/home, /about]          |3.0             |2                   |\n",
            "|101    |2025-01-02   |{mobile -> 2}              |[/products, /checkout]   |NULL            |2                   |\n",
            "|103    |2025-01-02   |{mobile -> 1, tablet -> 1} |[/blog, /contact]        |5.0             |2                   |\n",
            "|104    |2025-01-03   |{desktop -> 4}             |[/dashboard]             |3.5             |4                   |\n",
            "+-------+-------------+---------------------------+-------------------------+----------------+--------------------+\n",
            "only showing top 5 rows\n",
            "\n"
          ]
        }
      ]
    },
    {
      "cell_type": "code",
      "source": [
        "# Количество мобильных сессий\n",
        "\n",
        "df_user_activity = df_user_activity.withColumn(\n",
        "                                \"mobile_sessions\",\n",
        "                                F.when(F.col(\"sessions_by_device\")[\"mobile\"].isNull(), 0)\n",
        "                                .otherwise(F.col(\"sessions_by_device\")[\"mobile\"])\n",
        "                            )\n",
        "df_user_activity.show(5, truncate=False)"
      ],
      "metadata": {
        "colab": {
          "base_uri": "https://localhost:8080/"
        },
        "id": "HVxgsQxzhpGr",
        "outputId": "082b634d-0430-4387-a7ef-b606456be13c"
      },
      "execution_count": null,
      "outputs": [
        {
          "output_type": "stream",
          "name": "stdout",
          "text": [
            "+-------+-------------+---------------------------+-------------------------+----------------+--------------------+---------------+\n",
            "|user_id|activity_date|sessions_by_device         |visited_pages            |usability_rating|total_sessions_count|mobile_sessions|\n",
            "+-------+-------------+---------------------------+-------------------------+----------------+--------------------+---------------+\n",
            "|101    |2025-01-01   |{mobile -> 3, desktop -> 1}|[/home, /products, /cart]|4.5             |4                   |3              |\n",
            "|102    |2025-01-01   |{desktop -> 2}             |[/home, /about]          |3.0             |2                   |0              |\n",
            "|101    |2025-01-02   |{mobile -> 2}              |[/products, /checkout]   |NULL            |2                   |2              |\n",
            "|103    |2025-01-02   |{mobile -> 1, tablet -> 1} |[/blog, /contact]        |5.0             |2                   |1              |\n",
            "|104    |2025-01-03   |{desktop -> 4}             |[/dashboard]             |3.5             |4                   |0              |\n",
            "+-------+-------------+---------------------------+-------------------------+----------------+--------------------+---------------+\n",
            "only showing top 5 rows\n",
            "\n"
          ]
        }
      ]
    },
    {
      "cell_type": "markdown",
      "source": [
        "## 1.3 Агрегация данных"
      ],
      "metadata": {
        "id": "lDqLH3-yp2EF"
      }
    },
    {
      "cell_type": "code",
      "source": [
        "# Количество сессий по пользователям\n",
        "\n",
        "user_total_sessions = (df_user_activity\n",
        "                        .select(\"user_id\", \"total_sessions_count\")\n",
        "                        .groupBy(\"user_id\")\n",
        "                        .agg(F.sum(\"total_sessions_count\").alias(\"total_sessions_all\")) \\\n",
        "                        .orderBy(F.col(\"total_sessions_all\").desc())\n",
        ")\n",
        "\n",
        "# Вывод результата\n",
        "user_total_sessions.show(5, truncate=False)"
      ],
      "metadata": {
        "colab": {
          "base_uri": "https://localhost:8080/"
        },
        "id": "5ExrwLz5hpJL",
        "outputId": "9275d78a-9a6e-4e7e-f7d7-b85387317f84"
      },
      "execution_count": null,
      "outputs": [
        {
          "output_type": "stream",
          "name": "stdout",
          "text": [
            "+-------+------------------+\n",
            "|user_id|total_sessions_all|\n",
            "+-------+------------------+\n",
            "|101    |9                 |\n",
            "|105    |9                 |\n",
            "|104    |7                 |\n",
            "|107    |6                 |\n",
            "|106    |6                 |\n",
            "+-------+------------------+\n",
            "only showing top 5 rows\n",
            "\n"
          ]
        }
      ]
    },
    {
      "cell_type": "code",
      "source": [
        "# Количество уникальных посещенных страниц по пользователям\n",
        "\n",
        "user_unique_pages = (df_user_activity\n",
        "          .select(\"user_id\", F.explode_outer(\"visited_pages\").alias(\"page\")) # explode_outer - развертывание массива в отдельные строки\n",
        "          .groupBy(\"user_id\")\n",
        "          .agg(F.countDistinct(\"page\").alias(\"unique_pages_count\"))\n",
        "          .orderBy(\"user_id\")\n",
        ")\n",
        "\n",
        "# Вывод результата\n",
        "user_unique_pages.show(5, truncate=False)"
      ],
      "metadata": {
        "colab": {
          "base_uri": "https://localhost:8080/"
        },
        "id": "5-V88_JDhpLk",
        "outputId": "e536faf1-6414-4366-e9c6-46e4017f6843"
      },
      "execution_count": null,
      "outputs": [
        {
          "output_type": "stream",
          "name": "stdout",
          "text": [
            "+-------+------------------+\n",
            "|user_id|unique_pages_count|\n",
            "+-------+------------------+\n",
            "|101    |4                 |\n",
            "|102    |3                 |\n",
            "|103    |3                 |\n",
            "|104    |2                 |\n",
            "|105    |2                 |\n",
            "+-------+------------------+\n",
            "only showing top 5 rows\n",
            "\n"
          ]
        }
      ]
    },
    {
      "cell_type": "markdown",
      "source": [
        "## 1.4 Фильтрация данных"
      ],
      "metadata": {
        "id": "P2UIzz1r2LwY"
      }
    },
    {
      "cell_type": "code",
      "source": [
        "# Фильтрация где usability_rating выше 3.5.\n",
        "\n",
        "filtered_rating = df_user_activity.filter(\n",
        "        (F.col(\"usability_rating\") > 3.5) &\n",
        "        (F.col(\"usability_rating\").isNotNull())\n",
        "    ).orderBy(\n",
        "        F.col(\"usability_rating\").desc(),\n",
        "        F.col(\"user_id\")\n",
        "    )\n",
        "\n",
        "# Вывод результата\n",
        "filtered_rating.select(\n",
        "        \"user_id\",\n",
        "        \"activity_date\",\n",
        "        \"usability_rating\",\n",
        "        \"visited_pages\"\n",
        ").show(5, truncate=False)"
      ],
      "metadata": {
        "colab": {
          "base_uri": "https://localhost:8080/"
        },
        "id": "qqDnP_NXhpNz",
        "outputId": "3affbb5b-2e9e-480b-8316-c451f4c5c503"
      },
      "execution_count": null,
      "outputs": [
        {
          "output_type": "stream",
          "name": "stdout",
          "text": [
            "+-------+-------------+----------------+-------------------------+\n",
            "|user_id|activity_date|usability_rating|visited_pages            |\n",
            "+-------+-------------+----------------+-------------------------+\n",
            "|103    |2025-01-02   |5.0             |[/blog, /contact]        |\n",
            "|107    |2025-01-08   |4.9             |[/products, /blog]       |\n",
            "|106    |2025-01-05   |4.7             |[/login, /profile, /home]|\n",
            "|101    |2025-01-01   |4.5             |[/home, /products, /cart]|\n",
            "|103    |2025-01-05   |4.2             |[/products]              |\n",
            "+-------+-------------+----------------+-------------------------+\n",
            "only showing top 5 rows\n",
            "\n"
          ]
        }
      ]
    },
    {
      "cell_type": "code",
      "source": [
        "# Остановка SparkSession\n",
        "spark.stop()"
      ],
      "metadata": {
        "id": "Lct7E5pChpQr"
      },
      "execution_count": null,
      "outputs": []
    },
    {
      "cell_type": "markdown",
      "source": [
        "# Задание №2: Анализ финансовых данных"
      ],
      "metadata": {
        "id": "G_sJVSlerypz"
      }
    },
    {
      "cell_type": "code",
      "source": [
        "import requests\n",
        "import re\n",
        "\n",
        "# Получение \"прямой\" ссылки\n",
        "public_url = \"https://disk.yandex.ru/d/hLm5fkIc2yeXYw\"\n",
        "api_response = requests.get(f\"https://cloud-api.yandex.net/v1/disk/public/resources/download?public_key={public_url}\")\n",
        "api_response.raise_for_status()\n",
        "\n",
        "file_response = requests.get(api_response.json()['href'])\n",
        "file_response.raise_for_status()\n",
        "\n",
        "# Сохранение в файл\n",
        "with open(\"autovaz.csv\", \"wb\") as f:\n",
        "    f.write(file_response.content)"
      ],
      "metadata": {
        "id": "SUc1ufG6rxck"
      },
      "execution_count": null,
      "outputs": []
    },
    {
      "cell_type": "code",
      "source": [
        "from pyspark.sql import SparkSession\n",
        "from pyspark.sql import functions as F\n",
        "from pyspark.sql.types import *\n",
        "from pyspark.sql.window import Window\n",
        "\n",
        "spark = SparkSession.builder \\\n",
        "         .appName(\"project_avtovaz\") \\\n",
        "         .getOrCreate()\n",
        "\n",
        "\n",
        "df = spark.read.option(\"header\", True).option(\"sep\", \",\").csv(\"autovaz.csv\")\n",
        "df.show(5, truncate=False)\n",
        "df.printSchema()"
      ],
      "metadata": {
        "colab": {
          "base_uri": "https://localhost:8080/"
        },
        "id": "37SZYXjmrxfE",
        "outputId": "ccf40afc-9db1-44c8-8503-57b7e2468455"
      },
      "execution_count": null,
      "outputs": [
        {
          "output_type": "stream",
          "name": "stdout",
          "text": [
            "+----+----------------------------------+-------------------------------+-----------------------------------+-----------------------------+---------------------------------+---------------------------------------+--------------------+------------------------------------------------------+-------------------------------------------+------------------------------------------------------+-------------------+----+\n",
            "|Год |Реализация (внутренний рынок: тыс)|Реализация (внешний рынок: тыс)|Себестоимость реализации (млн. руб)|Валовая прибыль от реализации|Общая сумма дивидендов (млн. руб)|Чистая прибыль отчётного года(млн. руб)|Всего текущие активы|Потоки денежных средств от инвестиционной деятельности|Потоки денежных средств от фин деятельности|Чистые денежные средства  от операционной деятельности| Прибыль до налогов| Тип|\n",
            "+----+----------------------------------+-------------------------------+-----------------------------------+-----------------------------+---------------------------------+---------------------------------------+--------------------+------------------------------------------------------+-------------------------------------------+------------------------------------------------------+-------------------+----+\n",
            "|1999|618                               |48                             |-86064                             |17574                        |0                                |1021                                   |NaN                 |-NaN                                                  |NaN                                        |NaN                                                   |NaN                |МСФО|\n",
            "|2000|600                               |106                            |-95200                             |18590                        |0                                |4554                                   |34627               |-6303                                                 |-691                                       |6671                                                  |17061              |МСФО|\n",
            "|2001|670                               |96                             |-105391                            |24514                        |234.6                            |19056                                  |35183               |-6693                                                 |-1197                                      |8865                                                  |20969              |МСФО|\n",
            "|2002|605                               |98                             |-99331                             |20101                        |219.7                            |1128                                   |36144               |-7852                                                 |3627                                       |2561                                                  |6060               |МСФО|\n",
            "|2003|626                               |92                             |-110120                            |20652                        |183.1                            |2951                                   |44235               |-9730                                                 |6446                                       |7417                                                  |2566               |МСФО|\n",
            "+----+----------------------------------+-------------------------------+-----------------------------------+-----------------------------+---------------------------------+---------------------------------------+--------------------+------------------------------------------------------+-------------------------------------------+------------------------------------------------------+-------------------+----+\n",
            "only showing top 5 rows\n",
            "\n",
            "root\n",
            " |-- Год: string (nullable = true)\n",
            " |-- Реализация (внутренний рынок: тыс): string (nullable = true)\n",
            " |-- Реализация (внешний рынок: тыс): string (nullable = true)\n",
            " |-- Себестоимость реализации (млн. руб): string (nullable = true)\n",
            " |-- Валовая прибыль от реализации: string (nullable = true)\n",
            " |-- Общая сумма дивидендов (млн. руб): string (nullable = true)\n",
            " |-- Чистая прибыль отчётного года(млн. руб): string (nullable = true)\n",
            " |-- Всего текущие активы: string (nullable = true)\n",
            " |-- Потоки денежных средств от инвестиционной деятельности: string (nullable = true)\n",
            " |-- Потоки денежных средств от фин деятельности: string (nullable = true)\n",
            " |-- Чистые денежные средства  от операционной деятельности: string (nullable = true)\n",
            " |--  Прибыль до налогов: string (nullable = true)\n",
            " |--  Тип: string (nullable = true)\n",
            "\n"
          ]
        }
      ]
    },
    {
      "cell_type": "markdown",
      "source": [
        "## 2.1 Предварительная подготовка данных"
      ],
      "metadata": {
        "id": "iAhvxtkPs_ut"
      }
    },
    {
      "cell_type": "code",
      "source": [
        "# стандартизация названий столбцов\n",
        "\n",
        "def clean_column_name(name):\n",
        "    # удаление спецсимволов\n",
        "    name = re.sub(r'[^\\w]', '_', name.strip().lower())\n",
        "    # замена множественных '_' одним\n",
        "    name = re.sub(r'_+', '_', name)\n",
        "    # удаление '_' в конце и начале\n",
        "    return name.rstrip('_')\n",
        "\n",
        "new_columns = [clean_column_name(col) for col in df.columns]\n",
        "df = df.toDF(*new_columns)\n",
        "df.show(5, truncate=False)"
      ],
      "metadata": {
        "colab": {
          "base_uri": "https://localhost:8080/"
        },
        "id": "n1PL0lzMrxhj",
        "outputId": "8aedb79d-afb4-4465-bcd0-21e2d5ee3703"
      },
      "execution_count": null,
      "outputs": [
        {
          "output_type": "stream",
          "name": "stdout",
          "text": [
            "+----+-------------------------------+----------------------------+--------------------------------+-----------------------------+------------------------------+-------------------------------------+--------------------+------------------------------------------------------+-------------------------------------------+-----------------------------------------------------+------------------+----+\n",
            "|год |реализация_внутренний_рынок_тыс|реализация_внешний_рынок_тыс|себестоимость_реализации_млн_руб|валовая_прибыль_от_реализации|общая_сумма_дивидендов_млн_руб|чистая_прибыль_отчётного_года_млн_руб|всего_текущие_активы|потоки_денежных_средств_от_инвестиционной_деятельности|потоки_денежных_средств_от_фин_деятельности|чистые_денежные_средства_от_операционной_деятельности|прибыль_до_налогов|тип |\n",
            "+----+-------------------------------+----------------------------+--------------------------------+-----------------------------+------------------------------+-------------------------------------+--------------------+------------------------------------------------------+-------------------------------------------+-----------------------------------------------------+------------------+----+\n",
            "|1999|618                            |48                          |-86064                          |17574                        |0                             |1021                                 |NaN                 |-NaN                                                  |NaN                                        |NaN                                                  |NaN               |МСФО|\n",
            "|2000|600                            |106                         |-95200                          |18590                        |0                             |4554                                 |34627               |-6303                                                 |-691                                       |6671                                                 |17061             |МСФО|\n",
            "|2001|670                            |96                          |-105391                         |24514                        |234.6                         |19056                                |35183               |-6693                                                 |-1197                                      |8865                                                 |20969             |МСФО|\n",
            "|2002|605                            |98                          |-99331                          |20101                        |219.7                         |1128                                 |36144               |-7852                                                 |3627                                       |2561                                                 |6060              |МСФО|\n",
            "|2003|626                            |92                          |-110120                         |20652                        |183.1                         |2951                                 |44235               |-9730                                                 |6446                                       |7417                                                 |2566              |МСФО|\n",
            "+----+-------------------------------+----------------------------+--------------------------------+-----------------------------+------------------------------+-------------------------------------+--------------------+------------------------------------------------------+-------------------------------------------+-----------------------------------------------------+------------------+----+\n",
            "only showing top 5 rows\n",
            "\n"
          ]
        }
      ]
    },
    {
      "cell_type": "code",
      "source": [
        "# Приведение числовых колонок к соответствующим типам\n",
        "\n",
        "columns_to_cast_types = {\n",
        "    \"год\": IntegerType(),\n",
        "    \"реализация_внутренний_рынок_тыс\": DoubleType(),\n",
        "    \"реализация_внешний_рынок_тыс\": DoubleType(),\n",
        "    \"себестоимость_реализации_млн_руб\": DoubleType(),\n",
        "    \"валовая_прибыль_от_реализации\": DoubleType(),\n",
        "    \"общая_сумма_дивидендов_млн_руб\": DoubleType(),\n",
        "    \"чистая_прибыль_отчётного_года_млн_руб\": DoubleType(),\n",
        "    \"всего_текущие_активы\": DoubleType(),\n",
        "    \"потоки_денежных_средств_от_инвестиционной_деятельности\": DoubleType(),\n",
        "    \"потоки_денежных_средств_от_фин_деятельности\": DoubleType(),\n",
        "    \"чистые_денежные_средства_от_операционной_деятельности\": DoubleType(),\n",
        "    \"прибыль_до_налогов\": DoubleType(),\n",
        "    \"тип\": StringType()\n",
        "}\n",
        "\n",
        "for col_name, col_type in columns_to_cast_types.items():\n",
        "    df = df.withColumn(\n",
        "        col_name,\n",
        "        F.col(col_name).cast(col_type)\n",
        ")\n",
        "\n",
        "df.show(5, truncate=False)"
      ],
      "metadata": {
        "colab": {
          "base_uri": "https://localhost:8080/"
        },
        "id": "iEGOV4QErxjz",
        "outputId": "f6af2fce-1fb7-4b8d-e9aa-f065d7f76ead"
      },
      "execution_count": null,
      "outputs": [
        {
          "output_type": "stream",
          "name": "stdout",
          "text": [
            "+----+-------------------------------+----------------------------+--------------------------------+-----------------------------+------------------------------+-------------------------------------+--------------------+------------------------------------------------------+-------------------------------------------+-----------------------------------------------------+------------------+----+\n",
            "|год |реализация_внутренний_рынок_тыс|реализация_внешний_рынок_тыс|себестоимость_реализации_млн_руб|валовая_прибыль_от_реализации|общая_сумма_дивидендов_млн_руб|чистая_прибыль_отчётного_года_млн_руб|всего_текущие_активы|потоки_денежных_средств_от_инвестиционной_деятельности|потоки_денежных_средств_от_фин_деятельности|чистые_денежные_средства_от_операционной_деятельности|прибыль_до_налогов|тип |\n",
            "+----+-------------------------------+----------------------------+--------------------------------+-----------------------------+------------------------------+-------------------------------------+--------------------+------------------------------------------------------+-------------------------------------------+-----------------------------------------------------+------------------+----+\n",
            "|1999|618.0                          |48.0                        |-86064.0                        |17574.0                      |0.0                           |1021.0                               |NaN                 |NaN                                                   |NaN                                        |NaN                                                  |NaN               |МСФО|\n",
            "|2000|600.0                          |106.0                       |-95200.0                        |18590.0                      |0.0                           |4554.0                               |34627.0             |-6303.0                                               |-691.0                                     |6671.0                                               |17061.0           |МСФО|\n",
            "|2001|670.0                          |96.0                        |-105391.0                       |24514.0                      |234.6                         |19056.0                              |35183.0             |-6693.0                                               |-1197.0                                    |8865.0                                               |20969.0           |МСФО|\n",
            "|2002|605.0                          |98.0                        |-99331.0                        |20101.0                      |219.7                         |1128.0                               |36144.0             |-7852.0                                               |3627.0                                     |2561.0                                               |6060.0            |МСФО|\n",
            "|2003|626.0                          |92.0                        |-110120.0                       |20652.0                      |183.1                         |2951.0                               |44235.0             |-9730.0                                               |6446.0                                     |7417.0                                               |2566.0            |МСФО|\n",
            "+----+-------------------------------+----------------------------+--------------------------------+-----------------------------+------------------------------+-------------------------------------+--------------------+------------------------------------------------------+-------------------------------------------+-----------------------------------------------------+------------------+----+\n",
            "only showing top 5 rows\n",
            "\n"
          ]
        }
      ]
    },
    {
      "cell_type": "markdown",
      "source": [
        "## 2.2 Анализ и ранжирование прибыли\n",
        "\n",
        "\n",
        "*   Чистая прибыль за предыдущий год для каждой записи\n",
        "*   Абсолютное изменение чистой прибыли по сравнению с предыдущим годом\n",
        "*   Ранжирование годов по величине абсолютного изменения чистой прибыли\n"
      ],
      "metadata": {
        "id": "e77KujegG4oV"
      }
    },
    {
      "cell_type": "code",
      "source": [
        "# Чистая прибыли за предыдущий год\n",
        "\n",
        "df = df.withColumn(\n",
        "    \"чистая_прибыль_предыдущего_года\",\n",
        "    F.lag(F.col(\"чистая_прибыль_отчётного_года_млн_руб\"), 1).over(Window.orderBy(\"год\"))\n",
        ")"
      ],
      "metadata": {
        "id": "cAiUvp-drxmj"
      },
      "execution_count": null,
      "outputs": []
    },
    {
      "cell_type": "code",
      "source": [
        "# Изменения чистой прибыли\n",
        "\n",
        "df = df.withColumn(\n",
        "    \"изменение_прибыли\",\n",
        "    F.col(\"чистая_прибыль_отчётного_года_млн_руб\") - F.col(\"чистая_прибыль_предыдущего_года\")\n",
        ")"
      ],
      "metadata": {
        "id": "1rBVmPT8rxpD"
      },
      "execution_count": null,
      "outputs": []
    },
    {
      "cell_type": "code",
      "source": [
        "# Ранжирование годов по абсолютному росту чистой прибыли\n",
        "\n",
        "window_rank = Window.orderBy(F.desc(\"изменение_прибыли\"))\n",
        "\n",
        "df = df.withColumn(\n",
        "    \"ранг_роста_прибыли\",\n",
        "    F.rank().over(window_rank)\n",
        ")"
      ],
      "metadata": {
        "id": "jxBCLn5zI0aG"
      },
      "execution_count": null,
      "outputs": []
    },
    {
      "cell_type": "code",
      "source": [
        "# просмотр данных\n",
        "\n",
        "df.select(\"год\",\n",
        "          \"чистая_прибыль_отчётного_года_млн_руб\",\n",
        "          \"чистая_прибыль_предыдущего_года\",\n",
        "          \"изменение_прибыли\",\n",
        "          \"ранг_роста_прибыли\") \\\n",
        "    .orderBy(\"ранг_роста_прибыли\") \\\n",
        "    .show(25, truncate=False)"
      ],
      "metadata": {
        "colab": {
          "base_uri": "https://localhost:8080/"
        },
        "id": "aaKwG1J_I0cs",
        "outputId": "0c738492-1b72-4ec6-f25c-cae1e3ab9175"
      },
      "execution_count": null,
      "outputs": [
        {
          "output_type": "stream",
          "name": "stdout",
          "text": [
            "+----+-------------------------------------+-------------------------------+-----------------+------------------+\n",
            "|год |чистая_прибыль_отчётного_года_млн_руб|чистая_прибыль_предыдущего_года|изменение_прибыли|ранг_роста_прибыли|\n",
            "+----+-------------------------------------+-------------------------------+-----------------+------------------+\n",
            "|2010|1500.0                               |-38500.0                       |40000.0          |1                 |\n",
            "|2017|-12384.0                             |-35467.0                       |23083.0          |2                 |\n",
            "|2018|5860.0                               |-12384.0                       |18244.0          |3                 |\n",
            "|2001|19056.0                              |4554.0                         |14502.0          |4                 |\n",
            "|2016|-35467.0                             |-43233.0                       |7766.0           |5                 |\n",
            "|2000|4554.0                               |1021.0                         |3533.0           |6                 |\n",
            "|2003|2951.0                               |1128.0                         |1823.0           |7                 |\n",
            "|2004|4575.0                               |2951.0                         |1624.0           |8                 |\n",
            "|2011|3106.0                               |1500.0                         |1606.0           |9                 |\n",
            "|2007|3951.0                               |2512.0                         |1439.0           |10                |\n",
            "|2006|2512.0                               |1400.0                         |1112.0           |11                |\n",
            "|2020|742.0                                |-234.0                         |976.0            |12                |\n",
            "|2021|1497.0                               |742.0                          |755.0            |13                |\n",
            "|2022|206.0                                |1497.0                         |-1291.0          |14                |\n",
            "|2012|211.0                                |3106.0                         |-2895.0          |15                |\n",
            "|2005|1400.0                               |4575.0                         |-3175.0          |16                |\n",
            "|2019|-234.0                               |5860.0                         |-6094.0          |17                |\n",
            "|2013|-6899.0                              |211.0                          |-7110.0          |18                |\n",
            "|2008|-6684.0                              |3951.0                         |-10635.0         |19                |\n",
            "|2015|-43233.0                             |-25411.0                       |-17822.0         |20                |\n",
            "|2002|1128.0                               |19056.0                        |-17928.0         |21                |\n",
            "|2014|-25411.0                             |-6899.0                        |-18512.0         |22                |\n",
            "|2009|-38500.0                             |-6684.0                        |-31816.0         |23                |\n",
            "|1999|1021.0                               |NULL                           |NULL             |24                |\n",
            "+----+-------------------------------------+-------------------------------+-----------------+------------------+\n",
            "\n"
          ]
        }
      ]
    },
    {
      "cell_type": "markdown",
      "source": [
        "## 2.3 Категоризация и агрегация\n",
        "\n",
        "\n",
        "*   \"Высокоприбыльный год\": если чистая прибыль > 5000 млн руб.\n",
        "*   \"Среднеприбыльный год\": если чистая прибыль от 1000 до 5000 млн руб.\n",
        "*   \"Низкоприбыльный год\": если чистая прибыль от 0 до 1000 млн руб.\n",
        "*   \"Убыточный год\": если чистая прибыль < 0\n",
        "*   \"Нулевая прибыль\": если чистая прибыль = 0\n"
      ],
      "metadata": {
        "id": "Rza6CppEMHNX"
      }
    },
    {
      "cell_type": "code",
      "source": [
        "# Создание категории\n",
        "\n",
        "df = df.withColumn(\n",
        "    \"категория_прибыли\",\n",
        "    F.when(F.col(\"чистая_прибыль_отчётного_года_млн_руб\") > 5000, \"Высокоприбыльный\")\n",
        "     .when((F.col(\"чистая_прибыль_отчётного_года_млн_руб\") > 1000) &\n",
        "           (F.col(\"чистая_прибыль_отчётного_года_млн_руб\") <= 5000), \"Среднеприбыльный\")\n",
        "     .when((F.col(\"чистая_прибыль_отчётного_года_млн_руб\") > 0) &\n",
        "           (F.col(\"чистая_прибыль_отчётного_года_млн_руб\") <= 1000), \"Низкоприбыльный\")\n",
        "     .when(F.col(\"чистая_прибыль_отчётного_года_млн_руб\") < 0, \"Убыточный\")\n",
        "     .otherwise(\"Нулевая прибыль\")\n",
        ")\n",
        "\n",
        "df.show(5, truncate=False)"
      ],
      "metadata": {
        "colab": {
          "base_uri": "https://localhost:8080/"
        },
        "id": "mlDghS21I0e_",
        "outputId": "04d889c8-8deb-4657-9c91-fa0272f9fbe2"
      },
      "execution_count": null,
      "outputs": [
        {
          "output_type": "stream",
          "name": "stdout",
          "text": [
            "+----+-------------------------------+----------------------------+--------------------------------+-----------------------------+------------------------------+-------------------------------------+--------------------+------------------------------------------------------+-------------------------------------------+-----------------------------------------------------+------------------+----+-------------------------------+-----------------+------------------+-----------------+\n",
            "|год |реализация_внутренний_рынок_тыс|реализация_внешний_рынок_тыс|себестоимость_реализации_млн_руб|валовая_прибыль_от_реализации|общая_сумма_дивидендов_млн_руб|чистая_прибыль_отчётного_года_млн_руб|всего_текущие_активы|потоки_денежных_средств_от_инвестиционной_деятельности|потоки_денежных_средств_от_фин_деятельности|чистые_денежные_средства_от_операционной_деятельности|прибыль_до_налогов|тип |чистая_прибыль_предыдущего_года|изменение_прибыли|ранг_роста_прибыли|категория_прибыли|\n",
            "+----+-------------------------------+----------------------------+--------------------------------+-----------------------------+------------------------------+-------------------------------------+--------------------+------------------------------------------------------+-------------------------------------------+-----------------------------------------------------+------------------+----+-------------------------------+-----------------+------------------+-----------------+\n",
            "|2010|506.0                          |42.0                        |-128265.0                       |9670.0                       |0.0                           |1500.0                               |11830.0             |-10496.0                                              |4850.0                                     |10759.0                                              |7426.0            |МСФО|-38500.0                       |40000.0          |1                 |Среднеприбыльный |\n",
            "|2017|313.0                          |14.5                        |-209495.0                       |13041.0                      |0.0                           |-12384.0                             |51263.0             |-5235.0                                               |13117.0                                    |9105.0                                               |-13191.0          |МСФО|-35467.0                       |23083.0          |2                 |Убыточный        |\n",
            "|2018|360.0                          |38.0                        |-297035.0                       |23853.0                      |0.0                           |5860.0                               |58379.0             |-658.0                                                |23820.0                                    |12375.0                                              |1010.0            |МСФО|-12384.0                       |18244.0          |3                 |Высокоприбыльный |\n",
            "|2001|670.0                          |96.0                        |-105391.0                       |24514.0                      |234.6                         |19056.0                              |35183.0             |-6693.0                                               |-1197.0                                    |8865.0                                               |20969.0           |МСФО|4554.0                         |14502.0          |4                 |Высокоприбыльный |\n",
            "|2016|269.0                          |13.0                        |-186828.0                       |-4904.0                      |0.0                           |-35467.0                             |55807.0             |-13553.0                                              |37471.0                                    |-11259.0                                             |-48057.0          |МСФО|-43233.0                       |7766.0           |5                 |Убыточный        |\n",
            "+----+-------------------------------+----------------------------+--------------------------------+-----------------------------+------------------------------+-------------------------------------+--------------------+------------------------------------------------------+-------------------------------------------+-----------------------------------------------------+------------------+----+-------------------------------+-----------------+------------------+-----------------+\n",
            "only showing top 5 rows\n",
            "\n"
          ]
        }
      ]
    },
    {
      "cell_type": "code",
      "source": [
        "# Группировка\n",
        "\n",
        "profit_category = df.groupBy(F.col(\"категория_прибыли\")).agg(\n",
        "                  F.count(\"год\").alias(\"количество_лет\"),\n",
        "                  F.round(F.avg(\n",
        "                      F.col(\"реализация_внутренний_рынок_тыс\") + F.col(\"реализация_внешний_рынок_тыс\")\n",
        "                      ),\n",
        "                      2\n",
        "                  ).alias(\"средняя_общая_реализация_тыс_шт\"),\n",
        "                  F.round(F.avg(\"чистая_прибыль_отчётного_года_млн_руб\"), 2).alias(\"средняя_прибыль_млн_руб\"),\n",
        "                  F.min(\"год\").alias(\"первый_год\"),\n",
        "                  F.max(\"год\").alias(\"последний_год\")\n",
        "              ).orderBy(F.col(\"количество_лет\").desc())\n",
        "\n",
        "profit_category.show(5, truncate=False)"
      ],
      "metadata": {
        "colab": {
          "base_uri": "https://localhost:8080/"
        },
        "id": "o-gQ2Rk-I0hM",
        "outputId": "cf20f8a0-d3c0-44de-89ae-bae1712f4356"
      },
      "execution_count": null,
      "outputs": [
        {
          "output_type": "stream",
          "name": "stdout",
          "text": [
            "+-----------------+--------------+-------------------------------+-----------------------+----------+-------------+\n",
            "|категория_прибыли|количество_лет|средняя_общая_реализация_тыс_шт|средняя_прибыль_млн_руб|первый_год|последний_год|\n",
            "+-----------------+--------------+-------------------------------+-----------------------+----------+-------------+\n",
            "|Среднеприбыльный |11            |662.48                         |2563.18                |1999      |2021         |\n",
            "|Убыточный        |8             |412.63                         |-21101.5               |2008      |2019         |\n",
            "|Низкоприбыльный  |3             |394.17                         |386.33                 |2012      |2022         |\n",
            "|Высокоприбыльный |2             |582.0                          |12458.0                |2001      |2018         |\n",
            "+-----------------+--------------+-------------------------------+-----------------------+----------+-------------+\n",
            "\n"
          ]
        }
      ]
    },
    {
      "cell_type": "code",
      "source": [
        "# Остановка SparkSession\n",
        "spark.stop()"
      ],
      "metadata": {
        "id": "1aXpCicKI0jb"
      },
      "execution_count": null,
      "outputs": []
    },
    {
      "cell_type": "markdown",
      "source": [
        "# Задание №3: Анализ данных \"Звездные Войны\""
      ],
      "metadata": {
        "id": "pgqrhOvGG2Lj"
      }
    },
    {
      "cell_type": "code",
      "source": [
        "import requests, zipfile\n",
        "\n",
        "# Direct ZIP download and extract\n",
        "public_yandex_disk_link = \"https://disk.yandex.ru/d/F0a1ojppfdskQg\"\n",
        "api_url = f\"https://cloud-api.yandex.net/v1/disk/public/resources/download?public_key={public_yandex_disk_link}\"\n",
        "download_url = requests.get(api_url).json()[\"href\"]\n",
        "content = requests.get(download_url).content\n",
        "\n",
        "with open(\"temp.zip\", \"wb\") as f:\n",
        "    f.write(content)\n",
        "with zipfile.ZipFile(\"temp.zip\", \"r\") as z:\n",
        "    z.extractall(\".\")"
      ],
      "metadata": {
        "id": "nSNvN7buK9X1"
      },
      "execution_count": null,
      "outputs": []
    },
    {
      "cell_type": "code",
      "source": [
        "from pyspark.sql import SparkSession\n",
        "from pyspark.sql import functions as F\n",
        "from pyspark.sql.types import *\n",
        "spark = SparkSession.builder \\\n",
        "        .appName(\"star_wars_project\") \\\n",
        "        .getOrCreate()\n",
        "\n",
        "characters = spark.read.parquet('parquet_files/characters.parquet')\n",
        "species = spark.read.parquet('parquet_files/species.parquet')\n",
        "organizations = spark.read.parquet('parquet_files/organizations.parquet')\n",
        "\n",
        "species.show(5, truncate=False)\n",
        "characters.show(5, truncate=False)\n",
        "organizations.show(5, truncate=False)"
      ],
      "metadata": {
        "colab": {
          "base_uri": "https://localhost:8080/"
        },
        "id": "WctLhNSQK9ab",
        "outputId": "ba5b6981-1dbf-4ed9-f9ef-e98d18333d44"
      },
      "execution_count": null,
      "outputs": [
        {
          "output_type": "stream",
          "name": "stdout",
          "text": [
            "+---+--------------+--------------+-----------+--------------+------------------------+-----------+----------+----------------+--------------+---------+\n",
            "|id |name          |classification|designation|average_height|skin_colors             |hair_colors|eye_colors|average_lifespan|language      |homeworld|\n",
            "+---+--------------+--------------+-----------+--------------+------------------------+-----------+----------+----------------+--------------+---------+\n",
            "|1  |Human         |Mammal        |Sentient   |1.8           |Light, Dark             |Various    |Various   |79.0            |Galactic Basic|Various  |\n",
            "|2  |Yoda's species|Unknown       |Sentient   |0.66          |Green                   |White      |Brown     |900.0           |Galactic Basic|Unknown  |\n",
            "|3  |Wookiee       |Mammal        |Sentient   |2.28          |Brown                   |Brown      |Blue      |400.0           |Shyriiwook    |Kashyyyk |\n",
            "|4  |Gungan        |Amphibian     |Sentient   |1.96          |Orange                  |None       |Orange    |70.0            |Gungan        |Naboo    |\n",
            "|5  |Twi'lek       |Mammal        |Sentient   |1.8           |Blue, Green, Red, Yellow|None       |Various   |80.0            |Twi'leki      |Ryloth   |\n",
            "+---+--------------+--------------+-----------+--------------+------------------------+-----------+----------+----------------+--------------+---------+\n",
            "only showing top 5 rows\n",
            "\n",
            "+---+--------------+--------------+------+------+------+----------+---------+----------+---------+---------+---------+-----------------------------------------------------------------+\n",
            "|id |name          |species       |gender|height|weight|hair_color|eye_color|skin_color|year_born|homeworld|year_died|description                                                      |\n",
            "+---+--------------+--------------+------+------+------+----------+---------+----------+---------+---------+---------+-----------------------------------------------------------------+\n",
            "|1  |Luke Skywalker|Human         |Male  |1.72  |77.0  |Blond     |Blue     |Light     |19.0     |Tatooine |34.0     |The main protagonist of the original trilogy.                    |\n",
            "|2  |Leia Organa   |Human         |Female|1.5   |49.0  |Brown     |Brown    |Light     |19.0     |Alderaan |35.0     |A leader in the Rebel Alliance and twin sister of Luke Skywalker.|\n",
            "|3  |Darth Vader   |Human         |Male  |2.02  |136.0 |None      |Yellow   |Pale      |41.0     |Tatooine |4.0      |The Sith Lord formerly known as Anakin Skywalker.                |\n",
            "|4  |Yoda          |Yoda's species|Male  |0.66  |17.0  |White     |Brown    |Green     |896.0    |Unknown  |4.0      |A wise and powerful Jedi Master.                                 |\n",
            "|5  |Han Solo      |Human         |Male  |1.8   |80.0  |Brown     |Hazel    |Light     |29.0     |Corellia |34.0     |A smuggler turned hero in the Rebel Alliance.                    |\n",
            "+---+--------------+--------------+------+------+------+----------+---------+----------+---------+---------+---------+-----------------------------------------------------------------+\n",
            "only showing top 5 rows\n",
            "\n",
            "+---+-----------------+-------+---------+-----------------------+------------------------------------------------+-----------------+-----------------------------------------------------------------------------+----------------------------------------------------------------------------------------------------------------------+\n",
            "|id |name             |founded|dissolved|leader                 |members                                         |affiliation      |description                                                                  |films                                                                                                                 |\n",
            "+---+-----------------+-------+---------+-----------------------+------------------------------------------------+-----------------+-----------------------------------------------------------------------------+----------------------------------------------------------------------------------------------------------------------+\n",
            "|1  |Jedi Order       |-25000 |19       |Yoda, Mace Windu       |Obi-Wan Kenobi, Anakin Skywalker, Luke Skywalker|Galactic Republic|An ancient monastic, spiritual, and academic organization.                   |The Phantom Menace, Attack of the Clones, Revenge of the Sith, A New Hope, The Empire Strikes Back, Return of the Jedi|\n",
            "|2  |Sith Order       |-5000  |4        |Darth Sidious          |Darth Vader, Darth Maul, Darth Tyranus          |Galactic Empire  |A sect of Force-sensitive individuals who utilize the dark side of the Force.|The Phantom Menace, Attack of the Clones, Revenge of the Sith, A New Hope, The Empire Strikes Back, Return of the Jedi|\n",
            "|3  |Galactic Empire  |19     |4        |Emperor Palpatine      |Darth Vader, Grand Moff Tarkin                  |None             |An authoritarian government that replaced the Galactic Republic.             |Revenge of the Sith, A New Hope, The Empire Strikes Back, Return of the Jedi                                          |\n",
            "|4  |Rebel Alliance   |-2     |4        |Mon Mothma, Leia Organa|Luke Skywalker, Han Solo, Lando Calrissian      |New Republic     |An alliance of insurgent forces formed to oppose the Galactic Empire.        |A New Hope, The Empire Strikes Back, Return of the Jedi                                                               |\n",
            "|5  |Galactic Republic|-25000 |19       |Supreme Chancellor     |Padmé Amidala, Bail Organa                      |Jedi Order       |The democratic union that governed the galaxy for over 25,000 years.         |The Phantom Menace, Attack of the Clones, Revenge of the Sith                                                         |\n",
            "+---+-----------------+-------+---------+-----------------------+------------------------------------------------+-----------------+-----------------------------------------------------------------------------+----------------------------------------------------------------------------------------------------------------------+\n",
            "only showing top 5 rows\n",
            "\n"
          ]
        }
      ]
    },
    {
      "cell_type": "markdown",
      "source": [
        "## 3.1 Предварительная подготовка данных"
      ],
      "metadata": {
        "id": "SreT6FlvN7kN"
      }
    },
    {
      "cell_type": "code",
      "source": [
        "# Удаляем дубликаты\n",
        "\n",
        "characters = characters.dropDuplicates(subset=[\"name\", \"species\", \"homeworld\", \"year_born\"])\n",
        "species = species.dropDuplicates(subset=[\"name\",\"classification\", \"designation\", \"average_height\"])"
      ],
      "metadata": {
        "id": "5BV3h0GtK9dD"
      },
      "execution_count": null,
      "outputs": []
    },
    {
      "cell_type": "markdown",
      "source": [
        "## 3.2 Распространенность видов и их классификаций"
      ],
      "metadata": {
        "id": "SuqopnclPIXW"
      }
    },
    {
      "cell_type": "code",
      "source": [
        "# количество персонажей для каждого вида (characters.species)\n",
        "\n",
        "(characters.groupBy(F.col(\"species\"))\n",
        "    .agg(F.count(\"*\").alias(\"character_count\"))\n",
        "    .orderBy(F.col(\"character_count\").desc())\n",
        "    .limit(10).show()\n",
        ")"
      ],
      "metadata": {
        "colab": {
          "base_uri": "https://localhost:8080/"
        },
        "id": "Uv6yR_NzPMeF",
        "outputId": "4f98bfed-dad2-4b12-f9d5-58f1a4ecb5ee"
      },
      "execution_count": null,
      "outputs": [
        {
          "output_type": "stream",
          "name": "stdout",
          "text": [
            "+------------+---------------+\n",
            "|     species|character_count|\n",
            "+------------+---------------+\n",
            "|       Human|             47|\n",
            "|       Droid|              4|\n",
            "|     Twi'lek|              3|\n",
            "| Dathomirian|              3|\n",
            "|     Togruta|              2|\n",
            "|     Unknown|              2|\n",
            "|Mon Calamari|              2|\n",
            "|    Clawdite|              1|\n",
            "|       Chiss|              1|\n",
            "|    Besalisk|              1|\n",
            "+------------+---------------+\n",
            "\n"
          ]
        }
      ]
    },
    {
      "cell_type": "code",
      "source": [
        "# Распространенность классификаций\n",
        "\n",
        "(species.join(characters, species.name == characters.species, \"left\")\n",
        "    .groupBy(species.classification)\n",
        "    .agg(F.count(\"*\").alias(\"total_character_count\"))\n",
        "    .orderBy(F.col(\"total_character_count\").desc())\n",
        "    .show()\n",
        ")"
      ],
      "metadata": {
        "colab": {
          "base_uri": "https://localhost:8080/"
        },
        "id": "CXybh8hDPMf9",
        "outputId": "18ce73fe-a4d5-4696-cc7b-2934f704e44c"
      },
      "execution_count": null,
      "outputs": [
        {
          "output_type": "stream",
          "name": "stdout",
          "text": [
            "+--------------+---------------------+\n",
            "|classification|total_character_count|\n",
            "+--------------+---------------------+\n",
            "|        Mammal|                   73|\n",
            "|     Amphibian|                    6|\n",
            "|     Reptilian|                    5|\n",
            "|    Artificial|                    4|\n",
            "|        Hybrid|                    3|\n",
            "|       Unknown|                    1|\n",
            "|     Insectoid|                    1|\n",
            "|     Gastropod|                    1|\n",
            "+--------------+---------------------+\n",
            "\n"
          ]
        }
      ]
    },
    {
      "cell_type": "code",
      "source": [
        "# Средний рост по классификации видов\n",
        "\n",
        "(species.groupBy(\"classification\")\n",
        "    .agg(F.round(F.avg(\"average_height\"), 1).alias(\"average_height_class\"))\n",
        "    .orderBy(F.col(\"average_height_class\").desc())\n",
        "    .show()\n",
        ")"
      ],
      "metadata": {
        "colab": {
          "base_uri": "https://localhost:8080/"
        },
        "id": "6DPSDZAiPMiV",
        "outputId": "7b0019b6-176d-4e73-b2d8-426fad5b02b9"
      },
      "execution_count": null,
      "outputs": [
        {
          "output_type": "stream",
          "name": "stdout",
          "text": [
            "+--------------+--------------------+\n",
            "|classification|average_height_class|\n",
            "+--------------+--------------------+\n",
            "|     Gastropod|                 3.9|\n",
            "|     Amphibian|                 1.9|\n",
            "|     Insectoid|                 1.8|\n",
            "|     Reptilian|                 1.8|\n",
            "|        Mammal|                 1.7|\n",
            "|        Hybrid|                 1.7|\n",
            "|       Unknown|                 0.7|\n",
            "|    Artificial|                NULL|\n",
            "+--------------+--------------------+\n",
            "\n"
          ]
        }
      ]
    },
    {
      "cell_type": "markdown",
      "source": [
        "## 3.3 Члены Ордена Джедаев и Ситхов"
      ],
      "metadata": {
        "id": "0M4g9a9sR2N2"
      }
    },
    {
      "cell_type": "code",
      "source": [
        "# Члены Ордена Джедаев и Ситхов\n",
        "# Преобразуем тип колонки\n",
        "organizations = organizations.withColumn(\n",
        "    \"leader_array\",\n",
        "    F.split(F.col(\"leader\"), \", \").cast(ArrayType(StringType()))\n",
        ")\n",
        "organizations = organizations.withColumn(\n",
        "    \"members_array\",\n",
        "    F.split(F.col(\"members\"), \", \").cast(ArrayType(StringType()))\n",
        ")\n",
        "\n",
        "members = (organizations\n",
        "           .select(\"name\", F.explode_outer(\"leader_array\").alias(\"name_member\"))\n",
        "           .filter(F.col(\"name\").isin(\"Jedi Order\", \"Sith Order\"))\n",
        "    .union\n",
        "           (organizations\n",
        "            .select(\"name\", F.explode_outer(\"members_array\").alias(\"name_member\"))\n",
        "            .filter(F.col(\"name\").isin(\"Jedi Order\", \"Sith Order\")))\n",
        "            )\n",
        "\n",
        "members.orderBy(\"name\").show()"
      ],
      "metadata": {
        "colab": {
          "base_uri": "https://localhost:8080/"
        },
        "id": "ItWXQImUPMkv",
        "outputId": "500aaecf-f243-4e43-bcea-618456a9c616"
      },
      "execution_count": null,
      "outputs": [
        {
          "output_type": "stream",
          "name": "stdout",
          "text": [
            "+----------+----------------+\n",
            "|      name|     name_member|\n",
            "+----------+----------------+\n",
            "|Jedi Order|            Yoda|\n",
            "|Jedi Order|  Obi-Wan Kenobi|\n",
            "|Jedi Order|      Mace Windu|\n",
            "|Jedi Order|Anakin Skywalker|\n",
            "|Jedi Order|  Luke Skywalker|\n",
            "|Sith Order|   Darth Sidious|\n",
            "|Sith Order|     Darth Vader|\n",
            "|Sith Order|      Darth Maul|\n",
            "|Sith Order|   Darth Tyranus|\n",
            "+----------+----------------+\n",
            "\n"
          ]
        }
      ]
    },
    {
      "cell_type": "markdown",
      "source": [
        "## 3.4 Топ-5"
      ],
      "metadata": {
        "id": "89IF-bweUSix"
      }
    },
    {
      "cell_type": "code",
      "source": [
        "# Топ-5 старейших персонажей\n",
        "\n",
        "(characters.select(\"name\", \"year_born\")\n",
        "    .dropna(subset=[\"year_born\"])\n",
        "    .orderBy(F.col(\"year_born\"))\n",
        "    .show(5, truncate=False)\n",
        ")"
      ],
      "metadata": {
        "colab": {
          "base_uri": "https://localhost:8080/"
        },
        "id": "FofasRPRWxXi",
        "outputId": "c42bdc1d-5bd1-4d49-efe8-201f4905273f"
      },
      "execution_count": null,
      "outputs": [
        {
          "output_type": "stream",
          "name": "stdout",
          "text": [
            "+-----------+---------+\n",
            "|name       |year_born|\n",
            "+-----------+---------+\n",
            "|General Hux|0.0      |\n",
            "|Poe Dameron|2.0      |\n",
            "|Kylo Ren   |5.0      |\n",
            "|Rose Tico  |11.0     |\n",
            "|Finn       |11.0     |\n",
            "+-----------+---------+\n",
            "only showing top 5 rows\n",
            "\n"
          ]
        }
      ]
    },
    {
      "cell_type": "code",
      "source": [
        "# Топ-5 самых юных персонажей\n",
        "(characters.select(\"name\", \"year_born\")\n",
        "    .dropna(subset=[\"year_born\"])\n",
        "    .orderBy(F.col(\"year_born\").desc())\n",
        "    .show(5, truncate=False)\n",
        ")"
      ],
      "metadata": {
        "colab": {
          "base_uri": "https://localhost:8080/"
        },
        "id": "Rxe-hRziPMpu",
        "outputId": "6f3519d0-25b8-486c-9704-9c777810f3b8"
      },
      "execution_count": null,
      "outputs": [
        {
          "output_type": "stream",
          "name": "stdout",
          "text": [
            "+--------------+---------+\n",
            "|name          |year_born|\n",
            "+--------------+---------+\n",
            "|Maz Kanata    |973.0    |\n",
            "|Yoda          |896.0    |\n",
            "|Jabba the Hutt|600.0    |\n",
            "|Chewbacca     |200.0    |\n",
            "|C-3PO         |112.0    |\n",
            "+--------------+---------+\n",
            "only showing top 5 rows\n",
            "\n"
          ]
        }
      ]
    },
    {
      "cell_type": "markdown",
      "source": [
        "## 3.5 Персонажи с экстремальным индексом массы тела"
      ],
      "metadata": {
        "id": "ze1IqRgiXVbZ"
      }
    },
    {
      "cell_type": "code",
      "source": [
        "#  Раcсчитайте ИМТ: weight / height**2. Исключите NULL из вывода.\n",
        "\n",
        "bmi_characters = characters.withColumn(\"bmi\", F.round(F.col(\"weight\") / (F.col(\"height\"))**2, 2))\n",
        "\n",
        "(bmi_characters\n",
        "    .dropna(subset=[\"height\",\"weight\"])\n",
        "    .orderBy(F.col(\"bmi\").desc())\n",
        "    .select(\"name\", \"height\", \"weight\", \"bmi\")\n",
        "    .show(5, truncate=False)\n",
        ")"
      ],
      "metadata": {
        "colab": {
          "base_uri": "https://localhost:8080/"
        },
        "id": "pVroMIvtXUxB",
        "outputId": "943c2119-e2f5-4ff0-b678-68f2232ec3d7"
      },
      "execution_count": null,
      "outputs": [
        {
          "output_type": "stream",
          "name": "stdout",
          "text": [
            "+--------------+------+------+-----+\n",
            "|name          |height|weight|bmi  |\n",
            "+--------------+------+------+-----+\n",
            "|Jabba the Hutt|3.9   |1358.0|89.28|\n",
            "|Pong Krell    |2.5   |300.0 |48.0 |\n",
            "|Yoda          |0.66  |17.0  |39.03|\n",
            "|Darth Vader   |2.02  |136.0 |33.33|\n",
            "|Sebulba       |1.12  |40.0  |31.89|\n",
            "+--------------+------+------+-----+\n",
            "only showing top 5 rows\n",
            "\n"
          ]
        }
      ]
    },
    {
      "cell_type": "code",
      "source": [
        "# Остановка SparkSession\n",
        "spark.stop()"
      ],
      "metadata": {
        "id": "Cue8NLAbXUzR"
      },
      "execution_count": null,
      "outputs": []
    },
    {
      "cell_type": "markdown",
      "source": [
        "# Задание №4: Анализ пользовательских сессий"
      ],
      "metadata": {
        "id": "XvoRIxvUjlwN"
      }
    },
    {
      "cell_type": "code",
      "source": [
        "import requests\n",
        "\n",
        "# Получение \"прямой\" ссылки\n",
        "public_url = \"https://disk.yandex.ru/d/ICkCXc8Jy0-wag\"\n",
        "api_response = requests.get(f\"https://cloud-api.yandex.net/v1/disk/public/resources/download?public_key={public_url}\")\n",
        "api_response.raise_for_status()\n",
        "\n",
        "file_response = requests.get(api_response.json()['href'])\n",
        "file_response.raise_for_status()\n",
        "\n",
        "# Сохранение в файл\n",
        "with open(\"activity_log.avro\", \"wb\") as f:\n",
        "    f.write(file_response.content)"
      ],
      "metadata": {
        "id": "orsLClAIXU15"
      },
      "execution_count": null,
      "outputs": []
    },
    {
      "cell_type": "code",
      "source": [
        "from pyspark.sql import SparkSession\n",
        "from pyspark.sql import functions as F\n",
        "\n",
        "# 1. Инициализируем SparkSession\n",
        "# Убедитесь, что у вас установлен пакет spark-avro\n",
        "\n",
        "spark = SparkSession.builder \\\n",
        "    .appName(\"netflix_project\") \\\n",
        "    .config(\"spark.jars.packages\", \"org.apache.spark:spark-avro_2.12:3.5.0\") \\\n",
        "    .getOrCreate()"
      ],
      "metadata": {
        "id": "_f5RlUfxXU4R"
      },
      "execution_count": null,
      "outputs": []
    },
    {
      "cell_type": "code",
      "source": [
        "# Загрузка данных из файла Avro\n",
        "df = spark.read.format(\"avro\").load(\"activity_log.avro\")\n",
        "\n",
        "# Выведите схему и первые 10 строк\n",
        "df.printSchema()\n",
        "df.show(10, truncate=False)"
      ],
      "metadata": {
        "colab": {
          "base_uri": "https://localhost:8080/"
        },
        "id": "nMR3UG8OX35q",
        "outputId": "76349f94-ea96-4bda-9a6c-93198ef45a2d"
      },
      "execution_count": null,
      "outputs": [
        {
          "output_type": "stream",
          "name": "stdout",
          "text": [
            "root\n",
            " |-- event_id: string (nullable = true)\n",
            " |-- user_id: integer (nullable = true)\n",
            " |-- session_id: string (nullable = true)\n",
            " |-- event_type: string (nullable = true)\n",
            " |-- timestamp: string (nullable = true)\n",
            " |-- page_url: string (nullable = true)\n",
            " |-- product_id: string (nullable = true)\n",
            " |-- amount: double (nullable = true)\n",
            "\n",
            "+--------+-------+----------+------------+-----------------+--------------------+----------+------+\n",
            "|event_id|user_id|session_id|event_type  |timestamp        |page_url            |product_id|amount|\n",
            "+--------+-------+----------+------------+-----------------+--------------------+----------+------+\n",
            "|E001    |101    |S101-A    |login       |01-Jan-2025 10:00|/login              |NULL      |NULL  |\n",
            "|E002    |101    |S101-A    |view_page   |01-Jan-2025 10:05|/products/category_A|NULL      |NULL  |\n",
            "|E003    |101    |S101-A    |view_product|01-Jan-2025 10:08|/product/P005       |P005      |NULL  |\n",
            "|E004    |101    |S101-A    |add_to_cart |01-Jan-2025 10:10|/cart/add           |P005      |NULL  |\n",
            "|E005    |101    |S101-A    |purchase    |01-Jan-2025 10:15|/checkout           |P005      |120.5 |\n",
            "|E006    |101    |S101-A    |logout      |01-Jan-2025 10:20|/logout             |NULL      |NULL  |\n",
            "|E007    |102    |S102-B    |login       |02-Jan-2025 11:30|/login              |NULL      |NULL  |\n",
            "|E008    |102    |S102-B    |view_page   |02-Jan-2025 11:35|/home               |NULL      |NULL  |\n",
            "|E009    |102    |S102-B    |view_product|02-Jan-2025 11:38|/product/P010       |P010      |NULL  |\n",
            "|E010    |103    |S103-C    |login       |03-Jan-2025 09:00|/login              |NULL      |NULL  |\n",
            "+--------+-------+----------+------------+-----------------+--------------------+----------+------+\n",
            "only showing top 10 rows\n",
            "\n"
          ]
        }
      ]
    },
    {
      "cell_type": "markdown",
      "source": [
        "## 4.1 Предварительная подготовка данных"
      ],
      "metadata": {
        "id": "rNDL6-z1lH_m"
      }
    },
    {
      "cell_type": "code",
      "source": [
        "# Преобразование колонки timestamp в TimestampType\n",
        "\n",
        "df = df.withColumn(\"event_time\", F.to_timestamp(\"timestamp\", \"dd-MMM-yyyy HH:mm\"))\n",
        "df.show(5, truncate=False)"
      ],
      "metadata": {
        "id": "PxY8bk8cXU6x",
        "colab": {
          "base_uri": "https://localhost:8080/"
        },
        "outputId": "1ae344e4-329b-4ac1-b310-9fe4b4cd9fef"
      },
      "execution_count": null,
      "outputs": [
        {
          "output_type": "stream",
          "name": "stdout",
          "text": [
            "+--------+-------+----------+------------+-----------------+--------------------+----------+------+-------------------+\n",
            "|event_id|user_id|session_id|event_type  |timestamp        |page_url            |product_id|amount|event_time         |\n",
            "+--------+-------+----------+------------+-----------------+--------------------+----------+------+-------------------+\n",
            "|E001    |101    |S101-A    |login       |01-Jan-2025 10:00|/login              |NULL      |NULL  |2025-01-01 10:00:00|\n",
            "|E002    |101    |S101-A    |view_page   |01-Jan-2025 10:05|/products/category_A|NULL      |NULL  |2025-01-01 10:05:00|\n",
            "|E003    |101    |S101-A    |view_product|01-Jan-2025 10:08|/product/P005       |P005      |NULL  |2025-01-01 10:08:00|\n",
            "|E004    |101    |S101-A    |add_to_cart |01-Jan-2025 10:10|/cart/add           |P005      |NULL  |2025-01-01 10:10:00|\n",
            "|E005    |101    |S101-A    |purchase    |01-Jan-2025 10:15|/checkout           |P005      |120.5 |2025-01-01 10:15:00|\n",
            "+--------+-------+----------+------------+-----------------+--------------------+----------+------+-------------------+\n",
            "only showing top 5 rows\n",
            "\n"
          ]
        }
      ]
    },
    {
      "cell_type": "markdown",
      "source": [
        "## 4.2 Группировка"
      ],
      "metadata": {
        "id": "5bYQpFyRlva9"
      }
    },
    {
      "cell_type": "code",
      "source": [
        "# Количество событий для каждого дня\n",
        "\n",
        "(df.groupBy(F.col(\"event_time\").cast(\"date\").alias(\"date\"))\n",
        "        .agg(F.count(\"event_id\").alias(\"total_events\"))\n",
        "        .orderBy(\"date\").show()\n",
        ")"
      ],
      "metadata": {
        "id": "cHtMJedGPfvW",
        "colab": {
          "base_uri": "https://localhost:8080/"
        },
        "outputId": "c8e75800-fbd9-4d7b-b79e-1c65e454da4d"
      },
      "execution_count": null,
      "outputs": [
        {
          "output_type": "stream",
          "name": "stdout",
          "text": [
            "+----------+------------+\n",
            "|      date|total_events|\n",
            "+----------+------------+\n",
            "|2025-01-01|           6|\n",
            "|2025-01-02|           3|\n",
            "|2025-01-03|           3|\n",
            "|2025-01-04|           2|\n",
            "|2025-01-05|           6|\n",
            "|2025-01-06|           5|\n",
            "|2025-01-07|           5|\n",
            "|2025-01-08|           4|\n",
            "|2025-01-09|           6|\n",
            "+----------+------------+\n",
            "\n"
          ]
        }
      ]
    },
    {
      "cell_type": "code",
      "source": [
        "# Уникальные пользователи\n",
        "\n",
        "df.select(F.col(\"user_id\")).distinct().show()"
      ],
      "metadata": {
        "id": "PY8MXku3lice",
        "colab": {
          "base_uri": "https://localhost:8080/"
        },
        "outputId": "cfcb14b0-cc6d-4970-9caf-451c55f2669f"
      },
      "execution_count": null,
      "outputs": [
        {
          "output_type": "stream",
          "name": "stdout",
          "text": [
            "+-------+\n",
            "|user_id|\n",
            "+-------+\n",
            "|    101|\n",
            "|    103|\n",
            "|    107|\n",
            "|    102|\n",
            "|    105|\n",
            "|    106|\n",
            "|    104|\n",
            "+-------+\n",
            "\n"
          ]
        }
      ]
    },
    {
      "cell_type": "code",
      "source": [
        "# Количество уникальных сессий\n",
        "\n",
        "# df.select(F.col(\"session_id\")).distinct().count()\n",
        "\n",
        "df.select(F.col(\"session_id\")).agg(F.countDistinct(\"session_id\").alias(\"unique_sessions_count\")).show()"
      ],
      "metadata": {
        "id": "yx4ZAdCBlifI",
        "colab": {
          "base_uri": "https://localhost:8080/"
        },
        "outputId": "e9100c32-90a3-4cfb-bbb5-627415ec2317"
      },
      "execution_count": null,
      "outputs": [
        {
          "output_type": "stream",
          "name": "stdout",
          "text": [
            "+---------------------+\n",
            "|unique_sessions_count|\n",
            "+---------------------+\n",
            "|                    9|\n",
            "+---------------------+\n",
            "\n"
          ]
        }
      ]
    },
    {
      "cell_type": "code",
      "source": [
        "# Количество уникальных сессий на пользователя\n",
        "\n",
        "(df.groupBy(\"user_id\").agg(\n",
        "    F.countDistinct(\"session_id\").alias(\"unique_sessions_count\")\n",
        "    ).orderBy(\"user_id\").show())"
      ],
      "metadata": {
        "id": "fQIrP1WDlihu",
        "colab": {
          "base_uri": "https://localhost:8080/"
        },
        "outputId": "5aea71de-c834-4e2e-e6ba-a6a873b057cf"
      },
      "execution_count": null,
      "outputs": [
        {
          "output_type": "stream",
          "name": "stdout",
          "text": [
            "+-------+---------------------+\n",
            "|user_id|unique_sessions_count|\n",
            "+-------+---------------------+\n",
            "|    101|                    2|\n",
            "|    102|                    2|\n",
            "|    103|                    1|\n",
            "|    104|                    1|\n",
            "|    105|                    1|\n",
            "|    106|                    1|\n",
            "|    107|                    1|\n",
            "+-------+---------------------+\n",
            "\n"
          ]
        }
      ]
    },
    {
      "cell_type": "code",
      "source": [
        "# Количество событий в каждой сессии\n",
        "\n",
        "(df.groupBy(\"user_id\", \"session_id\")\n",
        "    .agg(F.count(\"*\").alias(\"count_sessions\"))\n",
        "    .orderBy(\"count_sessions\")\n",
        "    .show()\n",
        ")"
      ],
      "metadata": {
        "id": "ZkVq5VrQlikd",
        "colab": {
          "base_uri": "https://localhost:8080/"
        },
        "outputId": "69819b7e-cfb5-44ef-8fdc-3c43564835cf"
      },
      "execution_count": null,
      "outputs": [
        {
          "output_type": "stream",
          "name": "stdout",
          "text": [
            "+-------+----------+--------------+\n",
            "|user_id|session_id|count_sessions|\n",
            "+-------+----------+--------------+\n",
            "|    104|    S104-D|             2|\n",
            "|    102|    S102-B|             3|\n",
            "|    103|    S103-C|             3|\n",
            "|    106|    S106-F|             4|\n",
            "|    102|    S102-C|             5|\n",
            "|    101|    S101-B|             5|\n",
            "|    101|    S101-A|             6|\n",
            "|    105|    S105-E|             6|\n",
            "|    107|    S107-G|             6|\n",
            "+-------+----------+--------------+\n",
            "\n"
          ]
        }
      ]
    },
    {
      "cell_type": "code",
      "source": [
        "# Количество покупок\n",
        "\n",
        "(df.filter(F.col(\"event_type\") == \"purchase\")\n",
        "    .agg(F.count(F.col(\"amount\")).alias(\"count_purchase_amount\"))\n",
        "    .show()\n",
        ")"
      ],
      "metadata": {
        "colab": {
          "base_uri": "https://localhost:8080/"
        },
        "id": "mhDl9MPGioJo",
        "outputId": "47f6653b-e896-4825-9366-9ba3758a389e"
      },
      "execution_count": null,
      "outputs": [
        {
          "output_type": "stream",
          "name": "stdout",
          "text": [
            "+---------------------+\n",
            "|count_purchase_amount|\n",
            "+---------------------+\n",
            "|                    4|\n",
            "+---------------------+\n",
            "\n"
          ]
        }
      ]
    },
    {
      "cell_type": "code",
      "source": [
        "# Общая сумма всех покупок\n",
        "\n",
        "(df.filter(F.col(\"event_type\") == \"purchase\")\n",
        "    .agg(F.sum(F.col(\"amount\")).alias(\"sum_purchase_amount\"))\n",
        "    .show()\n",
        ")"
      ],
      "metadata": {
        "colab": {
          "base_uri": "https://localhost:8080/"
        },
        "id": "V-7EOH_bioMQ",
        "outputId": "d49ba938-5616-4eb3-b3c9-d7a82fbb0bb5"
      },
      "execution_count": null,
      "outputs": [
        {
          "output_type": "stream",
          "name": "stdout",
          "text": [
            "+-------------------+\n",
            "|sum_purchase_amount|\n",
            "+-------------------+\n",
            "|              905.5|\n",
            "+-------------------+\n",
            "\n"
          ]
        }
      ]
    },
    {
      "cell_type": "code",
      "source": [
        "# Средняя сумма всех покупок\n",
        "\n",
        "(df.filter(F.col(\"event_type\") == \"purchase\")\n",
        "    .agg(F.avg(F.col(\"amount\")).alias(\"avg_purchase_amount\"))\n",
        "    .show()\n",
        ")"
      ],
      "metadata": {
        "colab": {
          "base_uri": "https://localhost:8080/"
        },
        "id": "-Ntu_e1TioOh",
        "outputId": "c7a87a12-43c5-4596-d4ee-05adcdbd40ee"
      },
      "execution_count": null,
      "outputs": [
        {
          "output_type": "stream",
          "name": "stdout",
          "text": [
            "+-------------------+\n",
            "|avg_purchase_amount|\n",
            "+-------------------+\n",
            "|            226.375|\n",
            "+-------------------+\n",
            "\n"
          ]
        }
      ]
    },
    {
      "cell_type": "code",
      "source": [
        "# Продолжительность каждой сессии\n",
        "\n",
        "df_session_durations = df.groupBy(F.col(\"user_id\"), F.col(\"session_id\")).agg(\n",
        "    F.min(\"event_time\").alias(\"min_time\"),\n",
        "    F.max(\"event_time\").alias(\"max_time\")\n",
        ").withColumn(\n",
        "    \"session_duration_seconds\",\n",
        "    (F.unix_timestamp(F.col(\"max_time\")) - F.unix_timestamp(F.col(\"min_time\")))\n",
        ")\n",
        "\n",
        "df_session_durations.orderBy(\"user_id\", \"session_id\").show(truncate=False)"
      ],
      "metadata": {
        "colab": {
          "base_uri": "https://localhost:8080/"
        },
        "id": "mxfT8QjVioQ4",
        "outputId": "02313683-6256-45ee-b6ae-9df711afe095"
      },
      "execution_count": null,
      "outputs": [
        {
          "output_type": "stream",
          "name": "stdout",
          "text": [
            "+-------+----------+-------------------+-------------------+------------------------+\n",
            "|user_id|session_id|min_time           |max_time           |session_duration_seconds|\n",
            "+-------+----------+-------------------+-------------------+------------------------+\n",
            "|101    |S101-A    |2025-01-01 10:00:00|2025-01-01 10:20:00|1200                    |\n",
            "|101    |S101-B    |2025-01-06 09:30:00|2025-01-06 09:40:00|600                     |\n",
            "|102    |S102-B    |2025-01-02 11:30:00|2025-01-02 11:38:00|480                     |\n",
            "|102    |S102-C    |2025-01-07 15:00:00|2025-01-07 15:18:00|1080                    |\n",
            "|103    |S103-C    |2025-01-03 09:00:00|2025-01-03 09:10:00|600                     |\n",
            "|104    |S104-D    |2025-01-04 14:00:00|2025-01-04 14:03:00|180                     |\n",
            "|105    |S105-E    |2025-01-05 16:45:00|2025-01-05 17:02:00|1020                    |\n",
            "|106    |S106-F    |2025-01-08 10:00:00|2025-01-08 10:10:00|600                     |\n",
            "|107    |S107-G    |2025-01-09 11:00:00|2025-01-09 11:15:00|900                     |\n",
            "+-------+----------+-------------------+-------------------+------------------------+\n",
            "\n"
          ]
        }
      ]
    },
    {
      "cell_type": "code",
      "source": [
        "# Средняя продолжительность сессии\n",
        "\n",
        "(df_session_durations\n",
        "    .agg(F.round(F.avg(F.col(\"session_duration_seconds\")), 2).alias(\"average_session_duration_seconds\"))\n",
        "    .show(truncate=False)\n",
        ")"
      ],
      "metadata": {
        "id": "dSGi1J4jlinE",
        "colab": {
          "base_uri": "https://localhost:8080/"
        },
        "outputId": "1f09beb4-7d18-437f-df9c-8cf9e9666821"
      },
      "execution_count": null,
      "outputs": [
        {
          "output_type": "stream",
          "name": "stdout",
          "text": [
            "+--------------------------------+\n",
            "|average_session_duration_seconds|\n",
            "+--------------------------------+\n",
            "|740.0                           |\n",
            "+--------------------------------+\n",
            "\n"
          ]
        }
      ]
    },
    {
      "cell_type": "code",
      "source": [
        "# Остановка SparkSession\n",
        "spark.stop()"
      ],
      "metadata": {
        "id": "BrlsLd5lxFu8"
      },
      "execution_count": null,
      "outputs": []
    },
    {
      "cell_type": "markdown",
      "source": [
        "# Задание №5: Анализ пользовательских сессий"
      ],
      "metadata": {
        "id": "3n7SErNUoxxQ"
      }
    },
    {
      "cell_type": "code",
      "source": [
        "import requests\n",
        "\n",
        "# Получение \"прямой\" ссылки\n",
        "public_url = \"https://disk.yandex.ru/d/w9AhJSpY7xqSUg\"\n",
        "api_response = requests.get(f\"https://cloud-api.yandex.net/v1/disk/public/resources/download?public_key={public_url}\")\n",
        "api_response.raise_for_status()\n",
        "\n",
        "file_response = requests.get(api_response.json()['href'])\n",
        "file_response.raise_for_status()\n",
        "\n",
        "# Сохранение в файл\n",
        "with open(\"netflix_data.csv\", \"wb\") as f:\n",
        "    f.write(file_response.content)"
      ],
      "metadata": {
        "id": "LjLT7RY-ow1R"
      },
      "execution_count": null,
      "outputs": []
    },
    {
      "cell_type": "code",
      "source": [
        "from pyspark.sql import SparkSession\n",
        "from pyspark.sql import functions as F\n",
        "from pyspark.sql.types import *\n",
        "from pyspark.sql import Window\n",
        "spark = SparkSession.builder \\\n",
        "        .appName(\"netflix_project\") \\\n",
        "        .getOrCreate()\n",
        "\n",
        "schema = StructType((\n",
        "            StructField(\"title\", StringType(), True),\n",
        "            StructField(\"type\", StringType(), True),\n",
        "            StructField(\"genres\", StringType(), True),\n",
        "            StructField(\"releaseYear\", IntegerType(), True),\n",
        "            StructField(\"imdbId\", StringType(), True),\n",
        "            StructField(\"imdbAverageRating\", DoubleType(), True),\n",
        "            StructField(\"imdbNumVotes\", IntegerType(), True),\n",
        "            StructField(\"availableCountries\", StringType(), True)\n",
        "))\n",
        "\n",
        "# Считываем со схемой\n",
        "df = spark.read.option(\"header\", True).csv(\"netflix_data.csv\", schema = schema)"
      ],
      "metadata": {
        "id": "OlIvhXBhow3o"
      },
      "execution_count": null,
      "outputs": []
    },
    {
      "cell_type": "markdown",
      "source": [
        "sc."
      ],
      "metadata": {
        "id": "zSeNpQfQwt3L"
      }
    },
    {
      "cell_type": "markdown",
      "source": [
        "## 5.1 Предварительная подготовка данных"
      ],
      "metadata": {
        "id": "rfHYc2hwqR5C"
      }
    },
    {
      "cell_type": "code",
      "source": [
        "# Преобразуем типы со структурой array\n",
        "df = df.withColumn(\"genres\", F.split(F.col(\"genres\"), \", \"))\n",
        "df = df.withColumn(\"availableCountries\", F.split(F.col(\"availableCountries\"), \", \"))\n",
        "\n",
        "df.show(5, truncate=True)\n",
        "df.printSchema()"
      ],
      "metadata": {
        "colab": {
          "base_uri": "https://localhost:8080/"
        },
        "id": "0t8kge2Mow6J",
        "outputId": "1970e76b-16fa-47b9-a6f0-426dda0c29c3"
      },
      "execution_count": null,
      "outputs": [
        {
          "output_type": "stream",
          "name": "stdout",
          "text": [
            "+-------------------+-----+--------------------+-----------+---------+-----------------+------------+------------------+\n",
            "|              title| type|              genres|releaseYear|   imdbId|imdbAverageRating|imdbNumVotes|availableCountries|\n",
            "+-------------------+-----+--------------------+-----------+---------+-----------------+------------+------------------+\n",
            "|              Ariel|movie|[Comedy, Crime, D...|       1988|tt0094675|              7.4|        9240|              NULL|\n",
            "|Shadows in Paradise|movie|[Comedy, Drama, M...|       1986|tt0092149|              7.4|        8074|              NULL|\n",
            "|       Forrest Gump|movie|    [Drama, Romance]|       1994|tt0109830|              8.8|     2392180|              NULL|\n",
            "|    American Beauty|movie|             [Drama]|       1999|tt0169547|              8.3|     1252895|              NULL|\n",
            "|  The Fifth Element|movie|[Action, Adventur...|       1997|tt0119116|              7.6|      529085|              NULL|\n",
            "+-------------------+-----+--------------------+-----------+---------+-----------------+------------+------------------+\n",
            "only showing top 5 rows\n",
            "\n",
            "root\n",
            " |-- title: string (nullable = true)\n",
            " |-- type: string (nullable = true)\n",
            " |-- genres: array (nullable = true)\n",
            " |    |-- element: string (containsNull = false)\n",
            " |-- releaseYear: integer (nullable = true)\n",
            " |-- imdbId: string (nullable = true)\n",
            " |-- imdbAverageRating: double (nullable = true)\n",
            " |-- imdbNumVotes: integer (nullable = true)\n",
            " |-- availableCountries: array (nullable = true)\n",
            " |    |-- element: string (containsNull = false)\n",
            "\n"
          ]
        }
      ]
    },
    {
      "cell_type": "code",
      "source": [
        "# Удаляем дубликаты\n",
        "\n",
        "print(f\"Количество строк до удаления дубликатов: {df.count()}\")\n",
        "df = df.dropDuplicates([\"title\", \"releaseYear\", \"imdbId\"])"
      ],
      "metadata": {
        "colab": {
          "base_uri": "https://localhost:8080/"
        },
        "id": "Vi1Uoivlow8o",
        "outputId": "09847dc4-4d26-4733-dc6c-27b577f2e9a6"
      },
      "execution_count": null,
      "outputs": [
        {
          "output_type": "stream",
          "name": "stdout",
          "text": [
            "Количество строк до удаления дубликатов: 21910\n"
          ]
        }
      ]
    },
    {
      "cell_type": "code",
      "source": [
        "# Удаляем пропуски\n",
        "\n",
        "df = df.dropna(subset=[\"imdbAverageRating\",\"genres\"])\n",
        "print(f\"Количество строк после удаления дубликатов и пропусков: {df.count()}\")\n",
        "df.show(5, truncate=True)"
      ],
      "metadata": {
        "colab": {
          "base_uri": "https://localhost:8080/"
        },
        "id": "QQPulyI6ow_B",
        "outputId": "7174ff85-8662-4e96-ea4b-b0b528efa311"
      },
      "execution_count": null,
      "outputs": [
        {
          "output_type": "stream",
          "name": "stdout",
          "text": [
            "Количество строк после удаления дубликатов и пропусков: 20090\n",
            "+--------------------+-----+--------------------+-----------+----------+-----------------+------------+------------------+\n",
            "|               title| type|              genres|releaseYear|    imdbId|imdbAverageRating|imdbNumVotes|availableCountries|\n",
            "+--------------------+-----+--------------------+-----------+----------+-----------------+------------+------------------+\n",
            "|\"Gabriel \"\"Fluffy...|movie|            [Comedy]|       2019| tt9426212|              7.3|        2285|              NULL|\n",
            "|\"The Most Notorio...|   tv|[Action, Adventur...|       2024|tt32501772|              7.3|         897|              NULL|\n",
            "|                #AAY|movie|            [Comedy]|       2024|tt28359277|              6.4|         817|              NULL|\n",
            "|              #Alive|movie|[Action, Drama, H...|       2020|tt10620868|              6.3|       52102|              NULL|\n",
            "|#Anne Frank Paral...|movie|[Documentary, Dra...|       2019| tt9850370|              6.6|        1797|              NULL|\n",
            "+--------------------+-----+--------------------+-----------+----------+-----------------+------------+------------------+\n",
            "only showing top 5 rows\n",
            "\n"
          ]
        }
      ]
    },
    {
      "cell_type": "markdown",
      "source": [
        "## Анализ"
      ],
      "metadata": {
        "id": "jNm4_WyE2Cf8"
      }
    },
    {
      "cell_type": "code",
      "source": [
        "# Cоотношение фильмов и сериалов по годам\n",
        "\n",
        "(df.groupBy(F.col(\"releaseYear\"))\n",
        "    .pivot(\"type\")\n",
        "    .agg(F.count(\"*\").alias(\"total_titles\"))\n",
        "    .orderBy(F.col(\"releaseYear\").desc())\n",
        "    .limit(10)\n",
        "    .show()\n",
        ")"
      ],
      "metadata": {
        "id": "90NCLgZ3lipU",
        "colab": {
          "base_uri": "https://localhost:8080/"
        },
        "outputId": "f18524e8-b6d4-461d-e764-9d40a84039bf"
      },
      "execution_count": null,
      "outputs": [
        {
          "output_type": "stream",
          "name": "stdout",
          "text": [
            "+-----------+-----+---+\n",
            "|releaseYear|movie| tv|\n",
            "+-----------+-----+---+\n",
            "|       2025|  147|184|\n",
            "|       2024|  844|494|\n",
            "|       2023| 1176|511|\n",
            "|       2022| 1271|574|\n",
            "|       2021|  954|465|\n",
            "|       2020|  874|409|\n",
            "|       2019| 1010|389|\n",
            "|       2018| 1022|348|\n",
            "|       2017|  833|239|\n",
            "|       2016|  680|178|\n",
            "+-----------+-----+---+\n",
            "\n"
          ]
        }
      ]
    },
    {
      "cell_type": "code",
      "source": [
        "# Cоотношение фильмов и сериалов по жанрам\n",
        "\n",
        "(df.select(F.explode_outer(F.col(\"genres\")).alias(\"genre\"), \"type\")\n",
        "    .groupBy(\"genre\")\n",
        "    .pivot(\"type\")\n",
        "    .agg(F.count(\"*\").alias(\"count\"))\n",
        "    .orderBy((F.col(\"movie\") + F.col(\"tv\")).desc())\n",
        "    .show(10, truncate=False)\n",
        ")"
      ],
      "metadata": {
        "colab": {
          "base_uri": "https://localhost:8080/"
        },
        "id": "DNUSrx6d1_CV",
        "outputId": "31490123-67ff-4f24-ca4a-d4f053dc4408"
      },
      "execution_count": null,
      "outputs": [
        {
          "output_type": "stream",
          "name": "stdout",
          "text": [
            "+-----------+-----+----+\n",
            "|genre      |movie|tv  |\n",
            "+-----------+-----+----+\n",
            "|Drama      |7509 |2208|\n",
            "|Comedy     |6034 |1378|\n",
            "|Action     |2709 |761 |\n",
            "|Crime      |2310 |773 |\n",
            "|Romance    |2370 |662 |\n",
            "|Adventure  |1772 |696 |\n",
            "|Thriller   |1798 |298 |\n",
            "|Documentary|1447 |540 |\n",
            "|Animation  |982  |998 |\n",
            "|Mystery    |1054 |384 |\n",
            "+-----------+-----+----+\n",
            "only showing top 10 rows\n",
            "\n"
          ]
        }
      ]
    },
    {
      "cell_type": "code",
      "source": [
        "# Популярность жанров на IMDb\n",
        "\n",
        "(df.select(F.explode_outer(F.col(\"genres\")).alias(\"genre\"), \"imdbAverageRating\", \"imdbNumVotes\")\n",
        "    .groupBy(\"genre\")\n",
        "    .agg(F.round(F.avg(\"imdbAverageRating\"), 2).alias(\"average_rating\"), F.sum(\"imdbNumVotes\").alias(\"total_votes\"))\n",
        "    .orderBy(F.col(\"average_rating\").desc())\n",
        "    .show(10, truncate=False)\n",
        ")"
      ],
      "metadata": {
        "colab": {
          "base_uri": "https://localhost:8080/"
        },
        "id": "qfAILdni1_E_",
        "outputId": "b1c3583d-27d6-4c52-98fa-a098afcce203"
      },
      "execution_count": null,
      "outputs": [
        {
          "output_type": "stream",
          "name": "stdout",
          "text": [
            "+------------------+--------------+-----------+\n",
            "|genre             |average_rating|total_votes|\n",
            "+------------------+--------------+-----------+\n",
            "|Action & Adventure|7.0           |222        |\n",
            "|Documentary       |6.93          |6721103    |\n",
            "|Biography         |6.93          |43144041   |\n",
            "|History           |6.92          |17775960   |\n",
            "|Animation         |6.79          |38227002   |\n",
            "|Talk-Show         |6.76          |115327     |\n",
            "|War               |6.72          |11575840   |\n",
            "|Sport             |6.72          |9147143    |\n",
            "|Music             |6.65          |11650484   |\n",
            "|News              |6.64          |14014      |\n",
            "+------------------+--------------+-----------+\n",
            "only showing top 10 rows\n",
            "\n"
          ]
        }
      ]
    },
    {
      "cell_type": "code",
      "source": [
        "# Динамика выпуска контента по годам и рейтинг\n",
        "\n",
        "(df.groupBy(\"releaseYear\")\n",
        "    .agg(F.count(\"*\").alias(\"total_titles\"), F.round(F.avg(\"imdbAverageRating\"),2).alias(\"average_rating\"))\n",
        "    .orderBy(F.col(\"releaseYear\").desc())\n",
        "    .show(10, truncate=False)\n",
        ")"
      ],
      "metadata": {
        "colab": {
          "base_uri": "https://localhost:8080/"
        },
        "id": "p_pMo_xy1_Hc",
        "outputId": "8d69ad9c-0c2c-4295-a8c7-34eb102b1248"
      },
      "execution_count": null,
      "outputs": [
        {
          "output_type": "stream",
          "name": "stdout",
          "text": [
            "+-----------+------------+--------------+\n",
            "|releaseYear|total_titles|average_rating|\n",
            "+-----------+------------+--------------+\n",
            "|2025       |331         |6.44          |\n",
            "|2024       |1338        |6.28          |\n",
            "|2023       |1687        |6.27          |\n",
            "|2022       |1845        |6.26          |\n",
            "|2021       |1419        |6.33          |\n",
            "|2020       |1283        |6.33          |\n",
            "|2019       |1399        |6.42          |\n",
            "|2018       |1370        |6.41          |\n",
            "|2017       |1072        |6.46          |\n",
            "|2016       |858         |6.52          |\n",
            "+-----------+------------+--------------+\n",
            "only showing top 10 rows\n",
            "\n"
          ]
        }
      ]
    },
    {
      "cell_type": "code",
      "source": [
        "# Анализ динамики прироста фильмов по годам\n",
        "\n",
        "(df.groupBy(\"releaseYear\")\n",
        "   .agg(F.count(\"*\").alias(\"current_year_title_count\"))\n",
        "   .withColumn(\"prev_year_titles_count\",\n",
        "               F.lag(\"current_year_title_count\").over(Window.orderBy(\"releaseYear\")))\n",
        "   .withColumn(\"title_count_growth\",\n",
        "               F.col(\"current_year_title_count\") - F.col(\"prev_year_titles_count\"))\n",
        "   .orderBy(F.col(\"title_count_growth\").desc())\n",
        "   .show(10, truncate=False)\n",
        ")"
      ],
      "metadata": {
        "colab": {
          "base_uri": "https://localhost:8080/"
        },
        "id": "D1IJj4hm1_L8",
        "outputId": "51ce353b-15b7-489f-8e1a-bfbdbeba8ab0"
      },
      "execution_count": null,
      "outputs": [
        {
          "output_type": "stream",
          "name": "stdout",
          "text": [
            "+-----------+------------------------+----------------------+------------------+\n",
            "|releaseYear|current_year_title_count|prev_year_titles_count|title_count_growth|\n",
            "+-----------+------------------------+----------------------+------------------+\n",
            "|2022       |1845                    |1419                  |426               |\n",
            "|2018       |1370                    |1072                  |298               |\n",
            "|2017       |1072                    |858                   |214               |\n",
            "|2016       |858                     |710                   |148               |\n",
            "|2021       |1419                    |1283                  |136               |\n",
            "|2015       |710                     |590                   |120               |\n",
            "|2013       |513                     |404                   |109               |\n",
            "|2014       |590                     |513                   |77                |\n",
            "|2003       |214                     |170                   |44                |\n",
            "|2009       |324                     |282                   |42                |\n",
            "+-----------+------------------------+----------------------+------------------+\n",
            "only showing top 10 rows\n",
            "\n"
          ]
        }
      ]
    },
    {
      "cell_type": "code",
      "source": [
        "spark.stop()"
      ],
      "metadata": {
        "id": "04-t0xEJCN1w"
      },
      "execution_count": null,
      "outputs": []
    }
  ]
}