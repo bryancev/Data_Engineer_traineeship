{
 "cells": [
  {
   "cell_type": "code",
   "execution_count": 1,
   "metadata": {},
   "outputs": [
    {
     "name": "stdout",
     "output_type": "stream",
     "text": [
      "JSON file успешно создан\n"
     ]
    }
   ],
   "source": [
    "import json\n",
    "\n",
    "# данные\n",
    "alcohol_products = [\n",
    "    {\n",
    "        \"name\": \"Chateau Margaux 2015\",\n",
    "        \"type\": \"wine\",\n",
    "        \"vintage\": 2015,\n",
    "        \"region\": \"Bordeaux\",\n",
    "        \"grape\": [\"Cabernet Sauvignon\", \"Merlot\"],\n",
    "        \"rating\": { \"sommelier\": 4.8, \"users\": [5, 5, 4, 5] },\n",
    "        \"price\": 199.99,\n",
    "        \"country\": \"France\",\n",
    "        \"available\": True\n",
    "    },\n",
    "    {\n",
    "        \"name\": \"Guinness Draught\",\n",
    "        \"type\": \"beer\",\n",
    "        \"volume\": 0.44,\n",
    "        \"abv\": 4.2,\n",
    "        \"tags\": [\"stout\", \"dark\"],\n",
    "        \"price\": 2.49,\n",
    "        \"country\": \"Ireland\",\n",
    "        \"available\": True\n",
    "    },\n",
    "    {\n",
    "        \"name\": \"Johnnie Walker Black Label\",\n",
    "        \"type\": \"whisky\",\n",
    "        \"age\": 12,\n",
    "        \"abv\": 40,\n",
    "        \"price\": 32.00,\n",
    "        \"country\": \"Scotland\",\n",
    "        \"available\": True\n",
    "    },\n",
    "    {\n",
    "        \"name\": \"Craft IPA 7 Hops\",\n",
    "        \"type\": \"beer\",\n",
    "        \"volume\": 0.5,\n",
    "        \"abv\": 6.5,\n",
    "        \"tags\": [\"ipa\", \"hoppy\", \"bitter\"],\n",
    "        \"price\": 3.99,\n",
    "        \"country\": \"USA\",\n",
    "        \"available\": False\n",
    "    },\n",
    "    {\n",
    "        \"name\": \"Barolo Riserva\",\n",
    "        \"type\": \"wine\",\n",
    "        \"vintage\": 2016,\n",
    "        \"region\": \"Piedmont\",\n",
    "        \"grape\": [\"Nebbiolo\"],\n",
    "        \"rating\": { \"sommelier\": 4.6 },\n",
    "        \"price\": 49.99,\n",
    "        \"country\": \"Italy\",\n",
    "        \"available\": True\n",
    "    }\n",
    "]\n",
    "\n",
    "# сохранение в JSON file\n",
    "with open('products.json', 'w', encoding='utf-8') as f:\n",
    "    json.dump(alcohol_products, f, ensure_ascii=False, indent=2)\n",
    "\n",
    "print(\"JSON file успешно создан\")"
   ]
  },
  {
   "cell_type": "code",
   "execution_count": null,
   "metadata": {},
   "outputs": [],
   "source": [
    "# перенес файла products.json в контейнер\n",
    "# !docker cp products.json mongo_db:/products.json\n",
    "\n",
    "# распарсинг products.json в контейнере, чтобы сделать из него 5 документов, где каждый - это отдельный товар\n",
    "# !docker exec mongo_db mongoimport --db alcomarket --collection products --file /products.json --jsonArray"
   ]
  },
  {
   "cell_type": "code",
   "execution_count": 4,
   "metadata": {},
   "outputs": [],
   "source": [
    "from pymongo import MongoClient\n",
    "from pprint import pprint\n",
    "import json\n",
    "\n",
    "# 1. Подключение к MongoDB\n",
    "client = MongoClient(\"mongodb://localhost:27017/\")\n",
    "db = client[\"alcomarket\"]\n",
    "products = db[\"products\"]"
   ]
  },
  {
   "cell_type": "code",
   "execution_count": 5,
   "metadata": {},
   "outputs": [
    {
     "name": "stdout",
     "output_type": "stream",
     "text": [
      "\n",
      "📦 Все товары:\n",
      "{'_id': ObjectId('685ba12f1acdbbe70d6aa855'), 'name': 'Chateau Margaux 2015', 'type': 'wine', 'vintage': 2015, 'region': 'Bordeaux', 'grape': ['Cabernet Sauvignon', 'Merlot'], 'rating': {'sommelier': 4.8, 'users': [5, 5, 4, 5]}, 'price': 199.99, 'country': 'France', 'available': True}\n",
      "{'_id': ObjectId('685ba12f1acdbbe70d6aa856'), 'name': 'Guinness Draught', 'type': 'beer', 'volume': 0.44, 'abv': 4.2, 'tags': ['stout', 'dark'], 'price': 2.49, 'country': 'Ireland', 'available': True}\n",
      "{'_id': ObjectId('685ba12f1acdbbe70d6aa857'), 'name': 'Johnnie Walker Black Label', 'type': 'whisky', 'age': 12, 'abv': 40, 'price': 32.0, 'country': 'Scotland', 'available': True}\n",
      "{'_id': ObjectId('685ba12f1acdbbe70d6aa858'), 'name': 'Craft IPA 7 Hops', 'type': 'beer', 'volume': 0.5, 'abv': 6.5, 'tags': ['ipa', 'hoppy', 'bitter'], 'price': 3.99, 'country': 'USA', 'available': False}\n",
      "{'_id': ObjectId('685ba12f1acdbbe70d6aa859'), 'name': 'Barolo Riserva', 'type': 'wine', 'vintage': 2016, 'region': 'Piedmont', 'grape': ['Nebbiolo'], 'rating': {'sommelier': 4.6}, 'price': 49.99, 'country': 'Italy', 'available': True}\n"
     ]
    }
   ],
   "source": [
    "# 2. Очистка коллекции перед загрузкой (для повторного запуска)\n",
    "products.drop()\n",
    "\n",
    "# 3. Загрузка данных из файла products.json\n",
    "with open(\"products.json\", \"r\") as f:\n",
    "    data = json.load(f)\n",
    "    products.insert_many(data)\n",
    "\n",
    "print(\"\\n📦 Все товары:\")\n",
    "for doc in products.find():\n",
    "    print(doc)"
   ]
  },
  {
   "cell_type": "markdown",
   "metadata": {},
   "source": [
    "# Запросы"
   ]
  },
  {
   "cell_type": "code",
   "execution_count": 6,
   "metadata": {},
   "outputs": [
    {
     "name": "stdout",
     "output_type": "stream",
     "text": [
      "\n",
      "🍷 Вина с рейтингом сомелье > 4.5:\n",
      "{'_id': ObjectId('685ba12f1acdbbe70d6aa855'), 'name': 'Chateau Margaux 2015', 'type': 'wine', 'vintage': 2015, 'region': 'Bordeaux', 'grape': ['Cabernet Sauvignon', 'Merlot'], 'rating': {'sommelier': 4.8, 'users': [5, 5, 4, 5]}, 'price': 199.99, 'country': 'France', 'available': True}\n",
      "{'_id': ObjectId('685ba12f1acdbbe70d6aa859'), 'name': 'Barolo Riserva', 'type': 'wine', 'vintage': 2016, 'region': 'Piedmont', 'grape': ['Nebbiolo'], 'rating': {'sommelier': 4.6}, 'price': 49.99, 'country': 'Italy', 'available': True}\n"
     ]
    }
   ],
   "source": [
    "print(\"\\n🍷 Вина с рейтингом сомелье > 4.5:\")\n",
    "for doc in products.find({\"type\": \"wine\", \"rating.sommelier\": {\"$gt\": 4.5}}):\n",
    "    print(doc)"
   ]
  },
  {
   "cell_type": "code",
   "execution_count": 7,
   "metadata": {},
   "outputs": [
    {
     "name": "stdout",
     "output_type": "stream",
     "text": [
      "\n",
      "📑 Только имя и цена всех товаров:\n",
      "{'name': 'Chateau Margaux 2015', 'price': 199.99}\n",
      "{'name': 'Guinness Draught', 'price': 2.49}\n",
      "{'name': 'Johnnie Walker Black Label', 'price': 32.0}\n",
      "{'name': 'Craft IPA 7 Hops', 'price': 3.99}\n",
      "{'name': 'Barolo Riserva', 'price': 49.99}\n"
     ]
    }
   ],
   "source": [
    "print(\"\\n📑 Только имя и цена всех товаров:\")\n",
    "for doc in products.find({}, {\"name\": 1, \"price\": 1, \"_id\": 0}):\n",
    "    print(doc)"
   ]
  },
  {
   "cell_type": "code",
   "execution_count": 8,
   "metadata": {},
   "outputs": [
    {
     "name": "stdout",
     "output_type": "stream",
     "text": [
      "\n",
      "🌍 Уникальные страны происхождения:\n",
      "['France', 'Ireland', 'Italy', 'Scotland', 'USA']\n"
     ]
    }
   ],
   "source": [
    "print(\"\\n🌍 Уникальные страны происхождения:\")\n",
    "pprint(products.distinct(\"country\"))"
   ]
  },
  {
   "cell_type": "code",
   "execution_count": 9,
   "metadata": {},
   "outputs": [
    {
     "name": "stdout",
     "output_type": "stream",
     "text": [
      "\n",
      "📊 Средняя цена пива по странам:\n",
      "{'_id': 'USA', 'avgPrice': 3.99}\n",
      "{'_id': 'Ireland', 'avgPrice': 2.49}\n"
     ]
    }
   ],
   "source": [
    "print(\"\\n📊 Средняя цена пива по странам:\")\n",
    "pipeline = [\n",
    "    {\"$match\": {\"type\": \"beer\"}},\n",
    "    {\"$group\": {\"_id\": \"$country\", \"avgPrice\": {\"$avg\": \"$price\"}}},\n",
    "    {\"$sort\": {\"avgPrice\": -1}}\n",
    "]\n",
    "for doc in products.aggregate(pipeline):\n",
    "    pprint(doc)"
   ]
  },
  {
   "cell_type": "code",
   "execution_count": 10,
   "metadata": {},
   "outputs": [
    {
     "name": "stdout",
     "output_type": "stream",
     "text": [
      "\n",
      "🔄 Обновим цену Guinness до 2.99:\n",
      "{'_id': ObjectId('685ba12f1acdbbe70d6aa856'),\n",
      " 'abv': 4.2,\n",
      " 'available': True,\n",
      " 'country': 'Ireland',\n",
      " 'name': 'Guinness Draught',\n",
      " 'price': 2.99,\n",
      " 'tags': ['stout', 'dark'],\n",
      " 'type': 'beer',\n",
      " 'volume': 0.44}\n"
     ]
    }
   ],
   "source": [
    "print(\"\\n🔄 Обновим цену Guinness до 2.99:\")\n",
    "products.update_one({\"name\": \"Guinness Draught\"}, {\"$set\": {\"price\": 2.99}})\n",
    "pprint(products.find_one({\"name\": \"Guinness Draught\"}))"
   ]
  },
  {
   "cell_type": "code",
   "execution_count": 11,
   "metadata": {},
   "outputs": [
    {
     "name": "stdout",
     "output_type": "stream",
     "text": [
      "\n",
      "➕ Добавим поле stock = 100 ко всем товарам:\n",
      "{'_id': ObjectId('685ba12f1acdbbe70d6aa855'),\n",
      " 'available': True,\n",
      " 'country': 'France',\n",
      " 'grape': ['Cabernet Sauvignon', 'Merlot'],\n",
      " 'name': 'Chateau Margaux 2015',\n",
      " 'price': 199.99,\n",
      " 'rating': {'sommelier': 4.8, 'users': [5, 5, 4, 5]},\n",
      " 'region': 'Bordeaux',\n",
      " 'stock': 100,\n",
      " 'type': 'wine',\n",
      " 'vintage': 2015}\n"
     ]
    }
   ],
   "source": [
    "print(\"\\n➕ Добавим поле stock = 100 ко всем товарам:\")\n",
    "products.update_many({}, {\"$set\": {\"stock\": 100}})\n",
    "pprint(products.find_one())"
   ]
  },
  {
   "cell_type": "code",
   "execution_count": 12,
   "metadata": {},
   "outputs": [
    {
     "name": "stdout",
     "output_type": "stream",
     "text": [
      "\n",
      "❌ Удалим товары, которые недоступны (available: false):\n",
      "Удалено документов: 1\n"
     ]
    }
   ],
   "source": [
    "print(\"\\n❌ Удалим товары, которые недоступны (available: false):\")\n",
    "result = products.delete_many({\"available\": False})\n",
    "print(f\"Удалено документов: {result.deleted_count}\")"
   ]
  },
  {
   "cell_type": "code",
   "execution_count": 13,
   "metadata": {},
   "outputs": [
    {
     "name": "stdout",
     "output_type": "stream",
     "text": [
      "\n",
      "📦 Все товары после удаления:\n",
      "{'_id': ObjectId('685ba12f1acdbbe70d6aa855'),\n",
      " 'available': True,\n",
      " 'country': 'France',\n",
      " 'grape': ['Cabernet Sauvignon', 'Merlot'],\n",
      " 'name': 'Chateau Margaux 2015',\n",
      " 'price': 199.99,\n",
      " 'rating': {'sommelier': 4.8, 'users': [5, 5, 4, 5]},\n",
      " 'region': 'Bordeaux',\n",
      " 'stock': 100,\n",
      " 'type': 'wine',\n",
      " 'vintage': 2015}\n",
      "{'_id': ObjectId('685ba12f1acdbbe70d6aa856'),\n",
      " 'abv': 4.2,\n",
      " 'available': True,\n",
      " 'country': 'Ireland',\n",
      " 'name': 'Guinness Draught',\n",
      " 'price': 2.99,\n",
      " 'stock': 100,\n",
      " 'tags': ['stout', 'dark'],\n",
      " 'type': 'beer',\n",
      " 'volume': 0.44}\n",
      "{'_id': ObjectId('685ba12f1acdbbe70d6aa857'),\n",
      " 'abv': 40,\n",
      " 'age': 12,\n",
      " 'available': True,\n",
      " 'country': 'Scotland',\n",
      " 'name': 'Johnnie Walker Black Label',\n",
      " 'price': 32.0,\n",
      " 'stock': 100,\n",
      " 'type': 'whisky'}\n",
      "{'_id': ObjectId('685ba12f1acdbbe70d6aa859'),\n",
      " 'available': True,\n",
      " 'country': 'Italy',\n",
      " 'grape': ['Nebbiolo'],\n",
      " 'name': 'Barolo Riserva',\n",
      " 'price': 49.99,\n",
      " 'rating': {'sommelier': 4.6},\n",
      " 'region': 'Piedmont',\n",
      " 'stock': 100,\n",
      " 'type': 'wine',\n",
      " 'vintage': 2016}\n",
      "\n",
      "📚 Индексы коллекции:\n",
      "{'_id_': {'v': 2, 'key': [('_id', 1)]}}\n"
     ]
    }
   ],
   "source": [
    "print(\"\\n📦 Все товары после удаления:\")\n",
    "for doc in products.find():\n",
    "    pprint(doc)\n",
    "\n",
    "print(\"\\n📚 Индексы коллекции:\")\n",
    "print(products.index_information())"
   ]
  },
  {
   "cell_type": "code",
   "execution_count": 14,
   "metadata": {},
   "outputs": [
    {
     "name": "stdout",
     "output_type": "stream",
     "text": [
      "\n",
      "🧾 Индексы после создания индекса по type:\n",
      "{'_id_': {'key': [('_id', 1)], 'v': 2},\n",
      " 'type_1': {'key': [('type', 1)], 'v': 2}}\n"
     ]
    }
   ],
   "source": [
    "# Создание индекса\n",
    "products.create_index(\"type\")\n",
    "\n",
    "print(\"\\n🧾 Индексы после создания индекса по type:\")\n",
    "pprint(products.index_information())"
   ]
  },
  {
   "cell_type": "code",
   "execution_count": null,
   "metadata": {},
   "outputs": [],
   "source": []
  }
 ],
 "metadata": {
  "kernelspec": {
   "display_name": "Python 3",
   "language": "python",
   "name": "python3"
  },
  "language_info": {
   "codemirror_mode": {
    "name": "ipython",
    "version": 3
   },
   "file_extension": ".py",
   "mimetype": "text/x-python",
   "name": "python",
   "nbconvert_exporter": "python",
   "pygments_lexer": "ipython3",
   "version": "3.11.0"
  }
 },
 "nbformat": 4,
 "nbformat_minor": 2
}
